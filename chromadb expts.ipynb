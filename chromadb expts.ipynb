{
  "nbformat": 4,
  "nbformat_minor": 0,
  "metadata": {
    "colab": {
      "provenance": [],
      "authorship_tag": "ABX9TyOfJssmhwpEjuUl8p146dTt",
      "include_colab_link": true
    },
    "kernelspec": {
      "name": "python3",
      "display_name": "Python 3"
    },
    "language_info": {
      "name": "python"
    }
  },
  "cells": [
    {
      "cell_type": "markdown",
      "metadata": {
        "id": "view-in-github",
        "colab_type": "text"
      },
      "source": [
        "<a href=\"https://colab.research.google.com/github/harnalashok/LLMs/blob/main/chromadb%20expts.ipynb\" target=\"_parent\"><img src=\"https://colab.research.google.com/assets/colab-badge.svg\" alt=\"Open In Colab\"/></a>"
      ]
    },
    {
      "cell_type": "code",
      "execution_count": 1,
      "metadata": {
        "id": "xpaKezzqsuir"
      },
      "outputs": [],
      "source": [
        "# Last amended: 30th May, 2024\n",
        "# Objective: a. IF possible, transform chromadb dataset to csv\n",
        "#            b. Export chromadb datasets to huggingface"
      ]
    },
    {
      "cell_type": "markdown",
      "source": [
        "## References:\n",
        "> a. [Huggingface](https://huggingface.co/chromadb)    \n",
        "> b. [GitHub](https://github.com/chroma-core/chroma_datasets/tree/master)"
      ],
      "metadata": {
        "id": "KxLmUYfktC2N"
      }
    },
    {
      "cell_type": "code",
      "source": [],
      "metadata": {
        "id": "CTZsCKwitBsG"
      },
      "execution_count": null,
      "outputs": []
    }
  ]
}