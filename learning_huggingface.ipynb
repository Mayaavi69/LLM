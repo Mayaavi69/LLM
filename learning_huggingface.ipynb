{
  "nbformat": 4,
  "nbformat_minor": 0,
  "metadata": {
    "colab": {
      "provenance": [],
      "authorship_tag": "ABX9TyM/6EbBCSIqlWkD+5E+YK3R",
      "include_colab_link": true
    },
    "kernelspec": {
      "name": "python3",
      "display_name": "Python 3"
    },
    "language_info": {
      "name": "python"
    }
  },
  "cells": [
    {
      "cell_type": "markdown",
      "metadata": {
        "id": "view-in-github",
        "colab_type": "text"
      },
      "source": [
        "<a href=\"https://colab.research.google.com/github/harnalashok/LLMs/blob/main/learning_huggingface.ipynb\" target=\"_parent\"><img src=\"https://colab.research.google.com/assets/colab-badge.svg\" alt=\"Open In Colab\"/></a>"
      ]
    },
    {
      "cell_type": "code",
      "source": [
        "# Last amended: 7th June, 2024\n",
        "# You should have huggingface token\n",
        "\n",
        "# Ref:\n",
        "#     1. https://huggingface.co/learn/nlp-course/chapter2/3?fw=pt\n",
        "#"
      ],
      "metadata": {
        "id": "I-u8xdMaghQO"
      },
      "execution_count": null,
      "outputs": []
    },
    {
      "cell_type": "markdown",
      "source": [
        "## About Models"
      ],
      "metadata": {
        "id": "3AN4AxXzhJMe"
      }
    },
    {
      "cell_type": "markdown",
      "source": [
        "The AutoModel class and all of its relatives are actually simple wrappers over the wide variety of models available in the library. It’s a clever wrapper as it can automatically guess the appropriate model architecture for your checkpoint, and then instantiates a model with this architecture.    \n",
        "In Hugging Face Transformers, a *checkpoint* typically refers to a saved version of a model during training.   \n",
        "\n"
      ],
      "metadata": {
        "id": "PuPIWHVqhRjF"
      }
    },
    {
      "cell_type": "markdown",
      "source": [
        "Here is a special class for using BertModel"
      ],
      "metadata": {
        "id": "xkosiPsrhbN1"
      }
    },
    {
      "cell_type": "code",
      "execution_count": 2,
      "metadata": {
        "id": "v_CyNs2I1MdZ"
      },
      "outputs": [],
      "source": [
        "# 1.0\n",
        "from transformers import BertConfig, BertModel\n",
        "\n",
        "# 1.0.1 Building the config\n",
        "# Reading the architecture of NN\n",
        "\n",
        "config = BertConfig()\n",
        "\n",
        "# 1.0.2 Use config to build the model\n",
        "#       Fill the model with random weights:\n",
        "\n",
        "model = BertModel(config)"
      ]
    },
    {
      "cell_type": "code",
      "source": [
        "# 1.0.3 Here is the architecture:\n",
        "\n",
        "print(config)"
      ],
      "metadata": {
        "colab": {
          "base_uri": "https://localhost:8080/"
        },
        "id": "jbVvaEhq1tHu",
        "outputId": "ddd2e292-954f-434c-f511-5a7ee0f2dbad"
      },
      "execution_count": 2,
      "outputs": [
        {
          "output_type": "stream",
          "name": "stdout",
          "text": [
            "BertConfig {\n",
            "  \"attention_probs_dropout_prob\": 0.1,\n",
            "  \"classifier_dropout\": null,\n",
            "  \"hidden_act\": \"gelu\",\n",
            "  \"hidden_dropout_prob\": 0.1,\n",
            "  \"hidden_size\": 768,\n",
            "  \"initializer_range\": 0.02,\n",
            "  \"intermediate_size\": 3072,\n",
            "  \"layer_norm_eps\": 1e-12,\n",
            "  \"max_position_embeddings\": 512,\n",
            "  \"model_type\": \"bert\",\n",
            "  \"num_attention_heads\": 12,\n",
            "  \"num_hidden_layers\": 12,\n",
            "  \"pad_token_id\": 0,\n",
            "  \"position_embedding_type\": \"absolute\",\n",
            "  \"transformers_version\": \"4.41.2\",\n",
            "  \"type_vocab_size\": 2,\n",
            "  \"use_cache\": true,\n",
            "  \"vocab_size\": 30522\n",
            "}\n",
            "\n"
          ]
        }
      ]
    },
    {
      "cell_type": "code",
      "source": [
        "# 1.0.4 Else, get BertModel model right\n",
        "#       from its checkpoint: bert-base-cased\n",
        "#       Model is created as also weights loaded:\n",
        "\n",
        "from transformers import BertModel\n",
        "\n",
        "model_b = BertModel.from_pretrained(\"bert-base-cased\")"
      ],
      "metadata": {
        "id": "MIWzniyn10fG"
      },
      "execution_count": 4,
      "outputs": []
    },
    {
      "cell_type": "markdown",
      "source": [
        "Alternatively, use AutoModel class:"
      ],
      "metadata": {
        "id": "jv0N4t_oidal"
      }
    },
    {
      "cell_type": "code",
      "source": [
        "from transformers import AutoModel\n",
        "\n",
        "model_a = AutoModel.from_pretrained(\"bert-base-cased\")"
      ],
      "metadata": {
        "id": "BM37DTgDijFm"
      },
      "execution_count": 5,
      "outputs": []
    },
    {
      "cell_type": "markdown",
      "source": [
        "Experiment on some sequence:"
      ],
      "metadata": {
        "id": "a4meRYkDy0Jl"
      }
    },
    {
      "cell_type": "code",
      "source": [
        "sequences = [\"Hello!\", \"Cool.\", \"Nice!\"]"
      ],
      "metadata": {
        "id": "qDWOAX8b2SMW"
      },
      "execution_count": 6,
      "outputs": []
    },
    {
      "cell_type": "code",
      "source": [
        "encoded_sequences = [\n",
        "    [101, 7592, 999, 102],\n",
        "    [101, 4658, 1012, 102],\n",
        "    [101, 3835, 999, 102],\n",
        "]"
      ],
      "metadata": {
        "id": "FvMNr5eI3691"
      },
      "execution_count": 7,
      "outputs": []
    },
    {
      "cell_type": "code",
      "source": [
        "import torch\n",
        "\n",
        "# Transform to pytorch tensor:\n",
        "model_inputs = torch.tensor(encoded_sequences)"
      ],
      "metadata": {
        "id": "EV2eR7Be39je"
      },
      "execution_count": 8,
      "outputs": []
    },
    {
      "cell_type": "code",
      "source": [
        "# Pass tensor through model:\n",
        "\n",
        "output_a = model_a(model_inputs)\n",
        "output_a[0][:1]"
      ],
      "metadata": {
        "colab": {
          "base_uri": "https://localhost:8080/"
        },
        "id": "ZV3Vs_Yr4AlS",
        "outputId": "235f4649-36b4-4ff9-d185-a898d40a9fdd"
      },
      "execution_count": 12,
      "outputs": [
        {
          "output_type": "execute_result",
          "data": {
            "text/plain": [
              "tensor([[[ 0.4450,  0.4828,  0.2780,  ..., -0.0540,  0.3939, -0.0948],\n",
              "         [ 0.2494, -0.4409,  0.8177,  ..., -0.3192,  0.2299, -0.0412],\n",
              "         [ 0.1367,  0.2252,  0.1450,  ..., -0.0469,  0.2822,  0.0756],\n",
              "         [ 1.1789,  0.1674, -0.1819,  ...,  0.2467,  1.0441, -0.0062]]],\n",
              "       grad_fn=<SliceBackward0>)"
            ]
          },
          "metadata": {},
          "execution_count": 12
        }
      ]
    },
    {
      "cell_type": "code",
      "source": [
        "# PAss tensor through model\n",
        "output_b = model_b(model_inputs)\n",
        "output_b[0][:1]"
      ],
      "metadata": {
        "colab": {
          "base_uri": "https://localhost:8080/"
        },
        "id": "cLAjtq1z4C1a",
        "outputId": "0021d2dd-aa09-4f0b-c122-76c60c5db870"
      },
      "execution_count": 13,
      "outputs": [
        {
          "output_type": "execute_result",
          "data": {
            "text/plain": [
              "tensor([[[ 0.4450,  0.4828,  0.2780,  ..., -0.0540,  0.3939, -0.0948],\n",
              "         [ 0.2494, -0.4409,  0.8177,  ..., -0.3192,  0.2299, -0.0412],\n",
              "         [ 0.1367,  0.2252,  0.1450,  ..., -0.0469,  0.2822,  0.0756],\n",
              "         [ 1.1789,  0.1674, -0.1819,  ...,  0.2467,  1.0441, -0.0062]]],\n",
              "       grad_fn=<SliceBackward0>)"
            ]
          },
          "metadata": {},
          "execution_count": 13
        }
      ]
    },
    {
      "cell_type": "markdown",
      "source": [
        "## [Tokenizers](https://huggingface.co/learn/nlp-course/chapter2/4?fw=pt)"
      ],
      "metadata": {
        "id": "6hOlCcbczZE3"
      }
    },
    {
      "cell_type": "code",
      "source": [
        "from transformers import BertTokenizer\n",
        "\n",
        "tokenizer_a = BertTokenizer.from_pretrained(\"bert-base-cased\")"
      ],
      "metadata": {
        "id": "mBC-eTh2wFM1"
      },
      "execution_count": 24,
      "outputs": []
    },
    {
      "cell_type": "code",
      "source": [
        "from transformers import AutoTokenizer\n",
        "\n",
        "tokenizer_b = AutoTokenizer.from_pretrained(\"bert-base-cased\")"
      ],
      "metadata": {
        "id": "mH3LnCgbzk2p"
      },
      "execution_count": 25,
      "outputs": []
    },
    {
      "cell_type": "code",
      "source": [
        "tokenizer_a(\"Using a Transformer network is simple\")"
      ],
      "metadata": {
        "colab": {
          "base_uri": "https://localhost:8080/"
        },
        "id": "NqZfy9OUzrXR",
        "outputId": "5e14e43f-aa6a-4377-8751-a971b50e8ec9"
      },
      "execution_count": 27,
      "outputs": [
        {
          "output_type": "execute_result",
          "data": {
            "text/plain": [
              "{'input_ids': [101, 7993, 170, 13809, 23763, 2443, 1110, 3014, 102], 'token_type_ids': [0, 0, 0, 0, 0, 0, 0, 0, 0], 'attention_mask': [1, 1, 1, 1, 1, 1, 1, 1, 1]}"
            ]
          },
          "metadata": {},
          "execution_count": 27
        }
      ]
    },
    {
      "cell_type": "code",
      "source": [
        "tokenizer_b(\"Using a Transformer network is simple\")"
      ],
      "metadata": {
        "colab": {
          "base_uri": "https://localhost:8080/"
        },
        "id": "UNQT7hRBzv06",
        "outputId": "0392609b-c511-4130-e4a2-269ef03d00fd"
      },
      "execution_count": 26,
      "outputs": [
        {
          "output_type": "execute_result",
          "data": {
            "text/plain": [
              "{'input_ids': [101, 7993, 170, 13809, 23763, 2443, 1110, 3014, 102], 'token_type_ids': [0, 0, 0, 0, 0, 0, 0, 0, 0], 'attention_mask': [1, 1, 1, 1, 1, 1, 1, 1, 1]}"
            ]
          },
          "metadata": {},
          "execution_count": 26
        }
      ]
    },
    {
      "cell_type": "code",
      "source": [
        "tokens = tokenizer_a.tokenize(\"Using a Transformer network is simple\")\n",
        "tokens"
      ],
      "metadata": {
        "colab": {
          "base_uri": "https://localhost:8080/"
        },
        "id": "qgagoyMLz5i1",
        "outputId": "057c384d-3d3a-4b29-8d03-e41af60c6595"
      },
      "execution_count": 31,
      "outputs": [
        {
          "output_type": "execute_result",
          "data": {
            "text/plain": [
              "['Using', 'a', 'Trans', '##former', 'network', 'is', 'simple']"
            ]
          },
          "metadata": {},
          "execution_count": 31
        }
      ]
    },
    {
      "cell_type": "code",
      "source": [
        "tokens = tokenizer_b.tokenize(\"Using a Transformer network is simple\")\n",
        "tokens"
      ],
      "metadata": {
        "colab": {
          "base_uri": "https://localhost:8080/"
        },
        "id": "xdJ4Nboh2dt4",
        "outputId": "ae6f9934-1d7a-4bc9-eeef-6a5344745e1c"
      },
      "execution_count": 32,
      "outputs": [
        {
          "output_type": "execute_result",
          "data": {
            "text/plain": [
              "['Using', 'a', 'Trans', '##former', 'network', 'is', 'simple']"
            ]
          },
          "metadata": {},
          "execution_count": 32
        }
      ]
    },
    {
      "cell_type": "code",
      "source": [
        "ids = tokenizer_a.convert_tokens_to_ids(tokens)\n",
        "ids"
      ],
      "metadata": {
        "colab": {
          "base_uri": "https://localhost:8080/"
        },
        "id": "orcHH6zT2gv9",
        "outputId": "b249d6f1-98b5-40fb-fa7c-09461b90d52f"
      },
      "execution_count": 34,
      "outputs": [
        {
          "output_type": "execute_result",
          "data": {
            "text/plain": [
              "[7993, 170, 13809, 23763, 2443, 1110, 3014]"
            ]
          },
          "metadata": {},
          "execution_count": 34
        }
      ]
    },
    {
      "cell_type": "code",
      "source": [
        "ids = tokenizer_b.convert_tokens_to_ids(tokens)\n",
        "ids"
      ],
      "metadata": {
        "colab": {
          "base_uri": "https://localhost:8080/"
        },
        "id": "NsDiE9mn2s88",
        "outputId": "6cbbc486-4d55-4511-eb3a-62be0054ad74"
      },
      "execution_count": 35,
      "outputs": [
        {
          "output_type": "execute_result",
          "data": {
            "text/plain": [
              "[7993, 170, 13809, 23763, 2443, 1110, 3014]"
            ]
          },
          "metadata": {},
          "execution_count": 35
        }
      ]
    },
    {
      "cell_type": "code",
      "source": [
        "decoded_string = tokenizer.decode([7993, 170, 11303, 1200, 2443, 1110, 3014])\n",
        "print(decoded_string)"
      ],
      "metadata": {
        "colab": {
          "base_uri": "https://localhost:8080/"
        },
        "id": "fdnvEXb35NiA",
        "outputId": "e7754572-de18-4b1c-e655-080f698dba4c"
      },
      "execution_count": 36,
      "outputs": [
        {
          "output_type": "stream",
          "name": "stdout",
          "text": [
            "Using a transformer network is simple\n"
          ]
        }
      ]
    },
    {
      "cell_type": "code",
      "source": [
        "# Further:\n",
        "# https://huggingface.co/learn/nlp-course/chapter2/5?fw=pt"
      ],
      "metadata": {
        "id": "AyOU80RM5ST-"
      },
      "execution_count": null,
      "outputs": []
    },
    {
      "cell_type": "code",
      "source": [
        "#"
      ],
      "metadata": {
        "id": "yNS81iew5vJc"
      },
      "execution_count": null,
      "outputs": []
    }
  ]
}