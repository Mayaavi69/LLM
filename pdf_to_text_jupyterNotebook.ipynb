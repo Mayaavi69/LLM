{
 "cells": [
  {
   "cell_type": "code",
   "execution_count": null,
   "id": "70621373-ae8e-4934-b411-c027e570cd67",
   "metadata": {},
   "outputs": [],
   "source": [
    "# LAst amended: 20/07/2023\n",
    "# Converts all pdf files in a folder to text using pypdf2\n",
    "# Code taken from: https://www.perplexity.ai/\n",
    "# "
   ]
  },
  {
   "cell_type": "code",
   "execution_count": null,
   "id": "43372240-0448-4baf-a8c2-f89269fec332",
   "metadata": {},
   "outputs": [],
   "source": [
    "## NOTE\n",
    "##=====\n",
    "\n",
    "# Run on jupyter notebook, not colab\n",
    "#  but can also run on colab. If on colab\n",
    "#   pdf files will have to copied to gdrive\n",
    "#    gdrive mounted"
   ]
  },
  {
   "cell_type": "code",
   "execution_count": 1,
   "id": "b98f1dc8-2808-4b98-bf58-25172c77d009",
   "metadata": {},
   "outputs": [],
   "source": [
    "# 1.0\n",
    "import os\n",
    "from PyPDF2 import PdfReader"
   ]
  },
  {
   "cell_type": "code",
   "execution_count": 2,
   "id": "df6ee457-80c3-4e11-a92c-0a2c491be6e1",
   "metadata": {},
   "outputs": [],
   "source": [
    "# 1.1\n",
    "def pdf_to_text(pdf_path):\n",
    "    \"\"\"Extract text from a single PDF file.\"\"\"\n",
    "    text = \"\"\n",
    "    with open(pdf_path, 'rb') as file:\n",
    "        reader = PdfReader(file)\n",
    "        for page in reader.pages:\n",
    "            text += page.extract_text() + \"\\n\"  # Append text from each page\n",
    "    return text"
   ]
  },
  {
   "cell_type": "code",
   "execution_count": 3,
   "id": "fc07e7c3-5975-4f44-a955-94f5b35b4597",
   "metadata": {},
   "outputs": [],
   "source": [
    "# 1.2\n",
    "def convert_multiple_pdfs_to_text(pdf_directory, output_directory):\n",
    "    \"\"\"Convert all PDF files in a specified directory to text files.\"\"\"\n",
    "    if not os.path.exists(output_directory):\n",
    "        os.makedirs(output_directory)  # Create the output directory if it doesn't exist\n",
    "\n",
    "    for filename in os.listdir(pdf_directory):\n",
    "        if filename.endswith('.pdf'):\n",
    "            pdf_path = os.path.join(pdf_directory, filename)\n",
    "            text = pdf_to_text(pdf_path)\n",
    "            text_filename = os.path.splitext(filename)[0] + '.txt'\n",
    "            text_path = os.path.join(output_directory, text_filename)\n",
    "            \n",
    "            with open(text_path, 'w', encoding='utf-8') as text_file:\n",
    "                text_file.write(text)\n",
    "            print(f\"Converted {filename} to {text_filename}\")"
   ]
  },
  {
   "cell_type": "code",
   "execution_count": 4,
   "id": "8ef003bc-0180-43d6-9e04-cf4237b28dea",
   "metadata": {},
   "outputs": [],
   "source": [
    "# 1.3 Specify the directories\n",
    "#     IF using colab, specify both the folders in gdrive:\n",
    "\n",
    "pdf_directory = '/home/ashok/Documents/pdf'  # Replace with your PDF directory path\n",
    "output_directory = '/home/ashok/Documents/pdf_to_text'  # Replace with your output directory path"
   ]
  },
  {
   "cell_type": "code",
   "execution_count": 5,
   "id": "3ac3be28-0b80-428a-a59a-f3e8edbb5f98",
   "metadata": {},
   "outputs": [
    {
     "name": "stdout",
     "output_type": "stream",
     "text": [
      "Converted 303.pdf to 303.txt\n",
      "Converted 322.pdf to 322.txt\n",
      "Converted 315.pdf to 315.txt\n",
      "Converted 251.pdf to 251.txt\n",
      "Converted 259.pdf to 259.txt\n",
      "Converted 258.pdf to 258.txt\n"
     ]
    }
   ],
   "source": [
    "# 1.4 Run the conversion\n",
    "convert_multiple_pdfs_to_text(pdf_directory, output_directory)\n"
   ]
  },
  {
   "cell_type": "code",
   "execution_count": null,
   "id": "e3bb4a04-cd69-4820-b34f-c78a4c2f5023",
   "metadata": {},
   "outputs": [],
   "source": [
    "############## DONE ##############"
   ]
  }
 ],
 "metadata": {
  "kernelspec": {
   "display_name": "Python 3 (ipykernel)",
   "language": "python",
   "name": "python3"
  },
  "language_info": {
   "codemirror_mode": {
    "name": "ipython",
    "version": 3
   },
   "file_extension": ".py",
   "mimetype": "text/x-python",
   "name": "python",
   "nbconvert_exporter": "python",
   "pygments_lexer": "ipython3",
   "version": "3.11.9"
  }
 },
 "nbformat": 4,
 "nbformat_minor": 5
}
