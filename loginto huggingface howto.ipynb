{
 "cells": [
  {
   "cell_type": "code",
   "execution_count": null,
   "id": "405fef3d-9b50-4ac9-a41c-d22aacb5b5cb",
   "metadata": {},
   "outputs": [],
   "source": [
    "# Last amended: 22nd April, 2024\n",
    "# Objective: How to loginto huggingface from jupyter notebook in Ubuntu"
   ]
  },
  {
   "cell_type": "code",
   "execution_count": 1,
   "id": "93b2172b-8e7f-4ce7-874b-925f386410ed",
   "metadata": {},
   "outputs": [
    {
     "name": "stdin",
     "output_type": "stream",
     "text": [
      "Hugging Face Key:  ········\n"
     ]
    }
   ],
   "source": [
    "# No libraries need be called\n",
    "# 0.0 Create a text box and write here your acess token:\n",
    "\n",
    "from getpass import getpass\n",
    "hf_key = getpass(\"Hugging Face Key: \")"
   ]
  },
  {
   "cell_type": "code",
   "execution_count": 2,
   "id": "e535f9f2-443d-4238-8058-73cfb41f73e4",
   "metadata": {},
   "outputs": [
    {
     "name": "stdout",
     "output_type": "stream",
     "text": [
      "Token has not been saved to git credential helper. Pass `add_to_git_credential=True` if you want to set the git credential as well.\n",
      "Token is valid (permission: read).\n",
      "Your token has been saved to /home/ashok/.cache/huggingface/token\n",
      "Login successful\n"
     ]
    }
   ],
   "source": [
    "# Login and \n",
    "#   Save token to  /home/ashok/.cache/huggingface/token\n",
    "\n",
    "!huggingface-cli login --token $hf_key "
   ]
  },
  {
   "cell_type": "markdown",
   "id": "5e2c8f90-5238-4217-9f12-1361d55ae783",
   "metadata": {},
   "source": [
    "## Another way to login is here:"
   ]
  },
  {
   "cell_type": "code",
   "execution_count": null,
   "id": "ea153540-61dd-48bd-8d44-95f85395d20c",
   "metadata": {},
   "outputs": [],
   "source": [
    "import os\n",
    "from getpass import getpass\n",
    "\n",
    "os.environ[\"HUGGINGFACEHUB_API_TOKEN\"] = getpass(\"HF Token:\")"
   ]
  },
  {
   "cell_type": "code",
   "execution_count": null,
   "id": "04f8d76d-d63f-48e1-b1b0-5152c805686d",
   "metadata": {},
   "outputs": [],
   "source": [
    "############# DONE ###########"
   ]
  }
 ],
 "metadata": {
  "kernelspec": {
   "display_name": "Python 3 (ipykernel)",
   "language": "python",
   "name": "python3"
  },
  "language_info": {
   "codemirror_mode": {
    "name": "ipython",
    "version": 3
   },
   "file_extension": ".py",
   "mimetype": "text/x-python",
   "name": "python",
   "nbconvert_exporter": "python",
   "pygments_lexer": "ipython3",
   "version": "3.11.8"
  }
 },
 "nbformat": 4,
 "nbformat_minor": 5
}
