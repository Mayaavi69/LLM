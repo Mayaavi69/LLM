{
 "cells": [
  {
   "cell_type": "code",
   "execution_count": null,
   "id": "405fef3d-9b50-4ac9-a41c-d22aacb5b5cb",
   "metadata": {},
   "outputs": [],
   "source": [
    "# Last amended: 23rd April, 2024\n",
    "# Objective: How to loginto huggingface from jupyter notebook in Ubuntu"
   ]
  },
  {
   "cell_type": "markdown",
   "id": "b399e7b4-4b2d-478c-9eb5-4dd22b57991e",
   "metadata": {},
   "source": [
    "## One way to login"
   ]
  },
  {
   "cell_type": "code",
   "execution_count": 1,
   "id": "93b2172b-8e7f-4ce7-874b-925f386410ed",
   "metadata": {},
   "outputs": [
    {
     "name": "stdin",
     "output_type": "stream",
     "text": [
      "Hugging Face Key:  ········\n"
     ]
    }
   ],
   "source": [
    "# No libraries need be called\n",
    "# 0.0 Create a text box and write here your acess token:\n",
    "\n",
    "from getpass import getpass\n",
    "hf_key = getpass(\"Hugging Face Key: \")"
   ]
  },
  {
   "cell_type": "code",
   "execution_count": 2,
   "id": "e535f9f2-443d-4238-8058-73cfb41f73e4",
   "metadata": {},
   "outputs": [
    {
     "name": "stdout",
     "output_type": "stream",
     "text": [
      "Token has not been saved to git credential helper. Pass `add_to_git_credential=True` if you want to set the git credential as well.\n",
      "Token is valid (permission: read).\n",
      "Your token has been saved to /home/ashok/.cache/huggingface/token\n",
      "Login successful\n"
     ]
    }
   ],
   "source": [
    "# Login and \n",
    "#   Save token to  /home/ashok/.cache/huggingface/token\n",
    "\n",
    "!huggingface-cli login --token $hf_key "
   ]
  },
  {
   "cell_type": "markdown",
   "id": "5e2c8f90-5238-4217-9f12-1361d55ae783",
   "metadata": {},
   "source": [
    "## Another way to login is here:"
   ]
  },
  {
   "cell_type": "code",
   "execution_count": null,
   "id": "ea153540-61dd-48bd-8d44-95f85395d20c",
   "metadata": {},
   "outputs": [],
   "source": [
    "import os\n",
    "from getpass import getpass\n",
    "\n",
    "os.environ[\"HUGGINGFACEHUB_API_TOKEN\"] = getpass(\"HF Token:\")"
   ]
  },
  {
   "cell_type": "markdown",
   "id": "b2ce11ee-b55d-4776-85fa-e48ce8610ac1",
   "metadata": {},
   "source": [
    "## Third way to login"
   ]
  },
  {
   "cell_type": "code",
   "execution_count": 1,
   "id": "6f1f3074-3539-41a2-9b4a-57d065624cd2",
   "metadata": {},
   "outputs": [
    {
     "name": "stdout",
     "output_type": "stream",
     "text": [
      "Requirement already satisfied: huggingface_hub in /home/ashok/anaconda3/envs/langchain/lib/python3.11/site-packages (0.22.2)\n",
      "Requirement already satisfied: filelock in /home/ashok/anaconda3/envs/langchain/lib/python3.11/site-packages (from huggingface_hub) (3.13.4)\n",
      "Requirement already satisfied: fsspec>=2023.5.0 in /home/ashok/anaconda3/envs/langchain/lib/python3.11/site-packages (from huggingface_hub) (2024.3.1)\n",
      "Requirement already satisfied: packaging>=20.9 in /home/ashok/anaconda3/envs/langchain/lib/python3.11/site-packages (from huggingface_hub) (23.2)\n",
      "Requirement already satisfied: pyyaml>=5.1 in /home/ashok/anaconda3/envs/langchain/lib/python3.11/site-packages (from huggingface_hub) (6.0.1)\n",
      "Requirement already satisfied: requests in /home/ashok/anaconda3/envs/langchain/lib/python3.11/site-packages (from huggingface_hub) (2.31.0)\n",
      "Requirement already satisfied: tqdm>=4.42.1 in /home/ashok/anaconda3/envs/langchain/lib/python3.11/site-packages (from huggingface_hub) (4.66.2)\n",
      "Requirement already satisfied: typing-extensions>=3.7.4.3 in /home/ashok/anaconda3/envs/langchain/lib/python3.11/site-packages (from huggingface_hub) (4.11.0)\n",
      "Requirement already satisfied: charset-normalizer<4,>=2 in /home/ashok/anaconda3/envs/langchain/lib/python3.11/site-packages (from requests->huggingface_hub) (3.3.2)\n",
      "Requirement already satisfied: idna<4,>=2.5 in /home/ashok/anaconda3/envs/langchain/lib/python3.11/site-packages (from requests->huggingface_hub) (3.6)\n",
      "Requirement already satisfied: urllib3<3,>=1.21.1 in /home/ashok/anaconda3/envs/langchain/lib/python3.11/site-packages (from requests->huggingface_hub) (2.2.1)\n",
      "Requirement already satisfied: certifi>=2017.4.17 in /home/ashok/anaconda3/envs/langchain/lib/python3.11/site-packages (from requests->huggingface_hub) (2024.2.2)\n"
     ]
    },
    {
     "data": {
      "application/vnd.jupyter.widget-view+json": {
       "model_id": "ae3fc2c66cae46b8985b362e02dd4e8e",
       "version_major": 2,
       "version_minor": 0
      },
      "text/plain": [
       "VBox(children=(HTML(value='<center> <img\\nsrc=https://huggingface.co/front/assets/huggingface_logo-noborder.sv…"
      ]
     },
     "metadata": {},
     "output_type": "display_data"
    }
   ],
   "source": [
    "# 0.0 Login to huggingface using your token:\n",
    "#     Keep your token ready. A text box will open\n",
    "#     and you have to fill in token\n",
    "\n",
    "! pip install huggingface_hub\n",
    "from huggingface_hub import notebook_login\n",
    "notebook_login()"
   ]
  },
  {
   "cell_type": "code",
   "execution_count": null,
   "id": "04f8d76d-d63f-48e1-b1b0-5152c805686d",
   "metadata": {},
   "outputs": [],
   "source": [
    "############# DONE ###########"
   ]
  }
 ],
 "metadata": {
  "kernelspec": {
   "display_name": "Python 3 (ipykernel)",
   "language": "python",
   "name": "python3"
  },
  "language_info": {
   "codemirror_mode": {
    "name": "ipython",
    "version": 3
   },
   "file_extension": ".py",
   "mimetype": "text/x-python",
   "name": "python",
   "nbconvert_exporter": "python",
   "pygments_lexer": "ipython3",
   "version": "3.11.8"
  }
 },
 "nbformat": 4,
 "nbformat_minor": 5
}
