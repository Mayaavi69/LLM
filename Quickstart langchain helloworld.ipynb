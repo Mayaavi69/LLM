{
 "cells": [
  {
   "cell_type": "code",
   "execution_count": null,
   "id": "51986351-01b4-4266-99b3-9cf266079f14",
   "metadata": {},
   "outputs": [],
   "source": [
    "# LAst amended: 25th MAy, 2024\n",
    "# Ref: https://python.langchain.com/v0.1/docs/get_started/quickstart/"
   ]
  },
  {
   "cell_type": "code",
   "execution_count": 2,
   "id": "de653ff6-76cd-46ca-a3b6-056c29564864",
   "metadata": {},
   "outputs": [],
   "source": [
    "# 1.0\n",
    "from langchain_community.llms import Ollama\n",
    "\n",
    "# 1.0.1\n",
    "llm = Ollama(model=\"llama3\")"
   ]
  },
  {
   "cell_type": "code",
   "execution_count": 3,
   "id": "5f034345-141b-4bc9-a454-6a56717c75f2",
   "metadata": {},
   "outputs": [
    {
     "data": {
      "text/plain": [
       "\"Langsmith, a language translation AI model, can assist with testing in several ways:\\n\\n1. **Automated Testing**: Langsmith can be integrated into automated testing frameworks to translate test scenarios, test data, and expected results. This ensures that the testing process is not limited by language barriers.\\n2. **Human-in-the-Loop Testing**: Langsmith can help automate tedious tasks, such as translating test cases or user stories, allowing human testers to focus on more critical aspects of testing.\\n3. **Cross-Language Compatibility Testing**: Langsmith can translate test scenarios and expected results in different languages, enabling tests to be run across multiple language platforms, ensuring that the application is working correctly regardless of the target audience's language.\\n4. **Accessibility Testing**: By translating test cases and data into different languages, Langsmith helps ensure that accessibility features, such as text-to-speech or speech-to-text functionality, work correctly in various languages.\\n5. **Localization Testing**: Langsmith can assist in testing localized versions of applications by translating test scenarios and expected results, helping to ensure that the application behaves correctly in different regions with unique cultural nuances.\\n\\nTo illustrate how Langsmith can be used for testing:\\n\\n* Suppose you're developing a mobile app for a global audience. You want to test the app's user interface in multiple languages. Langsmith can translate your test cases into those languages, allowing you to run automated tests and ensure that the UI behaves correctly in each language.\\n* Another example: Imagine you have an API that needs to handle requests from users speaking different languages. Langsmith can translate your test data into various languages, enabling you to simulate real-world scenarios and test the API's functionality across different linguistic inputs.\\n\\nBy leveraging Langsmith for testing, you can:\\n\\n* Increase the efficiency of your testing process\\n* Reduce the risk of language-related bugs or errors\\n* Ensure that your application is accessible and functional for users worldwide\\n\\nKeep in mind that Langsmith is a translation AI model, not a testing tool per se. It's meant to assist human testers by automating tedious tasks, providing translations, and helping with localization and accessibility testing.\""
      ]
     },
     "execution_count": 3,
     "metadata": {},
     "output_type": "execute_result"
    }
   ],
   "source": [
    "# 1.0.2\n",
    "llm.invoke(\"how can langsmith help with testing?\")"
   ]
  },
  {
   "cell_type": "markdown",
   "id": "f09fba97-d257-4f6d-9f26-96083b19efd8",
   "metadata": {},
   "source": [
    "We can also guide its response with a prompt template. Prompt templates convert raw user input to better input to the LLM."
   ]
  },
  {
   "cell_type": "code",
   "execution_count": 4,
   "id": "b682815e-d639-435b-9498-24d70a48add5",
   "metadata": {},
   "outputs": [],
   "source": [
    "# 2.0\n",
    "from langchain_core.prompts import ChatPromptTemplate\n",
    "\n",
    "# 2.0.1\n",
    "prompt = ChatPromptTemplate.from_messages([\n",
    "                                           (\"system\", \"You are a world class technical documentation writer.\"),\n",
    "                                           (\"user\", \"{input}\")\n",
    "                                          ])"
   ]
  },
  {
   "cell_type": "markdown",
   "id": "42d9a304-caa3-40d0-a38f-622d35a2d630",
   "metadata": {},
   "source": [
    "We can now combine these into a simple LLM chain:"
   ]
  },
  {
   "cell_type": "code",
   "execution_count": 5,
   "id": "0775ab58-30e5-4bc7-bbdf-d81f45b9436a",
   "metadata": {},
   "outputs": [],
   "source": [
    "# 2.0.2\n",
    "chain = prompt | llm "
   ]
  },
  {
   "cell_type": "markdown",
   "id": "85f6dc8a-7119-40aa-a0b2-306df6a8b002",
   "metadata": {},
   "source": [
    "We can now invoke it and ask the same question. It still won't know the answer, but it should respond in a more proper tone for a technical writer!"
   ]
  },
  {
   "cell_type": "code",
   "execution_count": 6,
   "id": "e6b39d42-5b9b-4ec0-b409-afbf03d85d62",
   "metadata": {},
   "outputs": [
    {
     "data": {
      "text/plain": [
       "\"As a world-class technical documentation writer, I'm excited to share with you the ways in which Langsmith can assist with testing.\\n\\n**Automated Testing**: Langsmith's AI-powered language processing capabilities can be leveraged to generate test cases and input data for automated testing. By analyzing the technical documentation, Langsmith can identify potential test scenarios, edge cases, and error conditions, allowing developers to create comprehensive test plans.\\n\\n**Error Message Analysis**: When errors occur during testing, Langsmith can help analyze the error messages generated by the system or application. The AI can extract relevant information from the error message, such as the error code, stack trace, or specific error text, providing valuable insights for debugging and troubleshooting purposes.\\n\\n**Test Case Generation**: Langsmith can generate test cases based on the technical documentation, including user stories, requirements, and acceptance criteria. This helps ensure that testing is comprehensive and covers all possible scenarios, reducing the likelihood of missing critical tests.\\n\\n**Translation Support**: When testing involves multiple languages or regions, Langsmith's translation capabilities can assist in generating test data and error messages in different languages, ensuring that testing is culturally relevant and accurate.\\n\\n**Natural Language Processing (NLP)**: Langsmith's NLP capabilities enable it to analyze and understand natural language text, which is essential for effective testing. For example, Langsmith can help identify the intent behind a user's input or query, allowing developers to create more realistic test scenarios that simulate real-world usage.\\n\\nBy integrating Langsmith into your testing workflow, you can accelerate the testing process, improve test coverage, and reduce the time spent on debugging and troubleshooting.\""
      ]
     },
     "execution_count": 6,
     "metadata": {},
     "output_type": "execute_result"
    }
   ],
   "source": [
    "# 2.0.3\n",
    "chain.invoke({\"input\": \"how can langsmith help with testing?\"})"
   ]
  },
  {
   "cell_type": "code",
   "execution_count": null,
   "id": "0b6a8ada-45ea-4033-99a1-efe49f17d9e1",
   "metadata": {},
   "outputs": [],
   "source": [
    "############ DONE ################"
   ]
  },
  {
   "cell_type": "code",
   "execution_count": null,
   "id": "a17cbcc5-f399-4bcc-80bc-fe2a7719f7a4",
   "metadata": {},
   "outputs": [],
   "source": [
    "# Exercise:\n",
    "1. Try different prompts and try to get output"
   ]
  }
 ],
 "metadata": {
  "kernelspec": {
   "display_name": "Python 3 (ipykernel)",
   "language": "python",
   "name": "python3"
  },
  "language_info": {
   "codemirror_mode": {
    "name": "ipython",
    "version": 3
   },
   "file_extension": ".py",
   "mimetype": "text/x-python",
   "name": "python",
   "nbconvert_exporter": "python",
   "pygments_lexer": "ipython3",
   "version": "3.11.9"
  }
 },
 "nbformat": 4,
 "nbformat_minor": 5
}
