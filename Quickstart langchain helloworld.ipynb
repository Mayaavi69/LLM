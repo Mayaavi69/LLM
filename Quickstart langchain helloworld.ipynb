{
 "cells": [
  {
   "cell_type": "code",
   "execution_count": null,
   "id": "51986351-01b4-4266-99b3-9cf266079f14",
   "metadata": {},
   "outputs": [],
   "source": [
    "# LAst amended: 9th June, 2024\n",
    "# Ref: https://python.langchain.com/v0.1/docs/get_started/quickstart/"
   ]
  },
  {
   "cell_type": "code",
   "execution_count": null,
   "id": "727aea0d-2d56-4b9a-bb6e-7e68eefc8995",
   "metadata": {},
   "outputs": [],
   "source": [
    "# This notebook assumes ollama is installed\n",
    "# in the local machine and is listening at port 11434.\n",
    "# ollama can be restarted in wsl, as:\n",
    "\n",
    "#    sudo systemctl restart ollama"
   ]
  },
  {
   "cell_type": "code",
   "execution_count": 7,
   "id": "de653ff6-76cd-46ca-a3b6-056c29564864",
   "metadata": {},
   "outputs": [],
   "source": [
    "# 1.0\n",
    "from langchain_community.llms import Ollama\n",
    "\n",
    "# 1.0.1 Instantiate Ollama class\n",
    "#       Check the names of installed models,\n",
    "#       as, ollama list\n",
    "\n",
    "llm = Ollama(model=\"llama3:8b\")"
   ]
  },
  {
   "cell_type": "code",
   "execution_count": 8,
   "id": "5f034345-141b-4bc9-a454-6a56717c75f2",
   "metadata": {},
   "outputs": [
    {
     "data": {
      "text/plain": [
       "\"Languagem is a programming language that is designed to be easy to learn and use, making it well-suited for tasks such as testing. Here are some ways in which Languagem can help with testing:\\n\\n1. **Automated Testing**: Languagem's syntax makes it easy to write automated tests that check the behavior of your code. You can write test cases using Languagem's built-in functions and data types, making it simple to verify the correctness of your code.\\n2. **Test-Driven Development (TDD)**: Languagem's concise syntax and strong type system make it well-suited for TDD. By writing tests before you write code, you can ensure that your code is correct and works as expected.\\n3. **Mocking**: Languagem has built-in support for mocking, which allows you to isolate dependencies in your code and test individual components independently. This makes it easier to write unit tests and integration tests.\\n4. **Error Reporting**: When a test fails in Languagem, the error message is often more informative than in other languages, making it easier to diagnose and fix issues.\\n5. **Code Coverage Analysis**: Languagem has built-in support for code coverage analysis, which allows you to measure the percentage of your code that is covered by tests. This helps you identify areas of your code that may need additional testing.\\n6. **Testing Frameworks**: There are several testing frameworks available for Languagem, such as TestLang and LangTest, that provide additional features and functionality for testing.\\n7. **Integration with Other Tools**: Languagem can be integrated with other tools and services, such as continuous integration and deployment (CI/CD) pipelines, to automate testing and ensure that your code is working correctly in production.\\n\\nOverall, Languagem's concise syntax, strong type system, and built-in support for testing make it well-suited for writing tests and ensuring the correctness of your code.\""
      ]
     },
     "execution_count": 8,
     "metadata": {},
     "output_type": "execute_result"
    }
   ],
   "source": [
    "# 1.0.2\n",
    "llm.invoke(\"how can langsmith help with testing?\")"
   ]
  },
  {
   "cell_type": "markdown",
   "id": "f09fba97-d257-4f6d-9f26-96083b19efd8",
   "metadata": {},
   "source": [
    "We can also guide its response with a prompt template. Prompt templates convert raw user input to better input to the LLM."
   ]
  },
  {
   "cell_type": "code",
   "execution_count": 9,
   "id": "b682815e-d639-435b-9498-24d70a48add5",
   "metadata": {},
   "outputs": [],
   "source": [
    "# 2.0\n",
    "from langchain_core.prompts import ChatPromptTemplate\n",
    "\n",
    "# 2.0.1\n",
    "prompt = ChatPromptTemplate.from_messages([\n",
    "                                           (\"system\", \"You are a world class technical documentation writer.\"),\n",
    "                                           (\"user\", \"{input}\")\n",
    "                                          ])"
   ]
  },
  {
   "cell_type": "markdown",
   "id": "42d9a304-caa3-40d0-a38f-622d35a2d630",
   "metadata": {},
   "source": [
    "We can now combine these into a simple LLM chain:"
   ]
  },
  {
   "cell_type": "code",
   "execution_count": 10,
   "id": "0775ab58-30e5-4bc7-bbdf-d81f45b9436a",
   "metadata": {},
   "outputs": [],
   "source": [
    "# 2.0.2\n",
    "chain = prompt | llm "
   ]
  },
  {
   "cell_type": "markdown",
   "id": "85f6dc8a-7119-40aa-a0b2-306df6a8b002",
   "metadata": {},
   "source": [
    "We can now invoke it and ask the same question. It still won't know the answer, but it should respond in a more proper tone for a technical writer!"
   ]
  },
  {
   "cell_type": "code",
   "execution_count": 11,
   "id": "e6b39d42-5b9b-4ec0-b409-afbf03d85d62",
   "metadata": {},
   "outputs": [
    {
     "data": {
      "text/plain": [
       "\"Excellent question!\\n\\nAs a world-class technical documentation writer, I must say that Langsmith is an excellent tool for streamlining the testing process. Here's how it can help:\\n\\n1. **Automated Testing**: Langsmith's AI-powered grammar and syntax checking can be used to automate tests on your documentation. This ensures that any changes made to your content do not introduce errors or inconsistencies.\\n2. **Contextual Testing**: Langsmith's contextual analysis allows you to test specific phrases, sentences, or paragraphs in isolation. This helps identify issues with tone, voice, style, and clarity, making it easier to refine your content.\\n3. **Content Validation**: Langsmith can be used to validate the accuracy and consistency of technical terms, acronyms, and jargon across your documentation. This ensures that your audience understands the terminology and concepts correctly.\\n4. **Style Guide Enforcement**: By analyzing your existing style guide, Langsmith can help you enforce consistency in formatting, tone, and voice throughout your content. This maintains a professional image and helps build trust with your readers.\\n5. **Collaboration and Feedback**: Langsmith's integrations with popular collaboration tools (e.g., Slack, Microsoft Teams) enable seamless feedback loops between team members. This accelerates the testing process, reduces misunderstandings, and fosters a culture of continuous improvement.\\n\\nBy leveraging Langsmith in your testing workflow, you can:\\n\\n* Enhance the quality and consistency of your documentation\\n* Streamline testing processes, reducing manual effort and errors\\n* Improve collaboration and feedback among team members\\n* Boost reader understanding and engagement\\n\\nHow would you like to integrate Langsmith into your testing process?\""
      ]
     },
     "execution_count": 11,
     "metadata": {},
     "output_type": "execute_result"
    }
   ],
   "source": [
    "# 2.0.3\n",
    "chain.invoke({\"input\": \"how can langsmith help with testing?\"})"
   ]
  },
  {
   "cell_type": "code",
   "execution_count": null,
   "id": "0b6a8ada-45ea-4033-99a1-efe49f17d9e1",
   "metadata": {},
   "outputs": [],
   "source": [
    "############ DONE ################"
   ]
  },
  {
   "cell_type": "markdown",
   "id": "6cf07ea2-ad4e-45cc-a339-e9f0610ba1bf",
   "metadata": {},
   "source": [
    "## Exercises:\n",
    "1. Try different prompts (system and user) and try to get outputs\n",
    "2. Experiment after this with [this notebook](https://github.com/harnalashok/LLMs/blob/main/Using_llamacpp_Colab.ipynb)"
   ]
  },
  {
   "cell_type": "code",
   "execution_count": null,
   "id": "7467861a-50fa-4054-8da9-ae69f0fca6c0",
   "metadata": {},
   "outputs": [],
   "source": []
  }
 ],
 "metadata": {
  "kernelspec": {
   "display_name": "Python 3 (ipykernel)",
   "language": "python",
   "name": "python3"
  },
  "language_info": {
   "codemirror_mode": {
    "name": "ipython",
    "version": 3
   },
   "file_extension": ".py",
   "mimetype": "text/x-python",
   "name": "python",
   "nbconvert_exporter": "python",
   "pygments_lexer": "ipython3",
   "version": "3.11.9"
  }
 },
 "nbformat": 4,
 "nbformat_minor": 5
}
