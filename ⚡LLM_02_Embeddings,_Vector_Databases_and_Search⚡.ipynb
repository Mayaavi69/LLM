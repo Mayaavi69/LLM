{
  "metadata": {
    "kernelspec": {
      "language": "python",
      "display_name": "Python 3",
      "name": "python3"
    },
    "language_info": {
      "name": "python",
      "version": "3.10.10",
      "mimetype": "text/x-python",
      "codemirror_mode": {
        "name": "ipython",
        "version": 3
      },
      "pygments_lexer": "ipython3",
      "nbconvert_exporter": "python",
      "file_extension": ".py"
    },
    "kaggle": {
      "accelerator": "none",
      "dataSources": [
        {
          "sourceId": 53482,
          "databundleVersionId": 6201832,
          "sourceType": "competition"
        },
        {
          "sourceId": 54662,
          "databundleVersionId": 6169864,
          "sourceType": "competition"
        },
        {
          "sourceId": 1428159,
          "sourceType": "datasetVersion",
          "datasetId": 836401
        }
      ],
      "dockerImageVersionId": 30513,
      "isInternetEnabled": true,
      "language": "python",
      "sourceType": "notebook",
      "isGpuEnabled": false
    },
    "colab": {
      "name": "⚡LLM 02 - Embeddings, Vector Databases and Search⚡",
      "provenance": [],
      "include_colab_link": true
    }
  },
  "nbformat_minor": 0,
  "nbformat": 4,
  "cells": [
    {
      "cell_type": "markdown",
      "metadata": {
        "id": "view-in-github",
        "colab_type": "text"
      },
      "source": [
        "<a href=\"https://colab.research.google.com/github/harnalashok/LLMs/blob/main/%E2%9A%A1LLM_02_Embeddings%2C_Vector_Databases_and_Search%E2%9A%A1.ipynb\" target=\"_parent\"><img src=\"https://colab.research.google.com/assets/colab-badge.svg\" alt=\"Open In Colab\"/></a>"
      ]
    },
    {
      "source": [
        "\n",
        "# IMPORTANT: RUN THIS CELL IN ORDER TO IMPORT YOUR KAGGLE DATA SOURCES\n",
        "# TO THE CORRECT LOCATION (/kaggle/input) IN YOUR NOTEBOOK,\n",
        "# THEN FEEL FREE TO DELETE THIS CELL.\n",
        "# NOTE: THIS NOTEBOOK ENVIRONMENT DIFFERS FROM KAGGLE'S PYTHON\n",
        "# ENVIRONMENT SO THERE MAY BE MISSING LIBRARIES USED BY YOUR\n",
        "# NOTEBOOK.\n",
        "\n",
        "import os\n",
        "import sys\n",
        "from tempfile import NamedTemporaryFile\n",
        "from urllib.request import urlopen\n",
        "from urllib.parse import unquote, urlparse\n",
        "from urllib.error import HTTPError\n",
        "from zipfile import ZipFile\n",
        "import tarfile\n",
        "import shutil\n",
        "\n",
        "CHUNK_SIZE = 40960\n",
        "DATA_SOURCE_MAPPING = 'commonlit-evaluate-student-summaries:https%3A%2F%2Fstorage.googleapis.com%2Fkaggle-competitions-data%2Fkaggle-v2%2F53482%2F6201832%2Fbundle%2Farchive.zip%3FX-Goog-Algorithm%3DGOOG4-RSA-SHA256%26X-Goog-Credential%3Dgcp-kaggle-com%2540kaggle-161607.iam.gserviceaccount.com%252F20240403%252Fauto%252Fstorage%252Fgoog4_request%26X-Goog-Date%3D20240403T195657Z%26X-Goog-Expires%3D259200%26X-Goog-SignedHeaders%3Dhost%26X-Goog-Signature%3D12122ac8a5797a38d1995716355622b4905b58d9698f5caa771ae9083b15c1834c651e013b0f8851dd5c7c829ec76e1f168355333c9a68f68315aaafb47f1aee3e07f4639376e6eed4309345839fcb44e0b0a33b5ea850bcc93e6d020ed2c5a54f1422437a744b8f926f895c86c7a39a4da3da97143642af0ae357ff1a83ac8bb18468e7e976e9b7c081d94c720e0eff611e2f5bb0a4a079e08ad37862c20b2fcd4f7bd1ab9df62e41328d9563eadbdaff81bf078663dc052eb0dfa66e2b2fac5a468a64913ff1ad0fe10999d06511c5f069e9b85d0d37d9b7ab2db5f0f5c18d7b303d453bc42dde45ea0c65ea504a7420c14847e8a9e846846e3058810b7b35,kaggle-llm-science-exam:https%3A%2F%2Fstorage.googleapis.com%2Fkaggle-competitions-data%2Fkaggle-v2%2F54662%2F6169864%2Fbundle%2Farchive.zip%3FX-Goog-Algorithm%3DGOOG4-RSA-SHA256%26X-Goog-Credential%3Dgcp-kaggle-com%2540kaggle-161607.iam.gserviceaccount.com%252F20240403%252Fauto%252Fstorage%252Fgoog4_request%26X-Goog-Date%3D20240403T195657Z%26X-Goog-Expires%3D259200%26X-Goog-SignedHeaders%3Dhost%26X-Goog-Signature%3Da9513f4d5577c66badee097b669bcc9ada694fd210f77e8b5c7b9c72dc95eb223fcba32ee41e3a1cbdd024c1613384dc66972677bc0b9d21e18dd087c3b8e77f19e58f21d1a141deb9f1a640ec961512944fd52cea7bafe7ae5a5abcacad350afe3cc8d3aaa9fbd36705665f9af9703cc2dfcf74861f3d87038c65929a997da5730904c156f4b24bd678e388792ce6026496cecadc6b751efc941a12ad54096b81ac76051aa7bc0463f273c5ad94b08646c8d89e97a27816874b07ee97b52e0b8d3bbd125fd66367c0cd8b0d3662d08c2d0f1c35b7b7452ff229a27cd7ba1697560eb448dcfe0c900ea3c170c520b53b457a68ef60d2a1456fcd089f93b5b0bb,topic-labeled-news-dataset:https%3A%2F%2Fstorage.googleapis.com%2Fkaggle-data-sets%2F836401%2F1428159%2Fbundle%2Farchive.zip%3FX-Goog-Algorithm%3DGOOG4-RSA-SHA256%26X-Goog-Credential%3Dgcp-kaggle-com%2540kaggle-161607.iam.gserviceaccount.com%252F20240403%252Fauto%252Fstorage%252Fgoog4_request%26X-Goog-Date%3D20240403T195657Z%26X-Goog-Expires%3D259200%26X-Goog-SignedHeaders%3Dhost%26X-Goog-Signature%3D28e47ac6873facf9a7b8e2530aa8aa02d59bc90c9e8aea889775e81a9658288be97e96bdcf56aea1ed5a9c562346f98693c9a48abae746a38048b3f3c38599fb5d8aa54e977a0a4b87758279f805485ae06c2d6c76d0c47812267c36bc22ecf729b7bc46f1f96eac232431890e5d66569f52fc94e6a50035a5462a0608f1fcff75ed161ce0f9926690fbbf89598169488c0d9a1473dbdb44c23752820b8ecb2549b6af36983d5a8c30294f38dd03dfa0257261c565e1c4c3be2ac5929ef50c9531c03c51c69d6588f88c8b12f05170a2e30b8c43b6b0f04ec9f72aaa1b16e7e36ccc64409f95e79b73b0bd2d57515a5e1903addb2b9657c45c7e9277c587631c'\n",
        "\n",
        "KAGGLE_INPUT_PATH='/kaggle/input'\n",
        "KAGGLE_WORKING_PATH='/kaggle/working'\n",
        "KAGGLE_SYMLINK='kaggle'\n",
        "\n",
        "!umount /kaggle/input/ 2> /dev/null\n",
        "shutil.rmtree('/kaggle/input', ignore_errors=True)\n",
        "os.makedirs(KAGGLE_INPUT_PATH, 0o777, exist_ok=True)\n",
        "os.makedirs(KAGGLE_WORKING_PATH, 0o777, exist_ok=True)\n",
        "\n",
        "try:\n",
        "  os.symlink(KAGGLE_INPUT_PATH, os.path.join(\"..\", 'input'), target_is_directory=True)\n",
        "except FileExistsError:\n",
        "  pass\n",
        "try:\n",
        "  os.symlink(KAGGLE_WORKING_PATH, os.path.join(\"..\", 'working'), target_is_directory=True)\n",
        "except FileExistsError:\n",
        "  pass\n",
        "\n",
        "for data_source_mapping in DATA_SOURCE_MAPPING.split(','):\n",
        "    directory, download_url_encoded = data_source_mapping.split(':')\n",
        "    download_url = unquote(download_url_encoded)\n",
        "    filename = urlparse(download_url).path\n",
        "    destination_path = os.path.join(KAGGLE_INPUT_PATH, directory)\n",
        "    try:\n",
        "        with urlopen(download_url) as fileres, NamedTemporaryFile() as tfile:\n",
        "            total_length = fileres.headers['content-length']\n",
        "            print(f'Downloading {directory}, {total_length} bytes compressed')\n",
        "            dl = 0\n",
        "            data = fileres.read(CHUNK_SIZE)\n",
        "            while len(data) > 0:\n",
        "                dl += len(data)\n",
        "                tfile.write(data)\n",
        "                done = int(50 * dl / int(total_length))\n",
        "                sys.stdout.write(f\"\\r[{'=' * done}{' ' * (50-done)}] {dl} bytes downloaded\")\n",
        "                sys.stdout.flush()\n",
        "                data = fileres.read(CHUNK_SIZE)\n",
        "            if filename.endswith('.zip'):\n",
        "              with ZipFile(tfile) as zfile:\n",
        "                zfile.extractall(destination_path)\n",
        "            else:\n",
        "              with tarfile.open(tfile.name) as tarfile:\n",
        "                tarfile.extractall(destination_path)\n",
        "            print(f'\\nDownloaded and uncompressed: {directory}')\n",
        "    except HTTPError as e:\n",
        "        print(f'Failed to load (likely expired) {download_url} to path {destination_path}')\n",
        "        continue\n",
        "    except OSError as e:\n",
        "        print(f'Failed to load {download_url} to path {destination_path}')\n",
        "        continue\n",
        "\n",
        "print('Data source import complete.')\n"
      ],
      "metadata": {
        "id": "_RkD7QSaiUL2"
      },
      "cell_type": "code",
      "outputs": [],
      "execution_count": null
    },
    {
      "cell_type": "markdown",
      "source": [
        "## ⚡ Further Notebooks In This Course ⚡"
      ],
      "metadata": {
        "id": "FkD19qoNiUL4"
      }
    },
    {
      "cell_type": "markdown",
      "source": [
        "**Notebooks:**\n",
        "1. [LLM 01 - How to use LLMs with Hugging Face](https://www.kaggle.com/code/aliabdin1/llm-01-llms-with-hugging-face)\n",
        "2. [LLM 02 - Embeddings, Vector Databases, and Search](https://www.kaggle.com/code/aliabdin1/llm-02-embeddings-vector-databases-and-search)\n",
        "3. [LLM 03 - Building LLM Chain](https://www.kaggle.com/code/aliabdin1/llm-03-building-llm-chain)\n",
        "4. [LLM 04a - Fine-tuning LLMs](https://www.kaggle.com/code/aliabdin1/llm-04a-fine-tuning-llms)\n",
        "4. [LLM 04b - Evaluating LLMs](https://www.kaggle.com/code/aliabdin1/llm-04b-evaluating-llms)\n",
        "5. [LLM 05 - Biased LLMs and Society](https://www.kaggle.com/code/aliabdin1/llm-05-llms-and-society)\n",
        "6. [LLM 06 - LLMOps](https://www.kaggle.com/code/aliabdin1/llm-06-llmops)\n",
        "\n",
        "**Hands-on Lab Notebooks:**\n",
        "1. [LLM 01L - How to use LLMs with Hugging Face Lab](https://www.kaggle.com/code/aliabdin1/llm-01l-llms-with-hugging-face-lab)\n",
        "2. [LLM 02L - Embeddings, Vector Databases, and Search Lab](https://www.kaggle.com/code/aliabdin1/llm-02l-embeddings-vector-databases-and-search)\n",
        "3. [LLM 03L - Building LLM Chains Lab](https://www.kaggle.com/code/aliabdin1/llm-03l-building-llm-chains-lab)\n",
        "4. [LLM 04L - Fine-tuning LLMs Lab](https://www.kaggle.com/code/aliabdin1/llm-04l-fine-tuning-llms-lab)\n",
        "5. [LLM 05L - Biased LLMs and Society Lab](https://www.kaggle.com/code/aliabdin1/llm-05l-llms-and-society-lab)"
      ],
      "metadata": {
        "id": "62CB0eAqiUL6"
      }
    },
    {
      "cell_type": "markdown",
      "source": [
        "<div style=\"text-align: center; line-height: 0; padding-top: 9px;\">\n",
        "  <img src=\"https://databricks.com/wp-content/uploads/2018/03/db-academy-rgb-1200px.png\" alt=\"Databricks Learning\" style=\"width: 600px\">\n",
        "</div>"
      ],
      "metadata": {
        "application/vnd.databricks.v1+cell": {
          "showTitle": false,
          "cellMetadata": {},
          "nuid": "b29adc71-b1ae-41fb-8d60-5183aba40745",
          "inputWidgets": {},
          "title": ""
        },
        "id": "DBxPBsS_iUL7"
      }
    },
    {
      "cell_type": "markdown",
      "source": [
        "# Embeddings, Vector Databases, and Search\n",
        "\n",
        "Converting text into embedding vectors is the first step to any text processing pipeline. As the amount of text gets larger, there is often a need to save these embedding vectors into a dedicated vector index or library, so that developers won't have to recompute the embeddings and the retrieval process is faster. We can then search for documents based on our intended query and pass these relevant documents into a language model (LM) as additional context. We also refer to this context as supplying the LM with \"state\" or \"memory\". The LM then generates a response based on the additional context it receives!\n",
        "\n",
        "In this notebook, we will implement the full workflow of text vectorization, vector search, and question answering workflow. While we use [FAISS](https://faiss.ai/) (vector library) and [ChromaDB](https://docs.trychroma.com/) (vector database), and a Hugging Face model, know that you can easily swap these tools out for your preferred tools or models!\n",
        "\n",
        "<img src=\"https://files.training.databricks.com/images/llm/updated_vector_search.png\" width=1000 target=\"_blank\" >\n",
        "\n",
        "### ![Dolly](https://files.training.databricks.com/images/llm/dolly_small.png) Learning Objectives\n",
        "1. Implement the workflow of reading text, converting text to embeddings, saving them to FAISS and ChromaDB\n",
        "2. Query for similar documents using FAISS and ChromaDB\n",
        "3. Apply a Hugging Face language model for question answering!"
      ],
      "metadata": {
        "application/vnd.databricks.v1+cell": {
          "showTitle": false,
          "cellMetadata": {},
          "nuid": "89833fe5-7ecd-4dfd-ae08-80267f4ddd98",
          "inputWidgets": {},
          "title": ""
        },
        "id": "CDOx2TVJiUL8"
      }
    },
    {
      "cell_type": "code",
      "source": [
        "%pip install faiss-cpu==1.7.4 chromadb==0.3.21"
      ],
      "metadata": {
        "application/vnd.databricks.v1+cell": {
          "showTitle": false,
          "cellMetadata": {
            "rowLimit": 10000,
            "byteLimit": 2048000
          },
          "nuid": "dec485a4-a344-49b6-87a9-d90cf84f76cb",
          "inputWidgets": {},
          "title": ""
        },
        "execution": {
          "iopub.status.busy": "2024-04-03T18:55:28.992979Z",
          "iopub.execute_input": "2024-04-03T18:55:28.993382Z",
          "iopub.status.idle": "2024-04-03T18:56:44.942859Z",
          "shell.execute_reply.started": "2024-04-03T18:55:28.993348Z",
          "shell.execute_reply": "2024-04-03T18:56:44.941555Z"
        },
        "trusted": true,
        "id": "lO1Q3HZWiUL8",
        "outputId": "36a241fb-80de-4e98-f172-258ed990d5ef"
      },
      "execution_count": null,
      "outputs": [
        {
          "name": "stdout",
          "text": "Collecting faiss-cpu==1.7.4\n  Downloading faiss_cpu-1.7.4-cp310-cp310-manylinux_2_17_x86_64.manylinux2014_x86_64.whl (17.6 MB)\n\u001b[2K     \u001b[90m━━━━━━━━━━━━━━━━━━━━━━━━━━━━━━━━━━━━━━━━\u001b[0m \u001b[32m17.6/17.6 MB\u001b[0m \u001b[31m51.0 MB/s\u001b[0m eta \u001b[36m0:00:00\u001b[0m00:01\u001b[0m00:01\u001b[0m\n\u001b[?25hCollecting chromadb==0.3.21\n  Downloading chromadb-0.3.21-py3-none-any.whl (46 kB)\n\u001b[2K     \u001b[90m━━━━━━━━━━━━━━━━━━━━━━━━━━━━━━━━━━━━━━━━\u001b[0m \u001b[32m46.4/46.4 kB\u001b[0m \u001b[31m2.9 MB/s\u001b[0m eta \u001b[36m0:00:00\u001b[0m\n\u001b[?25hRequirement already satisfied: pandas>=1.3 in /opt/conda/lib/python3.10/site-packages (from chromadb==0.3.21) (1.5.3)\nRequirement already satisfied: requests>=2.28 in /opt/conda/lib/python3.10/site-packages (from chromadb==0.3.21) (2.28.2)\nRequirement already satisfied: pydantic>=1.9 in /opt/conda/lib/python3.10/site-packages (from chromadb==0.3.21) (1.10.7)\nCollecting hnswlib>=0.7 (from chromadb==0.3.21)\n  Downloading hnswlib-0.8.0.tar.gz (36 kB)\n  Installing build dependencies ... \u001b[?25ldone\n\u001b[?25h  Getting requirements to build wheel ... \u001b[?25ldone\n\u001b[?25h  Preparing metadata (pyproject.toml) ... \u001b[?25ldone\n\u001b[?25hCollecting clickhouse-connect>=0.5.7 (from chromadb==0.3.21)\n  Downloading clickhouse_connect-0.7.7-cp310-cp310-manylinux_2_17_x86_64.manylinux2014_x86_64.whl (965 kB)\n\u001b[2K     \u001b[90m━━━━━━━━━━━━━━━━━━━━━━━━━━━━━━━━━━━━━━\u001b[0m \u001b[32m965.2/965.2 kB\u001b[0m \u001b[31m48.2 MB/s\u001b[0m eta \u001b[36m0:00:00\u001b[0m\n\u001b[?25hCollecting sentence-transformers>=2.2.2 (from chromadb==0.3.21)\n  Downloading sentence_transformers-2.6.1-py3-none-any.whl (163 kB)\n\u001b[2K     \u001b[90m━━━━━━━━━━━━━━━━━━━━━━━━━━━━━━━━━━━━━━\u001b[0m \u001b[32m163.3/163.3 kB\u001b[0m \u001b[31m13.1 MB/s\u001b[0m eta \u001b[36m0:00:00\u001b[0m\n\u001b[?25hCollecting duckdb>=0.7.1 (from chromadb==0.3.21)\n  Downloading duckdb-0.10.1-cp310-cp310-manylinux_2_17_x86_64.manylinux2014_x86_64.whl (18.1 MB)\n\u001b[2K     \u001b[90m━━━━━━━━━━━━━━━━━━━━━━━━━━━━━━━━━━━━━━━━\u001b[0m \u001b[32m18.1/18.1 MB\u001b[0m \u001b[31m51.9 MB/s\u001b[0m eta \u001b[36m0:00:00\u001b[0m00:01\u001b[0m00:01\u001b[0m\n\u001b[?25hRequirement already satisfied: fastapi>=0.85.1 in /opt/conda/lib/python3.10/site-packages (from chromadb==0.3.21) (0.95.1)\nRequirement already satisfied: uvicorn[standard]>=0.18.3 in /opt/conda/lib/python3.10/site-packages (from chromadb==0.3.21) (0.22.0)\nRequirement already satisfied: numpy>=1.21.6 in /opt/conda/lib/python3.10/site-packages (from chromadb==0.3.21) (1.23.5)\nCollecting posthog>=2.4.0 (from chromadb==0.3.21)\n  Downloading posthog-3.5.0-py2.py3-none-any.whl (41 kB)\n\u001b[2K     \u001b[90m━━━━━━━━━━━━━━━━━━━━━━━━━━━━━━━━━━━━━━━━\u001b[0m \u001b[32m41.3/41.3 kB\u001b[0m \u001b[31m3.3 MB/s\u001b[0m eta \u001b[36m0:00:00\u001b[0m\n\u001b[?25hRequirement already satisfied: certifi in /opt/conda/lib/python3.10/site-packages (from clickhouse-connect>=0.5.7->chromadb==0.3.21) (2023.5.7)\nRequirement already satisfied: urllib3>=1.26 in /opt/conda/lib/python3.10/site-packages (from clickhouse-connect>=0.5.7->chromadb==0.3.21) (1.26.15)\nRequirement already satisfied: pytz in /opt/conda/lib/python3.10/site-packages (from clickhouse-connect>=0.5.7->chromadb==0.3.21) (2023.3)\nRequirement already satisfied: zstandard in /opt/conda/lib/python3.10/site-packages (from clickhouse-connect>=0.5.7->chromadb==0.3.21) (0.19.0)\nRequirement already satisfied: lz4 in /opt/conda/lib/python3.10/site-packages (from clickhouse-connect>=0.5.7->chromadb==0.3.21) (4.3.2)\nRequirement already satisfied: starlette<0.27.0,>=0.26.1 in /opt/conda/lib/python3.10/site-packages (from fastapi>=0.85.1->chromadb==0.3.21) (0.26.1)\nRequirement already satisfied: python-dateutil>=2.8.1 in /opt/conda/lib/python3.10/site-packages (from pandas>=1.3->chromadb==0.3.21) (2.8.2)\nRequirement already satisfied: six>=1.5 in /opt/conda/lib/python3.10/site-packages (from posthog>=2.4.0->chromadb==0.3.21) (1.16.0)\nCollecting monotonic>=1.5 (from posthog>=2.4.0->chromadb==0.3.21)\n  Downloading monotonic-1.6-py2.py3-none-any.whl (8.2 kB)\nRequirement already satisfied: backoff>=1.10.0 in /opt/conda/lib/python3.10/site-packages (from posthog>=2.4.0->chromadb==0.3.21) (2.2.1)\nRequirement already satisfied: typing-extensions>=4.2.0 in /opt/conda/lib/python3.10/site-packages (from pydantic>=1.9->chromadb==0.3.21) (4.5.0)\nRequirement already satisfied: charset-normalizer<4,>=2 in /opt/conda/lib/python3.10/site-packages (from requests>=2.28->chromadb==0.3.21) (2.1.1)\nRequirement already satisfied: idna<4,>=2.5 in /opt/conda/lib/python3.10/site-packages (from requests>=2.28->chromadb==0.3.21) (3.4)\nCollecting transformers<5.0.0,>=4.32.0 (from sentence-transformers>=2.2.2->chromadb==0.3.21)\n  Downloading transformers-4.39.3-py3-none-any.whl (8.8 MB)\n\u001b[2K     \u001b[90m━━━━━━━━━━━━━━━━━━━━━━━━━━━━━━━━━━━━━━━━\u001b[0m \u001b[32m8.8/8.8 MB\u001b[0m \u001b[31m78.9 MB/s\u001b[0m eta \u001b[36m0:00:00\u001b[0m:00:01\u001b[0m00:01\u001b[0m\n\u001b[?25hRequirement already satisfied: tqdm in /opt/conda/lib/python3.10/site-packages (from sentence-transformers>=2.2.2->chromadb==0.3.21) (4.64.1)\nRequirement already satisfied: torch>=1.11.0 in /opt/conda/lib/python3.10/site-packages (from sentence-transformers>=2.2.2->chromadb==0.3.21) (2.0.0+cpu)\nRequirement already satisfied: scikit-learn in /opt/conda/lib/python3.10/site-packages (from sentence-transformers>=2.2.2->chromadb==0.3.21) (1.2.2)\nRequirement already satisfied: scipy in /opt/conda/lib/python3.10/site-packages (from sentence-transformers>=2.2.2->chromadb==0.3.21) (1.10.1)\nRequirement already satisfied: huggingface-hub>=0.15.1 in /opt/conda/lib/python3.10/site-packages (from sentence-transformers>=2.2.2->chromadb==0.3.21) (0.15.1)\nRequirement already satisfied: Pillow in /opt/conda/lib/python3.10/site-packages (from sentence-transformers>=2.2.2->chromadb==0.3.21) (9.5.0)\nRequirement already satisfied: click>=7.0 in /opt/conda/lib/python3.10/site-packages (from uvicorn[standard]>=0.18.3->chromadb==0.3.21) (8.1.3)\nRequirement already satisfied: h11>=0.8 in /opt/conda/lib/python3.10/site-packages (from uvicorn[standard]>=0.18.3->chromadb==0.3.21) (0.14.0)\nRequirement already satisfied: httptools>=0.5.0 in /opt/conda/lib/python3.10/site-packages (from uvicorn[standard]>=0.18.3->chromadb==0.3.21) (0.5.0)\nRequirement already satisfied: python-dotenv>=0.13 in /opt/conda/lib/python3.10/site-packages (from uvicorn[standard]>=0.18.3->chromadb==0.3.21) (1.0.0)\nRequirement already satisfied: pyyaml>=5.1 in /opt/conda/lib/python3.10/site-packages (from uvicorn[standard]>=0.18.3->chromadb==0.3.21) (5.4.1)\nRequirement already satisfied: uvloop!=0.15.0,!=0.15.1,>=0.14.0 in /opt/conda/lib/python3.10/site-packages (from uvicorn[standard]>=0.18.3->chromadb==0.3.21) (0.17.0)\nRequirement already satisfied: watchfiles>=0.13 in /opt/conda/lib/python3.10/site-packages (from uvicorn[standard]>=0.18.3->chromadb==0.3.21) (0.19.0)\nRequirement already satisfied: websockets>=10.4 in /opt/conda/lib/python3.10/site-packages (from uvicorn[standard]>=0.18.3->chromadb==0.3.21) (11.0.3)\nRequirement already satisfied: filelock in /opt/conda/lib/python3.10/site-packages (from huggingface-hub>=0.15.1->sentence-transformers>=2.2.2->chromadb==0.3.21) (3.12.0)\nRequirement already satisfied: fsspec in /opt/conda/lib/python3.10/site-packages (from huggingface-hub>=0.15.1->sentence-transformers>=2.2.2->chromadb==0.3.21) (2023.6.0)\nRequirement already satisfied: packaging>=20.9 in /opt/conda/lib/python3.10/site-packages (from huggingface-hub>=0.15.1->sentence-transformers>=2.2.2->chromadb==0.3.21) (21.3)\nRequirement already satisfied: anyio<5,>=3.4.0 in /opt/conda/lib/python3.10/site-packages (from starlette<0.27.0,>=0.26.1->fastapi>=0.85.1->chromadb==0.3.21) (3.6.2)\nRequirement already satisfied: sympy in /opt/conda/lib/python3.10/site-packages (from torch>=1.11.0->sentence-transformers>=2.2.2->chromadb==0.3.21) (1.12)\nRequirement already satisfied: networkx in /opt/conda/lib/python3.10/site-packages (from torch>=1.11.0->sentence-transformers>=2.2.2->chromadb==0.3.21) (3.1)\nRequirement already satisfied: jinja2 in /opt/conda/lib/python3.10/site-packages (from torch>=1.11.0->sentence-transformers>=2.2.2->chromadb==0.3.21) (3.1.2)\nCollecting huggingface-hub>=0.15.1 (from sentence-transformers>=2.2.2->chromadb==0.3.21)\n  Downloading huggingface_hub-0.22.2-py3-none-any.whl (388 kB)\n\u001b[2K     \u001b[90m━━━━━━━━━━━━━━━━━━━━━━━━━━━━━━━━━━━━━━\u001b[0m \u001b[32m388.9/388.9 kB\u001b[0m \u001b[31m28.3 MB/s\u001b[0m eta \u001b[36m0:00:00\u001b[0m\n\u001b[?25hRequirement already satisfied: regex!=2019.12.17 in /opt/conda/lib/python3.10/site-packages (from transformers<5.0.0,>=4.32.0->sentence-transformers>=2.2.2->chromadb==0.3.21) (2023.5.5)\nCollecting tokenizers<0.19,>=0.14 (from transformers<5.0.0,>=4.32.0->sentence-transformers>=2.2.2->chromadb==0.3.21)\n  Downloading tokenizers-0.15.2-cp310-cp310-manylinux_2_17_x86_64.manylinux2014_x86_64.whl (3.6 MB)\n\u001b[2K     \u001b[90m━━━━━━━━━━━━━━━━━━━━━━━━━━━━━━━━━━━━━━━━\u001b[0m \u001b[32m3.6/3.6 MB\u001b[0m \u001b[31m78.2 MB/s\u001b[0m eta \u001b[36m0:00:00\u001b[0m:00:01\u001b[0m\n\u001b[?25hCollecting safetensors>=0.4.1 (from transformers<5.0.0,>=4.32.0->sentence-transformers>=2.2.2->chromadb==0.3.21)\n  Downloading safetensors-0.4.2-cp310-cp310-manylinux_2_17_x86_64.manylinux2014_x86_64.whl (1.3 MB)\n\u001b[2K     \u001b[90m━━━━━━━━━━━━━━━━━━━━━━━━━━━━━━━━━━━━━━━━\u001b[0m \u001b[32m1.3/1.3 MB\u001b[0m \u001b[31m48.6 MB/s\u001b[0m eta \u001b[36m0:00:00\u001b[0m\n\u001b[?25hRequirement already satisfied: joblib>=1.1.1 in /opt/conda/lib/python3.10/site-packages (from scikit-learn->sentence-transformers>=2.2.2->chromadb==0.3.21) (1.2.0)\nRequirement already satisfied: threadpoolctl>=2.0.0 in /opt/conda/lib/python3.10/site-packages (from scikit-learn->sentence-transformers>=2.2.2->chromadb==0.3.21) (3.1.0)\nRequirement already satisfied: sniffio>=1.1 in /opt/conda/lib/python3.10/site-packages (from anyio<5,>=3.4.0->starlette<0.27.0,>=0.26.1->fastapi>=0.85.1->chromadb==0.3.21) (1.3.0)\nRequirement already satisfied: pyparsing!=3.0.5,>=2.0.2 in /opt/conda/lib/python3.10/site-packages (from packaging>=20.9->huggingface-hub>=0.15.1->sentence-transformers>=2.2.2->chromadb==0.3.21) (3.0.9)\nRequirement already satisfied: MarkupSafe>=2.0 in /opt/conda/lib/python3.10/site-packages (from jinja2->torch>=1.11.0->sentence-transformers>=2.2.2->chromadb==0.3.21) (2.1.2)\nRequirement already satisfied: mpmath>=0.19 in /opt/conda/lib/python3.10/site-packages (from sympy->torch>=1.11.0->sentence-transformers>=2.2.2->chromadb==0.3.21) (1.3.0)\nBuilding wheels for collected packages: hnswlib\n  Building wheel for hnswlib (pyproject.toml) ... \u001b[?25ldone\n\u001b[?25h  Created wheel for hnswlib: filename=hnswlib-0.8.0-cp310-cp310-linux_x86_64.whl size=196497 sha256=4466ddb37d95c3b397378a64ddf4919df9dafc69a6f0da87a3cb338df59d0756\n  Stored in directory: /root/.cache/pip/wheels/af/a9/3e/3e5d59ee41664eb31a4e6de67d1846f86d16d93c45f277c4e7\nSuccessfully built hnswlib\nInstalling collected packages: monotonic, faiss-cpu, safetensors, hnswlib, duckdb, clickhouse-connect, posthog, huggingface-hub, tokenizers, transformers, sentence-transformers, chromadb\n  Attempting uninstall: safetensors\n    Found existing installation: safetensors 0.3.1\n    Uninstalling safetensors-0.3.1:\n      Successfully uninstalled safetensors-0.3.1\n  Attempting uninstall: huggingface-hub\n    Found existing installation: huggingface-hub 0.15.1\n    Uninstalling huggingface-hub-0.15.1:\n      Successfully uninstalled huggingface-hub-0.15.1\n  Attempting uninstall: tokenizers\n    Found existing installation: tokenizers 0.13.3\n    Uninstalling tokenizers-0.13.3:\n      Successfully uninstalled tokenizers-0.13.3\n  Attempting uninstall: transformers\n    Found existing installation: transformers 4.30.1\n    Uninstalling transformers-4.30.1:\n      Successfully uninstalled transformers-4.30.1\nSuccessfully installed chromadb-0.3.21 clickhouse-connect-0.7.7 duckdb-0.10.1 faiss-cpu-1.7.4 hnswlib-0.8.0 huggingface-hub-0.22.2 monotonic-1.6 posthog-3.5.0 safetensors-0.4.2 sentence-transformers-2.6.1 tokenizers-0.15.2 transformers-4.39.3\n\u001b[33mWARNING: Running pip as the 'root' user can result in broken permissions and conflicting behaviour with the system package manager. It is recommended to use a virtual environment instead: https://pip.pypa.io/warnings/venv\u001b[0m\u001b[33m\n\u001b[0mNote: you may need to restart the kernel to use updated packages.\n",
          "output_type": "stream"
        }
      ]
    },
    {
      "cell_type": "markdown",
      "source": [
        "## Classroom Setup"
      ],
      "metadata": {
        "application/vnd.databricks.v1+cell": {
          "showTitle": false,
          "cellMetadata": {},
          "nuid": "a066114f-d148-45e0-81b5-9f6ac3f7e8ec",
          "inputWidgets": {},
          "title": ""
        },
        "id": "DFtmKs79iUL9"
      }
    },
    {
      "cell_type": "code",
      "source": [
        "#%run ../Includes/Classroom-Setup"
      ],
      "metadata": {
        "application/vnd.databricks.v1+cell": {
          "showTitle": false,
          "cellMetadata": {
            "rowLimit": 10000,
            "byteLimit": 2048000
          },
          "nuid": "642f4121-bf71-46f0-aad7-7575a3ab338f",
          "inputWidgets": {},
          "title": ""
        },
        "execution": {
          "iopub.status.busy": "2023-06-22T14:11:54.722357Z",
          "iopub.execute_input": "2023-06-22T14:11:54.722697Z",
          "iopub.status.idle": "2023-06-22T14:11:54.727367Z",
          "shell.execute_reply.started": "2023-06-22T14:11:54.722673Z",
          "shell.execute_reply": "2023-06-22T14:11:54.72644Z"
        },
        "trusted": true,
        "id": "4jYxGatYiUL9"
      },
      "execution_count": null,
      "outputs": []
    },
    {
      "cell_type": "markdown",
      "source": [
        "## Step 1: Reading data\n",
        "\n",
        "In this section, we are going to use the data on <a href=\"https://newscatcherapi.com/\" target=\"_blank\">news topics collected by the NewsCatcher team</a>, who collect and index news articles and release them to the open-source community. The dataset can be downloaded from <a href=\"https://www.kaggle.com/kotartemiy/topic-labeled-news-dataset\" target=\"_blank\">Kaggle</a>."
      ],
      "metadata": {
        "application/vnd.databricks.v1+cell": {
          "showTitle": false,
          "cellMetadata": {},
          "nuid": "1991f2ec-5d23-476c-be89-2e110206eb22",
          "inputWidgets": {},
          "title": ""
        },
        "id": "0EuQ5wlsiUL-"
      }
    },
    {
      "cell_type": "code",
      "source": [
        "import pandas as pd\n",
        "\n",
        "pdf = pd.read_csv(\"../input/topic-labeled-news-dataset/labelled_newscatcher_dataset.csv\", sep=\";\")\n",
        "pdf[\"id\"] = pdf.index\n",
        "display(pdf)"
      ],
      "metadata": {
        "application/vnd.databricks.v1+cell": {
          "showTitle": false,
          "cellMetadata": {
            "rowLimit": 10000,
            "byteLimit": 2048000
          },
          "nuid": "180e7264-19e6-47ac-a3dd-7167b33821bc",
          "inputWidgets": {},
          "title": ""
        },
        "execution": {
          "iopub.status.busy": "2024-04-03T18:56:58.350205Z",
          "iopub.execute_input": "2024-04-03T18:56:58.350635Z",
          "iopub.status.idle": "2024-04-03T18:56:59.330744Z",
          "shell.execute_reply.started": "2024-04-03T18:56:58.350597Z",
          "shell.execute_reply": "2024-04-03T18:56:59.329531Z"
        },
        "trusted": true,
        "id": "WFTjPqdMiUL_",
        "outputId": "c0762ae6-7c99-4538-8878-e481d18588b6"
      },
      "execution_count": null,
      "outputs": [
        {
          "output_type": "display_data",
          "data": {
            "text/plain": "                topic                                               link  \\\n0             SCIENCE  https://www.eurekalert.org/pub_releases/2020-0...   \n1             SCIENCE  https://www.pulse.ng/news/world/an-irresistibl...   \n2             SCIENCE  https://www.express.co.uk/news/science/1322607...   \n3             SCIENCE  https://www.ndtv.com/world-news/glaciers-could...   \n4             SCIENCE  https://www.thesun.ie/tech/5742187/perseid-met...   \n...               ...                                                ...   \n108769         NATION  https://www.vanguardngr.com/2020/08/pdp-govern...   \n108770       BUSINESS  https://www.patentlyapple.com/patently-apple/2...   \n108771         HEALTH  https://www.belfastlive.co.uk/news/health/coro...   \n108772  ENTERTAINMENT  https://www.thenews.com.pk/latest/696364-paul-...   \n108773         SPORTS  https://www.balls.ie/football/shane-duffy-brig...   \n\n                   domain       published_date  \\\n0          eurekalert.org  2020-08-06 13:59:45   \n1                pulse.ng  2020-08-12 15:14:19   \n2           express.co.uk  2020-08-13 21:01:00   \n3                ndtv.com  2020-08-03 22:18:26   \n4               thesun.ie  2020-08-12 19:54:36   \n...                   ...                  ...   \n108769    vanguardngr.com  2020-08-08 02:40:00   \n108770  patentlyapple.com  2020-08-08 01:27:12   \n108771  belfastlive.co.uk  2020-08-12 17:01:00   \n108772     thenews.com.pk  2020-08-05 04:59:00   \n108773           balls.ie  2020-08-09 10:25:26   \n\n                                                    title lang      id  \n0       A closer look at water-splitting's solar fuel ...   en       0  \n1       An irresistible scent makes locusts swarm, stu...   en       1  \n2       Artificial intelligence warning: AI will know ...   en       2  \n3        Glaciers Could Have Sculpted Mars Valleys: Study   en       3  \n4       Perseid meteor shower 2020: What time and how ...   en       4  \n...                                                   ...  ...     ...  \n108769  PDP governors’ forum urges security agencies t...   en  108769  \n108770  In Q2-20, Apple Dominated the Premium Smartpho...   en  108770  \n108771  Coronavirus Northern Ireland: Full breakdown s...   en  108771  \n108772  Paul McCartney details post-Beatles distress a...   en  108772  \n108773  Report: Talks Underway To Keep Shane Duffy In ...   en  108773  \n\n[108774 rows x 7 columns]",
            "text/html": "<div>\n<style scoped>\n    .dataframe tbody tr th:only-of-type {\n        vertical-align: middle;\n    }\n\n    .dataframe tbody tr th {\n        vertical-align: top;\n    }\n\n    .dataframe thead th {\n        text-align: right;\n    }\n</style>\n<table border=\"1\" class=\"dataframe\">\n  <thead>\n    <tr style=\"text-align: right;\">\n      <th></th>\n      <th>topic</th>\n      <th>link</th>\n      <th>domain</th>\n      <th>published_date</th>\n      <th>title</th>\n      <th>lang</th>\n      <th>id</th>\n    </tr>\n  </thead>\n  <tbody>\n    <tr>\n      <th>0</th>\n      <td>SCIENCE</td>\n      <td>https://www.eurekalert.org/pub_releases/2020-0...</td>\n      <td>eurekalert.org</td>\n      <td>2020-08-06 13:59:45</td>\n      <td>A closer look at water-splitting's solar fuel ...</td>\n      <td>en</td>\n      <td>0</td>\n    </tr>\n    <tr>\n      <th>1</th>\n      <td>SCIENCE</td>\n      <td>https://www.pulse.ng/news/world/an-irresistibl...</td>\n      <td>pulse.ng</td>\n      <td>2020-08-12 15:14:19</td>\n      <td>An irresistible scent makes locusts swarm, stu...</td>\n      <td>en</td>\n      <td>1</td>\n    </tr>\n    <tr>\n      <th>2</th>\n      <td>SCIENCE</td>\n      <td>https://www.express.co.uk/news/science/1322607...</td>\n      <td>express.co.uk</td>\n      <td>2020-08-13 21:01:00</td>\n      <td>Artificial intelligence warning: AI will know ...</td>\n      <td>en</td>\n      <td>2</td>\n    </tr>\n    <tr>\n      <th>3</th>\n      <td>SCIENCE</td>\n      <td>https://www.ndtv.com/world-news/glaciers-could...</td>\n      <td>ndtv.com</td>\n      <td>2020-08-03 22:18:26</td>\n      <td>Glaciers Could Have Sculpted Mars Valleys: Study</td>\n      <td>en</td>\n      <td>3</td>\n    </tr>\n    <tr>\n      <th>4</th>\n      <td>SCIENCE</td>\n      <td>https://www.thesun.ie/tech/5742187/perseid-met...</td>\n      <td>thesun.ie</td>\n      <td>2020-08-12 19:54:36</td>\n      <td>Perseid meteor shower 2020: What time and how ...</td>\n      <td>en</td>\n      <td>4</td>\n    </tr>\n    <tr>\n      <th>...</th>\n      <td>...</td>\n      <td>...</td>\n      <td>...</td>\n      <td>...</td>\n      <td>...</td>\n      <td>...</td>\n      <td>...</td>\n    </tr>\n    <tr>\n      <th>108769</th>\n      <td>NATION</td>\n      <td>https://www.vanguardngr.com/2020/08/pdp-govern...</td>\n      <td>vanguardngr.com</td>\n      <td>2020-08-08 02:40:00</td>\n      <td>PDP governors’ forum urges security agencies t...</td>\n      <td>en</td>\n      <td>108769</td>\n    </tr>\n    <tr>\n      <th>108770</th>\n      <td>BUSINESS</td>\n      <td>https://www.patentlyapple.com/patently-apple/2...</td>\n      <td>patentlyapple.com</td>\n      <td>2020-08-08 01:27:12</td>\n      <td>In Q2-20, Apple Dominated the Premium Smartpho...</td>\n      <td>en</td>\n      <td>108770</td>\n    </tr>\n    <tr>\n      <th>108771</th>\n      <td>HEALTH</td>\n      <td>https://www.belfastlive.co.uk/news/health/coro...</td>\n      <td>belfastlive.co.uk</td>\n      <td>2020-08-12 17:01:00</td>\n      <td>Coronavirus Northern Ireland: Full breakdown s...</td>\n      <td>en</td>\n      <td>108771</td>\n    </tr>\n    <tr>\n      <th>108772</th>\n      <td>ENTERTAINMENT</td>\n      <td>https://www.thenews.com.pk/latest/696364-paul-...</td>\n      <td>thenews.com.pk</td>\n      <td>2020-08-05 04:59:00</td>\n      <td>Paul McCartney details post-Beatles distress a...</td>\n      <td>en</td>\n      <td>108772</td>\n    </tr>\n    <tr>\n      <th>108773</th>\n      <td>SPORTS</td>\n      <td>https://www.balls.ie/football/shane-duffy-brig...</td>\n      <td>balls.ie</td>\n      <td>2020-08-09 10:25:26</td>\n      <td>Report: Talks Underway To Keep Shane Duffy In ...</td>\n      <td>en</td>\n      <td>108773</td>\n    </tr>\n  </tbody>\n</table>\n<p>108774 rows × 7 columns</p>\n</div>"
          },
          "metadata": {}
        }
      ]
    },
    {
      "cell_type": "markdown",
      "source": [
        "## Vector Library: FAISS\n",
        "\n",
        "Vector libraries are often sufficient for small, static data. Since it's not a full-fledged database solution, it doesn't have the CRUD (Create, Read, Update, Delete) support. Once the index has been built, if there are more vectors that need to be added/removed/edited, the index has to be rebuilt from scratch.\n",
        "\n",
        "That said, vector libraries are easy, lightweight, and fast to use. Examples of vector libraries are [FAISS](https://faiss.ai/), [ScaNN](https://github.com/google-research/google-research/tree/master/scann), [ANNOY](https://github.com/spotify/annoy), and [HNSM](https://arxiv.org/abs/1603.09320).\n",
        "\n",
        "FAISS has several ways for similarity search: L2 (Euclidean distance), cosine similarity. You can read more about their implementation on their [GitHub](https://github.com/facebookresearch/faiss/wiki/Getting-started#searching) page or [blog post](https://engineering.fb.com/2017/03/29/data-infrastructure/faiss-a-library-for-efficient-similarity-search/). They also published their own [best practice guide here](https://github.com/facebookresearch/faiss/wiki/Guidelines-to-choose-an-index).\n",
        "\n",
        "If you'd like to read up more on the comparisons between vector libraries and databases, [here is a good blog post](https://weaviate.io/blog/vector-library-vs-vector-database#feature-comparison---library-versus-database)."
      ],
      "metadata": {
        "application/vnd.databricks.v1+cell": {
          "showTitle": false,
          "cellMetadata": {},
          "nuid": "0f02db3f-2381-4e8c-81bf-b1228261227d",
          "inputWidgets": {},
          "title": ""
        },
        "id": "LCXIDlobiUL_"
      }
    },
    {
      "cell_type": "markdown",
      "source": [
        "The overall workflow of FAISS is captured in the diagram below.\n",
        "\n",
        "<img src=\"https://miro.medium.com/v2/resize:fit:1400/0*ouf0eyQskPeGWIGm\" width=700>\n",
        "\n",
        "Source: [How to use FAISS to build your first similarity search by Asna Shafiq](https://medium.com/loopio-tech/how-to-use-faiss-to-build-your-first-similarity-search-bf0f708aa772)."
      ],
      "metadata": {
        "application/vnd.databricks.v1+cell": {
          "showTitle": false,
          "cellMetadata": {},
          "nuid": "8aae6ef7-2cf8-4e20-8fdf-9cf1d1b63372",
          "inputWidgets": {},
          "title": ""
        },
        "id": "WTW8yRP6iUMA"
      }
    },
    {
      "cell_type": "code",
      "source": [
        "from sentence_transformers import InputExample\n",
        "\n",
        "pdf_subset = pdf.head(1000)\n",
        "pdf_subset"
      ],
      "metadata": {
        "execution": {
          "iopub.status.busy": "2024-04-03T18:58:46.3679Z",
          "iopub.execute_input": "2024-04-03T18:58:46.368568Z",
          "iopub.status.idle": "2024-04-03T18:58:46.387857Z",
          "shell.execute_reply.started": "2024-04-03T18:58:46.368531Z",
          "shell.execute_reply": "2024-04-03T18:58:46.386495Z"
        },
        "trusted": true,
        "id": "guKKr9AbiUMA",
        "outputId": "3a437ce2-5cb9-4b5d-d97a-e82b1c0cde10"
      },
      "execution_count": null,
      "outputs": [
        {
          "execution_count": 4,
          "output_type": "execute_result",
          "data": {
            "text/plain": "          topic                                               link  \\\n0       SCIENCE  https://www.eurekalert.org/pub_releases/2020-0...   \n1       SCIENCE  https://www.pulse.ng/news/world/an-irresistibl...   \n2       SCIENCE  https://www.express.co.uk/news/science/1322607...   \n3       SCIENCE  https://www.ndtv.com/world-news/glaciers-could...   \n4       SCIENCE  https://www.thesun.ie/tech/5742187/perseid-met...   \n..          ...                                                ...   \n995  TECHNOLOGY  https://www.androidcentral.com/mate-40-will-be...   \n996     SCIENCE  https://www.cnn.com/2020/08/17/africa/stone-ag...   \n997      HEALTH  https://www.tenterfieldstar.com.au/story/68776...   \n998      HEALTH  https://news.sky.com/story/coronavirus-trials-...   \n999      HEALTH  https://www.techexplorist.com/study-demonstrat...   \n\n                     domain       published_date  \\\n0            eurekalert.org  2020-08-06 13:59:45   \n1                  pulse.ng  2020-08-12 15:14:19   \n2             express.co.uk  2020-08-13 21:01:00   \n3                  ndtv.com  2020-08-03 22:18:26   \n4                 thesun.ie  2020-08-12 19:54:36   \n..                      ...                  ...   \n995      androidcentral.com  2020-08-07 17:12:33   \n996                 cnn.com  2020-08-17 17:10:00   \n997  tenterfieldstar.com.au  2020-08-13 03:26:06   \n998            news.sky.com  2020-08-13 13:22:58   \n999       techexplorist.com  2020-08-10 07:47:00   \n\n                                                 title lang   id  \n0    A closer look at water-splitting's solar fuel ...   en    0  \n1    An irresistible scent makes locusts swarm, stu...   en    1  \n2    Artificial intelligence warning: AI will know ...   en    2  \n3     Glaciers Could Have Sculpted Mars Valleys: Study   en    3  \n4    Perseid meteor shower 2020: What time and how ...   en    4  \n..                                                 ...  ...  ...  \n995  The Mate 40 will be the last Huawei phone with...   en  995  \n996  Early humans knew how to make comfy, pest-free...   en  996  \n997           Regional Vic set for virus testing blitz   en  997  \n998  Coronavirus: Trials of second contact-tracing ...   en  998  \n999  The study demonstrates new treatment for prion...   en  999  \n\n[1000 rows x 7 columns]",
            "text/html": "<div>\n<style scoped>\n    .dataframe tbody tr th:only-of-type {\n        vertical-align: middle;\n    }\n\n    .dataframe tbody tr th {\n        vertical-align: top;\n    }\n\n    .dataframe thead th {\n        text-align: right;\n    }\n</style>\n<table border=\"1\" class=\"dataframe\">\n  <thead>\n    <tr style=\"text-align: right;\">\n      <th></th>\n      <th>topic</th>\n      <th>link</th>\n      <th>domain</th>\n      <th>published_date</th>\n      <th>title</th>\n      <th>lang</th>\n      <th>id</th>\n    </tr>\n  </thead>\n  <tbody>\n    <tr>\n      <th>0</th>\n      <td>SCIENCE</td>\n      <td>https://www.eurekalert.org/pub_releases/2020-0...</td>\n      <td>eurekalert.org</td>\n      <td>2020-08-06 13:59:45</td>\n      <td>A closer look at water-splitting's solar fuel ...</td>\n      <td>en</td>\n      <td>0</td>\n    </tr>\n    <tr>\n      <th>1</th>\n      <td>SCIENCE</td>\n      <td>https://www.pulse.ng/news/world/an-irresistibl...</td>\n      <td>pulse.ng</td>\n      <td>2020-08-12 15:14:19</td>\n      <td>An irresistible scent makes locusts swarm, stu...</td>\n      <td>en</td>\n      <td>1</td>\n    </tr>\n    <tr>\n      <th>2</th>\n      <td>SCIENCE</td>\n      <td>https://www.express.co.uk/news/science/1322607...</td>\n      <td>express.co.uk</td>\n      <td>2020-08-13 21:01:00</td>\n      <td>Artificial intelligence warning: AI will know ...</td>\n      <td>en</td>\n      <td>2</td>\n    </tr>\n    <tr>\n      <th>3</th>\n      <td>SCIENCE</td>\n      <td>https://www.ndtv.com/world-news/glaciers-could...</td>\n      <td>ndtv.com</td>\n      <td>2020-08-03 22:18:26</td>\n      <td>Glaciers Could Have Sculpted Mars Valleys: Study</td>\n      <td>en</td>\n      <td>3</td>\n    </tr>\n    <tr>\n      <th>4</th>\n      <td>SCIENCE</td>\n      <td>https://www.thesun.ie/tech/5742187/perseid-met...</td>\n      <td>thesun.ie</td>\n      <td>2020-08-12 19:54:36</td>\n      <td>Perseid meteor shower 2020: What time and how ...</td>\n      <td>en</td>\n      <td>4</td>\n    </tr>\n    <tr>\n      <th>...</th>\n      <td>...</td>\n      <td>...</td>\n      <td>...</td>\n      <td>...</td>\n      <td>...</td>\n      <td>...</td>\n      <td>...</td>\n    </tr>\n    <tr>\n      <th>995</th>\n      <td>TECHNOLOGY</td>\n      <td>https://www.androidcentral.com/mate-40-will-be...</td>\n      <td>androidcentral.com</td>\n      <td>2020-08-07 17:12:33</td>\n      <td>The Mate 40 will be the last Huawei phone with...</td>\n      <td>en</td>\n      <td>995</td>\n    </tr>\n    <tr>\n      <th>996</th>\n      <td>SCIENCE</td>\n      <td>https://www.cnn.com/2020/08/17/africa/stone-ag...</td>\n      <td>cnn.com</td>\n      <td>2020-08-17 17:10:00</td>\n      <td>Early humans knew how to make comfy, pest-free...</td>\n      <td>en</td>\n      <td>996</td>\n    </tr>\n    <tr>\n      <th>997</th>\n      <td>HEALTH</td>\n      <td>https://www.tenterfieldstar.com.au/story/68776...</td>\n      <td>tenterfieldstar.com.au</td>\n      <td>2020-08-13 03:26:06</td>\n      <td>Regional Vic set for virus testing blitz</td>\n      <td>en</td>\n      <td>997</td>\n    </tr>\n    <tr>\n      <th>998</th>\n      <td>HEALTH</td>\n      <td>https://news.sky.com/story/coronavirus-trials-...</td>\n      <td>news.sky.com</td>\n      <td>2020-08-13 13:22:58</td>\n      <td>Coronavirus: Trials of second contact-tracing ...</td>\n      <td>en</td>\n      <td>998</td>\n    </tr>\n    <tr>\n      <th>999</th>\n      <td>HEALTH</td>\n      <td>https://www.techexplorist.com/study-demonstrat...</td>\n      <td>techexplorist.com</td>\n      <td>2020-08-10 07:47:00</td>\n      <td>The study demonstrates new treatment for prion...</td>\n      <td>en</td>\n      <td>999</td>\n    </tr>\n  </tbody>\n</table>\n<p>1000 rows × 7 columns</p>\n</div>"
          },
          "metadata": {}
        }
      ]
    },
    {
      "cell_type": "code",
      "source": [
        "# For the meaning of notation --> See StackOverflow:\n",
        "#  https://stackoverflow.com/a/41193772\n",
        "# In Python 3.5 though, PEP 484 -- Type Hints attaches a single meaning to this: -> is used to indicate the type that the function returns.\n",
        "\n",
        "def example_create_fn(doc1: pd.Series) -> InputExample:\n",
        "    \"\"\"\n",
        "    Helper function that outputs a sentence_transformer guid, label, and text\n",
        "    \"\"\"\n",
        "    return InputExample(texts=[doc1])\n"
      ],
      "metadata": {
        "execution": {
          "iopub.status.busy": "2024-04-03T19:04:10.946621Z",
          "iopub.execute_input": "2024-04-03T19:04:10.947023Z",
          "iopub.status.idle": "2024-04-03T19:04:10.953264Z",
          "shell.execute_reply.started": "2024-04-03T19:04:10.946993Z",
          "shell.execute_reply": "2024-04-03T19:04:10.952036Z"
        },
        "trusted": true,
        "id": "hteGD0_yiUMB"
      },
      "execution_count": null,
      "outputs": []
    },
    {
      "cell_type": "code",
      "source": [
        "faiss_train_examples = pdf_subset.apply(\n",
        "                                        lambda x: example_create_fn(x[\"title\"]), axis=1\n",
        "                                       ).tolist()\n",
        "\n",
        "faiss_train_examples[:4]"
      ],
      "metadata": {
        "application/vnd.databricks.v1+cell": {
          "showTitle": false,
          "cellMetadata": {},
          "nuid": "c47997f0-e52b-4853-95b6-02850572b5ea",
          "inputWidgets": {},
          "title": ""
        },
        "execution": {
          "iopub.status.busy": "2024-04-03T19:04:51.802546Z",
          "iopub.execute_input": "2024-04-03T19:04:51.802967Z",
          "iopub.status.idle": "2024-04-03T19:04:51.829731Z",
          "shell.execute_reply.started": "2024-04-03T19:04:51.802935Z",
          "shell.execute_reply": "2024-04-03T19:04:51.828572Z"
        },
        "trusted": true,
        "id": "qm9HjL6ziUMB",
        "outputId": "2753e738-45e3-433a-f788-668a99746410"
      },
      "execution_count": null,
      "outputs": [
        {
          "execution_count": 10,
          "output_type": "execute_result",
          "data": {
            "text/plain": "[<sentence_transformers.readers.InputExample.InputExample at 0x7bd33e9ebbb0>,\n <sentence_transformers.readers.InputExample.InputExample at 0x7bd33e9ebc70>,\n <sentence_transformers.readers.InputExample.InputExample at 0x7bd33e9ebcd0>,\n <sentence_transformers.readers.InputExample.InputExample at 0x7bd33e9e89d0>]"
          },
          "metadata": {}
        }
      ]
    },
    {
      "cell_type": "markdown",
      "source": [
        "### Step 2: Vectorize text into embedding vectors\n",
        "We will be using `Sentence-Transformers` [library](https://www.sbert.net/) to load a language model to vectorize our text into embeddings. The library hosts some of the most popular transformers on [Hugging Face Model Hub](https://huggingface.co/sentence-transformers).\n",
        "Here, we are using the `model = SentenceTransformer(\"all-MiniLM-L6-v2\")` to generate embeddings."
      ],
      "metadata": {
        "application/vnd.databricks.v1+cell": {
          "showTitle": false,
          "cellMetadata": {},
          "nuid": "9d2cb3f0-2a12-4694-9d5e-900cf388222e",
          "inputWidgets": {},
          "title": ""
        },
        "id": "9RKXPSFviUMC"
      }
    },
    {
      "cell_type": "code",
      "source": [
        "mkdir cache"
      ],
      "metadata": {
        "execution": {
          "iopub.status.busy": "2024-04-03T19:28:54.848807Z",
          "iopub.execute_input": "2024-04-03T19:28:54.849243Z",
          "iopub.status.idle": "2024-04-03T19:28:55.967593Z",
          "shell.execute_reply.started": "2024-04-03T19:28:54.849213Z",
          "shell.execute_reply": "2024-04-03T19:28:55.966047Z"
        },
        "trusted": true,
        "id": "JnUnacfCiUMC"
      },
      "execution_count": null,
      "outputs": []
    },
    {
      "cell_type": "code",
      "source": [
        "# The code will download the model: all-MiniLM-L6-v2\n",
        "\n",
        "from sentence_transformers import SentenceTransformer\n",
        "\n",
        "model = SentenceTransformer(\n",
        "                             \"all-MiniLM-L6-v2\",\n",
        "                              cache_folder=\"../working/cache/\"\n",
        "                           )  # Use a pre-cached model\n"
      ],
      "metadata": {
        "application/vnd.databricks.v1+cell": {
          "showTitle": false,
          "cellMetadata": {},
          "nuid": "77020e02-ff1f-4c0d-b03c-24159678b8d0",
          "inputWidgets": {},
          "title": ""
        },
        "execution": {
          "iopub.status.busy": "2024-04-03T19:30:29.540718Z",
          "iopub.execute_input": "2024-04-03T19:30:29.541215Z",
          "iopub.status.idle": "2024-04-03T19:30:34.265354Z",
          "shell.execute_reply.started": "2024-04-03T19:30:29.541171Z",
          "shell.execute_reply": "2024-04-03T19:30:34.264481Z"
        },
        "trusted": true,
        "id": "0cJB4smbiUMD",
        "outputId": "18648f9a-7023-4beb-f993-326cb6d2f81f",
        "colab": {
          "referenced_widgets": [
            "a78ce1ffc00d44d69451d6a3984b17a2",
            "4a950430e87d4dfe9f2b308692603632",
            "e31242e31efd4c2fa766bf2b8b1d5241",
            "bb2ebf93094c4c7698509e3043270b59",
            "0635a61cbf564c539ecd786284516820",
            "656b193f35664002a6d30fd2f3d1d385",
            "0bfb84d56944412381c52af69e6117b4",
            "91c2b4d76aa84fb9a22b631df634455d",
            "1c7ea504e4394fdd916e59f2125c7b8a",
            "88bb8e01f8bd4940ab59e5aa5774fca6",
            "5a6b3d4855104aaab4a63ab7e5fa9cfc"
          ]
        }
      },
      "execution_count": null,
      "outputs": [
        {
          "output_type": "display_data",
          "data": {
            "text/plain": "modules.json:   0%|          | 0.00/349 [00:00<?, ?B/s]",
            "application/vnd.jupyter.widget-view+json": {
              "version_major": 2,
              "version_minor": 0,
              "model_id": "a78ce1ffc00d44d69451d6a3984b17a2"
            }
          },
          "metadata": {}
        },
        {
          "output_type": "display_data",
          "data": {
            "text/plain": "config_sentence_transformers.json:   0%|          | 0.00/116 [00:00<?, ?B/s]",
            "application/vnd.jupyter.widget-view+json": {
              "version_major": 2,
              "version_minor": 0,
              "model_id": "4a950430e87d4dfe9f2b308692603632"
            }
          },
          "metadata": {}
        },
        {
          "output_type": "display_data",
          "data": {
            "text/plain": "README.md:   0%|          | 0.00/10.7k [00:00<?, ?B/s]",
            "application/vnd.jupyter.widget-view+json": {
              "version_major": 2,
              "version_minor": 0,
              "model_id": "e31242e31efd4c2fa766bf2b8b1d5241"
            }
          },
          "metadata": {}
        },
        {
          "output_type": "display_data",
          "data": {
            "text/plain": "sentence_bert_config.json:   0%|          | 0.00/53.0 [00:00<?, ?B/s]",
            "application/vnd.jupyter.widget-view+json": {
              "version_major": 2,
              "version_minor": 0,
              "model_id": "bb2ebf93094c4c7698509e3043270b59"
            }
          },
          "metadata": {}
        },
        {
          "output_type": "display_data",
          "data": {
            "text/plain": "config.json:   0%|          | 0.00/612 [00:00<?, ?B/s]",
            "application/vnd.jupyter.widget-view+json": {
              "version_major": 2,
              "version_minor": 0,
              "model_id": "0635a61cbf564c539ecd786284516820"
            }
          },
          "metadata": {}
        },
        {
          "output_type": "display_data",
          "data": {
            "text/plain": "model.safetensors:   0%|          | 0.00/90.9M [00:00<?, ?B/s]",
            "application/vnd.jupyter.widget-view+json": {
              "version_major": 2,
              "version_minor": 0,
              "model_id": "656b193f35664002a6d30fd2f3d1d385"
            }
          },
          "metadata": {}
        },
        {
          "output_type": "display_data",
          "data": {
            "text/plain": "tokenizer_config.json:   0%|          | 0.00/350 [00:00<?, ?B/s]",
            "application/vnd.jupyter.widget-view+json": {
              "version_major": 2,
              "version_minor": 0,
              "model_id": "0bfb84d56944412381c52af69e6117b4"
            }
          },
          "metadata": {}
        },
        {
          "output_type": "display_data",
          "data": {
            "text/plain": "vocab.txt:   0%|          | 0.00/232k [00:00<?, ?B/s]",
            "application/vnd.jupyter.widget-view+json": {
              "version_major": 2,
              "version_minor": 0,
              "model_id": "91c2b4d76aa84fb9a22b631df634455d"
            }
          },
          "metadata": {}
        },
        {
          "output_type": "display_data",
          "data": {
            "text/plain": "tokenizer.json:   0%|          | 0.00/466k [00:00<?, ?B/s]",
            "application/vnd.jupyter.widget-view+json": {
              "version_major": 2,
              "version_minor": 0,
              "model_id": "1c7ea504e4394fdd916e59f2125c7b8a"
            }
          },
          "metadata": {}
        },
        {
          "output_type": "display_data",
          "data": {
            "text/plain": "special_tokens_map.json:   0%|          | 0.00/112 [00:00<?, ?B/s]",
            "application/vnd.jupyter.widget-view+json": {
              "version_major": 2,
              "version_minor": 0,
              "model_id": "88bb8e01f8bd4940ab59e5aa5774fca6"
            }
          },
          "metadata": {}
        },
        {
          "output_type": "display_data",
          "data": {
            "text/plain": "1_Pooling/config.json:   0%|          | 0.00/190 [00:00<?, ?B/s]",
            "application/vnd.jupyter.widget-view+json": {
              "version_major": 2,
              "version_minor": 0,
              "model_id": "5a6b3d4855104aaab4a63ab7e5fa9cfc"
            }
          },
          "metadata": {}
        }
      ]
    },
    {
      "cell_type": "code",
      "source": [
        "faiss_title_embedding = model.encode(pdf_subset.title.values.tolist())\n",
        "len(faiss_title_embedding[0]), len(pdf_subset.title.values.tolist()), len(faiss_title_embedding)\n"
      ],
      "metadata": {
        "execution": {
          "iopub.status.busy": "2024-04-03T19:34:05.771469Z",
          "iopub.execute_input": "2024-04-03T19:34:05.771967Z",
          "iopub.status.idle": "2024-04-03T19:34:11.39482Z",
          "shell.execute_reply.started": "2024-04-03T19:34:05.771934Z",
          "shell.execute_reply": "2024-04-03T19:34:11.393679Z"
        },
        "trusted": true,
        "id": "bmeaUfE_iUME",
        "outputId": "f03af28d-8e76-46f6-91ed-7d46a86e34e8",
        "colab": {
          "referenced_widgets": [
            "aa47e96312e148e882b2a80bdaac022b"
          ]
        }
      },
      "execution_count": null,
      "outputs": [
        {
          "output_type": "display_data",
          "data": {
            "text/plain": "Batches:   0%|          | 0/32 [00:00<?, ?it/s]",
            "application/vnd.jupyter.widget-view+json": {
              "version_major": 2,
              "version_minor": 0,
              "model_id": "aa47e96312e148e882b2a80bdaac022b"
            }
          },
          "metadata": {}
        },
        {
          "execution_count": 18,
          "output_type": "execute_result",
          "data": {
            "text/plain": "(384, 1000, 1000)"
          },
          "metadata": {}
        }
      ]
    },
    {
      "cell_type": "code",
      "source": [
        "pdf_subset.title.values.tolist()[0]"
      ],
      "metadata": {
        "execution": {
          "iopub.status.busy": "2024-04-03T19:35:34.416099Z",
          "iopub.execute_input": "2024-04-03T19:35:34.417368Z",
          "iopub.status.idle": "2024-04-03T19:35:34.425935Z",
          "shell.execute_reply.started": "2024-04-03T19:35:34.417318Z",
          "shell.execute_reply": "2024-04-03T19:35:34.424354Z"
        },
        "trusted": true,
        "id": "oBmninTSiUME",
        "outputId": "b4a049f7-a7b0-4d89-8100-27e99c2896ef"
      },
      "execution_count": null,
      "outputs": [
        {
          "execution_count": 23,
          "output_type": "execute_result",
          "data": {
            "text/plain": "\"A closer look at water-splitting's solar fuel potential\""
          },
          "metadata": {}
        }
      ]
    },
    {
      "cell_type": "code",
      "source": [
        "faiss_title_embedding[0][:10]  # First 10 vector values"
      ],
      "metadata": {
        "execution": {
          "iopub.status.busy": "2024-04-03T19:35:10.553428Z",
          "iopub.execute_input": "2024-04-03T19:35:10.553922Z",
          "iopub.status.idle": "2024-04-03T19:35:10.563004Z",
          "shell.execute_reply.started": "2024-04-03T19:35:10.553888Z",
          "shell.execute_reply": "2024-04-03T19:35:10.561649Z"
        },
        "trusted": true,
        "id": "vji0ds-AiUMF",
        "outputId": "184283fe-ce1b-4e33-9ac6-d0f00116591e"
      },
      "execution_count": null,
      "outputs": [
        {
          "execution_count": 21,
          "output_type": "execute_result",
          "data": {
            "text/plain": "array([-0.1127055 ,  0.04076536,  0.02181419,  0.05510115,  0.07151045,\n       -0.03138182,  0.0529624 ,  0.01104907, -0.04125903, -0.01625993],\n      dtype=float32)"
          },
          "metadata": {}
        }
      ]
    },
    {
      "cell_type": "markdown",
      "source": [
        "### Step 3: Saving embedding vectors to FAISS index\n",
        "Below, we create the FAISS index object based on our embedding vectors, normalize vectors, and add these vectors to the FAISS index."
      ],
      "metadata": {
        "application/vnd.databricks.v1+cell": {
          "showTitle": false,
          "cellMetadata": {},
          "nuid": "e6a9c3a9-eac5-4584-8372-4b3d7cc339a3",
          "inputWidgets": {},
          "title": ""
        },
        "id": "ogF0zZT3iUMF"
      }
    },
    {
      "cell_type": "code",
      "source": [
        "import numpy as np\n",
        "import faiss\n"
      ],
      "metadata": {
        "execution": {
          "iopub.status.busy": "2024-04-03T19:38:01.761945Z",
          "iopub.execute_input": "2024-04-03T19:38:01.762446Z",
          "iopub.status.idle": "2024-04-03T19:38:01.805541Z",
          "shell.execute_reply.started": "2024-04-03T19:38:01.762408Z",
          "shell.execute_reply": "2024-04-03T19:38:01.804491Z"
        },
        "trusted": true,
        "id": "rsNMuoLWiUMG"
      },
      "execution_count": null,
      "outputs": []
    },
    {
      "cell_type": "code",
      "source": [
        "pdf_to_index = pdf_subset.set_index([\"id\"], drop=False)\n",
        "pdf_to_index.head(5)"
      ],
      "metadata": {
        "execution": {
          "iopub.status.busy": "2024-04-03T19:40:01.849376Z",
          "iopub.execute_input": "2024-04-03T19:40:01.849912Z",
          "iopub.status.idle": "2024-04-03T19:40:01.869169Z",
          "shell.execute_reply.started": "2024-04-03T19:40:01.84987Z",
          "shell.execute_reply": "2024-04-03T19:40:01.867995Z"
        },
        "trusted": true,
        "id": "raJ5ttNNiUMG",
        "outputId": "d3276a55-4259-492d-b6c8-b5b092f3502e"
      },
      "execution_count": null,
      "outputs": [
        {
          "execution_count": 27,
          "output_type": "execute_result",
          "data": {
            "text/plain": "      topic                                               link  \\\nid                                                               \n0   SCIENCE  https://www.eurekalert.org/pub_releases/2020-0...   \n1   SCIENCE  https://www.pulse.ng/news/world/an-irresistibl...   \n2   SCIENCE  https://www.express.co.uk/news/science/1322607...   \n3   SCIENCE  https://www.ndtv.com/world-news/glaciers-could...   \n4   SCIENCE  https://www.thesun.ie/tech/5742187/perseid-met...   \n\n            domain       published_date  \\\nid                                        \n0   eurekalert.org  2020-08-06 13:59:45   \n1         pulse.ng  2020-08-12 15:14:19   \n2    express.co.uk  2020-08-13 21:01:00   \n3         ndtv.com  2020-08-03 22:18:26   \n4        thesun.ie  2020-08-12 19:54:36   \n\n                                                title lang  id  \nid                                                              \n0   A closer look at water-splitting's solar fuel ...   en   0  \n1   An irresistible scent makes locusts swarm, stu...   en   1  \n2   Artificial intelligence warning: AI will know ...   en   2  \n3    Glaciers Could Have Sculpted Mars Valleys: Study   en   3  \n4   Perseid meteor shower 2020: What time and how ...   en   4  ",
            "text/html": "<div>\n<style scoped>\n    .dataframe tbody tr th:only-of-type {\n        vertical-align: middle;\n    }\n\n    .dataframe tbody tr th {\n        vertical-align: top;\n    }\n\n    .dataframe thead th {\n        text-align: right;\n    }\n</style>\n<table border=\"1\" class=\"dataframe\">\n  <thead>\n    <tr style=\"text-align: right;\">\n      <th></th>\n      <th>topic</th>\n      <th>link</th>\n      <th>domain</th>\n      <th>published_date</th>\n      <th>title</th>\n      <th>lang</th>\n      <th>id</th>\n    </tr>\n    <tr>\n      <th>id</th>\n      <th></th>\n      <th></th>\n      <th></th>\n      <th></th>\n      <th></th>\n      <th></th>\n      <th></th>\n    </tr>\n  </thead>\n  <tbody>\n    <tr>\n      <th>0</th>\n      <td>SCIENCE</td>\n      <td>https://www.eurekalert.org/pub_releases/2020-0...</td>\n      <td>eurekalert.org</td>\n      <td>2020-08-06 13:59:45</td>\n      <td>A closer look at water-splitting's solar fuel ...</td>\n      <td>en</td>\n      <td>0</td>\n    </tr>\n    <tr>\n      <th>1</th>\n      <td>SCIENCE</td>\n      <td>https://www.pulse.ng/news/world/an-irresistibl...</td>\n      <td>pulse.ng</td>\n      <td>2020-08-12 15:14:19</td>\n      <td>An irresistible scent makes locusts swarm, stu...</td>\n      <td>en</td>\n      <td>1</td>\n    </tr>\n    <tr>\n      <th>2</th>\n      <td>SCIENCE</td>\n      <td>https://www.express.co.uk/news/science/1322607...</td>\n      <td>express.co.uk</td>\n      <td>2020-08-13 21:01:00</td>\n      <td>Artificial intelligence warning: AI will know ...</td>\n      <td>en</td>\n      <td>2</td>\n    </tr>\n    <tr>\n      <th>3</th>\n      <td>SCIENCE</td>\n      <td>https://www.ndtv.com/world-news/glaciers-could...</td>\n      <td>ndtv.com</td>\n      <td>2020-08-03 22:18:26</td>\n      <td>Glaciers Could Have Sculpted Mars Valleys: Study</td>\n      <td>en</td>\n      <td>3</td>\n    </tr>\n    <tr>\n      <th>4</th>\n      <td>SCIENCE</td>\n      <td>https://www.thesun.ie/tech/5742187/perseid-met...</td>\n      <td>thesun.ie</td>\n      <td>2020-08-12 19:54:36</td>\n      <td>Perseid meteor shower 2020: What time and how ...</td>\n      <td>en</td>\n      <td>4</td>\n    </tr>\n  </tbody>\n</table>\n</div>"
          },
          "metadata": {}
        }
      ]
    },
    {
      "cell_type": "code",
      "source": [
        "id_index = np.array(pdf_to_index.id.values).flatten().astype(\"int\")\n",
        "id_index[:10]"
      ],
      "metadata": {
        "execution": {
          "iopub.status.busy": "2024-04-03T19:40:44.466201Z",
          "iopub.execute_input": "2024-04-03T19:40:44.466638Z",
          "iopub.status.idle": "2024-04-03T19:40:44.478096Z",
          "shell.execute_reply.started": "2024-04-03T19:40:44.466605Z",
          "shell.execute_reply": "2024-04-03T19:40:44.476335Z"
        },
        "trusted": true,
        "id": "lGCUq5IuiUMG",
        "outputId": "49e66ddb-1633-443b-e66f-fba4f91191da"
      },
      "execution_count": null,
      "outputs": [
        {
          "execution_count": 29,
          "output_type": "execute_result",
          "data": {
            "text/plain": "array([0, 1, 2, 3, 4, 5, 6, 7, 8, 9])"
          },
          "metadata": {}
        }
      ]
    },
    {
      "cell_type": "code",
      "source": [
        "content_encoded_normalized = faiss_title_embedding.copy()\n",
        "faiss.normalize_L2(content_encoded_normalized)\n"
      ],
      "metadata": {
        "execution": {
          "iopub.status.busy": "2024-04-03T19:42:36.519524Z",
          "iopub.execute_input": "2024-04-03T19:42:36.520002Z",
          "iopub.status.idle": "2024-04-03T19:42:36.525657Z",
          "shell.execute_reply.started": "2024-04-03T19:42:36.519966Z",
          "shell.execute_reply": "2024-04-03T19:42:36.524559Z"
        },
        "trusted": true,
        "id": "s8p_fmB-iUMG"
      },
      "execution_count": null,
      "outputs": []
    },
    {
      "cell_type": "code",
      "source": [
        "len(faiss_title_embedding[0])  # 384"
      ],
      "metadata": {
        "execution": {
          "iopub.status.busy": "2024-04-03T19:50:01.190784Z",
          "iopub.execute_input": "2024-04-03T19:50:01.191937Z",
          "iopub.status.idle": "2024-04-03T19:50:01.199683Z",
          "shell.execute_reply.started": "2024-04-03T19:50:01.191892Z",
          "shell.execute_reply": "2024-04-03T19:50:01.198497Z"
        },
        "trusted": true,
        "id": "GcaD5HcPiUMH",
        "outputId": "a94e4d7c-31dc-447c-db38-cb98e879d802"
      },
      "execution_count": null,
      "outputs": [
        {
          "execution_count": 32,
          "output_type": "execute_result",
          "data": {
            "text/plain": "384"
          },
          "metadata": {}
        }
      ]
    },
    {
      "cell_type": "code",
      "source": [
        "faiss.IndexFlatIP(len(faiss_title_embedding[0]))"
      ],
      "metadata": {
        "execution": {
          "iopub.status.busy": "2024-04-03T19:50:38.221365Z",
          "iopub.execute_input": "2024-04-03T19:50:38.221829Z",
          "iopub.status.idle": "2024-04-03T19:50:38.230245Z",
          "shell.execute_reply.started": "2024-04-03T19:50:38.221796Z",
          "shell.execute_reply": "2024-04-03T19:50:38.228629Z"
        },
        "trusted": true,
        "id": "iSKqMZE3iUMH",
        "outputId": "1b093829-286b-42b6-f2c8-f0d9f550c02f"
      },
      "execution_count": null,
      "outputs": [
        {
          "execution_count": 33,
          "output_type": "execute_result",
          "data": {
            "text/plain": "<faiss.swigfaiss_avx2.IndexFlatIP; proxy of <Swig Object of type 'faiss::IndexFlatIP *' at 0x7bd3117fb330> >"
          },
          "metadata": {}
        }
      ]
    },
    {
      "cell_type": "code",
      "source": [
        "faiss.IndexIDMap(faiss.IndexFlatIP(len(faiss_title_embedding[0])))"
      ],
      "metadata": {
        "execution": {
          "iopub.status.busy": "2024-04-03T19:50:59.935058Z",
          "iopub.execute_input": "2024-04-03T19:50:59.935512Z",
          "iopub.status.idle": "2024-04-03T19:50:59.944924Z",
          "shell.execute_reply.started": "2024-04-03T19:50:59.93548Z",
          "shell.execute_reply": "2024-04-03T19:50:59.943636Z"
        },
        "trusted": true,
        "id": "GrS0VP3CiUMH",
        "outputId": "88b5aeea-472a-4414-e168-53e4bcd1fce3"
      },
      "execution_count": null,
      "outputs": [
        {
          "execution_count": 34,
          "output_type": "execute_result",
          "data": {
            "text/plain": "<faiss.swigfaiss_avx2.IndexIDMap; proxy of <Swig Object of type 'faiss::IndexIDMapTemplate< faiss::Index > *' at 0x7bd30bb380f0> >"
          },
          "metadata": {}
        }
      ]
    },
    {
      "cell_type": "code",
      "source": [
        "content_encoded_normalized[:3]"
      ],
      "metadata": {
        "execution": {
          "iopub.status.busy": "2024-04-03T19:51:45.556205Z",
          "iopub.execute_input": "2024-04-03T19:51:45.556681Z",
          "iopub.status.idle": "2024-04-03T19:51:45.566235Z",
          "shell.execute_reply.started": "2024-04-03T19:51:45.556644Z",
          "shell.execute_reply": "2024-04-03T19:51:45.56486Z"
        },
        "trusted": true,
        "id": "Vl7CqqYOiUMI",
        "outputId": "f20f47ad-6db6-43a2-9f18-084ff63b52ed"
      },
      "execution_count": null,
      "outputs": [
        {
          "execution_count": 36,
          "output_type": "execute_result",
          "data": {
            "text/plain": "array([[-0.1127055 ,  0.04076536,  0.02181419, ..., -0.01874597,\n        -0.03136873,  0.06824831],\n       [-0.02187158, -0.03349994,  0.07321803, ...,  0.0336232 ,\n        -0.00563892, -0.00630977],\n       [ 0.01608373,  0.00279446, -0.01504421, ..., -0.00706244,\n         0.00905907, -0.02835049]], dtype=float32)"
          },
          "metadata": {}
        }
      ]
    },
    {
      "cell_type": "code",
      "source": [
        "# Index1DMap translates search results to IDs: https://faiss.ai/cpp_api/file/IndexIDMap_8h.html#_CPPv4I0EN5faiss18IndexIDMapTemplateE\n",
        "# The IndexFlatIP below builds index\n",
        "\n",
        "index_content = faiss.IndexIDMap(faiss.IndexFlatIP(len(faiss_title_embedding[0])))\n",
        "index_content.add_with_ids(content_encoded_normalized, id_index)"
      ],
      "metadata": {
        "application/vnd.databricks.v1+cell": {
          "showTitle": false,
          "cellMetadata": {},
          "nuid": "54e2e5dc-58dd-48d2-9828-f8fc8cbdf49b",
          "inputWidgets": {},
          "title": ""
        },
        "execution": {
          "iopub.status.busy": "2023-06-22T14:12:00.455219Z",
          "iopub.execute_input": "2023-06-22T14:12:00.455979Z",
          "iopub.status.idle": "2023-06-22T14:12:00.488896Z",
          "shell.execute_reply.started": "2023-06-22T14:12:00.455939Z",
          "shell.execute_reply": "2023-06-22T14:12:00.487702Z"
        },
        "trusted": true,
        "id": "N2_btw7JiUMI"
      },
      "execution_count": null,
      "outputs": []
    },
    {
      "cell_type": "markdown",
      "source": [
        "## Step 4: Search for relevant documents\n",
        "\n",
        "We define a search function below to first vectorize our query text, and then search for the vectors with the closest distance."
      ],
      "metadata": {
        "application/vnd.databricks.v1+cell": {
          "showTitle": false,
          "cellMetadata": {},
          "nuid": "241c55b6-7b53-4e5e-97d1-ce03717beeaa",
          "inputWidgets": {},
          "title": ""
        },
        "id": "YVESHKeoiUMI"
      }
    },
    {
      "cell_type": "code",
      "source": [
        "def search_content(query, pdf_to_index, k=3):\n",
        "    query_vector = model.encode([query])\n",
        "    faiss.normalize_L2(query_vector)\n",
        "\n",
        "    # We set k to limit the number of vectors we want to return\n",
        "    top_k = index_content.search(query_vector, k)\n",
        "    ids = top_k[1][0].tolist()\n",
        "    similarities = top_k[0][0].tolist()\n",
        "    results = pdf_to_index.loc[ids]\n",
        "    results[\"similarities\"] = similarities\n",
        "    return results"
      ],
      "metadata": {
        "application/vnd.databricks.v1+cell": {
          "showTitle": false,
          "cellMetadata": {},
          "nuid": "19a35eb0-2b6c-481e-ab7e-4aaf1e2a35f4",
          "inputWidgets": {},
          "title": ""
        },
        "execution": {
          "iopub.status.busy": "2024-04-03T19:54:37.061787Z",
          "iopub.execute_input": "2024-04-03T19:54:37.06222Z",
          "iopub.status.idle": "2024-04-03T19:54:37.069385Z",
          "shell.execute_reply.started": "2024-04-03T19:54:37.062189Z",
          "shell.execute_reply": "2024-04-03T19:54:37.068386Z"
        },
        "trusted": true,
        "id": "PDiz_WpoiUMJ"
      },
      "execution_count": null,
      "outputs": []
    },
    {
      "cell_type": "markdown",
      "source": [
        "Tada! Now you can query for similar content! Notice that you did not have to configure any database networks beforehand nor pass in any credentials. FAISS works locally with your code."
      ],
      "metadata": {
        "application/vnd.databricks.v1+cell": {
          "showTitle": false,
          "cellMetadata": {},
          "nuid": "2bf1edc7-07f5-41b6-802b-bbcc9855747f",
          "inputWidgets": {},
          "title": ""
        },
        "id": "dzo9UI9riUMJ"
      }
    },
    {
      "cell_type": "code",
      "source": [
        "display(search_content(\"animal\", pdf_to_index))"
      ],
      "metadata": {
        "application/vnd.databricks.v1+cell": {
          "showTitle": false,
          "cellMetadata": {},
          "nuid": "77bbaaf9-e3f5-4aec-acde-4a7224e8589e",
          "inputWidgets": {},
          "title": ""
        },
        "execution": {
          "iopub.status.busy": "2024-04-03T19:54:40.735147Z",
          "iopub.execute_input": "2024-04-03T19:54:40.735573Z",
          "iopub.status.idle": "2024-04-03T19:54:40.80269Z",
          "shell.execute_reply.started": "2024-04-03T19:54:40.735539Z",
          "shell.execute_reply": "2024-04-03T19:54:40.801441Z"
        },
        "trusted": true,
        "id": "s6FZc6kxiUMJ",
        "outputId": "b16499d4-beb3-41e6-a0e8-57b2faa41ac7",
        "colab": {
          "referenced_widgets": [
            "cc34369dd2a94cf69b9565c8a4d94dcb"
          ]
        }
      },
      "execution_count": null,
      "outputs": [
        {
          "output_type": "display_data",
          "data": {
            "text/plain": "Batches:   0%|          | 0/1 [00:00<?, ?it/s]",
            "application/vnd.jupyter.widget-view+json": {
              "version_major": 2,
              "version_minor": 0,
              "model_id": "cc34369dd2a94cf69b9565c8a4d94dcb"
            }
          },
          "metadata": {}
        },
        {
          "output_type": "display_data",
          "data": {
            "text/plain": "          topic                                               link  \\\nid                                                                   \n176  TECHNOLOGY  https://www.pushsquare.com/news/2020/08/random...   \n975      HEALTH  https://www.news-medical.net/news/20200813/Res...   \n99   TECHNOLOGY  https://www.gematsu.com/2020/08/ghostwire-toky...   \n\n               domain       published_date  \\\nid                                           \n176    pushsquare.com  2020-08-03 16:30:00   \n975  news-medical.net  2020-08-13 05:18:00   \n99        gematsu.com  2020-08-07 16:43:13   \n\n                                                 title lang   id  similarities  \nid                                                                              \n176  Random: You Can Pick Up and Pet Cats in Assass...   en  176      0.391902  \n975  Researchers explore social behavior of animals...   en  975      0.376784  \n99               Ghostwire: Tokyo confirms dog petting   en   99      0.344058  ",
            "text/html": "<div>\n<style scoped>\n    .dataframe tbody tr th:only-of-type {\n        vertical-align: middle;\n    }\n\n    .dataframe tbody tr th {\n        vertical-align: top;\n    }\n\n    .dataframe thead th {\n        text-align: right;\n    }\n</style>\n<table border=\"1\" class=\"dataframe\">\n  <thead>\n    <tr style=\"text-align: right;\">\n      <th></th>\n      <th>topic</th>\n      <th>link</th>\n      <th>domain</th>\n      <th>published_date</th>\n      <th>title</th>\n      <th>lang</th>\n      <th>id</th>\n      <th>similarities</th>\n    </tr>\n    <tr>\n      <th>id</th>\n      <th></th>\n      <th></th>\n      <th></th>\n      <th></th>\n      <th></th>\n      <th></th>\n      <th></th>\n      <th></th>\n    </tr>\n  </thead>\n  <tbody>\n    <tr>\n      <th>176</th>\n      <td>TECHNOLOGY</td>\n      <td>https://www.pushsquare.com/news/2020/08/random...</td>\n      <td>pushsquare.com</td>\n      <td>2020-08-03 16:30:00</td>\n      <td>Random: You Can Pick Up and Pet Cats in Assass...</td>\n      <td>en</td>\n      <td>176</td>\n      <td>0.391902</td>\n    </tr>\n    <tr>\n      <th>975</th>\n      <td>HEALTH</td>\n      <td>https://www.news-medical.net/news/20200813/Res...</td>\n      <td>news-medical.net</td>\n      <td>2020-08-13 05:18:00</td>\n      <td>Researchers explore social behavior of animals...</td>\n      <td>en</td>\n      <td>975</td>\n      <td>0.376784</td>\n    </tr>\n    <tr>\n      <th>99</th>\n      <td>TECHNOLOGY</td>\n      <td>https://www.gematsu.com/2020/08/ghostwire-toky...</td>\n      <td>gematsu.com</td>\n      <td>2020-08-07 16:43:13</td>\n      <td>Ghostwire: Tokyo confirms dog petting</td>\n      <td>en</td>\n      <td>99</td>\n      <td>0.344058</td>\n    </tr>\n  </tbody>\n</table>\n</div>"
          },
          "metadata": {}
        }
      ]
    },
    {
      "cell_type": "markdown",
      "source": [
        "Up until now, we haven't done the last step of conducting Q/A with a language model yet. We are going to demonstrate this with Chroma, a vector database."
      ],
      "metadata": {
        "application/vnd.databricks.v1+cell": {
          "showTitle": false,
          "cellMetadata": {},
          "nuid": "19ef9158-ee09-4237-b473-81e669ad6e47",
          "inputWidgets": {},
          "title": ""
        },
        "id": "EHXZ77VViUMK"
      }
    },
    {
      "cell_type": "markdown",
      "source": [
        "## Vector Database: Chroma\n",
        "\n",
        "Chroma is an open-source embedding database. The company just raised its [seed funding in April 2023](https://www.trychroma.com/blog/seed) and is quickly becoming popular to support LLM-based applications."
      ],
      "metadata": {
        "application/vnd.databricks.v1+cell": {
          "showTitle": false,
          "cellMetadata": {},
          "nuid": "825a1f47-ccb4-4ed1-9e72-523391b8bcb5",
          "inputWidgets": {},
          "title": ""
        },
        "id": "vc3Rk_1aiUMK"
      }
    },
    {
      "cell_type": "code",
      "source": [
        "import chromadb\n",
        "from chromadb.config import Settings\n",
        "\n",
        "chroma_client = chromadb.Client(\n",
        "    Settings(\n",
        "        chroma_db_impl=\"duckdb+parquet\",\n",
        "        persist_directory=\"../working/cache/\",  # this is an optional argument. If you don't supply this, the data will be ephemeral\n",
        "    )\n",
        ")"
      ],
      "metadata": {
        "application/vnd.databricks.v1+cell": {
          "showTitle": false,
          "cellMetadata": {},
          "nuid": "7aed6c0c-22ad-4ac2-b7c2-a58a30619270",
          "inputWidgets": {},
          "title": ""
        },
        "execution": {
          "iopub.status.busy": "2023-06-22T14:12:00.557777Z",
          "iopub.execute_input": "2023-06-22T14:12:00.558114Z",
          "iopub.status.idle": "2023-06-22T14:12:00.684295Z",
          "shell.execute_reply.started": "2023-06-22T14:12:00.558089Z",
          "shell.execute_reply": "2023-06-22T14:12:00.682969Z"
        },
        "trusted": true,
        "id": "A8CVlCsniUMK"
      },
      "execution_count": null,
      "outputs": []
    },
    {
      "cell_type": "markdown",
      "source": [
        "### Chroma Concept: Collection\n",
        "\n",
        "Chroma `collection` is akin to an index that stores one set of your documents.\n",
        "\n",
        "According to the [docs](https://docs.trychroma.com/getting-started):\n",
        "> Collections are where you will store your embeddings, documents, and additional metadata\n",
        "\n",
        "The nice thing about ChromaDB is that if you don't supply a model to vectorize text into embeddings, it will automatically load a default embedding function, i.e. `SentenceTransformerEmbeddingFunction`. It can handle tokenization, embedding, and indexing automatically for you. If you would like to change the embedding model, read [here on how to do that](https://docs.trychroma.com/embeddings). TLDR: you can add an optional `model_name` argument.\n",
        "\n",
        "You can read [the documentation here](https://docs.trychroma.com/usage-guide#using-collections) on rules for collection names."
      ],
      "metadata": {
        "application/vnd.databricks.v1+cell": {
          "showTitle": false,
          "cellMetadata": {},
          "nuid": "e0683d3e-da8b-46af-b3f1-1aad3ff3ee75",
          "inputWidgets": {},
          "title": ""
        },
        "id": "yuJuqlnViUMK"
      }
    },
    {
      "cell_type": "code",
      "source": [
        "collection_name = \"my_news\"\n",
        "\n",
        "# If you have created the collection before, you need delete the collection first\n",
        "if len(chroma_client.list_collections()) > 0 and collection_name in [\n",
        "    chroma_client.list_collections()[0].name\n",
        "]:\n",
        "    chroma_client.delete_collection(name=collection_name)\n",
        "else:\n",
        "    print(f\"Creating collection: '{collection_name}'\")\n",
        "    collection = chroma_client.create_collection(name=collection_name)"
      ],
      "metadata": {
        "application/vnd.databricks.v1+cell": {
          "showTitle": false,
          "cellMetadata": {},
          "nuid": "9c06cdb9-6ec8-47d3-843f-4719a18bd197",
          "inputWidgets": {},
          "title": ""
        },
        "execution": {
          "iopub.status.busy": "2023-06-22T14:13:16.87131Z",
          "iopub.execute_input": "2023-06-22T14:13:16.871984Z",
          "iopub.status.idle": "2023-06-22T14:13:17.165314Z",
          "shell.execute_reply.started": "2023-06-22T14:13:16.871941Z",
          "shell.execute_reply": "2023-06-22T14:13:17.164089Z"
        },
        "trusted": true,
        "id": "n3XwwtgkiUML"
      },
      "execution_count": null,
      "outputs": []
    },
    {
      "cell_type": "markdown",
      "source": [
        "### Step 1: Add data to collection\n",
        "\n",
        "Since we are re-using the same data, we can skip the step of reading data. As mentioned in the text above, Chroma can take care of text vectorization for us, so we can directly add text to the collection and Chroma will convert the text into embeddings behind the scene."
      ],
      "metadata": {
        "application/vnd.databricks.v1+cell": {
          "showTitle": false,
          "cellMetadata": {},
          "nuid": "f20241cc-be49-4325-a3b0-6719a2a66b33",
          "inputWidgets": {},
          "title": ""
        },
        "id": "f3qDipgoiUML"
      }
    },
    {
      "cell_type": "code",
      "source": [
        "display(pdf_subset)"
      ],
      "metadata": {
        "application/vnd.databricks.v1+cell": {
          "showTitle": false,
          "cellMetadata": {},
          "nuid": "2f3abefc-2a41-42cb-b82d-2eadde81c615",
          "inputWidgets": {},
          "title": ""
        },
        "execution": {
          "iopub.status.busy": "2023-06-22T14:41:25.751495Z",
          "iopub.execute_input": "2023-06-22T14:41:25.75194Z",
          "iopub.status.idle": "2023-06-22T14:41:25.768707Z",
          "shell.execute_reply.started": "2023-06-22T14:41:25.751908Z",
          "shell.execute_reply": "2023-06-22T14:41:25.767576Z"
        },
        "trusted": true,
        "id": "a03f6eECiUML"
      },
      "execution_count": null,
      "outputs": []
    },
    {
      "cell_type": "markdown",
      "source": [
        "Each document must have a unique `id` associated with it and it is up to you to check that there are no duplicate ids.\n",
        "\n",
        "Adding data to collection will take some time to run, especially when there is a lot of data. In the cell below, we intentionally write only a subset of data to the collection to speed things up."
      ],
      "metadata": {
        "application/vnd.databricks.v1+cell": {
          "showTitle": false,
          "cellMetadata": {},
          "nuid": "7cd6d04f-4d95-4c6e-9ba4-22a64fbd4a19",
          "inputWidgets": {},
          "title": ""
        },
        "id": "hcTLYsgbiUMM"
      }
    },
    {
      "cell_type": "code",
      "source": [
        "collection.add(\n",
        "    documents=pdf_subset[\"title\"][:100].tolist(),\n",
        "    metadatas=[{\"topic\": topic} for topic in pdf_subset[\"topic\"][:100].tolist()],\n",
        "    ids=[f\"id{x}\" for x in range(100)],\n",
        ")"
      ],
      "metadata": {
        "application/vnd.databricks.v1+cell": {
          "showTitle": false,
          "cellMetadata": {},
          "nuid": "df38a2f7-6aa3-4b4a-b934-680d3bd8ede8",
          "inputWidgets": {},
          "title": ""
        },
        "execution": {
          "iopub.status.busy": "2023-06-22T14:13:20.414315Z",
          "iopub.execute_input": "2023-06-22T14:13:20.414668Z",
          "iopub.status.idle": "2023-06-22T14:13:20.988466Z",
          "shell.execute_reply.started": "2023-06-22T14:13:20.41464Z",
          "shell.execute_reply": "2023-06-22T14:13:20.987583Z"
        },
        "trusted": true,
        "id": "1u3LedamiUMM"
      },
      "execution_count": null,
      "outputs": []
    },
    {
      "cell_type": "markdown",
      "source": [
        "### Step 2: Query for 10 relevant documents on \"space\"\n",
        "\n",
        "We will return 10 most relevant documents. You can think of `10` as 10 nearest neighbors. You can also change the number of results returned as well."
      ],
      "metadata": {
        "application/vnd.databricks.v1+cell": {
          "showTitle": false,
          "cellMetadata": {},
          "nuid": "555fbcd9-9111-4a96-8bbb-93f8437a84ff",
          "inputWidgets": {},
          "title": ""
        },
        "id": "M19N-LQ6iUMM"
      }
    },
    {
      "cell_type": "code",
      "source": [
        "import json\n",
        "\n",
        "results = collection.query(query_texts=[\"space\"], n_results=10)\n",
        "\n",
        "print(json.dumps(results, indent=4))"
      ],
      "metadata": {
        "application/vnd.databricks.v1+cell": {
          "showTitle": false,
          "cellMetadata": {},
          "nuid": "de2c377e-0537-409e-ae33-93639521d02c",
          "inputWidgets": {},
          "title": ""
        },
        "execution": {
          "iopub.status.busy": "2023-06-22T14:13:22.867041Z",
          "iopub.execute_input": "2023-06-22T14:13:22.867456Z",
          "iopub.status.idle": "2023-06-22T14:13:22.910706Z",
          "shell.execute_reply.started": "2023-06-22T14:13:22.867423Z",
          "shell.execute_reply": "2023-06-22T14:13:22.90871Z"
        },
        "trusted": true,
        "id": "QnpFNUKYiUMM"
      },
      "execution_count": null,
      "outputs": []
    },
    {
      "cell_type": "markdown",
      "source": [
        "### Bonus: Add filter statement\n",
        "\n",
        "In addition to conducting relevancy search, we can also add filter statements. Refer to the [documentation](https://docs.trychroma.com/usage-guide#using-where-filters) for more information."
      ],
      "metadata": {
        "application/vnd.databricks.v1+cell": {
          "showTitle": false,
          "cellMetadata": {},
          "nuid": "127b9af0-5b32-450a-b640-5604879fbf84",
          "inputWidgets": {},
          "title": ""
        },
        "id": "FNHuZPxqiUMN"
      }
    },
    {
      "cell_type": "code",
      "source": [
        "collection.query(query_texts=[\"space\"], where={\"topic\": \"SCIENCE\"}, n_results=10)"
      ],
      "metadata": {
        "application/vnd.databricks.v1+cell": {
          "showTitle": false,
          "cellMetadata": {},
          "nuid": "69089e0d-348b-478b-a5b9-a57ed4126314",
          "inputWidgets": {},
          "title": ""
        },
        "execution": {
          "iopub.status.busy": "2023-06-22T14:13:25.876312Z",
          "iopub.execute_input": "2023-06-22T14:13:25.876964Z",
          "iopub.status.idle": "2023-06-22T14:13:25.925091Z",
          "shell.execute_reply.started": "2023-06-22T14:13:25.876935Z",
          "shell.execute_reply": "2023-06-22T14:13:25.924069Z"
        },
        "trusted": true,
        "id": "wp888GJ2iUMN"
      },
      "execution_count": null,
      "outputs": []
    },
    {
      "cell_type": "markdown",
      "source": [
        "### Bonus: Update data in a collection\n",
        "\n",
        "Unlike a vector library, vector databases support changes to the data so we can update or delete data.\n",
        "\n",
        "Indeed, we can update or delete data in a Chroma collection."
      ],
      "metadata": {
        "application/vnd.databricks.v1+cell": {
          "showTitle": false,
          "cellMetadata": {},
          "nuid": "df7d0a55-58dc-4e28-b09f-ac96e4375a8f",
          "inputWidgets": {},
          "title": ""
        },
        "id": "xJqtnqkViUMO"
      }
    },
    {
      "cell_type": "code",
      "source": [
        "collection.delete(ids=[\"id0\"])"
      ],
      "metadata": {
        "application/vnd.databricks.v1+cell": {
          "showTitle": false,
          "cellMetadata": {},
          "nuid": "330403c3-7a6b-4f10-b587-167753710623",
          "inputWidgets": {},
          "title": ""
        },
        "execution": {
          "iopub.status.busy": "2023-06-22T14:13:26.67897Z",
          "iopub.execute_input": "2023-06-22T14:13:26.679331Z",
          "iopub.status.idle": "2023-06-22T14:13:26.690838Z",
          "shell.execute_reply.started": "2023-06-22T14:13:26.679308Z",
          "shell.execute_reply": "2023-06-22T14:13:26.689125Z"
        },
        "trusted": true,
        "id": "cXVKo1o_iUMO"
      },
      "execution_count": null,
      "outputs": []
    },
    {
      "cell_type": "markdown",
      "source": [
        "The record with `ids=0` is no longer present."
      ],
      "metadata": {
        "application/vnd.databricks.v1+cell": {
          "showTitle": false,
          "cellMetadata": {},
          "nuid": "abdbbde3-2447-4cac-b596-e984f5e91968",
          "inputWidgets": {},
          "title": ""
        },
        "id": "YcjRsn2XiUMO"
      }
    },
    {
      "cell_type": "code",
      "source": [
        "collection.get(\n",
        "    ids=[\"id0\"],\n",
        ")"
      ],
      "metadata": {
        "application/vnd.databricks.v1+cell": {
          "showTitle": false,
          "cellMetadata": {},
          "nuid": "75e2e3d4-a1bb-41e8-a425-79c78757caff",
          "inputWidgets": {},
          "title": ""
        },
        "execution": {
          "iopub.status.busy": "2023-06-22T14:13:27.253457Z",
          "iopub.execute_input": "2023-06-22T14:13:27.253928Z",
          "iopub.status.idle": "2023-06-22T14:13:27.262226Z",
          "shell.execute_reply.started": "2023-06-22T14:13:27.253884Z",
          "shell.execute_reply": "2023-06-22T14:13:27.260999Z"
        },
        "trusted": true,
        "id": "-Cp2dfcBiUMO"
      },
      "execution_count": null,
      "outputs": []
    },
    {
      "cell_type": "markdown",
      "source": [
        "We can also update a specific data point."
      ],
      "metadata": {
        "application/vnd.databricks.v1+cell": {
          "showTitle": false,
          "cellMetadata": {},
          "nuid": "70d6c9f7-11f9-4f73-bddf-dacf4e9a873e",
          "inputWidgets": {},
          "title": ""
        },
        "id": "EAK_dS22iUMP"
      }
    },
    {
      "cell_type": "code",
      "source": [
        "collection.get(\n",
        "    ids=[\"id2\"],\n",
        ")"
      ],
      "metadata": {
        "application/vnd.databricks.v1+cell": {
          "showTitle": false,
          "cellMetadata": {},
          "nuid": "21486238-4a87-45ec-9fe1-869ace948adf",
          "inputWidgets": {},
          "title": ""
        },
        "execution": {
          "iopub.status.busy": "2023-06-22T14:13:27.633514Z",
          "iopub.execute_input": "2023-06-22T14:13:27.634097Z",
          "iopub.status.idle": "2023-06-22T14:13:27.642768Z",
          "shell.execute_reply.started": "2023-06-22T14:13:27.634063Z",
          "shell.execute_reply": "2023-06-22T14:13:27.641827Z"
        },
        "trusted": true,
        "id": "5W7mbY3diUMP"
      },
      "execution_count": null,
      "outputs": []
    },
    {
      "cell_type": "code",
      "source": [
        "collection.update(\n",
        "    ids=[\"id2\"],\n",
        "    metadatas=[{\"topic\": \"TECHNOLOGY\"}],\n",
        ")"
      ],
      "metadata": {
        "application/vnd.databricks.v1+cell": {
          "showTitle": false,
          "cellMetadata": {},
          "nuid": "bb453d96-5523-40ac-a004-c5018037fe8c",
          "inputWidgets": {},
          "title": ""
        },
        "execution": {
          "iopub.status.busy": "2023-06-22T14:13:27.801901Z",
          "iopub.execute_input": "2023-06-22T14:13:27.802508Z",
          "iopub.status.idle": "2023-06-22T14:13:27.811307Z",
          "shell.execute_reply.started": "2023-06-22T14:13:27.802474Z",
          "shell.execute_reply": "2023-06-22T14:13:27.809559Z"
        },
        "trusted": true,
        "id": "QD31OKnOiUMP"
      },
      "execution_count": null,
      "outputs": []
    },
    {
      "cell_type": "code",
      "source": [
        "collection.get(\n",
        "    ids=[\"id2\"],\n",
        ")"
      ],
      "metadata": {
        "execution": {
          "iopub.status.busy": "2023-06-22T14:46:41.328571Z",
          "iopub.execute_input": "2023-06-22T14:46:41.328935Z",
          "iopub.status.idle": "2023-06-22T14:46:41.339215Z",
          "shell.execute_reply.started": "2023-06-22T14:46:41.328912Z",
          "shell.execute_reply": "2023-06-22T14:46:41.337722Z"
        },
        "trusted": true,
        "id": "cdPAzebbiUMP"
      },
      "execution_count": null,
      "outputs": []
    },
    {
      "cell_type": "markdown",
      "source": [
        "## Prompt engineering for question answering\n",
        "\n",
        "Now that we have identified documents about space from the news dataset, we can pass these documents as additional context for a language model to generate a response based on them!\n",
        "\n",
        "We first need to pick a `text-generation` model. Below, we use a Hugging Face model. You can also use OpenAI as well, but you will need to get an Open AI token and [pay based on the number of tokens](https://openai.com/pricing)."
      ],
      "metadata": {
        "application/vnd.databricks.v1+cell": {
          "showTitle": false,
          "cellMetadata": {},
          "nuid": "f02e3fdf-9836-4d54-9baf-aad4a3dc9c08",
          "inputWidgets": {},
          "title": ""
        },
        "id": "XudEJuY3iUMQ"
      }
    },
    {
      "cell_type": "code",
      "source": [
        "#!pip uninstall -y accelerate"
      ],
      "metadata": {
        "execution": {
          "iopub.status.busy": "2023-06-22T14:12:01.415152Z",
          "iopub.status.idle": "2023-06-22T14:12:01.415495Z",
          "shell.execute_reply.started": "2023-06-22T14:12:01.415335Z",
          "shell.execute_reply": "2023-06-22T14:12:01.415349Z"
        },
        "trusted": true,
        "id": "Pv2eiqdAiUMQ"
      },
      "execution_count": null,
      "outputs": []
    },
    {
      "cell_type": "code",
      "source": [
        "!pip install --upgrade accelerate"
      ],
      "metadata": {
        "execution": {
          "iopub.status.busy": "2023-06-22T14:12:01.416377Z",
          "iopub.status.idle": "2023-06-22T14:12:01.416688Z",
          "shell.execute_reply.started": "2023-06-22T14:12:01.416546Z",
          "shell.execute_reply": "2023-06-22T14:12:01.41656Z"
        },
        "trusted": true,
        "id": "uT0F1URBiUMQ"
      },
      "execution_count": null,
      "outputs": []
    },
    {
      "cell_type": "code",
      "source": [
        "from transformers import AutoTokenizer, AutoModelForCausalLM, pipeline\n",
        "\n",
        "model_id = \"gpt2\"\n",
        "tokenizer = AutoTokenizer.from_pretrained(model_id, cache_dir=\"../working/cache/\")\n",
        "lm_model = AutoModelForCausalLM.from_pretrained(model_id, cache_dir=\"../working/cache/\")\n",
        "\n",
        "pipe = pipeline(\n",
        "    \"text-generation\",\n",
        "    model=lm_model,\n",
        "    tokenizer=tokenizer,\n",
        "    max_new_tokens=512,\n",
        "    device_map=\"auto\",\n",
        ")"
      ],
      "metadata": {
        "application/vnd.databricks.v1+cell": {
          "showTitle": false,
          "cellMetadata": {},
          "nuid": "5642714b-b5b3-43d6-8d44-0e6cdfbb60c4",
          "inputWidgets": {},
          "title": ""
        },
        "execution": {
          "iopub.status.busy": "2023-06-22T14:13:32.429303Z",
          "iopub.execute_input": "2023-06-22T14:13:32.429789Z",
          "iopub.status.idle": "2023-06-22T14:13:34.906519Z",
          "shell.execute_reply.started": "2023-06-22T14:13:32.429749Z",
          "shell.execute_reply": "2023-06-22T14:13:34.905567Z"
        },
        "trusted": true,
        "id": "DlRTetisiUMQ"
      },
      "execution_count": null,
      "outputs": []
    },
    {
      "cell_type": "markdown",
      "source": [
        "Here's where prompt engineering, which is developing prompts, comes in. We pass in the context in our `prompt_template` but there are numerous ways to write a prompt. Some prompts may generate better results than the others and it requires some experimentation to figure out how best to talk to the model. Each language model behaves differently to prompts.\n",
        "\n",
        "Our prompt template below is inspired from a [2023 paper on program-aided language model](https://arxiv.org/pdf/2211.10435.pdf). The authors have provided their sample prompt template [here](https://github.com/reasoning-machines/pal/blob/main/pal/prompt/date_understanding_prompt.py).\n",
        "\n",
        "The following links also provide some helpful guidance on prompt engineering:\n",
        "- [Prompt engineering with OpenAI](https://help.openai.com/en/articles/6654000-best-practices-for-prompt-engineering-with-openai-api)\n",
        "- [GitHub repo that compiles best practices to interact with ChatGPT](https://github.com/f/awesome-chatgpt-prompts)"
      ],
      "metadata": {
        "application/vnd.databricks.v1+cell": {
          "showTitle": false,
          "cellMetadata": {},
          "nuid": "cd7f3221-e519-4f1f-a612-2bbcbb1b9f66",
          "inputWidgets": {},
          "title": ""
        },
        "id": "lBvMn_lliUMR"
      }
    },
    {
      "cell_type": "code",
      "source": [
        "question = \"What's the latest news on space development?\"\n",
        "context = \" \".join([f\"#{str(i)}\" for i in results[\"documents\"][0]])\n",
        "prompt_template = f\"Relevant context: {context}\\n\\n The user's question: {question}\""
      ],
      "metadata": {
        "application/vnd.databricks.v1+cell": {
          "showTitle": false,
          "cellMetadata": {},
          "nuid": "464d17dc-24d7-429b-821d-27fbb7d919b4",
          "inputWidgets": {},
          "title": ""
        },
        "execution": {
          "iopub.status.busy": "2023-06-22T14:35:57.779836Z",
          "iopub.execute_input": "2023-06-22T14:35:57.781075Z",
          "iopub.status.idle": "2023-06-22T14:35:57.788969Z",
          "shell.execute_reply.started": "2023-06-22T14:35:57.781024Z",
          "shell.execute_reply": "2023-06-22T14:35:57.786856Z"
        },
        "trusted": true,
        "id": "EK68rqOYiUMR"
      },
      "execution_count": null,
      "outputs": []
    },
    {
      "cell_type": "code",
      "source": [
        "context"
      ],
      "metadata": {
        "execution": {
          "iopub.status.busy": "2023-06-22T14:35:47.050473Z",
          "iopub.execute_input": "2023-06-22T14:35:47.050967Z",
          "iopub.status.idle": "2023-06-22T14:35:47.060582Z",
          "shell.execute_reply.started": "2023-06-22T14:35:47.050935Z",
          "shell.execute_reply": "2023-06-22T14:35:47.059488Z"
        },
        "trusted": true,
        "id": "ksKMyu8fiUMR"
      },
      "execution_count": null,
      "outputs": []
    },
    {
      "cell_type": "code",
      "source": [
        "lm_response = pipe(prompt_template)\n",
        "print(lm_response[0][\"generated_text\"])"
      ],
      "metadata": {
        "application/vnd.databricks.v1+cell": {
          "showTitle": false,
          "cellMetadata": {},
          "nuid": "e698c3f9-3f88-4d34-8501-f6d0cee60c7e",
          "inputWidgets": {},
          "title": ""
        },
        "execution": {
          "iopub.status.busy": "2023-06-22T14:36:04.046944Z",
          "iopub.execute_input": "2023-06-22T14:36:04.047502Z",
          "iopub.status.idle": "2023-06-22T14:36:27.857972Z",
          "shell.execute_reply.started": "2023-06-22T14:36:04.047473Z",
          "shell.execute_reply": "2023-06-22T14:36:27.856452Z"
        },
        "trusted": true,
        "id": "Q0L6AwPwiUMS"
      },
      "execution_count": null,
      "outputs": []
    },
    {
      "cell_type": "markdown",
      "source": [
        "Yay, you have just completed the implementation of your first text vectorization, search, and question answering workflow (that requires prompt engineering)!\n",
        "\n",
        "In the lab, you will apply your newly gained knowledge to a different dataset. You can also check out the optional modules on Pinecone and Weaviate to learn how to set up vector databases that offer enterprise offerings."
      ],
      "metadata": {
        "application/vnd.databricks.v1+cell": {
          "showTitle": false,
          "cellMetadata": {},
          "nuid": "0f7039cc-4567-4925-92e8-6ceab81fa724",
          "inputWidgets": {},
          "title": ""
        },
        "id": "GkQLh9etiUMS"
      }
    },
    {
      "cell_type": "markdown",
      "source": [
        "&copy; 2023 Databricks, Inc. All rights reserved.<br/>\n",
        "Apache, Apache Spark, Spark and the Spark logo are trademarks of the <a href=\"https://www.apache.org/\">Apache Software Foundation</a>.<br/>\n",
        "<br/>\n",
        "<a href=\"https://databricks.com/privacy-policy\">Privacy Policy</a> | <a href=\"https://databricks.com/terms-of-use\">Terms of Use</a> | <a href=\"https://help.databricks.com/\">Support</a>"
      ],
      "metadata": {
        "application/vnd.databricks.v1+cell": {
          "showTitle": false,
          "cellMetadata": {},
          "nuid": "2e4d049f-0691-4c7e-9639-1e951c3d5954",
          "inputWidgets": {},
          "title": ""
        },
        "id": "AbjHGh9RiUMS"
      }
    }
  ]
}