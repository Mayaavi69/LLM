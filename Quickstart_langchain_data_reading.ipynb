{
 "cells": [
  {
   "cell_type": "code",
   "execution_count": null,
   "metadata": {},
   "outputs": [],
   "source": [
    "# Last amended: 30th April, 2024\n",
    "# Ref: https://github.com/asokraju/LangChainDatasetForge/blob/main/Datagen.ipynb"
   ]
  },
  {
   "cell_type": "code",
   "execution_count": null,
   "metadata": {},
   "outputs": [],
   "source": [
    "# Objective: \n",
    "#       Use LLM to transform structured data into unstructured text\n",
    "#       Example: Data: {\"distance\" : \"30km\" , \"mode\" : \"Car\" }\n",
    "#       Transformed LLM output:\n",
    "#                       I travelled 30km in a car."
   ]
  },
  {
   "cell_type": "code",
   "execution_count": null,
   "metadata": {},
   "outputs": [],
   "source": [
    "# DO NOT RUN THIS FILE IN --COLAB--. WE USE OLLAMA"
   ]
  },
  {
   "cell_type": "markdown",
   "metadata": {},
   "source": [
    "# Generate data\n",
    "Our final file is structured.txt"
   ]
  },
  {
   "cell_type": "code",
   "execution_count": 2,
   "metadata": {},
   "outputs": [],
   "source": [
    "# 1.0 We need to generate random data\n",
    "import random"
   ]
  },
  {
   "cell_type": "code",
   "execution_count": 3,
   "metadata": {},
   "outputs": [],
   "source": [
    "# 1.0.1 Display multiple command outputs from a cell:\n",
    "\n",
    "from IPython.core.interactiveshell import InteractiveShell\n",
    "InteractiveShell.ast_node_interactivity = \"all\"\n"
   ]
  },
  {
   "cell_type": "markdown",
   "metadata": {},
   "source": [
    "### Define constants\n",
    "\n",
    "Define some constants and what values they can have"
   ]
  },
  {
   "cell_type": "code",
   "execution_count": 4,
   "metadata": {},
   "outputs": [
    {
     "data": {
      "text/plain": [
       "[1, 2, 3, 3, 4]"
      ]
     },
     "execution_count": 4,
     "metadata": {},
     "output_type": "execute_result"
    }
   ],
   "source": [
    "# 1.0.2 List addition\n",
    "[1,2,3] + [3,4]"
   ]
  },
  {
   "cell_type": "code",
   "execution_count": 5,
   "metadata": {},
   "outputs": [
    {
     "data": {
      "text/plain": [
       "['1 days', '2 days', '3 days', '4 days', '5 days']"
      ]
     },
     "execution_count": 5,
     "metadata": {},
     "output_type": "execute_result"
    },
    {
     "data": {
      "text/plain": [
       "['4 weeks', '5 weeks', '6 weeks', '7 weeks', '8 weeks']"
      ]
     },
     "execution_count": 5,
     "metadata": {},
     "output_type": "execute_result"
    }
   ],
   "source": [
    "# 2.0 Two lists are being added\n",
    "#      to create one list with contents from each list:\n",
    "\n",
    "DURATION_POOL = [f\"{i} days\" for i in range(1, 31)] + [f\"{i} weeks\" for i in range(1, 9)]\n",
    "DURATION_POOL[:5] ; DURATION_POOL[-5:] "
   ]
  },
  {
   "cell_type": "code",
   "execution_count": 6,
   "metadata": {},
   "outputs": [],
   "source": [
    "# 2.0.1 Expanded Data Pools\n",
    "\n",
    "DESTINATIONS_POOL  = [\"Paris\", \"New York\", \"Tokyo\", \"London\", \"Sydney\", \"Cairo\", \"Rio\", \"Cape Town\", \"Moscow\", \"Beijing\"]\n",
    "ACTIVITIES_POOL    = [\"sightseeing\", \"trekking\", \"culinary experiences\", \"museum visits\", \"beach relaxation\", \"mountain climbing\"]\n",
    "BUDGET_POOL        = [f\"${i}000\" for i in range(1, 21)]\n",
    "ACCOMMODATION_POOL = [\"hotel\", \"hostel\", \"B&B\", \"luxury resort\", \"rented apartment\"]\n",
    "TRANSPORTATION_POOL= [\"bus\", \"train\", \"flight\", \"rented car\", \"bicycle\"]"
   ]
  },
  {
   "cell_type": "code",
   "execution_count": 7,
   "metadata": {},
   "outputs": [],
   "source": [
    "# 2.0.2 Additional Elements\n",
    "\n",
    "TRAVELERS_POOL         = [f\"{i} persons\" for i in range(1, 11)]\n",
    "SEASON_POOL            = [\"spring\", \"summer\", \"fall\", \"winter\"]\n",
    "MEAL_PREF_POOL         = [\"local cuisine\", \"vegetarian meals\", \"vegan options\", \"seafood delights\", \"fast food\"]\n",
    "TRAVEL_TYPE_POOL       = [\"solo\", \"couple\", \"family\", \"group\", \"business\", \"backpacking\"]\n",
    "BOOKING_MODE_POOL      = [\"travel agency\", \"online platform\", \"direct booking\", \"last minute deals\"]\n",
    "GUIDE_PREF_POOL        = [\"guided tours\", \"self-exploration\", \"audio guide\", \"local guide\", \"group tour\", \"private tour\"]\n",
    "LANG_PREF_POOL         = [\"English\", \"French\", \"Spanish\", \"local language\", \"multilingual\"]\n",
    "CULTURAL_INTEREST_POOL = [\"historical sites\", \"modern attractions\", \"folk performances\", \"art galleries\", \"music concerts\"]"
   ]
  },
  {
   "cell_type": "code",
   "execution_count": 8,
   "metadata": {},
   "outputs": [],
   "source": [
    "# 3.0 This function generates \n",
    "def generate_travel_plan():\n",
    "    # 3.0.1 Make random choices from above data pool\n",
    "    elements = {\n",
    "                \"Duration\": random.choice(DURATION_POOL),\n",
    "                \"Destinations\": \", \".join(random.sample(DESTINATIONS_POOL, random.randint(1, 3))),\n",
    "                \"Activities\": \", \".join(random.sample(ACTIVITIES_POOL, random.randint(1, 3))),\n",
    "                \"Budget\": random.choice(BUDGET_POOL),\n",
    "                \"Accommodation\": random.choice(ACCOMMODATION_POOL),\n",
    "                \"Transportation\": \", \".join(random.sample(TRANSPORTATION_POOL, random.randint(1, 3))),\n",
    "                \n",
    "                \"Travelers\": random.choice(TRAVELERS_POOL),\n",
    "                \"Season\": random.choice(SEASON_POOL),\n",
    "                \"Meal Preference\": random.choice(MEAL_PREF_POOL),\n",
    "                \"Travel Type\": random.choice(TRAVEL_TYPE_POOL),\n",
    "                \"Booking Mode\": random.choice(BOOKING_MODE_POOL),\n",
    "                \n",
    "                \"Guide Preference\": random.choice(GUIDE_PREF_POOL),\n",
    "                \"Language Preference\": random.choice(LANG_PREF_POOL),\n",
    "                \"Cultural Interest\": random.choice(CULTURAL_INTEREST_POOL)\n",
    "            }\n",
    "\n",
    "    # 3.0.2 Drop some keys for variability\n",
    "    num_elements_to_use = random.randint(6, 10)  # Using between 6 and 10 elements. Say 8\n",
    "    keys_to_use = random.sample(list(elements.keys()), num_elements_to_use)  # From the 'elements' pick any 8 elements\n",
    "\n",
    "    # 3.0.3 Construct the travel plan\n",
    "    plan_elements = [f\"{key}: {elements[key]}\" for key in keys_to_use]\n",
    "    travel_plan = \", \".join(plan_elements) + '.'\n",
    "\n",
    "    # 3.0.4\n",
    "    return travel_plan"
   ]
  },
  {
   "cell_type": "code",
   "execution_count": 9,
   "metadata": {},
   "outputs": [
    {
     "data": {
      "text/plain": [
       "['Booking Mode: direct booking, Accommodation: luxury resort, Activities: sightseeing, mountain climbing, Destinations: Paris, Language Preference: local language, Season: spring, Duration: 22 days, Cultural Interest: historical sites.',\n",
       " 'Travelers: 7 persons, Destinations: Rio, New York, Cultural Interest: modern attractions, Travel Type: group, Language Preference: English, Duration: 5 weeks, Season: spring.',\n",
       " 'Language Preference: local language, Destinations: Sydney, Paris, Transportation: bus, rented car, Meal Preference: fast food, Accommodation: rented apartment, Booking Mode: direct booking, Travel Type: backpacking.']"
      ]
     },
     "execution_count": 9,
     "metadata": {},
     "output_type": "execute_result"
    }
   ],
   "source": [
    "# 3.1 Generate 100k structured travel plans\n",
    "\n",
    "data_points = 100_000 # Means same as: 100,000. Underscore (_) is used readability for large numbers, \n",
    "\n",
    "# 3.1.1 Mote 'i' is not being used:\n",
    "structured_data = [generate_travel_plan() for i in range(data_points)] # Generate 100000 travel plans\n",
    "structured_data[:3]"
   ]
  },
  {
   "cell_type": "code",
   "execution_count": 10,
   "metadata": {},
   "outputs": [
    {
     "name": "stdout",
     "output_type": "stream",
     "text": [
      "Booking Mode: direct booking, Accommodation: luxury resort, Activities: sightseeing, mountain climbing, Destinations: Paris, Language Preference: local language, Season: spring, Duration: 22 days, Cultural Interest: historical sites.\n",
      "---------------------\n",
      "Travelers: 7 persons, Destinations: Rio, New York, Cultural Interest: modern attractions, Travel Type: group, Language Preference: English, Duration: 5 weeks, Season: spring.\n",
      "---------------------\n",
      "Language Preference: local language, Destinations: Sydney, Paris, Transportation: bus, rented car, Meal Preference: fast food, Accommodation: rented apartment, Booking Mode: direct booking, Travel Type: backpacking.\n",
      "---------------------\n"
     ]
    }
   ],
   "source": [
    "# 3.1.2 For demonstration, let's print the first 5 entries\n",
    "for entry in structured_data[:3]:\n",
    "    print(entry)\n",
    "    print(\"---------------------\")"
   ]
  },
  {
   "cell_type": "markdown",
   "metadata": {},
   "source": [
    "## Transform structured data to unstructured text"
   ]
  },
  {
   "cell_type": "code",
   "execution_count": 11,
   "metadata": {},
   "outputs": [],
   "source": [
    "# 4.0 o save the structured data into a text file\n",
    "with open(\"/home/ashok/Documents/langchain/structured_data.txt\", \"w\") as f:\n",
    "    for entry in structured_data:\n",
    "        _ = f.write(entry + \"\\n---------------------\\n\")\n"
   ]
  },
  {
   "cell_type": "code",
   "execution_count": 12,
   "metadata": {},
   "outputs": [
    {
     "data": {
      "text/plain": [
       "'\\n!pip install langchain\\n!pip install tqdm\\n!pip install OpenAI\\n'"
      ]
     },
     "execution_count": 12,
     "metadata": {},
     "output_type": "execute_result"
    }
   ],
   "source": [
    "# 4.0.1 We have all these already installed:\n",
    "\"\"\"\n",
    "!pip install langchain\n",
    "!pip install tqdm\n",
    "!pip install OpenAI\n",
    "\"\"\""
   ]
  },
  {
   "cell_type": "code",
   "execution_count": 36,
   "metadata": {
    "id": "pXNjgcjiWoRZ"
   },
   "outputs": [],
   "source": [
    "# 4.0.2 To wrangle or data:\n",
    "\n",
    "import pandas as pd\n",
    "import numpy as np"
   ]
  },
  {
   "cell_type": "code",
   "execution_count": 15,
   "metadata": {},
   "outputs": [],
   "source": [
    "# 4.1 Read the structured data file into a list:\n",
    "\n",
    "with open(\"structured_data.txt\", \"r\") as file:\n",
    "    lines = file.readlines()   # Each travel plan is an element of list\n",
    "    "
   ]
  },
  {
   "cell_type": "code",
   "execution_count": 16,
   "metadata": {},
   "outputs": [],
   "source": [
    "# 4.2 Split the list by the separator to get individual entries:\n",
    "#     Separator is: \"---------------------\"\n",
    "\n",
    "entries = [entry.strip() for entry in ''.join(lines).split(\"---------------------\") if entry.strip() != \"\"]\n"
   ]
  },
  {
   "cell_type": "code",
   "execution_count": 17,
   "metadata": {},
   "outputs": [
    {
     "name": "stdout",
     "output_type": "stream",
     "text": [
      "['Booking Mode: direct booking, Accommodation: luxury resort, Activities: sightseeing, mountain climbing, Destinations: Paris, Language Preference: local language, Season: spring, Duration: 22 days, Cultural Interest: historical sites.'\n",
      " 'Travelers: 7 persons, Destinations: Rio, New York, Cultural Interest: modern attractions, Travel Type: group, Language Preference: English, Duration: 5 weeks, Season: spring.'\n",
      " 'Language Preference: local language, Destinations: Sydney, Paris, Transportation: bus, rented car, Meal Preference: fast food, Accommodation: rented apartment, Booking Mode: direct booking, Travel Type: backpacking.'\n",
      " 'Travelers: 1 persons, Duration: 5 days, Booking Mode: last minute deals, Language Preference: English, Meal Preference: fast food, Destinations: Sydney, Beijing, Cairo, Season: winter, Guide Preference: private tour, Travel Type: backpacking.'\n",
      " 'Season: fall, Duration: 6 weeks, Meal Preference: vegan options, Language Preference: English, Travel Type: family, Accommodation: B&B.']\n"
     ]
    }
   ],
   "source": [
    "# 4.3 Convert the list into a NumPy array:\n",
    "\n",
    "structured_data_array = np.array(entries)\n",
    "\n",
    "# 4.4 Display the first few entries:\n",
    "\n",
    "print(structured_data_array[:5])"
   ]
  },
  {
   "cell_type": "code",
   "execution_count": 18,
   "metadata": {},
   "outputs": [],
   "source": [
    "# 5.0 Pick style of narration:\n",
    "def pick_style():\n",
    "    styles = [\n",
    "        \"Narrative\", \"Persuasive\", \"Expository\", \"Journalistic\",\n",
    "        \"Satirical\", \"Stream-of-Consciousness\", \"Epistolary\", \"Conversational\",\n",
    "        \"Didactic\", \"Slang or Colloquial\"\n",
    "    ]\n",
    "\n",
    "    return random.choice(styles)"
   ]
  },
  {
   "cell_type": "code",
   "execution_count": 19,
   "metadata": {
    "colab": {
     "base_uri": "https://localhost:8080/"
    },
    "id": "F3JB9zc9YwGr",
    "outputId": "3e590c73-56f8-41c2-f2f9-c365b6f5d326"
   },
   "outputs": [
    {
     "data": {
      "text/plain": [
       "{'user_plan': 'Booking Mode: direct booking, Accommodation: luxury resort, Activities: sightseeing, mountain climbing, Destinations: Paris, Language Preference: local language, Season: spring, Duration: 22 days, Cultural Interest: historical sites.',\n",
       " 'style': 'Conversational'}"
      ]
     },
     "execution_count": 19,
     "metadata": {},
     "output_type": "execute_result"
    }
   ],
   "source": [
    "# 5.0.1\n",
    "chosen_style = pick_style()\n",
    "\n",
    "# 5.0.2\n",
    "plan_list = [\n",
    "              {\"user_plan\": plan, \"style\": pick_style()} for plan in structured_data_array\n",
    "            ]\n",
    "# 5.0.3\n",
    "plan_list[0]"
   ]
  },
  {
   "cell_type": "markdown",
   "metadata": {},
   "source": [
    "## Develop prompt and invoke llm chain"
   ]
  },
  {
   "cell_type": "markdown",
   "metadata": {},
   "source": [
    "Steps:   \n",
    "See this [Quick Reference](https://python.langchain.com/docs/modules/model_io/prompts/quick_start/)\n",
    "\n",
    ">1. Create a demo pormpt template with some variables    \n",
    ">2. Create a proper prompt template    \n",
    ">3. Create llm chain    \n",
    ">4. Invoke chain & while invoking supply variable values   "
   ]
  },
  {
   "cell_type": "code",
   "execution_count": null,
   "metadata": {},
   "outputs": [],
   "source": [
    "# Whcih prompttemplate to use when:\n",
    "#  PromptTemplate vs ChatPromptTemplate\n",
    "# Refer: https://python.langchain.com/docs/modules/model_io/prompts/quick_start/#chatprompttemplate\n",
    "\"\"\"\n",
    "\n",
    "# When there is just one msg string:\n",
    "PromptTemplate (\"one string\")\n",
    "\n",
    "# Multiple messages: Maybe, one from System. another from human, another from ai \n",
    "ChatPromptTemplate([ (\"one msg\"),\n",
    "                     (\"IInd msg\"),\n",
    "                     (\"IIIrd msg\")\n",
    "                   ]\n",
    "\n",
    "\n",
    "\"\"\""
   ]
  },
  {
   "cell_type": "markdown",
   "metadata": {},
   "source": [
    "### 1.0 Create demo prompt template with variables"
   ]
  },
  {
   "cell_type": "code",
   "execution_count": 20,
   "metadata": {},
   "outputs": [],
   "source": [
    "# 6.0 Use PromptTemplate when there is just one string, as here:\n",
    "#     (When there are a list of strings, use chatPromptTemplate\n",
    "from langchain import PromptTemplate\n",
    "\n",
    "\n",
    "# 6.0.1  Write demo template with proper instructions\n",
    "demo_template='''\n",
    "I want you to come up with a unstructered text for the following plan: {user_plan}.\n",
    "Use the writing style: {style}\n",
    "for example: I'm thinking of a solo trip for about 2 weeks, primarily focusing on sightseeing and museum visits in Paris. I have a budget of around $5000.\n",
    "'''\n"
   ]
  },
  {
   "cell_type": "markdown",
   "metadata": {},
   "source": [
    "### 2,0 Create PromptTemplate object\n",
    "From demo template"
   ]
  },
  {
   "cell_type": "code",
   "execution_count": 21,
   "metadata": {
    "colab": {
     "base_uri": "https://localhost:8080/",
     "height": 107
    },
    "id": "qvEgOEWEUBEy",
    "outputId": "39576a0f-e02e-4967-ca80-21bf3801b5d6"
   },
   "outputs": [
    {
     "data": {
      "text/plain": [
       "\"\\nI want you to come up with a unstructered text for the following plan: Booking Mode: direct booking, Accommodation: luxury resort, Activities: sightseeing, mountain climbing, Destinations: Paris, Language Preference: local language, Season: spring, Duration: 22 days, Cultural Interest: historical sites..\\nUse the writing style: Conversational\\nfor example: I'm thinking of a solo trip for about 2 weeks, primarily focusing on sightseeing and museum visits in Paris. I have a budget of around $5000.\\n\""
      ]
     },
     "execution_count": 21,
     "metadata": {},
     "output_type": "execute_result"
    }
   ],
   "source": [
    "# 6.1  From deom create proper prompt template:\n",
    "\n",
    "prompt=PromptTemplate(\n",
    "                        input_variables=['user_plan','style'],\n",
    "                        template=demo_template\n",
    "                     )\n",
    "\n",
    "# 6.1.1\n",
    "prompt.format(user_plan=structured_data_array[0], style=pick_style())"
   ]
  },
  {
   "cell_type": "markdown",
   "metadata": {},
   "source": [
    "### 3.0 create llm chain"
   ]
  },
  {
   "cell_type": "code",
   "execution_count": 27,
   "metadata": {
    "id": "BPJnnG_RZRr0"
   },
   "outputs": [],
   "source": [
    "# from langchain.llms import ollama           # This library does not work. \n",
    "                                              #   if you want to use model parameters.\n",
    "                                              #     Note small case 'o' in ollama\n",
    "from langchain_community.llms import Ollama   #  This library works when you want to \n",
    "                                              #    specify ollama model parameters\n",
    "                                              #     Note capital 'O' in Ollama\n",
    "from langchain.chains import LLMChain"
   ]
  },
  {
   "cell_type": "code",
   "execution_count": 29,
   "metadata": {},
   "outputs": [],
   "source": [
    "# llm = ollama()    # without any parameters\n",
    "\n",
    "llm = Ollama(       # with parameters\n",
    "             model=\"llama2\", \n",
    "             temperature=0.9,\n",
    "             num_predict=64\n",
    "            )"
   ]
  },
  {
   "cell_type": "code",
   "execution_count": 31,
   "metadata": {},
   "outputs": [],
   "source": [
    "chain=LLMChain(llm=llm,prompt=prompt)"
   ]
  },
  {
   "cell_type": "markdown",
   "metadata": {},
   "source": [
    "### 4.0 Invoke chain. \n",
    "While invoking, supply variable values in a dictionary format"
   ]
  },
  {
   "cell_type": "code",
   "execution_count": 32,
   "metadata": {},
   "outputs": [
    {
     "name": "stderr",
     "output_type": "stream",
     "text": [
      "Processing topics:   0%|                                 | 0/10 [00:00<?, ?it/s]/home/ashok/anaconda3/envs/langchain/lib/python3.11/site-packages/langchain_core/_api/deprecation.py:117: LangChainDeprecationWarning: The function `run` was deprecated in LangChain 0.1.0 and will be removed in 0.2.0. Use invoke instead.\n",
      "  warn_deprecated(\n",
      "Processing topics: 100%|████████████████████████| 10/10 [00:49<00:00,  4.99s/it]\n"
     ]
    }
   ],
   "source": [
    "from tqdm import tqdm\n",
    "\n",
    "summary = []\n",
    "for item in tqdm(plan_list[:10], desc='Processing topics'):\n",
    "    summary.append(chain.invoke(item))"
   ]
  },
  {
   "cell_type": "code",
   "execution_count": 33,
   "metadata": {},
   "outputs": [
    {
     "name": "stdout",
     "output_type": "stream",
     "text": [
      "Booking Mode: direct booking, Accommodation: luxury resort, Activities: sightseeing, mountain climbing, Destinations: Paris, Language Preference: local language, Season: spring, Duration: 22 days, Cultural Interest: historical sites.\n",
      " Oh wow, you're planning an epic adventure! 😍 I can totally help you plan this luxurious 22-day trip to Paris! 🇫🇷 *adjusts sunglasses*\n",
      "\n",
      "First things first, have you\n",
      "-----------------------\n",
      "Travelers: 7 persons, Destinations: Rio, New York, Cultural Interest: modern attractions, Travel Type: group, Language Preference: English, Duration: 5 weeks, Season: spring.\n",
      "\"Ah, an exciting journey awaits! A group of 7 intrepid travelers, with a keen interest in modern attractions, shall embark upon a thrilling adventure spanning five weeks and traversing the cultural hotspots of Rio and New York. English shall be the lingua\n",
      "-----------------------\n",
      "Language Preference: local language, Destinations: Sydney, Paris, Transportation: bus, rented car, Meal Preference: fast food, Accommodation: rented apartment, Booking Mode: direct booking, Travel Type: backpacking.\n",
      " Ah, an exciting adventure is coming your way! You want to explore the world for two glorious weeks, treating yourself to the wonders of Sydney and Paris. As you plan your trip, let's dive into the details.\n",
      "\n",
      "Firstly, language preference? No worries, you\n",
      "-----------------------\n",
      "Travelers: 1 persons, Duration: 5 days, Booking Mode: last minute deals, Language Preference: English, Meal Preference: fast food, Destinations: Sydney, Beijing, Cairo, Season: winter, Guide Preference: private tour, Travel Type: backpacking.\n",
      "Ah, an adventurous traveler seeking to explore the world! Let me present you with a tailored travel plan that meets your preferences and fits your budget. Imagine yourself embarking on a 5-day journey, starting in Sydney, Beijing, and Cairo during wintertime. With\n",
      "-----------------------\n",
      "Season: fall, Duration: 6 weeks, Meal Preference: vegan options, Language Preference: English, Travel Type: family, Accommodation: B&B.\n",
      " Ah, fall is one of my favorite seasons! And you know what's even better? Exploring new places with your family during that time. 😊 For the next six weeks, we're planning a vegan-friendly adventure in the beautiful British countryside. \n",
      "-----------------------\n",
      "Booking Mode: online platform, Budget: $20000, Cultural Interest: music concerts, Activities: museum visits, beach relaxation, Season: winter, Travelers: 1 persons, Language Preference: French.\n",
      "Ah, an excellent choice! Winter is undoubtedly the best time to visit France, especially if you're interested in culture and relaxation. As a seasoned traveler myself, I highly recommend exploring this beautiful country during the winter months for several reasons:\n",
      "\n",
      "Firstly, the weather is m\n",
      "-----------------------\n",
      "Duration: 17 days, Cultural Interest: historical sites, Meal Preference: seafood delights, Accommodation: hotel, Travel Type: business, Language Preference: English.\n",
      "I'm planning a 17-day business trip to Tokyo, Japan, packed with cultural experiences that will leave you mesmerized. From historical sites to seafood delights, this itinerary has got everything for the culturally inclined traveler. And, as your language preference is\n",
      "-----------------------\n",
      "Guide Preference: guided tours, Season: spring, Budget: $6000, Transportation: train, Language Preference: French, Booking Mode: last minute deals.\n",
      " Ah, a chance to explore the City of Light! As you plan your whirlwind adventure through France, let me guide you through the options available for an unforgettable springtime escapade. With a budget of $6000 and a preference for guided tours, train transportation\n",
      "-----------------------\n",
      "Season: spring, Activities: culinary experiences, mountain climbing, Budget: $1000, Duration: 2 weeks, Accommodation: hotel, Guide Preference: private tour, Booking Mode: last minute deals, Travelers: 10 persons.\n",
      " Ah, a two-week spring getaway with 10 fellow adventurers, a hotel stay, private tours, and last-minute deals! Let me tell you the perfect plan for an unforgettable culinary and mountainous experience. \n",
      "\n",
      "As the weather warms up and\n",
      "-----------------------\n",
      "Accommodation: hotel, Travelers: 7 persons, Travel Type: group, Transportation: bus, flight, Destinations: Paris, London, Sydney, Season: spring, Duration: 9 days, Meal Preference: fast food, Booking Mode: online platform, Activities: culinary experiences.\n",
      "Dear Travel Team,\n",
      "\n",
      "I hope this email finds you well! I've been thinking about our upcoming group trip, and I wanted to share some thoughts and ideas with you all. As you know, we'll be traveling together for 9 days in spring, visiting Paris, London\n",
      "-----------------------\n"
     ]
    }
   ],
   "source": [
    "for struct, unstruct in zip(structured_data_array, summary):\n",
    "    print(struct)\n",
    "    print(unstruct)\n",
    "    print(\"-----------------------\")"
   ]
  },
  {
   "cell_type": "code",
   "execution_count": 34,
   "metadata": {
    "colab": {
     "base_uri": "https://localhost:8080/",
     "height": 206
    },
    "id": "rficheAEZfaO",
    "outputId": "7d8dc477-6240-41b4-90aa-a01e58dc52f7"
   },
   "outputs": [
    {
     "data": {
      "text/html": [
       "<div>\n",
       "<style scoped>\n",
       "    .dataframe tbody tr th:only-of-type {\n",
       "        vertical-align: middle;\n",
       "    }\n",
       "\n",
       "    .dataframe tbody tr th {\n",
       "        vertical-align: top;\n",
       "    }\n",
       "\n",
       "    .dataframe thead th {\n",
       "        text-align: right;\n",
       "    }\n",
       "</style>\n",
       "<table border=\"1\" class=\"dataframe\">\n",
       "  <thead>\n",
       "    <tr style=\"text-align: right;\">\n",
       "      <th></th>\n",
       "      <th>user_plan</th>\n",
       "      <th>user_input</th>\n",
       "    </tr>\n",
       "  </thead>\n",
       "  <tbody>\n",
       "    <tr>\n",
       "      <th>0</th>\n",
       "      <td>Booking Mode: direct booking, Accommodation: l...</td>\n",
       "      <td>Oh wow, you're planning an epic adventure! 😍 ...</td>\n",
       "    </tr>\n",
       "    <tr>\n",
       "      <th>1</th>\n",
       "      <td>Travelers: 7 persons, Destinations: Rio, New Y...</td>\n",
       "      <td>\"Ah, an exciting journey awaits! A group of 7 ...</td>\n",
       "    </tr>\n",
       "    <tr>\n",
       "      <th>2</th>\n",
       "      <td>Language Preference: local language, Destinati...</td>\n",
       "      <td>Ah, an exciting adventure is coming your way!...</td>\n",
       "    </tr>\n",
       "    <tr>\n",
       "      <th>3</th>\n",
       "      <td>Travelers: 1 persons, Duration: 5 days, Bookin...</td>\n",
       "      <td>Ah, an adventurous traveler seeking to explore...</td>\n",
       "    </tr>\n",
       "    <tr>\n",
       "      <th>4</th>\n",
       "      <td>Season: fall, Duration: 6 weeks, Meal Preferen...</td>\n",
       "      <td>Ah, fall is one of my favorite seasons! And y...</td>\n",
       "    </tr>\n",
       "  </tbody>\n",
       "</table>\n",
       "</div>"
      ],
      "text/plain": [
       "                                           user_plan  \\\n",
       "0  Booking Mode: direct booking, Accommodation: l...   \n",
       "1  Travelers: 7 persons, Destinations: Rio, New Y...   \n",
       "2  Language Preference: local language, Destinati...   \n",
       "3  Travelers: 1 persons, Duration: 5 days, Bookin...   \n",
       "4  Season: fall, Duration: 6 weeks, Meal Preferen...   \n",
       "\n",
       "                                          user_input  \n",
       "0   Oh wow, you're planning an epic adventure! 😍 ...  \n",
       "1  \"Ah, an exciting journey awaits! A group of 7 ...  \n",
       "2   Ah, an exciting adventure is coming your way!...  \n",
       "3  Ah, an adventurous traveler seeking to explore...  \n",
       "4   Ah, fall is one of my favorite seasons! And y...  "
      ]
     },
     "execution_count": 34,
     "metadata": {},
     "output_type": "execute_result"
    }
   ],
   "source": [
    "topic_list = [\n",
    "    {\"user_plan\": user_plan, \"user_input\": user_input}\n",
    "    for user_plan, user_input in zip(structured_data_array, summary)\n",
    "]\n",
    "\n",
    "# Convert the list of dictionaries to a DataFrame\n",
    "df = pd.DataFrame(topic_list)\n",
    "\n",
    "# Save the DataFrame to a CSV file\n",
    "df.to_csv('dataset.csv', index=False, encoding='utf-8')\n",
    "df.head()"
   ]
  },
  {
   "cell_type": "code",
   "execution_count": 35,
   "metadata": {
    "colab": {
     "base_uri": "https://localhost:8080/"
    },
    "id": "zFkYjL5G8Hia",
    "outputId": "bb003fe3-eba0-4f11-b6b8-5cbd09885572"
   },
   "outputs": [
    {
     "data": {
      "text/plain": [
       "{'user_plan': 'Booking Mode: direct booking, Accommodation: luxury resort, Activities: sightseeing, mountain climbing, Destinations: Paris, Language Preference: local language, Season: spring, Duration: 22 days, Cultural Interest: historical sites.',\n",
       " 'user_input': \" Oh wow, you're planning an epic adventure! 😍 I can totally help you plan this luxurious 22-day trip to Paris! 🇫🇷 *adjusts sunglasses*\\n\\nFirst things first, have you\"}"
      ]
     },
     "execution_count": 35,
     "metadata": {},
     "output_type": "execute_result"
    }
   ],
   "source": [
    "topic_list[0]"
   ]
  },
  {
   "cell_type": "code",
   "execution_count": null,
   "metadata": {},
   "outputs": [],
   "source": [
    "########## DONE #############"
   ]
  }
 ],
 "metadata": {
  "colab": {
   "authorship_tag": "ABX9TyO20dKsJ23bI4VUERqMYoGQ",
   "include_colab_link": true,
   "provenance": []
  },
  "kernelspec": {
   "display_name": "Python 3 (ipykernel)",
   "language": "python",
   "name": "python3"
  },
  "language_info": {
   "codemirror_mode": {
    "name": "ipython",
    "version": 3
   },
   "file_extension": ".py",
   "mimetype": "text/x-python",
   "name": "python",
   "nbconvert_exporter": "python",
   "pygments_lexer": "ipython3",
   "version": "3.11.8"
  }
 },
 "nbformat": 4,
 "nbformat_minor": 4
}
