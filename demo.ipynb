{
  "nbformat": 4,
  "nbformat_minor": 0,
  "metadata": {
    "colab": {
      "provenance": [],
      "authorship_tag": "ABX9TyNMzevoYqYp7k9g2FghMnuA",
      "include_colab_link": true
    },
    "kernelspec": {
      "name": "python3",
      "display_name": "Python 3"
    },
    "language_info": {
      "name": "python"
    }
  },
  "cells": [
    {
      "cell_type": "markdown",
      "metadata": {
        "id": "view-in-github",
        "colab_type": "text"
      },
      "source": [
        "<a href=\"https://colab.research.google.com/github/harnalashok/LLMs/blob/main/demo.ipynb\" target=\"_parent\"><img src=\"https://colab.research.google.com/assets/colab-badge.svg\" alt=\"Open In Colab\"/></a>"
      ]
    },
    {
      "cell_type": "code",
      "execution_count": 1,
      "metadata": {
        "id": "Sc1IQ-BJGjZm"
      },
      "outputs": [],
      "source": [
        "# 0.0 No need to install transformers\n",
        "#     Comes preinstalled in colab:\n",
        "\n",
        "from transformers import AutoTokenizer, AutoModelForMaskedLM"
      ]
    },
    {
      "cell_type": "code",
      "source": [
        "# 1.0.1 Set environment variables\n",
        "import os\n",
        "os.environ[\"HF_HOME\"] = \"/content/hf/misc\"\n",
        "os.environ[\"HF_DATASETS_CACHE\"] = \"/content/hf/datasets\"\n",
        "os.environ[\"TRANSFORMERS_CACHE\"] = \"/content/hf/models\""
      ],
      "metadata": {
        "id": "FvQ3HRa0I8v9"
      },
      "execution_count": 2,
      "outputs": []
    },
    {
      "cell_type": "code",
      "source": [
        "# 1.0.2 Create folders:\n",
        "\n",
        "!mkdir -p /content/hf/misc\n",
        "!mkdir /content/hf/datasets\n",
        "!mkdir /content/hf/models"
      ],
      "metadata": {
        "id": "KaPcf4CiPI8t"
      },
      "execution_count": 5,
      "outputs": []
    },
    {
      "cell_type": "code",
      "source": [
        "# 1.0.3 Check\n",
        "print(os.environ[\"HF_HOME\"])"
      ],
      "metadata": {
        "colab": {
          "base_uri": "https://localhost:8080/"
        },
        "id": "unqmsBI_LbrY",
        "outputId": "9cf3c056-32f1-45e1-d5c3-bd0f983a49a6"
      },
      "execution_count": 6,
      "outputs": [
        {
          "output_type": "stream",
          "name": "stdout",
          "text": [
            "/content/hf/misc\n"
          ]
        }
      ]
    },
    {
      "cell_type": "code",
      "source": [
        "# 1.0.4 But downlaoded models are still saved to:\n",
        "# /root/.cache/huggingface/hub/\n",
        "\n",
        "tokenizer = AutoTokenizer.from_pretrained(\"bert-base-uncased\")\n",
        "\n",
        "model = AutoModelForMaskedLM.from_pretrained(\"bert-base-uncased\")"
      ],
      "metadata": {
        "colab": {
          "base_uri": "https://localhost:8080/"
        },
        "id": "vi0wi9HuIDKG",
        "outputId": "4f0a97a2-46fd-4f36-d9f4-468a08ae9657"
      },
      "execution_count": 7,
      "outputs": [
        {
          "output_type": "stream",
          "name": "stderr",
          "text": [
            "Some weights of the model checkpoint at bert-base-uncased were not used when initializing BertForMaskedLM: ['bert.pooler.dense.bias', 'bert.pooler.dense.weight', 'cls.seq_relationship.bias', 'cls.seq_relationship.weight']\n",
            "- This IS expected if you are initializing BertForMaskedLM from the checkpoint of a model trained on another task or with another architecture (e.g. initializing a BertForSequenceClassification model from a BertForPreTraining model).\n",
            "- This IS NOT expected if you are initializing BertForMaskedLM from the checkpoint of a model that you expect to be exactly identical (initializing a BertForSequenceClassification model from a BertForSequenceClassification model).\n"
          ]
        }
      ]
    },
    {
      "cell_type": "code",
      "source": [
        "# 2.0.1\n",
        "! huggingface-cli download bert-base-uncased"
      ],
      "metadata": {
        "id": "yftHauQwWHIe"
      },
      "execution_count": null,
      "outputs": []
    }
  ]
}