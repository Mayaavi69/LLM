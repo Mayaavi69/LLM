{
  "nbformat": 4,
  "nbformat_minor": 0,
  "metadata": {
    "colab": {
      "provenance": [],
      "authorship_tag": "ABX9TyPAVOTB0F+NkhsbEL8PS2zY",
      "include_colab_link": true
    },
    "kernelspec": {
      "name": "python3",
      "display_name": "Python 3"
    },
    "language_info": {
      "name": "python"
    }
  },
  "cells": [
    {
      "cell_type": "markdown",
      "metadata": {
        "id": "view-in-github",
        "colab_type": "text"
      },
      "source": [
        "<a href=\"https://colab.research.google.com/github/harnalashok/LLMs/blob/main/LocalAI.ipynb\" target=\"_parent\"><img src=\"https://colab.research.google.com/assets/colab-badge.svg\" alt=\"Open In Colab\"/></a>"
      ]
    },
    {
      "cell_type": "code",
      "execution_count": null,
      "metadata": {
        "id": "UXWE26MB_kHB"
      },
      "outputs": [],
      "source": [
        "# Last amended: 7th April, 2024"
      ]
    },
    {
      "cell_type": "markdown",
      "source": [
        "LocalAI videos are here:\n",
        "\n",
        "https://www.youtube.com/hashtag/localai"
      ],
      "metadata": {
        "id": "eI94dywkANe9"
      }
    },
    {
      "cell_type": "code",
      "source": [
        "localAI  replacement for OpenAI\n",
        "\n",
        "https://www.youtube.com/watch?v=Xh57mMlfuMk"
      ],
      "metadata": {
        "id": "O0WKUJj__rj7"
      },
      "execution_count": null,
      "outputs": []
    }
  ]
}