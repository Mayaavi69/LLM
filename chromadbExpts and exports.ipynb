{
  "nbformat": 4,
  "nbformat_minor": 0,
  "metadata": {
    "colab": {
      "provenance": [],
      "authorship_tag": "ABX9TyPJkA01JagsHWh0TFaWX2Og",
      "include_colab_link": true
    },
    "kernelspec": {
      "name": "python3",
      "display_name": "Python 3"
    },
    "language_info": {
      "name": "python"
    },
    "widgets": {
      "application/vnd.jupyter.widget-state+json": {
        "888d7a1c5a6543449374fdd31a5e1719": {
          "model_module": "@jupyter-widgets/controls",
          "model_name": "HBoxModel",
          "model_module_version": "1.5.0",
          "state": {
            "_dom_classes": [],
            "_model_module": "@jupyter-widgets/controls",
            "_model_module_version": "1.5.0",
            "_model_name": "HBoxModel",
            "_view_count": null,
            "_view_module": "@jupyter-widgets/controls",
            "_view_module_version": "1.5.0",
            "_view_name": "HBoxView",
            "box_style": "",
            "children": [
              "IPY_MODEL_5c334c5aeca24457946f410b59d10727",
              "IPY_MODEL_629a54668a214cab81deb3c6e3622329",
              "IPY_MODEL_b52e23b502914eae9a113b379da3b23a"
            ],
            "layout": "IPY_MODEL_2bb678fac4bf435abe5dc414f5a21c98"
          }
        },
        "5c334c5aeca24457946f410b59d10727": {
          "model_module": "@jupyter-widgets/controls",
          "model_name": "HTMLModel",
          "model_module_version": "1.5.0",
          "state": {
            "_dom_classes": [],
            "_model_module": "@jupyter-widgets/controls",
            "_model_module_version": "1.5.0",
            "_model_name": "HTMLModel",
            "_view_count": null,
            "_view_module": "@jupyter-widgets/controls",
            "_view_module_version": "1.5.0",
            "_view_name": "HTMLView",
            "description": "",
            "description_tooltip": null,
            "layout": "IPY_MODEL_edab98dd6a004afe8b8955001525c676",
            "placeholder": "​",
            "style": "IPY_MODEL_fbfea634973746c085082dbf0327a538",
            "value": "modules.json: 100%"
          }
        },
        "629a54668a214cab81deb3c6e3622329": {
          "model_module": "@jupyter-widgets/controls",
          "model_name": "FloatProgressModel",
          "model_module_version": "1.5.0",
          "state": {
            "_dom_classes": [],
            "_model_module": "@jupyter-widgets/controls",
            "_model_module_version": "1.5.0",
            "_model_name": "FloatProgressModel",
            "_view_count": null,
            "_view_module": "@jupyter-widgets/controls",
            "_view_module_version": "1.5.0",
            "_view_name": "ProgressView",
            "bar_style": "success",
            "description": "",
            "description_tooltip": null,
            "layout": "IPY_MODEL_3e2e143df46541eea9b3ed768d728e9b",
            "max": 349,
            "min": 0,
            "orientation": "horizontal",
            "style": "IPY_MODEL_69a747d1f7ea4037b1384a16d8e0c399",
            "value": 349
          }
        },
        "b52e23b502914eae9a113b379da3b23a": {
          "model_module": "@jupyter-widgets/controls",
          "model_name": "HTMLModel",
          "model_module_version": "1.5.0",
          "state": {
            "_dom_classes": [],
            "_model_module": "@jupyter-widgets/controls",
            "_model_module_version": "1.5.0",
            "_model_name": "HTMLModel",
            "_view_count": null,
            "_view_module": "@jupyter-widgets/controls",
            "_view_module_version": "1.5.0",
            "_view_name": "HTMLView",
            "description": "",
            "description_tooltip": null,
            "layout": "IPY_MODEL_a9b2d8d17bba4ffcace70cb5d13d5017",
            "placeholder": "​",
            "style": "IPY_MODEL_b60c8d5f488448c98e6b1727bf46ff5d",
            "value": " 349/349 [00:00&lt;00:00, 19.1kB/s]"
          }
        },
        "2bb678fac4bf435abe5dc414f5a21c98": {
          "model_module": "@jupyter-widgets/base",
          "model_name": "LayoutModel",
          "model_module_version": "1.2.0",
          "state": {
            "_model_module": "@jupyter-widgets/base",
            "_model_module_version": "1.2.0",
            "_model_name": "LayoutModel",
            "_view_count": null,
            "_view_module": "@jupyter-widgets/base",
            "_view_module_version": "1.2.0",
            "_view_name": "LayoutView",
            "align_content": null,
            "align_items": null,
            "align_self": null,
            "border": null,
            "bottom": null,
            "display": null,
            "flex": null,
            "flex_flow": null,
            "grid_area": null,
            "grid_auto_columns": null,
            "grid_auto_flow": null,
            "grid_auto_rows": null,
            "grid_column": null,
            "grid_gap": null,
            "grid_row": null,
            "grid_template_areas": null,
            "grid_template_columns": null,
            "grid_template_rows": null,
            "height": null,
            "justify_content": null,
            "justify_items": null,
            "left": null,
            "margin": null,
            "max_height": null,
            "max_width": null,
            "min_height": null,
            "min_width": null,
            "object_fit": null,
            "object_position": null,
            "order": null,
            "overflow": null,
            "overflow_x": null,
            "overflow_y": null,
            "padding": null,
            "right": null,
            "top": null,
            "visibility": null,
            "width": null
          }
        },
        "edab98dd6a004afe8b8955001525c676": {
          "model_module": "@jupyter-widgets/base",
          "model_name": "LayoutModel",
          "model_module_version": "1.2.0",
          "state": {
            "_model_module": "@jupyter-widgets/base",
            "_model_module_version": "1.2.0",
            "_model_name": "LayoutModel",
            "_view_count": null,
            "_view_module": "@jupyter-widgets/base",
            "_view_module_version": "1.2.0",
            "_view_name": "LayoutView",
            "align_content": null,
            "align_items": null,
            "align_self": null,
            "border": null,
            "bottom": null,
            "display": null,
            "flex": null,
            "flex_flow": null,
            "grid_area": null,
            "grid_auto_columns": null,
            "grid_auto_flow": null,
            "grid_auto_rows": null,
            "grid_column": null,
            "grid_gap": null,
            "grid_row": null,
            "grid_template_areas": null,
            "grid_template_columns": null,
            "grid_template_rows": null,
            "height": null,
            "justify_content": null,
            "justify_items": null,
            "left": null,
            "margin": null,
            "max_height": null,
            "max_width": null,
            "min_height": null,
            "min_width": null,
            "object_fit": null,
            "object_position": null,
            "order": null,
            "overflow": null,
            "overflow_x": null,
            "overflow_y": null,
            "padding": null,
            "right": null,
            "top": null,
            "visibility": null,
            "width": null
          }
        },
        "fbfea634973746c085082dbf0327a538": {
          "model_module": "@jupyter-widgets/controls",
          "model_name": "DescriptionStyleModel",
          "model_module_version": "1.5.0",
          "state": {
            "_model_module": "@jupyter-widgets/controls",
            "_model_module_version": "1.5.0",
            "_model_name": "DescriptionStyleModel",
            "_view_count": null,
            "_view_module": "@jupyter-widgets/base",
            "_view_module_version": "1.2.0",
            "_view_name": "StyleView",
            "description_width": ""
          }
        },
        "3e2e143df46541eea9b3ed768d728e9b": {
          "model_module": "@jupyter-widgets/base",
          "model_name": "LayoutModel",
          "model_module_version": "1.2.0",
          "state": {
            "_model_module": "@jupyter-widgets/base",
            "_model_module_version": "1.2.0",
            "_model_name": "LayoutModel",
            "_view_count": null,
            "_view_module": "@jupyter-widgets/base",
            "_view_module_version": "1.2.0",
            "_view_name": "LayoutView",
            "align_content": null,
            "align_items": null,
            "align_self": null,
            "border": null,
            "bottom": null,
            "display": null,
            "flex": null,
            "flex_flow": null,
            "grid_area": null,
            "grid_auto_columns": null,
            "grid_auto_flow": null,
            "grid_auto_rows": null,
            "grid_column": null,
            "grid_gap": null,
            "grid_row": null,
            "grid_template_areas": null,
            "grid_template_columns": null,
            "grid_template_rows": null,
            "height": null,
            "justify_content": null,
            "justify_items": null,
            "left": null,
            "margin": null,
            "max_height": null,
            "max_width": null,
            "min_height": null,
            "min_width": null,
            "object_fit": null,
            "object_position": null,
            "order": null,
            "overflow": null,
            "overflow_x": null,
            "overflow_y": null,
            "padding": null,
            "right": null,
            "top": null,
            "visibility": null,
            "width": null
          }
        },
        "69a747d1f7ea4037b1384a16d8e0c399": {
          "model_module": "@jupyter-widgets/controls",
          "model_name": "ProgressStyleModel",
          "model_module_version": "1.5.0",
          "state": {
            "_model_module": "@jupyter-widgets/controls",
            "_model_module_version": "1.5.0",
            "_model_name": "ProgressStyleModel",
            "_view_count": null,
            "_view_module": "@jupyter-widgets/base",
            "_view_module_version": "1.2.0",
            "_view_name": "StyleView",
            "bar_color": null,
            "description_width": ""
          }
        },
        "a9b2d8d17bba4ffcace70cb5d13d5017": {
          "model_module": "@jupyter-widgets/base",
          "model_name": "LayoutModel",
          "model_module_version": "1.2.0",
          "state": {
            "_model_module": "@jupyter-widgets/base",
            "_model_module_version": "1.2.0",
            "_model_name": "LayoutModel",
            "_view_count": null,
            "_view_module": "@jupyter-widgets/base",
            "_view_module_version": "1.2.0",
            "_view_name": "LayoutView",
            "align_content": null,
            "align_items": null,
            "align_self": null,
            "border": null,
            "bottom": null,
            "display": null,
            "flex": null,
            "flex_flow": null,
            "grid_area": null,
            "grid_auto_columns": null,
            "grid_auto_flow": null,
            "grid_auto_rows": null,
            "grid_column": null,
            "grid_gap": null,
            "grid_row": null,
            "grid_template_areas": null,
            "grid_template_columns": null,
            "grid_template_rows": null,
            "height": null,
            "justify_content": null,
            "justify_items": null,
            "left": null,
            "margin": null,
            "max_height": null,
            "max_width": null,
            "min_height": null,
            "min_width": null,
            "object_fit": null,
            "object_position": null,
            "order": null,
            "overflow": null,
            "overflow_x": null,
            "overflow_y": null,
            "padding": null,
            "right": null,
            "top": null,
            "visibility": null,
            "width": null
          }
        },
        "b60c8d5f488448c98e6b1727bf46ff5d": {
          "model_module": "@jupyter-widgets/controls",
          "model_name": "DescriptionStyleModel",
          "model_module_version": "1.5.0",
          "state": {
            "_model_module": "@jupyter-widgets/controls",
            "_model_module_version": "1.5.0",
            "_model_name": "DescriptionStyleModel",
            "_view_count": null,
            "_view_module": "@jupyter-widgets/base",
            "_view_module_version": "1.2.0",
            "_view_name": "StyleView",
            "description_width": ""
          }
        },
        "8bb2e01ea3d54faca07298291bac4abe": {
          "model_module": "@jupyter-widgets/controls",
          "model_name": "HBoxModel",
          "model_module_version": "1.5.0",
          "state": {
            "_dom_classes": [],
            "_model_module": "@jupyter-widgets/controls",
            "_model_module_version": "1.5.0",
            "_model_name": "HBoxModel",
            "_view_count": null,
            "_view_module": "@jupyter-widgets/controls",
            "_view_module_version": "1.5.0",
            "_view_name": "HBoxView",
            "box_style": "",
            "children": [
              "IPY_MODEL_fbcc054c56d2454f9ac84fb78a8113a3",
              "IPY_MODEL_3399744ecca54f7987b1b5bbd6d9cab2",
              "IPY_MODEL_70c05b6bba934bf9a4e1a384747f077c"
            ],
            "layout": "IPY_MODEL_d4f0cc44e262408eaf0dc1893e34550d"
          }
        },
        "fbcc054c56d2454f9ac84fb78a8113a3": {
          "model_module": "@jupyter-widgets/controls",
          "model_name": "HTMLModel",
          "model_module_version": "1.5.0",
          "state": {
            "_dom_classes": [],
            "_model_module": "@jupyter-widgets/controls",
            "_model_module_version": "1.5.0",
            "_model_name": "HTMLModel",
            "_view_count": null,
            "_view_module": "@jupyter-widgets/controls",
            "_view_module_version": "1.5.0",
            "_view_name": "HTMLView",
            "description": "",
            "description_tooltip": null,
            "layout": "IPY_MODEL_faf666caefae4ae4ac5e8d29b172f5b7",
            "placeholder": "​",
            "style": "IPY_MODEL_657f6ce68f3f42ba8edb3199fe3d63d6",
            "value": "config_sentence_transformers.json: 100%"
          }
        },
        "3399744ecca54f7987b1b5bbd6d9cab2": {
          "model_module": "@jupyter-widgets/controls",
          "model_name": "FloatProgressModel",
          "model_module_version": "1.5.0",
          "state": {
            "_dom_classes": [],
            "_model_module": "@jupyter-widgets/controls",
            "_model_module_version": "1.5.0",
            "_model_name": "FloatProgressModel",
            "_view_count": null,
            "_view_module": "@jupyter-widgets/controls",
            "_view_module_version": "1.5.0",
            "_view_name": "ProgressView",
            "bar_style": "success",
            "description": "",
            "description_tooltip": null,
            "layout": "IPY_MODEL_7093c59d121b4c1eb7b17df2e59ee9aa",
            "max": 116,
            "min": 0,
            "orientation": "horizontal",
            "style": "IPY_MODEL_4f8afe62b7ad4b98a699bcda859c14d1",
            "value": 116
          }
        },
        "70c05b6bba934bf9a4e1a384747f077c": {
          "model_module": "@jupyter-widgets/controls",
          "model_name": "HTMLModel",
          "model_module_version": "1.5.0",
          "state": {
            "_dom_classes": [],
            "_model_module": "@jupyter-widgets/controls",
            "_model_module_version": "1.5.0",
            "_model_name": "HTMLModel",
            "_view_count": null,
            "_view_module": "@jupyter-widgets/controls",
            "_view_module_version": "1.5.0",
            "_view_name": "HTMLView",
            "description": "",
            "description_tooltip": null,
            "layout": "IPY_MODEL_599479994d964851978e4757e95871ba",
            "placeholder": "​",
            "style": "IPY_MODEL_ca90b434080e4e78a058a67cdb829b10",
            "value": " 116/116 [00:00&lt;00:00, 5.58kB/s]"
          }
        },
        "d4f0cc44e262408eaf0dc1893e34550d": {
          "model_module": "@jupyter-widgets/base",
          "model_name": "LayoutModel",
          "model_module_version": "1.2.0",
          "state": {
            "_model_module": "@jupyter-widgets/base",
            "_model_module_version": "1.2.0",
            "_model_name": "LayoutModel",
            "_view_count": null,
            "_view_module": "@jupyter-widgets/base",
            "_view_module_version": "1.2.0",
            "_view_name": "LayoutView",
            "align_content": null,
            "align_items": null,
            "align_self": null,
            "border": null,
            "bottom": null,
            "display": null,
            "flex": null,
            "flex_flow": null,
            "grid_area": null,
            "grid_auto_columns": null,
            "grid_auto_flow": null,
            "grid_auto_rows": null,
            "grid_column": null,
            "grid_gap": null,
            "grid_row": null,
            "grid_template_areas": null,
            "grid_template_columns": null,
            "grid_template_rows": null,
            "height": null,
            "justify_content": null,
            "justify_items": null,
            "left": null,
            "margin": null,
            "max_height": null,
            "max_width": null,
            "min_height": null,
            "min_width": null,
            "object_fit": null,
            "object_position": null,
            "order": null,
            "overflow": null,
            "overflow_x": null,
            "overflow_y": null,
            "padding": null,
            "right": null,
            "top": null,
            "visibility": null,
            "width": null
          }
        },
        "faf666caefae4ae4ac5e8d29b172f5b7": {
          "model_module": "@jupyter-widgets/base",
          "model_name": "LayoutModel",
          "model_module_version": "1.2.0",
          "state": {
            "_model_module": "@jupyter-widgets/base",
            "_model_module_version": "1.2.0",
            "_model_name": "LayoutModel",
            "_view_count": null,
            "_view_module": "@jupyter-widgets/base",
            "_view_module_version": "1.2.0",
            "_view_name": "LayoutView",
            "align_content": null,
            "align_items": null,
            "align_self": null,
            "border": null,
            "bottom": null,
            "display": null,
            "flex": null,
            "flex_flow": null,
            "grid_area": null,
            "grid_auto_columns": null,
            "grid_auto_flow": null,
            "grid_auto_rows": null,
            "grid_column": null,
            "grid_gap": null,
            "grid_row": null,
            "grid_template_areas": null,
            "grid_template_columns": null,
            "grid_template_rows": null,
            "height": null,
            "justify_content": null,
            "justify_items": null,
            "left": null,
            "margin": null,
            "max_height": null,
            "max_width": null,
            "min_height": null,
            "min_width": null,
            "object_fit": null,
            "object_position": null,
            "order": null,
            "overflow": null,
            "overflow_x": null,
            "overflow_y": null,
            "padding": null,
            "right": null,
            "top": null,
            "visibility": null,
            "width": null
          }
        },
        "657f6ce68f3f42ba8edb3199fe3d63d6": {
          "model_module": "@jupyter-widgets/controls",
          "model_name": "DescriptionStyleModel",
          "model_module_version": "1.5.0",
          "state": {
            "_model_module": "@jupyter-widgets/controls",
            "_model_module_version": "1.5.0",
            "_model_name": "DescriptionStyleModel",
            "_view_count": null,
            "_view_module": "@jupyter-widgets/base",
            "_view_module_version": "1.2.0",
            "_view_name": "StyleView",
            "description_width": ""
          }
        },
        "7093c59d121b4c1eb7b17df2e59ee9aa": {
          "model_module": "@jupyter-widgets/base",
          "model_name": "LayoutModel",
          "model_module_version": "1.2.0",
          "state": {
            "_model_module": "@jupyter-widgets/base",
            "_model_module_version": "1.2.0",
            "_model_name": "LayoutModel",
            "_view_count": null,
            "_view_module": "@jupyter-widgets/base",
            "_view_module_version": "1.2.0",
            "_view_name": "LayoutView",
            "align_content": null,
            "align_items": null,
            "align_self": null,
            "border": null,
            "bottom": null,
            "display": null,
            "flex": null,
            "flex_flow": null,
            "grid_area": null,
            "grid_auto_columns": null,
            "grid_auto_flow": null,
            "grid_auto_rows": null,
            "grid_column": null,
            "grid_gap": null,
            "grid_row": null,
            "grid_template_areas": null,
            "grid_template_columns": null,
            "grid_template_rows": null,
            "height": null,
            "justify_content": null,
            "justify_items": null,
            "left": null,
            "margin": null,
            "max_height": null,
            "max_width": null,
            "min_height": null,
            "min_width": null,
            "object_fit": null,
            "object_position": null,
            "order": null,
            "overflow": null,
            "overflow_x": null,
            "overflow_y": null,
            "padding": null,
            "right": null,
            "top": null,
            "visibility": null,
            "width": null
          }
        },
        "4f8afe62b7ad4b98a699bcda859c14d1": {
          "model_module": "@jupyter-widgets/controls",
          "model_name": "ProgressStyleModel",
          "model_module_version": "1.5.0",
          "state": {
            "_model_module": "@jupyter-widgets/controls",
            "_model_module_version": "1.5.0",
            "_model_name": "ProgressStyleModel",
            "_view_count": null,
            "_view_module": "@jupyter-widgets/base",
            "_view_module_version": "1.2.0",
            "_view_name": "StyleView",
            "bar_color": null,
            "description_width": ""
          }
        },
        "599479994d964851978e4757e95871ba": {
          "model_module": "@jupyter-widgets/base",
          "model_name": "LayoutModel",
          "model_module_version": "1.2.0",
          "state": {
            "_model_module": "@jupyter-widgets/base",
            "_model_module_version": "1.2.0",
            "_model_name": "LayoutModel",
            "_view_count": null,
            "_view_module": "@jupyter-widgets/base",
            "_view_module_version": "1.2.0",
            "_view_name": "LayoutView",
            "align_content": null,
            "align_items": null,
            "align_self": null,
            "border": null,
            "bottom": null,
            "display": null,
            "flex": null,
            "flex_flow": null,
            "grid_area": null,
            "grid_auto_columns": null,
            "grid_auto_flow": null,
            "grid_auto_rows": null,
            "grid_column": null,
            "grid_gap": null,
            "grid_row": null,
            "grid_template_areas": null,
            "grid_template_columns": null,
            "grid_template_rows": null,
            "height": null,
            "justify_content": null,
            "justify_items": null,
            "left": null,
            "margin": null,
            "max_height": null,
            "max_width": null,
            "min_height": null,
            "min_width": null,
            "object_fit": null,
            "object_position": null,
            "order": null,
            "overflow": null,
            "overflow_x": null,
            "overflow_y": null,
            "padding": null,
            "right": null,
            "top": null,
            "visibility": null,
            "width": null
          }
        },
        "ca90b434080e4e78a058a67cdb829b10": {
          "model_module": "@jupyter-widgets/controls",
          "model_name": "DescriptionStyleModel",
          "model_module_version": "1.5.0",
          "state": {
            "_model_module": "@jupyter-widgets/controls",
            "_model_module_version": "1.5.0",
            "_model_name": "DescriptionStyleModel",
            "_view_count": null,
            "_view_module": "@jupyter-widgets/base",
            "_view_module_version": "1.2.0",
            "_view_name": "StyleView",
            "description_width": ""
          }
        },
        "52ab698cdece49ed9a958cea2151daf9": {
          "model_module": "@jupyter-widgets/controls",
          "model_name": "HBoxModel",
          "model_module_version": "1.5.0",
          "state": {
            "_dom_classes": [],
            "_model_module": "@jupyter-widgets/controls",
            "_model_module_version": "1.5.0",
            "_model_name": "HBoxModel",
            "_view_count": null,
            "_view_module": "@jupyter-widgets/controls",
            "_view_module_version": "1.5.0",
            "_view_name": "HBoxView",
            "box_style": "",
            "children": [
              "IPY_MODEL_394a03abf802438b820c640bb58af86a",
              "IPY_MODEL_6225a8c99f5448d6a99e444240b2151e",
              "IPY_MODEL_f445ff98da6c4cf089fe25dd326b6b25"
            ],
            "layout": "IPY_MODEL_0f4c2de40ce64e04b23d876f2829fa52"
          }
        },
        "394a03abf802438b820c640bb58af86a": {
          "model_module": "@jupyter-widgets/controls",
          "model_name": "HTMLModel",
          "model_module_version": "1.5.0",
          "state": {
            "_dom_classes": [],
            "_model_module": "@jupyter-widgets/controls",
            "_model_module_version": "1.5.0",
            "_model_name": "HTMLModel",
            "_view_count": null,
            "_view_module": "@jupyter-widgets/controls",
            "_view_module_version": "1.5.0",
            "_view_name": "HTMLView",
            "description": "",
            "description_tooltip": null,
            "layout": "IPY_MODEL_9b939a90d32843d3b8719f208b332a43",
            "placeholder": "​",
            "style": "IPY_MODEL_f804d48972ce47d09387181f1aeb43ab",
            "value": "README.md: 100%"
          }
        },
        "6225a8c99f5448d6a99e444240b2151e": {
          "model_module": "@jupyter-widgets/controls",
          "model_name": "FloatProgressModel",
          "model_module_version": "1.5.0",
          "state": {
            "_dom_classes": [],
            "_model_module": "@jupyter-widgets/controls",
            "_model_module_version": "1.5.0",
            "_model_name": "FloatProgressModel",
            "_view_count": null,
            "_view_module": "@jupyter-widgets/controls",
            "_view_module_version": "1.5.0",
            "_view_name": "ProgressView",
            "bar_style": "success",
            "description": "",
            "description_tooltip": null,
            "layout": "IPY_MODEL_505880adf7b847b58c528a46bc8eb6e7",
            "max": 10659,
            "min": 0,
            "orientation": "horizontal",
            "style": "IPY_MODEL_dc059ed732eb4453a30c3c9903888ada",
            "value": 10659
          }
        },
        "f445ff98da6c4cf089fe25dd326b6b25": {
          "model_module": "@jupyter-widgets/controls",
          "model_name": "HTMLModel",
          "model_module_version": "1.5.0",
          "state": {
            "_dom_classes": [],
            "_model_module": "@jupyter-widgets/controls",
            "_model_module_version": "1.5.0",
            "_model_name": "HTMLModel",
            "_view_count": null,
            "_view_module": "@jupyter-widgets/controls",
            "_view_module_version": "1.5.0",
            "_view_name": "HTMLView",
            "description": "",
            "description_tooltip": null,
            "layout": "IPY_MODEL_956527c46dfc41cc805b04310ca35b5c",
            "placeholder": "​",
            "style": "IPY_MODEL_57c40f0078dd47a69652a6480a0d3c7e",
            "value": " 10.7k/10.7k [00:00&lt;00:00, 594kB/s]"
          }
        },
        "0f4c2de40ce64e04b23d876f2829fa52": {
          "model_module": "@jupyter-widgets/base",
          "model_name": "LayoutModel",
          "model_module_version": "1.2.0",
          "state": {
            "_model_module": "@jupyter-widgets/base",
            "_model_module_version": "1.2.0",
            "_model_name": "LayoutModel",
            "_view_count": null,
            "_view_module": "@jupyter-widgets/base",
            "_view_module_version": "1.2.0",
            "_view_name": "LayoutView",
            "align_content": null,
            "align_items": null,
            "align_self": null,
            "border": null,
            "bottom": null,
            "display": null,
            "flex": null,
            "flex_flow": null,
            "grid_area": null,
            "grid_auto_columns": null,
            "grid_auto_flow": null,
            "grid_auto_rows": null,
            "grid_column": null,
            "grid_gap": null,
            "grid_row": null,
            "grid_template_areas": null,
            "grid_template_columns": null,
            "grid_template_rows": null,
            "height": null,
            "justify_content": null,
            "justify_items": null,
            "left": null,
            "margin": null,
            "max_height": null,
            "max_width": null,
            "min_height": null,
            "min_width": null,
            "object_fit": null,
            "object_position": null,
            "order": null,
            "overflow": null,
            "overflow_x": null,
            "overflow_y": null,
            "padding": null,
            "right": null,
            "top": null,
            "visibility": null,
            "width": null
          }
        },
        "9b939a90d32843d3b8719f208b332a43": {
          "model_module": "@jupyter-widgets/base",
          "model_name": "LayoutModel",
          "model_module_version": "1.2.0",
          "state": {
            "_model_module": "@jupyter-widgets/base",
            "_model_module_version": "1.2.0",
            "_model_name": "LayoutModel",
            "_view_count": null,
            "_view_module": "@jupyter-widgets/base",
            "_view_module_version": "1.2.0",
            "_view_name": "LayoutView",
            "align_content": null,
            "align_items": null,
            "align_self": null,
            "border": null,
            "bottom": null,
            "display": null,
            "flex": null,
            "flex_flow": null,
            "grid_area": null,
            "grid_auto_columns": null,
            "grid_auto_flow": null,
            "grid_auto_rows": null,
            "grid_column": null,
            "grid_gap": null,
            "grid_row": null,
            "grid_template_areas": null,
            "grid_template_columns": null,
            "grid_template_rows": null,
            "height": null,
            "justify_content": null,
            "justify_items": null,
            "left": null,
            "margin": null,
            "max_height": null,
            "max_width": null,
            "min_height": null,
            "min_width": null,
            "object_fit": null,
            "object_position": null,
            "order": null,
            "overflow": null,
            "overflow_x": null,
            "overflow_y": null,
            "padding": null,
            "right": null,
            "top": null,
            "visibility": null,
            "width": null
          }
        },
        "f804d48972ce47d09387181f1aeb43ab": {
          "model_module": "@jupyter-widgets/controls",
          "model_name": "DescriptionStyleModel",
          "model_module_version": "1.5.0",
          "state": {
            "_model_module": "@jupyter-widgets/controls",
            "_model_module_version": "1.5.0",
            "_model_name": "DescriptionStyleModel",
            "_view_count": null,
            "_view_module": "@jupyter-widgets/base",
            "_view_module_version": "1.2.0",
            "_view_name": "StyleView",
            "description_width": ""
          }
        },
        "505880adf7b847b58c528a46bc8eb6e7": {
          "model_module": "@jupyter-widgets/base",
          "model_name": "LayoutModel",
          "model_module_version": "1.2.0",
          "state": {
            "_model_module": "@jupyter-widgets/base",
            "_model_module_version": "1.2.0",
            "_model_name": "LayoutModel",
            "_view_count": null,
            "_view_module": "@jupyter-widgets/base",
            "_view_module_version": "1.2.0",
            "_view_name": "LayoutView",
            "align_content": null,
            "align_items": null,
            "align_self": null,
            "border": null,
            "bottom": null,
            "display": null,
            "flex": null,
            "flex_flow": null,
            "grid_area": null,
            "grid_auto_columns": null,
            "grid_auto_flow": null,
            "grid_auto_rows": null,
            "grid_column": null,
            "grid_gap": null,
            "grid_row": null,
            "grid_template_areas": null,
            "grid_template_columns": null,
            "grid_template_rows": null,
            "height": null,
            "justify_content": null,
            "justify_items": null,
            "left": null,
            "margin": null,
            "max_height": null,
            "max_width": null,
            "min_height": null,
            "min_width": null,
            "object_fit": null,
            "object_position": null,
            "order": null,
            "overflow": null,
            "overflow_x": null,
            "overflow_y": null,
            "padding": null,
            "right": null,
            "top": null,
            "visibility": null,
            "width": null
          }
        },
        "dc059ed732eb4453a30c3c9903888ada": {
          "model_module": "@jupyter-widgets/controls",
          "model_name": "ProgressStyleModel",
          "model_module_version": "1.5.0",
          "state": {
            "_model_module": "@jupyter-widgets/controls",
            "_model_module_version": "1.5.0",
            "_model_name": "ProgressStyleModel",
            "_view_count": null,
            "_view_module": "@jupyter-widgets/base",
            "_view_module_version": "1.2.0",
            "_view_name": "StyleView",
            "bar_color": null,
            "description_width": ""
          }
        },
        "956527c46dfc41cc805b04310ca35b5c": {
          "model_module": "@jupyter-widgets/base",
          "model_name": "LayoutModel",
          "model_module_version": "1.2.0",
          "state": {
            "_model_module": "@jupyter-widgets/base",
            "_model_module_version": "1.2.0",
            "_model_name": "LayoutModel",
            "_view_count": null,
            "_view_module": "@jupyter-widgets/base",
            "_view_module_version": "1.2.0",
            "_view_name": "LayoutView",
            "align_content": null,
            "align_items": null,
            "align_self": null,
            "border": null,
            "bottom": null,
            "display": null,
            "flex": null,
            "flex_flow": null,
            "grid_area": null,
            "grid_auto_columns": null,
            "grid_auto_flow": null,
            "grid_auto_rows": null,
            "grid_column": null,
            "grid_gap": null,
            "grid_row": null,
            "grid_template_areas": null,
            "grid_template_columns": null,
            "grid_template_rows": null,
            "height": null,
            "justify_content": null,
            "justify_items": null,
            "left": null,
            "margin": null,
            "max_height": null,
            "max_width": null,
            "min_height": null,
            "min_width": null,
            "object_fit": null,
            "object_position": null,
            "order": null,
            "overflow": null,
            "overflow_x": null,
            "overflow_y": null,
            "padding": null,
            "right": null,
            "top": null,
            "visibility": null,
            "width": null
          }
        },
        "57c40f0078dd47a69652a6480a0d3c7e": {
          "model_module": "@jupyter-widgets/controls",
          "model_name": "DescriptionStyleModel",
          "model_module_version": "1.5.0",
          "state": {
            "_model_module": "@jupyter-widgets/controls",
            "_model_module_version": "1.5.0",
            "_model_name": "DescriptionStyleModel",
            "_view_count": null,
            "_view_module": "@jupyter-widgets/base",
            "_view_module_version": "1.2.0",
            "_view_name": "StyleView",
            "description_width": ""
          }
        },
        "364458b3433c43b2b5f94dbcc8c339c5": {
          "model_module": "@jupyter-widgets/controls",
          "model_name": "HBoxModel",
          "model_module_version": "1.5.0",
          "state": {
            "_dom_classes": [],
            "_model_module": "@jupyter-widgets/controls",
            "_model_module_version": "1.5.0",
            "_model_name": "HBoxModel",
            "_view_count": null,
            "_view_module": "@jupyter-widgets/controls",
            "_view_module_version": "1.5.0",
            "_view_name": "HBoxView",
            "box_style": "",
            "children": [
              "IPY_MODEL_f3d6c086376d4d36a51e311e86b6812c",
              "IPY_MODEL_f310b79ce52a4de3ad0bc7a905429fc8",
              "IPY_MODEL_c5b7d7364cc44767aa819aa3130fc61e"
            ],
            "layout": "IPY_MODEL_e10168af7163468a992377ff88f39b5b"
          }
        },
        "f3d6c086376d4d36a51e311e86b6812c": {
          "model_module": "@jupyter-widgets/controls",
          "model_name": "HTMLModel",
          "model_module_version": "1.5.0",
          "state": {
            "_dom_classes": [],
            "_model_module": "@jupyter-widgets/controls",
            "_model_module_version": "1.5.0",
            "_model_name": "HTMLModel",
            "_view_count": null,
            "_view_module": "@jupyter-widgets/controls",
            "_view_module_version": "1.5.0",
            "_view_name": "HTMLView",
            "description": "",
            "description_tooltip": null,
            "layout": "IPY_MODEL_e040bea182894b7a91511455be979383",
            "placeholder": "​",
            "style": "IPY_MODEL_622c71ff77e44cc59e66f24492e2a6a6",
            "value": "sentence_bert_config.json: 100%"
          }
        },
        "f310b79ce52a4de3ad0bc7a905429fc8": {
          "model_module": "@jupyter-widgets/controls",
          "model_name": "FloatProgressModel",
          "model_module_version": "1.5.0",
          "state": {
            "_dom_classes": [],
            "_model_module": "@jupyter-widgets/controls",
            "_model_module_version": "1.5.0",
            "_model_name": "FloatProgressModel",
            "_view_count": null,
            "_view_module": "@jupyter-widgets/controls",
            "_view_module_version": "1.5.0",
            "_view_name": "ProgressView",
            "bar_style": "success",
            "description": "",
            "description_tooltip": null,
            "layout": "IPY_MODEL_8e38eb629c27444fb3f7b6ea90aaf653",
            "max": 53,
            "min": 0,
            "orientation": "horizontal",
            "style": "IPY_MODEL_3cd5c318059749e394524c13b9a50051",
            "value": 53
          }
        },
        "c5b7d7364cc44767aa819aa3130fc61e": {
          "model_module": "@jupyter-widgets/controls",
          "model_name": "HTMLModel",
          "model_module_version": "1.5.0",
          "state": {
            "_dom_classes": [],
            "_model_module": "@jupyter-widgets/controls",
            "_model_module_version": "1.5.0",
            "_model_name": "HTMLModel",
            "_view_count": null,
            "_view_module": "@jupyter-widgets/controls",
            "_view_module_version": "1.5.0",
            "_view_name": "HTMLView",
            "description": "",
            "description_tooltip": null,
            "layout": "IPY_MODEL_7aba1a5c4a0a45e29c09ea30a8f7c86c",
            "placeholder": "​",
            "style": "IPY_MODEL_60fc03d40b564dfabeb90aae9b130d99",
            "value": " 53.0/53.0 [00:00&lt;00:00, 3.13kB/s]"
          }
        },
        "e10168af7163468a992377ff88f39b5b": {
          "model_module": "@jupyter-widgets/base",
          "model_name": "LayoutModel",
          "model_module_version": "1.2.0",
          "state": {
            "_model_module": "@jupyter-widgets/base",
            "_model_module_version": "1.2.0",
            "_model_name": "LayoutModel",
            "_view_count": null,
            "_view_module": "@jupyter-widgets/base",
            "_view_module_version": "1.2.0",
            "_view_name": "LayoutView",
            "align_content": null,
            "align_items": null,
            "align_self": null,
            "border": null,
            "bottom": null,
            "display": null,
            "flex": null,
            "flex_flow": null,
            "grid_area": null,
            "grid_auto_columns": null,
            "grid_auto_flow": null,
            "grid_auto_rows": null,
            "grid_column": null,
            "grid_gap": null,
            "grid_row": null,
            "grid_template_areas": null,
            "grid_template_columns": null,
            "grid_template_rows": null,
            "height": null,
            "justify_content": null,
            "justify_items": null,
            "left": null,
            "margin": null,
            "max_height": null,
            "max_width": null,
            "min_height": null,
            "min_width": null,
            "object_fit": null,
            "object_position": null,
            "order": null,
            "overflow": null,
            "overflow_x": null,
            "overflow_y": null,
            "padding": null,
            "right": null,
            "top": null,
            "visibility": null,
            "width": null
          }
        },
        "e040bea182894b7a91511455be979383": {
          "model_module": "@jupyter-widgets/base",
          "model_name": "LayoutModel",
          "model_module_version": "1.2.0",
          "state": {
            "_model_module": "@jupyter-widgets/base",
            "_model_module_version": "1.2.0",
            "_model_name": "LayoutModel",
            "_view_count": null,
            "_view_module": "@jupyter-widgets/base",
            "_view_module_version": "1.2.0",
            "_view_name": "LayoutView",
            "align_content": null,
            "align_items": null,
            "align_self": null,
            "border": null,
            "bottom": null,
            "display": null,
            "flex": null,
            "flex_flow": null,
            "grid_area": null,
            "grid_auto_columns": null,
            "grid_auto_flow": null,
            "grid_auto_rows": null,
            "grid_column": null,
            "grid_gap": null,
            "grid_row": null,
            "grid_template_areas": null,
            "grid_template_columns": null,
            "grid_template_rows": null,
            "height": null,
            "justify_content": null,
            "justify_items": null,
            "left": null,
            "margin": null,
            "max_height": null,
            "max_width": null,
            "min_height": null,
            "min_width": null,
            "object_fit": null,
            "object_position": null,
            "order": null,
            "overflow": null,
            "overflow_x": null,
            "overflow_y": null,
            "padding": null,
            "right": null,
            "top": null,
            "visibility": null,
            "width": null
          }
        },
        "622c71ff77e44cc59e66f24492e2a6a6": {
          "model_module": "@jupyter-widgets/controls",
          "model_name": "DescriptionStyleModel",
          "model_module_version": "1.5.0",
          "state": {
            "_model_module": "@jupyter-widgets/controls",
            "_model_module_version": "1.5.0",
            "_model_name": "DescriptionStyleModel",
            "_view_count": null,
            "_view_module": "@jupyter-widgets/base",
            "_view_module_version": "1.2.0",
            "_view_name": "StyleView",
            "description_width": ""
          }
        },
        "8e38eb629c27444fb3f7b6ea90aaf653": {
          "model_module": "@jupyter-widgets/base",
          "model_name": "LayoutModel",
          "model_module_version": "1.2.0",
          "state": {
            "_model_module": "@jupyter-widgets/base",
            "_model_module_version": "1.2.0",
            "_model_name": "LayoutModel",
            "_view_count": null,
            "_view_module": "@jupyter-widgets/base",
            "_view_module_version": "1.2.0",
            "_view_name": "LayoutView",
            "align_content": null,
            "align_items": null,
            "align_self": null,
            "border": null,
            "bottom": null,
            "display": null,
            "flex": null,
            "flex_flow": null,
            "grid_area": null,
            "grid_auto_columns": null,
            "grid_auto_flow": null,
            "grid_auto_rows": null,
            "grid_column": null,
            "grid_gap": null,
            "grid_row": null,
            "grid_template_areas": null,
            "grid_template_columns": null,
            "grid_template_rows": null,
            "height": null,
            "justify_content": null,
            "justify_items": null,
            "left": null,
            "margin": null,
            "max_height": null,
            "max_width": null,
            "min_height": null,
            "min_width": null,
            "object_fit": null,
            "object_position": null,
            "order": null,
            "overflow": null,
            "overflow_x": null,
            "overflow_y": null,
            "padding": null,
            "right": null,
            "top": null,
            "visibility": null,
            "width": null
          }
        },
        "3cd5c318059749e394524c13b9a50051": {
          "model_module": "@jupyter-widgets/controls",
          "model_name": "ProgressStyleModel",
          "model_module_version": "1.5.0",
          "state": {
            "_model_module": "@jupyter-widgets/controls",
            "_model_module_version": "1.5.0",
            "_model_name": "ProgressStyleModel",
            "_view_count": null,
            "_view_module": "@jupyter-widgets/base",
            "_view_module_version": "1.2.0",
            "_view_name": "StyleView",
            "bar_color": null,
            "description_width": ""
          }
        },
        "7aba1a5c4a0a45e29c09ea30a8f7c86c": {
          "model_module": "@jupyter-widgets/base",
          "model_name": "LayoutModel",
          "model_module_version": "1.2.0",
          "state": {
            "_model_module": "@jupyter-widgets/base",
            "_model_module_version": "1.2.0",
            "_model_name": "LayoutModel",
            "_view_count": null,
            "_view_module": "@jupyter-widgets/base",
            "_view_module_version": "1.2.0",
            "_view_name": "LayoutView",
            "align_content": null,
            "align_items": null,
            "align_self": null,
            "border": null,
            "bottom": null,
            "display": null,
            "flex": null,
            "flex_flow": null,
            "grid_area": null,
            "grid_auto_columns": null,
            "grid_auto_flow": null,
            "grid_auto_rows": null,
            "grid_column": null,
            "grid_gap": null,
            "grid_row": null,
            "grid_template_areas": null,
            "grid_template_columns": null,
            "grid_template_rows": null,
            "height": null,
            "justify_content": null,
            "justify_items": null,
            "left": null,
            "margin": null,
            "max_height": null,
            "max_width": null,
            "min_height": null,
            "min_width": null,
            "object_fit": null,
            "object_position": null,
            "order": null,
            "overflow": null,
            "overflow_x": null,
            "overflow_y": null,
            "padding": null,
            "right": null,
            "top": null,
            "visibility": null,
            "width": null
          }
        },
        "60fc03d40b564dfabeb90aae9b130d99": {
          "model_module": "@jupyter-widgets/controls",
          "model_name": "DescriptionStyleModel",
          "model_module_version": "1.5.0",
          "state": {
            "_model_module": "@jupyter-widgets/controls",
            "_model_module_version": "1.5.0",
            "_model_name": "DescriptionStyleModel",
            "_view_count": null,
            "_view_module": "@jupyter-widgets/base",
            "_view_module_version": "1.2.0",
            "_view_name": "StyleView",
            "description_width": ""
          }
        },
        "d602483c52ec479c81de26bbb8f2dedb": {
          "model_module": "@jupyter-widgets/controls",
          "model_name": "HBoxModel",
          "model_module_version": "1.5.0",
          "state": {
            "_dom_classes": [],
            "_model_module": "@jupyter-widgets/controls",
            "_model_module_version": "1.5.0",
            "_model_name": "HBoxModel",
            "_view_count": null,
            "_view_module": "@jupyter-widgets/controls",
            "_view_module_version": "1.5.0",
            "_view_name": "HBoxView",
            "box_style": "",
            "children": [
              "IPY_MODEL_57e9695ae708483da10952fb2b0fb039",
              "IPY_MODEL_830e66756f4241878b2cf8311b85b7a6",
              "IPY_MODEL_02a469c40b1a4feeafe8d6f67907f663"
            ],
            "layout": "IPY_MODEL_fd342c9414554360bd16694ee241d254"
          }
        },
        "57e9695ae708483da10952fb2b0fb039": {
          "model_module": "@jupyter-widgets/controls",
          "model_name": "HTMLModel",
          "model_module_version": "1.5.0",
          "state": {
            "_dom_classes": [],
            "_model_module": "@jupyter-widgets/controls",
            "_model_module_version": "1.5.0",
            "_model_name": "HTMLModel",
            "_view_count": null,
            "_view_module": "@jupyter-widgets/controls",
            "_view_module_version": "1.5.0",
            "_view_name": "HTMLView",
            "description": "",
            "description_tooltip": null,
            "layout": "IPY_MODEL_f4373a423c954fdb903bf190cbf25be7",
            "placeholder": "​",
            "style": "IPY_MODEL_cb4ec00e91bc4ad1ab0bd5387ced758a",
            "value": "config.json: 100%"
          }
        },
        "830e66756f4241878b2cf8311b85b7a6": {
          "model_module": "@jupyter-widgets/controls",
          "model_name": "FloatProgressModel",
          "model_module_version": "1.5.0",
          "state": {
            "_dom_classes": [],
            "_model_module": "@jupyter-widgets/controls",
            "_model_module_version": "1.5.0",
            "_model_name": "FloatProgressModel",
            "_view_count": null,
            "_view_module": "@jupyter-widgets/controls",
            "_view_module_version": "1.5.0",
            "_view_name": "ProgressView",
            "bar_style": "success",
            "description": "",
            "description_tooltip": null,
            "layout": "IPY_MODEL_ca24c239c0cb46f4a49dcfabce2f6280",
            "max": 612,
            "min": 0,
            "orientation": "horizontal",
            "style": "IPY_MODEL_1b64821bea724c039b9beb7c229119c2",
            "value": 612
          }
        },
        "02a469c40b1a4feeafe8d6f67907f663": {
          "model_module": "@jupyter-widgets/controls",
          "model_name": "HTMLModel",
          "model_module_version": "1.5.0",
          "state": {
            "_dom_classes": [],
            "_model_module": "@jupyter-widgets/controls",
            "_model_module_version": "1.5.0",
            "_model_name": "HTMLModel",
            "_view_count": null,
            "_view_module": "@jupyter-widgets/controls",
            "_view_module_version": "1.5.0",
            "_view_name": "HTMLView",
            "description": "",
            "description_tooltip": null,
            "layout": "IPY_MODEL_9922eeec411e40f1b736a68f9d85b1f3",
            "placeholder": "​",
            "style": "IPY_MODEL_132de9eb516f422d8e64a6068573935b",
            "value": " 612/612 [00:00&lt;00:00, 24.4kB/s]"
          }
        },
        "fd342c9414554360bd16694ee241d254": {
          "model_module": "@jupyter-widgets/base",
          "model_name": "LayoutModel",
          "model_module_version": "1.2.0",
          "state": {
            "_model_module": "@jupyter-widgets/base",
            "_model_module_version": "1.2.0",
            "_model_name": "LayoutModel",
            "_view_count": null,
            "_view_module": "@jupyter-widgets/base",
            "_view_module_version": "1.2.0",
            "_view_name": "LayoutView",
            "align_content": null,
            "align_items": null,
            "align_self": null,
            "border": null,
            "bottom": null,
            "display": null,
            "flex": null,
            "flex_flow": null,
            "grid_area": null,
            "grid_auto_columns": null,
            "grid_auto_flow": null,
            "grid_auto_rows": null,
            "grid_column": null,
            "grid_gap": null,
            "grid_row": null,
            "grid_template_areas": null,
            "grid_template_columns": null,
            "grid_template_rows": null,
            "height": null,
            "justify_content": null,
            "justify_items": null,
            "left": null,
            "margin": null,
            "max_height": null,
            "max_width": null,
            "min_height": null,
            "min_width": null,
            "object_fit": null,
            "object_position": null,
            "order": null,
            "overflow": null,
            "overflow_x": null,
            "overflow_y": null,
            "padding": null,
            "right": null,
            "top": null,
            "visibility": null,
            "width": null
          }
        },
        "f4373a423c954fdb903bf190cbf25be7": {
          "model_module": "@jupyter-widgets/base",
          "model_name": "LayoutModel",
          "model_module_version": "1.2.0",
          "state": {
            "_model_module": "@jupyter-widgets/base",
            "_model_module_version": "1.2.0",
            "_model_name": "LayoutModel",
            "_view_count": null,
            "_view_module": "@jupyter-widgets/base",
            "_view_module_version": "1.2.0",
            "_view_name": "LayoutView",
            "align_content": null,
            "align_items": null,
            "align_self": null,
            "border": null,
            "bottom": null,
            "display": null,
            "flex": null,
            "flex_flow": null,
            "grid_area": null,
            "grid_auto_columns": null,
            "grid_auto_flow": null,
            "grid_auto_rows": null,
            "grid_column": null,
            "grid_gap": null,
            "grid_row": null,
            "grid_template_areas": null,
            "grid_template_columns": null,
            "grid_template_rows": null,
            "height": null,
            "justify_content": null,
            "justify_items": null,
            "left": null,
            "margin": null,
            "max_height": null,
            "max_width": null,
            "min_height": null,
            "min_width": null,
            "object_fit": null,
            "object_position": null,
            "order": null,
            "overflow": null,
            "overflow_x": null,
            "overflow_y": null,
            "padding": null,
            "right": null,
            "top": null,
            "visibility": null,
            "width": null
          }
        },
        "cb4ec00e91bc4ad1ab0bd5387ced758a": {
          "model_module": "@jupyter-widgets/controls",
          "model_name": "DescriptionStyleModel",
          "model_module_version": "1.5.0",
          "state": {
            "_model_module": "@jupyter-widgets/controls",
            "_model_module_version": "1.5.0",
            "_model_name": "DescriptionStyleModel",
            "_view_count": null,
            "_view_module": "@jupyter-widgets/base",
            "_view_module_version": "1.2.0",
            "_view_name": "StyleView",
            "description_width": ""
          }
        },
        "ca24c239c0cb46f4a49dcfabce2f6280": {
          "model_module": "@jupyter-widgets/base",
          "model_name": "LayoutModel",
          "model_module_version": "1.2.0",
          "state": {
            "_model_module": "@jupyter-widgets/base",
            "_model_module_version": "1.2.0",
            "_model_name": "LayoutModel",
            "_view_count": null,
            "_view_module": "@jupyter-widgets/base",
            "_view_module_version": "1.2.0",
            "_view_name": "LayoutView",
            "align_content": null,
            "align_items": null,
            "align_self": null,
            "border": null,
            "bottom": null,
            "display": null,
            "flex": null,
            "flex_flow": null,
            "grid_area": null,
            "grid_auto_columns": null,
            "grid_auto_flow": null,
            "grid_auto_rows": null,
            "grid_column": null,
            "grid_gap": null,
            "grid_row": null,
            "grid_template_areas": null,
            "grid_template_columns": null,
            "grid_template_rows": null,
            "height": null,
            "justify_content": null,
            "justify_items": null,
            "left": null,
            "margin": null,
            "max_height": null,
            "max_width": null,
            "min_height": null,
            "min_width": null,
            "object_fit": null,
            "object_position": null,
            "order": null,
            "overflow": null,
            "overflow_x": null,
            "overflow_y": null,
            "padding": null,
            "right": null,
            "top": null,
            "visibility": null,
            "width": null
          }
        },
        "1b64821bea724c039b9beb7c229119c2": {
          "model_module": "@jupyter-widgets/controls",
          "model_name": "ProgressStyleModel",
          "model_module_version": "1.5.0",
          "state": {
            "_model_module": "@jupyter-widgets/controls",
            "_model_module_version": "1.5.0",
            "_model_name": "ProgressStyleModel",
            "_view_count": null,
            "_view_module": "@jupyter-widgets/base",
            "_view_module_version": "1.2.0",
            "_view_name": "StyleView",
            "bar_color": null,
            "description_width": ""
          }
        },
        "9922eeec411e40f1b736a68f9d85b1f3": {
          "model_module": "@jupyter-widgets/base",
          "model_name": "LayoutModel",
          "model_module_version": "1.2.0",
          "state": {
            "_model_module": "@jupyter-widgets/base",
            "_model_module_version": "1.2.0",
            "_model_name": "LayoutModel",
            "_view_count": null,
            "_view_module": "@jupyter-widgets/base",
            "_view_module_version": "1.2.0",
            "_view_name": "LayoutView",
            "align_content": null,
            "align_items": null,
            "align_self": null,
            "border": null,
            "bottom": null,
            "display": null,
            "flex": null,
            "flex_flow": null,
            "grid_area": null,
            "grid_auto_columns": null,
            "grid_auto_flow": null,
            "grid_auto_rows": null,
            "grid_column": null,
            "grid_gap": null,
            "grid_row": null,
            "grid_template_areas": null,
            "grid_template_columns": null,
            "grid_template_rows": null,
            "height": null,
            "justify_content": null,
            "justify_items": null,
            "left": null,
            "margin": null,
            "max_height": null,
            "max_width": null,
            "min_height": null,
            "min_width": null,
            "object_fit": null,
            "object_position": null,
            "order": null,
            "overflow": null,
            "overflow_x": null,
            "overflow_y": null,
            "padding": null,
            "right": null,
            "top": null,
            "visibility": null,
            "width": null
          }
        },
        "132de9eb516f422d8e64a6068573935b": {
          "model_module": "@jupyter-widgets/controls",
          "model_name": "DescriptionStyleModel",
          "model_module_version": "1.5.0",
          "state": {
            "_model_module": "@jupyter-widgets/controls",
            "_model_module_version": "1.5.0",
            "_model_name": "DescriptionStyleModel",
            "_view_count": null,
            "_view_module": "@jupyter-widgets/base",
            "_view_module_version": "1.2.0",
            "_view_name": "StyleView",
            "description_width": ""
          }
        },
        "4ab27e3e3d244361b05b2a7b8ba3d324": {
          "model_module": "@jupyter-widgets/controls",
          "model_name": "HBoxModel",
          "model_module_version": "1.5.0",
          "state": {
            "_dom_classes": [],
            "_model_module": "@jupyter-widgets/controls",
            "_model_module_version": "1.5.0",
            "_model_name": "HBoxModel",
            "_view_count": null,
            "_view_module": "@jupyter-widgets/controls",
            "_view_module_version": "1.5.0",
            "_view_name": "HBoxView",
            "box_style": "",
            "children": [
              "IPY_MODEL_72e90340895d42909117f47646c4edff",
              "IPY_MODEL_8d1ee9a94d614d39b6c62634c381bfab",
              "IPY_MODEL_6f353c877de24eb5acff4f4574c3a5b9"
            ],
            "layout": "IPY_MODEL_8f80614794a74993bd7c33091a3c68b5"
          }
        },
        "72e90340895d42909117f47646c4edff": {
          "model_module": "@jupyter-widgets/controls",
          "model_name": "HTMLModel",
          "model_module_version": "1.5.0",
          "state": {
            "_dom_classes": [],
            "_model_module": "@jupyter-widgets/controls",
            "_model_module_version": "1.5.0",
            "_model_name": "HTMLModel",
            "_view_count": null,
            "_view_module": "@jupyter-widgets/controls",
            "_view_module_version": "1.5.0",
            "_view_name": "HTMLView",
            "description": "",
            "description_tooltip": null,
            "layout": "IPY_MODEL_5d755258308c41b2b408dde6b50e1721",
            "placeholder": "​",
            "style": "IPY_MODEL_37a914d0e7034b499cb31614bd40e9a0",
            "value": "model.safetensors: 100%"
          }
        },
        "8d1ee9a94d614d39b6c62634c381bfab": {
          "model_module": "@jupyter-widgets/controls",
          "model_name": "FloatProgressModel",
          "model_module_version": "1.5.0",
          "state": {
            "_dom_classes": [],
            "_model_module": "@jupyter-widgets/controls",
            "_model_module_version": "1.5.0",
            "_model_name": "FloatProgressModel",
            "_view_count": null,
            "_view_module": "@jupyter-widgets/controls",
            "_view_module_version": "1.5.0",
            "_view_name": "ProgressView",
            "bar_style": "success",
            "description": "",
            "description_tooltip": null,
            "layout": "IPY_MODEL_fc4aedcd942a4e6799ab59cf4ac6fedf",
            "max": 90868376,
            "min": 0,
            "orientation": "horizontal",
            "style": "IPY_MODEL_3af1b74f4ee740ca93da5763bea6d571",
            "value": 90868376
          }
        },
        "6f353c877de24eb5acff4f4574c3a5b9": {
          "model_module": "@jupyter-widgets/controls",
          "model_name": "HTMLModel",
          "model_module_version": "1.5.0",
          "state": {
            "_dom_classes": [],
            "_model_module": "@jupyter-widgets/controls",
            "_model_module_version": "1.5.0",
            "_model_name": "HTMLModel",
            "_view_count": null,
            "_view_module": "@jupyter-widgets/controls",
            "_view_module_version": "1.5.0",
            "_view_name": "HTMLView",
            "description": "",
            "description_tooltip": null,
            "layout": "IPY_MODEL_799a484e86e24f38b2ff3af9f67d2aee",
            "placeholder": "​",
            "style": "IPY_MODEL_31f2c98ecd6c4938a175d65f68a4e5ac",
            "value": " 90.9M/90.9M [00:00&lt;00:00, 268MB/s]"
          }
        },
        "8f80614794a74993bd7c33091a3c68b5": {
          "model_module": "@jupyter-widgets/base",
          "model_name": "LayoutModel",
          "model_module_version": "1.2.0",
          "state": {
            "_model_module": "@jupyter-widgets/base",
            "_model_module_version": "1.2.0",
            "_model_name": "LayoutModel",
            "_view_count": null,
            "_view_module": "@jupyter-widgets/base",
            "_view_module_version": "1.2.0",
            "_view_name": "LayoutView",
            "align_content": null,
            "align_items": null,
            "align_self": null,
            "border": null,
            "bottom": null,
            "display": null,
            "flex": null,
            "flex_flow": null,
            "grid_area": null,
            "grid_auto_columns": null,
            "grid_auto_flow": null,
            "grid_auto_rows": null,
            "grid_column": null,
            "grid_gap": null,
            "grid_row": null,
            "grid_template_areas": null,
            "grid_template_columns": null,
            "grid_template_rows": null,
            "height": null,
            "justify_content": null,
            "justify_items": null,
            "left": null,
            "margin": null,
            "max_height": null,
            "max_width": null,
            "min_height": null,
            "min_width": null,
            "object_fit": null,
            "object_position": null,
            "order": null,
            "overflow": null,
            "overflow_x": null,
            "overflow_y": null,
            "padding": null,
            "right": null,
            "top": null,
            "visibility": null,
            "width": null
          }
        },
        "5d755258308c41b2b408dde6b50e1721": {
          "model_module": "@jupyter-widgets/base",
          "model_name": "LayoutModel",
          "model_module_version": "1.2.0",
          "state": {
            "_model_module": "@jupyter-widgets/base",
            "_model_module_version": "1.2.0",
            "_model_name": "LayoutModel",
            "_view_count": null,
            "_view_module": "@jupyter-widgets/base",
            "_view_module_version": "1.2.0",
            "_view_name": "LayoutView",
            "align_content": null,
            "align_items": null,
            "align_self": null,
            "border": null,
            "bottom": null,
            "display": null,
            "flex": null,
            "flex_flow": null,
            "grid_area": null,
            "grid_auto_columns": null,
            "grid_auto_flow": null,
            "grid_auto_rows": null,
            "grid_column": null,
            "grid_gap": null,
            "grid_row": null,
            "grid_template_areas": null,
            "grid_template_columns": null,
            "grid_template_rows": null,
            "height": null,
            "justify_content": null,
            "justify_items": null,
            "left": null,
            "margin": null,
            "max_height": null,
            "max_width": null,
            "min_height": null,
            "min_width": null,
            "object_fit": null,
            "object_position": null,
            "order": null,
            "overflow": null,
            "overflow_x": null,
            "overflow_y": null,
            "padding": null,
            "right": null,
            "top": null,
            "visibility": null,
            "width": null
          }
        },
        "37a914d0e7034b499cb31614bd40e9a0": {
          "model_module": "@jupyter-widgets/controls",
          "model_name": "DescriptionStyleModel",
          "model_module_version": "1.5.0",
          "state": {
            "_model_module": "@jupyter-widgets/controls",
            "_model_module_version": "1.5.0",
            "_model_name": "DescriptionStyleModel",
            "_view_count": null,
            "_view_module": "@jupyter-widgets/base",
            "_view_module_version": "1.2.0",
            "_view_name": "StyleView",
            "description_width": ""
          }
        },
        "fc4aedcd942a4e6799ab59cf4ac6fedf": {
          "model_module": "@jupyter-widgets/base",
          "model_name": "LayoutModel",
          "model_module_version": "1.2.0",
          "state": {
            "_model_module": "@jupyter-widgets/base",
            "_model_module_version": "1.2.0",
            "_model_name": "LayoutModel",
            "_view_count": null,
            "_view_module": "@jupyter-widgets/base",
            "_view_module_version": "1.2.0",
            "_view_name": "LayoutView",
            "align_content": null,
            "align_items": null,
            "align_self": null,
            "border": null,
            "bottom": null,
            "display": null,
            "flex": null,
            "flex_flow": null,
            "grid_area": null,
            "grid_auto_columns": null,
            "grid_auto_flow": null,
            "grid_auto_rows": null,
            "grid_column": null,
            "grid_gap": null,
            "grid_row": null,
            "grid_template_areas": null,
            "grid_template_columns": null,
            "grid_template_rows": null,
            "height": null,
            "justify_content": null,
            "justify_items": null,
            "left": null,
            "margin": null,
            "max_height": null,
            "max_width": null,
            "min_height": null,
            "min_width": null,
            "object_fit": null,
            "object_position": null,
            "order": null,
            "overflow": null,
            "overflow_x": null,
            "overflow_y": null,
            "padding": null,
            "right": null,
            "top": null,
            "visibility": null,
            "width": null
          }
        },
        "3af1b74f4ee740ca93da5763bea6d571": {
          "model_module": "@jupyter-widgets/controls",
          "model_name": "ProgressStyleModel",
          "model_module_version": "1.5.0",
          "state": {
            "_model_module": "@jupyter-widgets/controls",
            "_model_module_version": "1.5.0",
            "_model_name": "ProgressStyleModel",
            "_view_count": null,
            "_view_module": "@jupyter-widgets/base",
            "_view_module_version": "1.2.0",
            "_view_name": "StyleView",
            "bar_color": null,
            "description_width": ""
          }
        },
        "799a484e86e24f38b2ff3af9f67d2aee": {
          "model_module": "@jupyter-widgets/base",
          "model_name": "LayoutModel",
          "model_module_version": "1.2.0",
          "state": {
            "_model_module": "@jupyter-widgets/base",
            "_model_module_version": "1.2.0",
            "_model_name": "LayoutModel",
            "_view_count": null,
            "_view_module": "@jupyter-widgets/base",
            "_view_module_version": "1.2.0",
            "_view_name": "LayoutView",
            "align_content": null,
            "align_items": null,
            "align_self": null,
            "border": null,
            "bottom": null,
            "display": null,
            "flex": null,
            "flex_flow": null,
            "grid_area": null,
            "grid_auto_columns": null,
            "grid_auto_flow": null,
            "grid_auto_rows": null,
            "grid_column": null,
            "grid_gap": null,
            "grid_row": null,
            "grid_template_areas": null,
            "grid_template_columns": null,
            "grid_template_rows": null,
            "height": null,
            "justify_content": null,
            "justify_items": null,
            "left": null,
            "margin": null,
            "max_height": null,
            "max_width": null,
            "min_height": null,
            "min_width": null,
            "object_fit": null,
            "object_position": null,
            "order": null,
            "overflow": null,
            "overflow_x": null,
            "overflow_y": null,
            "padding": null,
            "right": null,
            "top": null,
            "visibility": null,
            "width": null
          }
        },
        "31f2c98ecd6c4938a175d65f68a4e5ac": {
          "model_module": "@jupyter-widgets/controls",
          "model_name": "DescriptionStyleModel",
          "model_module_version": "1.5.0",
          "state": {
            "_model_module": "@jupyter-widgets/controls",
            "_model_module_version": "1.5.0",
            "_model_name": "DescriptionStyleModel",
            "_view_count": null,
            "_view_module": "@jupyter-widgets/base",
            "_view_module_version": "1.2.0",
            "_view_name": "StyleView",
            "description_width": ""
          }
        },
        "15e75428c6794030bbd56ab8f4e37887": {
          "model_module": "@jupyter-widgets/controls",
          "model_name": "HBoxModel",
          "model_module_version": "1.5.0",
          "state": {
            "_dom_classes": [],
            "_model_module": "@jupyter-widgets/controls",
            "_model_module_version": "1.5.0",
            "_model_name": "HBoxModel",
            "_view_count": null,
            "_view_module": "@jupyter-widgets/controls",
            "_view_module_version": "1.5.0",
            "_view_name": "HBoxView",
            "box_style": "",
            "children": [
              "IPY_MODEL_a9877349694f4ad4b4244b0716103f7f",
              "IPY_MODEL_2a25b40385ab44378f22c2cbad41c67c",
              "IPY_MODEL_472f7fa701044ec1a276ce218e47f2ba"
            ],
            "layout": "IPY_MODEL_78725f8d83034ea4bc3b6eee2de7853c"
          }
        },
        "a9877349694f4ad4b4244b0716103f7f": {
          "model_module": "@jupyter-widgets/controls",
          "model_name": "HTMLModel",
          "model_module_version": "1.5.0",
          "state": {
            "_dom_classes": [],
            "_model_module": "@jupyter-widgets/controls",
            "_model_module_version": "1.5.0",
            "_model_name": "HTMLModel",
            "_view_count": null,
            "_view_module": "@jupyter-widgets/controls",
            "_view_module_version": "1.5.0",
            "_view_name": "HTMLView",
            "description": "",
            "description_tooltip": null,
            "layout": "IPY_MODEL_d022a640972d4be48dd57d6845d23012",
            "placeholder": "​",
            "style": "IPY_MODEL_f863e5f274bd403e98bb68216490c11b",
            "value": "tokenizer_config.json: 100%"
          }
        },
        "2a25b40385ab44378f22c2cbad41c67c": {
          "model_module": "@jupyter-widgets/controls",
          "model_name": "FloatProgressModel",
          "model_module_version": "1.5.0",
          "state": {
            "_dom_classes": [],
            "_model_module": "@jupyter-widgets/controls",
            "_model_module_version": "1.5.0",
            "_model_name": "FloatProgressModel",
            "_view_count": null,
            "_view_module": "@jupyter-widgets/controls",
            "_view_module_version": "1.5.0",
            "_view_name": "ProgressView",
            "bar_style": "success",
            "description": "",
            "description_tooltip": null,
            "layout": "IPY_MODEL_5bf30dd3fb1d4c4387fffbe6aa0df192",
            "max": 350,
            "min": 0,
            "orientation": "horizontal",
            "style": "IPY_MODEL_c7d66408e90242529221fcb85803906b",
            "value": 350
          }
        },
        "472f7fa701044ec1a276ce218e47f2ba": {
          "model_module": "@jupyter-widgets/controls",
          "model_name": "HTMLModel",
          "model_module_version": "1.5.0",
          "state": {
            "_dom_classes": [],
            "_model_module": "@jupyter-widgets/controls",
            "_model_module_version": "1.5.0",
            "_model_name": "HTMLModel",
            "_view_count": null,
            "_view_module": "@jupyter-widgets/controls",
            "_view_module_version": "1.5.0",
            "_view_name": "HTMLView",
            "description": "",
            "description_tooltip": null,
            "layout": "IPY_MODEL_4293a0e3f89b4ed8b0c8a0f46bf21ff6",
            "placeholder": "​",
            "style": "IPY_MODEL_e55a3dd58bd4484daa7af93048a1dbb6",
            "value": " 350/350 [00:00&lt;00:00, 23.2kB/s]"
          }
        },
        "78725f8d83034ea4bc3b6eee2de7853c": {
          "model_module": "@jupyter-widgets/base",
          "model_name": "LayoutModel",
          "model_module_version": "1.2.0",
          "state": {
            "_model_module": "@jupyter-widgets/base",
            "_model_module_version": "1.2.0",
            "_model_name": "LayoutModel",
            "_view_count": null,
            "_view_module": "@jupyter-widgets/base",
            "_view_module_version": "1.2.0",
            "_view_name": "LayoutView",
            "align_content": null,
            "align_items": null,
            "align_self": null,
            "border": null,
            "bottom": null,
            "display": null,
            "flex": null,
            "flex_flow": null,
            "grid_area": null,
            "grid_auto_columns": null,
            "grid_auto_flow": null,
            "grid_auto_rows": null,
            "grid_column": null,
            "grid_gap": null,
            "grid_row": null,
            "grid_template_areas": null,
            "grid_template_columns": null,
            "grid_template_rows": null,
            "height": null,
            "justify_content": null,
            "justify_items": null,
            "left": null,
            "margin": null,
            "max_height": null,
            "max_width": null,
            "min_height": null,
            "min_width": null,
            "object_fit": null,
            "object_position": null,
            "order": null,
            "overflow": null,
            "overflow_x": null,
            "overflow_y": null,
            "padding": null,
            "right": null,
            "top": null,
            "visibility": null,
            "width": null
          }
        },
        "d022a640972d4be48dd57d6845d23012": {
          "model_module": "@jupyter-widgets/base",
          "model_name": "LayoutModel",
          "model_module_version": "1.2.0",
          "state": {
            "_model_module": "@jupyter-widgets/base",
            "_model_module_version": "1.2.0",
            "_model_name": "LayoutModel",
            "_view_count": null,
            "_view_module": "@jupyter-widgets/base",
            "_view_module_version": "1.2.0",
            "_view_name": "LayoutView",
            "align_content": null,
            "align_items": null,
            "align_self": null,
            "border": null,
            "bottom": null,
            "display": null,
            "flex": null,
            "flex_flow": null,
            "grid_area": null,
            "grid_auto_columns": null,
            "grid_auto_flow": null,
            "grid_auto_rows": null,
            "grid_column": null,
            "grid_gap": null,
            "grid_row": null,
            "grid_template_areas": null,
            "grid_template_columns": null,
            "grid_template_rows": null,
            "height": null,
            "justify_content": null,
            "justify_items": null,
            "left": null,
            "margin": null,
            "max_height": null,
            "max_width": null,
            "min_height": null,
            "min_width": null,
            "object_fit": null,
            "object_position": null,
            "order": null,
            "overflow": null,
            "overflow_x": null,
            "overflow_y": null,
            "padding": null,
            "right": null,
            "top": null,
            "visibility": null,
            "width": null
          }
        },
        "f863e5f274bd403e98bb68216490c11b": {
          "model_module": "@jupyter-widgets/controls",
          "model_name": "DescriptionStyleModel",
          "model_module_version": "1.5.0",
          "state": {
            "_model_module": "@jupyter-widgets/controls",
            "_model_module_version": "1.5.0",
            "_model_name": "DescriptionStyleModel",
            "_view_count": null,
            "_view_module": "@jupyter-widgets/base",
            "_view_module_version": "1.2.0",
            "_view_name": "StyleView",
            "description_width": ""
          }
        },
        "5bf30dd3fb1d4c4387fffbe6aa0df192": {
          "model_module": "@jupyter-widgets/base",
          "model_name": "LayoutModel",
          "model_module_version": "1.2.0",
          "state": {
            "_model_module": "@jupyter-widgets/base",
            "_model_module_version": "1.2.0",
            "_model_name": "LayoutModel",
            "_view_count": null,
            "_view_module": "@jupyter-widgets/base",
            "_view_module_version": "1.2.0",
            "_view_name": "LayoutView",
            "align_content": null,
            "align_items": null,
            "align_self": null,
            "border": null,
            "bottom": null,
            "display": null,
            "flex": null,
            "flex_flow": null,
            "grid_area": null,
            "grid_auto_columns": null,
            "grid_auto_flow": null,
            "grid_auto_rows": null,
            "grid_column": null,
            "grid_gap": null,
            "grid_row": null,
            "grid_template_areas": null,
            "grid_template_columns": null,
            "grid_template_rows": null,
            "height": null,
            "justify_content": null,
            "justify_items": null,
            "left": null,
            "margin": null,
            "max_height": null,
            "max_width": null,
            "min_height": null,
            "min_width": null,
            "object_fit": null,
            "object_position": null,
            "order": null,
            "overflow": null,
            "overflow_x": null,
            "overflow_y": null,
            "padding": null,
            "right": null,
            "top": null,
            "visibility": null,
            "width": null
          }
        },
        "c7d66408e90242529221fcb85803906b": {
          "model_module": "@jupyter-widgets/controls",
          "model_name": "ProgressStyleModel",
          "model_module_version": "1.5.0",
          "state": {
            "_model_module": "@jupyter-widgets/controls",
            "_model_module_version": "1.5.0",
            "_model_name": "ProgressStyleModel",
            "_view_count": null,
            "_view_module": "@jupyter-widgets/base",
            "_view_module_version": "1.2.0",
            "_view_name": "StyleView",
            "bar_color": null,
            "description_width": ""
          }
        },
        "4293a0e3f89b4ed8b0c8a0f46bf21ff6": {
          "model_module": "@jupyter-widgets/base",
          "model_name": "LayoutModel",
          "model_module_version": "1.2.0",
          "state": {
            "_model_module": "@jupyter-widgets/base",
            "_model_module_version": "1.2.0",
            "_model_name": "LayoutModel",
            "_view_count": null,
            "_view_module": "@jupyter-widgets/base",
            "_view_module_version": "1.2.0",
            "_view_name": "LayoutView",
            "align_content": null,
            "align_items": null,
            "align_self": null,
            "border": null,
            "bottom": null,
            "display": null,
            "flex": null,
            "flex_flow": null,
            "grid_area": null,
            "grid_auto_columns": null,
            "grid_auto_flow": null,
            "grid_auto_rows": null,
            "grid_column": null,
            "grid_gap": null,
            "grid_row": null,
            "grid_template_areas": null,
            "grid_template_columns": null,
            "grid_template_rows": null,
            "height": null,
            "justify_content": null,
            "justify_items": null,
            "left": null,
            "margin": null,
            "max_height": null,
            "max_width": null,
            "min_height": null,
            "min_width": null,
            "object_fit": null,
            "object_position": null,
            "order": null,
            "overflow": null,
            "overflow_x": null,
            "overflow_y": null,
            "padding": null,
            "right": null,
            "top": null,
            "visibility": null,
            "width": null
          }
        },
        "e55a3dd58bd4484daa7af93048a1dbb6": {
          "model_module": "@jupyter-widgets/controls",
          "model_name": "DescriptionStyleModel",
          "model_module_version": "1.5.0",
          "state": {
            "_model_module": "@jupyter-widgets/controls",
            "_model_module_version": "1.5.0",
            "_model_name": "DescriptionStyleModel",
            "_view_count": null,
            "_view_module": "@jupyter-widgets/base",
            "_view_module_version": "1.2.0",
            "_view_name": "StyleView",
            "description_width": ""
          }
        },
        "b1a04d60eed345dfa22081d1fe9a2ff1": {
          "model_module": "@jupyter-widgets/controls",
          "model_name": "HBoxModel",
          "model_module_version": "1.5.0",
          "state": {
            "_dom_classes": [],
            "_model_module": "@jupyter-widgets/controls",
            "_model_module_version": "1.5.0",
            "_model_name": "HBoxModel",
            "_view_count": null,
            "_view_module": "@jupyter-widgets/controls",
            "_view_module_version": "1.5.0",
            "_view_name": "HBoxView",
            "box_style": "",
            "children": [
              "IPY_MODEL_64b03e891f6d4b43874e0e0a0c2cfaee",
              "IPY_MODEL_05326dfff4474005b5a77438b8182c49",
              "IPY_MODEL_edea466fe0b441b99d2c2212505941c0"
            ],
            "layout": "IPY_MODEL_23ba0090c5cd459a8e7404118214d719"
          }
        },
        "64b03e891f6d4b43874e0e0a0c2cfaee": {
          "model_module": "@jupyter-widgets/controls",
          "model_name": "HTMLModel",
          "model_module_version": "1.5.0",
          "state": {
            "_dom_classes": [],
            "_model_module": "@jupyter-widgets/controls",
            "_model_module_version": "1.5.0",
            "_model_name": "HTMLModel",
            "_view_count": null,
            "_view_module": "@jupyter-widgets/controls",
            "_view_module_version": "1.5.0",
            "_view_name": "HTMLView",
            "description": "",
            "description_tooltip": null,
            "layout": "IPY_MODEL_93b69dfc00234847b05398ecbbac29b0",
            "placeholder": "​",
            "style": "IPY_MODEL_a8c61577110145daa8cb373e07fc89e7",
            "value": "vocab.txt: 100%"
          }
        },
        "05326dfff4474005b5a77438b8182c49": {
          "model_module": "@jupyter-widgets/controls",
          "model_name": "FloatProgressModel",
          "model_module_version": "1.5.0",
          "state": {
            "_dom_classes": [],
            "_model_module": "@jupyter-widgets/controls",
            "_model_module_version": "1.5.0",
            "_model_name": "FloatProgressModel",
            "_view_count": null,
            "_view_module": "@jupyter-widgets/controls",
            "_view_module_version": "1.5.0",
            "_view_name": "ProgressView",
            "bar_style": "success",
            "description": "",
            "description_tooltip": null,
            "layout": "IPY_MODEL_f055e4b2f93d48d5be78d799fe8bea62",
            "max": 231508,
            "min": 0,
            "orientation": "horizontal",
            "style": "IPY_MODEL_14934444aa714059889171550ea3df23",
            "value": 231508
          }
        },
        "edea466fe0b441b99d2c2212505941c0": {
          "model_module": "@jupyter-widgets/controls",
          "model_name": "HTMLModel",
          "model_module_version": "1.5.0",
          "state": {
            "_dom_classes": [],
            "_model_module": "@jupyter-widgets/controls",
            "_model_module_version": "1.5.0",
            "_model_name": "HTMLModel",
            "_view_count": null,
            "_view_module": "@jupyter-widgets/controls",
            "_view_module_version": "1.5.0",
            "_view_name": "HTMLView",
            "description": "",
            "description_tooltip": null,
            "layout": "IPY_MODEL_953a25b1c1a8431e80b1ca39c79625de",
            "placeholder": "​",
            "style": "IPY_MODEL_c8cced577ae94dfead5cbe4418d2d92d",
            "value": " 232k/232k [00:00&lt;00:00, 7.44MB/s]"
          }
        },
        "23ba0090c5cd459a8e7404118214d719": {
          "model_module": "@jupyter-widgets/base",
          "model_name": "LayoutModel",
          "model_module_version": "1.2.0",
          "state": {
            "_model_module": "@jupyter-widgets/base",
            "_model_module_version": "1.2.0",
            "_model_name": "LayoutModel",
            "_view_count": null,
            "_view_module": "@jupyter-widgets/base",
            "_view_module_version": "1.2.0",
            "_view_name": "LayoutView",
            "align_content": null,
            "align_items": null,
            "align_self": null,
            "border": null,
            "bottom": null,
            "display": null,
            "flex": null,
            "flex_flow": null,
            "grid_area": null,
            "grid_auto_columns": null,
            "grid_auto_flow": null,
            "grid_auto_rows": null,
            "grid_column": null,
            "grid_gap": null,
            "grid_row": null,
            "grid_template_areas": null,
            "grid_template_columns": null,
            "grid_template_rows": null,
            "height": null,
            "justify_content": null,
            "justify_items": null,
            "left": null,
            "margin": null,
            "max_height": null,
            "max_width": null,
            "min_height": null,
            "min_width": null,
            "object_fit": null,
            "object_position": null,
            "order": null,
            "overflow": null,
            "overflow_x": null,
            "overflow_y": null,
            "padding": null,
            "right": null,
            "top": null,
            "visibility": null,
            "width": null
          }
        },
        "93b69dfc00234847b05398ecbbac29b0": {
          "model_module": "@jupyter-widgets/base",
          "model_name": "LayoutModel",
          "model_module_version": "1.2.0",
          "state": {
            "_model_module": "@jupyter-widgets/base",
            "_model_module_version": "1.2.0",
            "_model_name": "LayoutModel",
            "_view_count": null,
            "_view_module": "@jupyter-widgets/base",
            "_view_module_version": "1.2.0",
            "_view_name": "LayoutView",
            "align_content": null,
            "align_items": null,
            "align_self": null,
            "border": null,
            "bottom": null,
            "display": null,
            "flex": null,
            "flex_flow": null,
            "grid_area": null,
            "grid_auto_columns": null,
            "grid_auto_flow": null,
            "grid_auto_rows": null,
            "grid_column": null,
            "grid_gap": null,
            "grid_row": null,
            "grid_template_areas": null,
            "grid_template_columns": null,
            "grid_template_rows": null,
            "height": null,
            "justify_content": null,
            "justify_items": null,
            "left": null,
            "margin": null,
            "max_height": null,
            "max_width": null,
            "min_height": null,
            "min_width": null,
            "object_fit": null,
            "object_position": null,
            "order": null,
            "overflow": null,
            "overflow_x": null,
            "overflow_y": null,
            "padding": null,
            "right": null,
            "top": null,
            "visibility": null,
            "width": null
          }
        },
        "a8c61577110145daa8cb373e07fc89e7": {
          "model_module": "@jupyter-widgets/controls",
          "model_name": "DescriptionStyleModel",
          "model_module_version": "1.5.0",
          "state": {
            "_model_module": "@jupyter-widgets/controls",
            "_model_module_version": "1.5.0",
            "_model_name": "DescriptionStyleModel",
            "_view_count": null,
            "_view_module": "@jupyter-widgets/base",
            "_view_module_version": "1.2.0",
            "_view_name": "StyleView",
            "description_width": ""
          }
        },
        "f055e4b2f93d48d5be78d799fe8bea62": {
          "model_module": "@jupyter-widgets/base",
          "model_name": "LayoutModel",
          "model_module_version": "1.2.0",
          "state": {
            "_model_module": "@jupyter-widgets/base",
            "_model_module_version": "1.2.0",
            "_model_name": "LayoutModel",
            "_view_count": null,
            "_view_module": "@jupyter-widgets/base",
            "_view_module_version": "1.2.0",
            "_view_name": "LayoutView",
            "align_content": null,
            "align_items": null,
            "align_self": null,
            "border": null,
            "bottom": null,
            "display": null,
            "flex": null,
            "flex_flow": null,
            "grid_area": null,
            "grid_auto_columns": null,
            "grid_auto_flow": null,
            "grid_auto_rows": null,
            "grid_column": null,
            "grid_gap": null,
            "grid_row": null,
            "grid_template_areas": null,
            "grid_template_columns": null,
            "grid_template_rows": null,
            "height": null,
            "justify_content": null,
            "justify_items": null,
            "left": null,
            "margin": null,
            "max_height": null,
            "max_width": null,
            "min_height": null,
            "min_width": null,
            "object_fit": null,
            "object_position": null,
            "order": null,
            "overflow": null,
            "overflow_x": null,
            "overflow_y": null,
            "padding": null,
            "right": null,
            "top": null,
            "visibility": null,
            "width": null
          }
        },
        "14934444aa714059889171550ea3df23": {
          "model_module": "@jupyter-widgets/controls",
          "model_name": "ProgressStyleModel",
          "model_module_version": "1.5.0",
          "state": {
            "_model_module": "@jupyter-widgets/controls",
            "_model_module_version": "1.5.0",
            "_model_name": "ProgressStyleModel",
            "_view_count": null,
            "_view_module": "@jupyter-widgets/base",
            "_view_module_version": "1.2.0",
            "_view_name": "StyleView",
            "bar_color": null,
            "description_width": ""
          }
        },
        "953a25b1c1a8431e80b1ca39c79625de": {
          "model_module": "@jupyter-widgets/base",
          "model_name": "LayoutModel",
          "model_module_version": "1.2.0",
          "state": {
            "_model_module": "@jupyter-widgets/base",
            "_model_module_version": "1.2.0",
            "_model_name": "LayoutModel",
            "_view_count": null,
            "_view_module": "@jupyter-widgets/base",
            "_view_module_version": "1.2.0",
            "_view_name": "LayoutView",
            "align_content": null,
            "align_items": null,
            "align_self": null,
            "border": null,
            "bottom": null,
            "display": null,
            "flex": null,
            "flex_flow": null,
            "grid_area": null,
            "grid_auto_columns": null,
            "grid_auto_flow": null,
            "grid_auto_rows": null,
            "grid_column": null,
            "grid_gap": null,
            "grid_row": null,
            "grid_template_areas": null,
            "grid_template_columns": null,
            "grid_template_rows": null,
            "height": null,
            "justify_content": null,
            "justify_items": null,
            "left": null,
            "margin": null,
            "max_height": null,
            "max_width": null,
            "min_height": null,
            "min_width": null,
            "object_fit": null,
            "object_position": null,
            "order": null,
            "overflow": null,
            "overflow_x": null,
            "overflow_y": null,
            "padding": null,
            "right": null,
            "top": null,
            "visibility": null,
            "width": null
          }
        },
        "c8cced577ae94dfead5cbe4418d2d92d": {
          "model_module": "@jupyter-widgets/controls",
          "model_name": "DescriptionStyleModel",
          "model_module_version": "1.5.0",
          "state": {
            "_model_module": "@jupyter-widgets/controls",
            "_model_module_version": "1.5.0",
            "_model_name": "DescriptionStyleModel",
            "_view_count": null,
            "_view_module": "@jupyter-widgets/base",
            "_view_module_version": "1.2.0",
            "_view_name": "StyleView",
            "description_width": ""
          }
        },
        "90da01f8a314451a84449368c8c7e1da": {
          "model_module": "@jupyter-widgets/controls",
          "model_name": "HBoxModel",
          "model_module_version": "1.5.0",
          "state": {
            "_dom_classes": [],
            "_model_module": "@jupyter-widgets/controls",
            "_model_module_version": "1.5.0",
            "_model_name": "HBoxModel",
            "_view_count": null,
            "_view_module": "@jupyter-widgets/controls",
            "_view_module_version": "1.5.0",
            "_view_name": "HBoxView",
            "box_style": "",
            "children": [
              "IPY_MODEL_16d6f02980234b648c0d55f226bf41d4",
              "IPY_MODEL_b970905aaaed437d873323e67ebf0b7a",
              "IPY_MODEL_fe4adabfa3e84c0db8f50168fd02d8cc"
            ],
            "layout": "IPY_MODEL_6cf1e11f312b4caebe9067a344575091"
          }
        },
        "16d6f02980234b648c0d55f226bf41d4": {
          "model_module": "@jupyter-widgets/controls",
          "model_name": "HTMLModel",
          "model_module_version": "1.5.0",
          "state": {
            "_dom_classes": [],
            "_model_module": "@jupyter-widgets/controls",
            "_model_module_version": "1.5.0",
            "_model_name": "HTMLModel",
            "_view_count": null,
            "_view_module": "@jupyter-widgets/controls",
            "_view_module_version": "1.5.0",
            "_view_name": "HTMLView",
            "description": "",
            "description_tooltip": null,
            "layout": "IPY_MODEL_4389922b57b245a3a393c34b6a780e84",
            "placeholder": "​",
            "style": "IPY_MODEL_4f41f0204f314c48b230c3df3f741b9b",
            "value": "tokenizer.json: 100%"
          }
        },
        "b970905aaaed437d873323e67ebf0b7a": {
          "model_module": "@jupyter-widgets/controls",
          "model_name": "FloatProgressModel",
          "model_module_version": "1.5.0",
          "state": {
            "_dom_classes": [],
            "_model_module": "@jupyter-widgets/controls",
            "_model_module_version": "1.5.0",
            "_model_name": "FloatProgressModel",
            "_view_count": null,
            "_view_module": "@jupyter-widgets/controls",
            "_view_module_version": "1.5.0",
            "_view_name": "ProgressView",
            "bar_style": "success",
            "description": "",
            "description_tooltip": null,
            "layout": "IPY_MODEL_e9639714dd06464ea6a8ac1030e5be04",
            "max": 466247,
            "min": 0,
            "orientation": "horizontal",
            "style": "IPY_MODEL_a675838769f448adb6a8e715f4d549b5",
            "value": 466247
          }
        },
        "fe4adabfa3e84c0db8f50168fd02d8cc": {
          "model_module": "@jupyter-widgets/controls",
          "model_name": "HTMLModel",
          "model_module_version": "1.5.0",
          "state": {
            "_dom_classes": [],
            "_model_module": "@jupyter-widgets/controls",
            "_model_module_version": "1.5.0",
            "_model_name": "HTMLModel",
            "_view_count": null,
            "_view_module": "@jupyter-widgets/controls",
            "_view_module_version": "1.5.0",
            "_view_name": "HTMLView",
            "description": "",
            "description_tooltip": null,
            "layout": "IPY_MODEL_ba76439ae79141f68dfdbb80e566cdf1",
            "placeholder": "​",
            "style": "IPY_MODEL_5f5997327bb84ffb98a391e7aa0ba951",
            "value": " 466k/466k [00:00&lt;00:00, 18.5MB/s]"
          }
        },
        "6cf1e11f312b4caebe9067a344575091": {
          "model_module": "@jupyter-widgets/base",
          "model_name": "LayoutModel",
          "model_module_version": "1.2.0",
          "state": {
            "_model_module": "@jupyter-widgets/base",
            "_model_module_version": "1.2.0",
            "_model_name": "LayoutModel",
            "_view_count": null,
            "_view_module": "@jupyter-widgets/base",
            "_view_module_version": "1.2.0",
            "_view_name": "LayoutView",
            "align_content": null,
            "align_items": null,
            "align_self": null,
            "border": null,
            "bottom": null,
            "display": null,
            "flex": null,
            "flex_flow": null,
            "grid_area": null,
            "grid_auto_columns": null,
            "grid_auto_flow": null,
            "grid_auto_rows": null,
            "grid_column": null,
            "grid_gap": null,
            "grid_row": null,
            "grid_template_areas": null,
            "grid_template_columns": null,
            "grid_template_rows": null,
            "height": null,
            "justify_content": null,
            "justify_items": null,
            "left": null,
            "margin": null,
            "max_height": null,
            "max_width": null,
            "min_height": null,
            "min_width": null,
            "object_fit": null,
            "object_position": null,
            "order": null,
            "overflow": null,
            "overflow_x": null,
            "overflow_y": null,
            "padding": null,
            "right": null,
            "top": null,
            "visibility": null,
            "width": null
          }
        },
        "4389922b57b245a3a393c34b6a780e84": {
          "model_module": "@jupyter-widgets/base",
          "model_name": "LayoutModel",
          "model_module_version": "1.2.0",
          "state": {
            "_model_module": "@jupyter-widgets/base",
            "_model_module_version": "1.2.0",
            "_model_name": "LayoutModel",
            "_view_count": null,
            "_view_module": "@jupyter-widgets/base",
            "_view_module_version": "1.2.0",
            "_view_name": "LayoutView",
            "align_content": null,
            "align_items": null,
            "align_self": null,
            "border": null,
            "bottom": null,
            "display": null,
            "flex": null,
            "flex_flow": null,
            "grid_area": null,
            "grid_auto_columns": null,
            "grid_auto_flow": null,
            "grid_auto_rows": null,
            "grid_column": null,
            "grid_gap": null,
            "grid_row": null,
            "grid_template_areas": null,
            "grid_template_columns": null,
            "grid_template_rows": null,
            "height": null,
            "justify_content": null,
            "justify_items": null,
            "left": null,
            "margin": null,
            "max_height": null,
            "max_width": null,
            "min_height": null,
            "min_width": null,
            "object_fit": null,
            "object_position": null,
            "order": null,
            "overflow": null,
            "overflow_x": null,
            "overflow_y": null,
            "padding": null,
            "right": null,
            "top": null,
            "visibility": null,
            "width": null
          }
        },
        "4f41f0204f314c48b230c3df3f741b9b": {
          "model_module": "@jupyter-widgets/controls",
          "model_name": "DescriptionStyleModel",
          "model_module_version": "1.5.0",
          "state": {
            "_model_module": "@jupyter-widgets/controls",
            "_model_module_version": "1.5.0",
            "_model_name": "DescriptionStyleModel",
            "_view_count": null,
            "_view_module": "@jupyter-widgets/base",
            "_view_module_version": "1.2.0",
            "_view_name": "StyleView",
            "description_width": ""
          }
        },
        "e9639714dd06464ea6a8ac1030e5be04": {
          "model_module": "@jupyter-widgets/base",
          "model_name": "LayoutModel",
          "model_module_version": "1.2.0",
          "state": {
            "_model_module": "@jupyter-widgets/base",
            "_model_module_version": "1.2.0",
            "_model_name": "LayoutModel",
            "_view_count": null,
            "_view_module": "@jupyter-widgets/base",
            "_view_module_version": "1.2.0",
            "_view_name": "LayoutView",
            "align_content": null,
            "align_items": null,
            "align_self": null,
            "border": null,
            "bottom": null,
            "display": null,
            "flex": null,
            "flex_flow": null,
            "grid_area": null,
            "grid_auto_columns": null,
            "grid_auto_flow": null,
            "grid_auto_rows": null,
            "grid_column": null,
            "grid_gap": null,
            "grid_row": null,
            "grid_template_areas": null,
            "grid_template_columns": null,
            "grid_template_rows": null,
            "height": null,
            "justify_content": null,
            "justify_items": null,
            "left": null,
            "margin": null,
            "max_height": null,
            "max_width": null,
            "min_height": null,
            "min_width": null,
            "object_fit": null,
            "object_position": null,
            "order": null,
            "overflow": null,
            "overflow_x": null,
            "overflow_y": null,
            "padding": null,
            "right": null,
            "top": null,
            "visibility": null,
            "width": null
          }
        },
        "a675838769f448adb6a8e715f4d549b5": {
          "model_module": "@jupyter-widgets/controls",
          "model_name": "ProgressStyleModel",
          "model_module_version": "1.5.0",
          "state": {
            "_model_module": "@jupyter-widgets/controls",
            "_model_module_version": "1.5.0",
            "_model_name": "ProgressStyleModel",
            "_view_count": null,
            "_view_module": "@jupyter-widgets/base",
            "_view_module_version": "1.2.0",
            "_view_name": "StyleView",
            "bar_color": null,
            "description_width": ""
          }
        },
        "ba76439ae79141f68dfdbb80e566cdf1": {
          "model_module": "@jupyter-widgets/base",
          "model_name": "LayoutModel",
          "model_module_version": "1.2.0",
          "state": {
            "_model_module": "@jupyter-widgets/base",
            "_model_module_version": "1.2.0",
            "_model_name": "LayoutModel",
            "_view_count": null,
            "_view_module": "@jupyter-widgets/base",
            "_view_module_version": "1.2.0",
            "_view_name": "LayoutView",
            "align_content": null,
            "align_items": null,
            "align_self": null,
            "border": null,
            "bottom": null,
            "display": null,
            "flex": null,
            "flex_flow": null,
            "grid_area": null,
            "grid_auto_columns": null,
            "grid_auto_flow": null,
            "grid_auto_rows": null,
            "grid_column": null,
            "grid_gap": null,
            "grid_row": null,
            "grid_template_areas": null,
            "grid_template_columns": null,
            "grid_template_rows": null,
            "height": null,
            "justify_content": null,
            "justify_items": null,
            "left": null,
            "margin": null,
            "max_height": null,
            "max_width": null,
            "min_height": null,
            "min_width": null,
            "object_fit": null,
            "object_position": null,
            "order": null,
            "overflow": null,
            "overflow_x": null,
            "overflow_y": null,
            "padding": null,
            "right": null,
            "top": null,
            "visibility": null,
            "width": null
          }
        },
        "5f5997327bb84ffb98a391e7aa0ba951": {
          "model_module": "@jupyter-widgets/controls",
          "model_name": "DescriptionStyleModel",
          "model_module_version": "1.5.0",
          "state": {
            "_model_module": "@jupyter-widgets/controls",
            "_model_module_version": "1.5.0",
            "_model_name": "DescriptionStyleModel",
            "_view_count": null,
            "_view_module": "@jupyter-widgets/base",
            "_view_module_version": "1.2.0",
            "_view_name": "StyleView",
            "description_width": ""
          }
        },
        "89eb41c6132240e48b3aa8f4bae5e646": {
          "model_module": "@jupyter-widgets/controls",
          "model_name": "HBoxModel",
          "model_module_version": "1.5.0",
          "state": {
            "_dom_classes": [],
            "_model_module": "@jupyter-widgets/controls",
            "_model_module_version": "1.5.0",
            "_model_name": "HBoxModel",
            "_view_count": null,
            "_view_module": "@jupyter-widgets/controls",
            "_view_module_version": "1.5.0",
            "_view_name": "HBoxView",
            "box_style": "",
            "children": [
              "IPY_MODEL_6bb02bb7111f4686a5a8b2824a8a14c7",
              "IPY_MODEL_8c7f378d15e24ba7aea0c7f476b0b2cb",
              "IPY_MODEL_c905114fca5849ceae88e474a3ffeff5"
            ],
            "layout": "IPY_MODEL_0ceed267e9aa4380a507f34e116f232c"
          }
        },
        "6bb02bb7111f4686a5a8b2824a8a14c7": {
          "model_module": "@jupyter-widgets/controls",
          "model_name": "HTMLModel",
          "model_module_version": "1.5.0",
          "state": {
            "_dom_classes": [],
            "_model_module": "@jupyter-widgets/controls",
            "_model_module_version": "1.5.0",
            "_model_name": "HTMLModel",
            "_view_count": null,
            "_view_module": "@jupyter-widgets/controls",
            "_view_module_version": "1.5.0",
            "_view_name": "HTMLView",
            "description": "",
            "description_tooltip": null,
            "layout": "IPY_MODEL_1474021734174d50afb2cbd5fbc647da",
            "placeholder": "​",
            "style": "IPY_MODEL_e928313bd883462dbe701bbdbcf34aa1",
            "value": "special_tokens_map.json: 100%"
          }
        },
        "8c7f378d15e24ba7aea0c7f476b0b2cb": {
          "model_module": "@jupyter-widgets/controls",
          "model_name": "FloatProgressModel",
          "model_module_version": "1.5.0",
          "state": {
            "_dom_classes": [],
            "_model_module": "@jupyter-widgets/controls",
            "_model_module_version": "1.5.0",
            "_model_name": "FloatProgressModel",
            "_view_count": null,
            "_view_module": "@jupyter-widgets/controls",
            "_view_module_version": "1.5.0",
            "_view_name": "ProgressView",
            "bar_style": "success",
            "description": "",
            "description_tooltip": null,
            "layout": "IPY_MODEL_8ebc12955d40469fb8d2130e45984966",
            "max": 112,
            "min": 0,
            "orientation": "horizontal",
            "style": "IPY_MODEL_853d999af35e4ab18b57f35844e1d95a",
            "value": 112
          }
        },
        "c905114fca5849ceae88e474a3ffeff5": {
          "model_module": "@jupyter-widgets/controls",
          "model_name": "HTMLModel",
          "model_module_version": "1.5.0",
          "state": {
            "_dom_classes": [],
            "_model_module": "@jupyter-widgets/controls",
            "_model_module_version": "1.5.0",
            "_model_name": "HTMLModel",
            "_view_count": null,
            "_view_module": "@jupyter-widgets/controls",
            "_view_module_version": "1.5.0",
            "_view_name": "HTMLView",
            "description": "",
            "description_tooltip": null,
            "layout": "IPY_MODEL_4dc4656e0e5a4750b6e97f1c104c6fbf",
            "placeholder": "​",
            "style": "IPY_MODEL_a67b161bf9234cf3883c8b9fd652988f",
            "value": " 112/112 [00:00&lt;00:00, 3.73kB/s]"
          }
        },
        "0ceed267e9aa4380a507f34e116f232c": {
          "model_module": "@jupyter-widgets/base",
          "model_name": "LayoutModel",
          "model_module_version": "1.2.0",
          "state": {
            "_model_module": "@jupyter-widgets/base",
            "_model_module_version": "1.2.0",
            "_model_name": "LayoutModel",
            "_view_count": null,
            "_view_module": "@jupyter-widgets/base",
            "_view_module_version": "1.2.0",
            "_view_name": "LayoutView",
            "align_content": null,
            "align_items": null,
            "align_self": null,
            "border": null,
            "bottom": null,
            "display": null,
            "flex": null,
            "flex_flow": null,
            "grid_area": null,
            "grid_auto_columns": null,
            "grid_auto_flow": null,
            "grid_auto_rows": null,
            "grid_column": null,
            "grid_gap": null,
            "grid_row": null,
            "grid_template_areas": null,
            "grid_template_columns": null,
            "grid_template_rows": null,
            "height": null,
            "justify_content": null,
            "justify_items": null,
            "left": null,
            "margin": null,
            "max_height": null,
            "max_width": null,
            "min_height": null,
            "min_width": null,
            "object_fit": null,
            "object_position": null,
            "order": null,
            "overflow": null,
            "overflow_x": null,
            "overflow_y": null,
            "padding": null,
            "right": null,
            "top": null,
            "visibility": null,
            "width": null
          }
        },
        "1474021734174d50afb2cbd5fbc647da": {
          "model_module": "@jupyter-widgets/base",
          "model_name": "LayoutModel",
          "model_module_version": "1.2.0",
          "state": {
            "_model_module": "@jupyter-widgets/base",
            "_model_module_version": "1.2.0",
            "_model_name": "LayoutModel",
            "_view_count": null,
            "_view_module": "@jupyter-widgets/base",
            "_view_module_version": "1.2.0",
            "_view_name": "LayoutView",
            "align_content": null,
            "align_items": null,
            "align_self": null,
            "border": null,
            "bottom": null,
            "display": null,
            "flex": null,
            "flex_flow": null,
            "grid_area": null,
            "grid_auto_columns": null,
            "grid_auto_flow": null,
            "grid_auto_rows": null,
            "grid_column": null,
            "grid_gap": null,
            "grid_row": null,
            "grid_template_areas": null,
            "grid_template_columns": null,
            "grid_template_rows": null,
            "height": null,
            "justify_content": null,
            "justify_items": null,
            "left": null,
            "margin": null,
            "max_height": null,
            "max_width": null,
            "min_height": null,
            "min_width": null,
            "object_fit": null,
            "object_position": null,
            "order": null,
            "overflow": null,
            "overflow_x": null,
            "overflow_y": null,
            "padding": null,
            "right": null,
            "top": null,
            "visibility": null,
            "width": null
          }
        },
        "e928313bd883462dbe701bbdbcf34aa1": {
          "model_module": "@jupyter-widgets/controls",
          "model_name": "DescriptionStyleModel",
          "model_module_version": "1.5.0",
          "state": {
            "_model_module": "@jupyter-widgets/controls",
            "_model_module_version": "1.5.0",
            "_model_name": "DescriptionStyleModel",
            "_view_count": null,
            "_view_module": "@jupyter-widgets/base",
            "_view_module_version": "1.2.0",
            "_view_name": "StyleView",
            "description_width": ""
          }
        },
        "8ebc12955d40469fb8d2130e45984966": {
          "model_module": "@jupyter-widgets/base",
          "model_name": "LayoutModel",
          "model_module_version": "1.2.0",
          "state": {
            "_model_module": "@jupyter-widgets/base",
            "_model_module_version": "1.2.0",
            "_model_name": "LayoutModel",
            "_view_count": null,
            "_view_module": "@jupyter-widgets/base",
            "_view_module_version": "1.2.0",
            "_view_name": "LayoutView",
            "align_content": null,
            "align_items": null,
            "align_self": null,
            "border": null,
            "bottom": null,
            "display": null,
            "flex": null,
            "flex_flow": null,
            "grid_area": null,
            "grid_auto_columns": null,
            "grid_auto_flow": null,
            "grid_auto_rows": null,
            "grid_column": null,
            "grid_gap": null,
            "grid_row": null,
            "grid_template_areas": null,
            "grid_template_columns": null,
            "grid_template_rows": null,
            "height": null,
            "justify_content": null,
            "justify_items": null,
            "left": null,
            "margin": null,
            "max_height": null,
            "max_width": null,
            "min_height": null,
            "min_width": null,
            "object_fit": null,
            "object_position": null,
            "order": null,
            "overflow": null,
            "overflow_x": null,
            "overflow_y": null,
            "padding": null,
            "right": null,
            "top": null,
            "visibility": null,
            "width": null
          }
        },
        "853d999af35e4ab18b57f35844e1d95a": {
          "model_module": "@jupyter-widgets/controls",
          "model_name": "ProgressStyleModel",
          "model_module_version": "1.5.0",
          "state": {
            "_model_module": "@jupyter-widgets/controls",
            "_model_module_version": "1.5.0",
            "_model_name": "ProgressStyleModel",
            "_view_count": null,
            "_view_module": "@jupyter-widgets/base",
            "_view_module_version": "1.2.0",
            "_view_name": "StyleView",
            "bar_color": null,
            "description_width": ""
          }
        },
        "4dc4656e0e5a4750b6e97f1c104c6fbf": {
          "model_module": "@jupyter-widgets/base",
          "model_name": "LayoutModel",
          "model_module_version": "1.2.0",
          "state": {
            "_model_module": "@jupyter-widgets/base",
            "_model_module_version": "1.2.0",
            "_model_name": "LayoutModel",
            "_view_count": null,
            "_view_module": "@jupyter-widgets/base",
            "_view_module_version": "1.2.0",
            "_view_name": "LayoutView",
            "align_content": null,
            "align_items": null,
            "align_self": null,
            "border": null,
            "bottom": null,
            "display": null,
            "flex": null,
            "flex_flow": null,
            "grid_area": null,
            "grid_auto_columns": null,
            "grid_auto_flow": null,
            "grid_auto_rows": null,
            "grid_column": null,
            "grid_gap": null,
            "grid_row": null,
            "grid_template_areas": null,
            "grid_template_columns": null,
            "grid_template_rows": null,
            "height": null,
            "justify_content": null,
            "justify_items": null,
            "left": null,
            "margin": null,
            "max_height": null,
            "max_width": null,
            "min_height": null,
            "min_width": null,
            "object_fit": null,
            "object_position": null,
            "order": null,
            "overflow": null,
            "overflow_x": null,
            "overflow_y": null,
            "padding": null,
            "right": null,
            "top": null,
            "visibility": null,
            "width": null
          }
        },
        "a67b161bf9234cf3883c8b9fd652988f": {
          "model_module": "@jupyter-widgets/controls",
          "model_name": "DescriptionStyleModel",
          "model_module_version": "1.5.0",
          "state": {
            "_model_module": "@jupyter-widgets/controls",
            "_model_module_version": "1.5.0",
            "_model_name": "DescriptionStyleModel",
            "_view_count": null,
            "_view_module": "@jupyter-widgets/base",
            "_view_module_version": "1.2.0",
            "_view_name": "StyleView",
            "description_width": ""
          }
        },
        "15a6e58785704f7f8008fa11cc846372": {
          "model_module": "@jupyter-widgets/controls",
          "model_name": "HBoxModel",
          "model_module_version": "1.5.0",
          "state": {
            "_dom_classes": [],
            "_model_module": "@jupyter-widgets/controls",
            "_model_module_version": "1.5.0",
            "_model_name": "HBoxModel",
            "_view_count": null,
            "_view_module": "@jupyter-widgets/controls",
            "_view_module_version": "1.5.0",
            "_view_name": "HBoxView",
            "box_style": "",
            "children": [
              "IPY_MODEL_0bd0774568c549cb9c2058284418ffd8",
              "IPY_MODEL_8c00a4aeb73245599f6d3a605a1d253d",
              "IPY_MODEL_287799caa555424ba5d8ab1ad6a99f8d"
            ],
            "layout": "IPY_MODEL_bf493d7b104a4223954e782314405859"
          }
        },
        "0bd0774568c549cb9c2058284418ffd8": {
          "model_module": "@jupyter-widgets/controls",
          "model_name": "HTMLModel",
          "model_module_version": "1.5.0",
          "state": {
            "_dom_classes": [],
            "_model_module": "@jupyter-widgets/controls",
            "_model_module_version": "1.5.0",
            "_model_name": "HTMLModel",
            "_view_count": null,
            "_view_module": "@jupyter-widgets/controls",
            "_view_module_version": "1.5.0",
            "_view_name": "HTMLView",
            "description": "",
            "description_tooltip": null,
            "layout": "IPY_MODEL_88e62837eea748919b7e33766a056fdf",
            "placeholder": "​",
            "style": "IPY_MODEL_2707765c0d56419f902eb07303c85075",
            "value": "1_Pooling/config.json: 100%"
          }
        },
        "8c00a4aeb73245599f6d3a605a1d253d": {
          "model_module": "@jupyter-widgets/controls",
          "model_name": "FloatProgressModel",
          "model_module_version": "1.5.0",
          "state": {
            "_dom_classes": [],
            "_model_module": "@jupyter-widgets/controls",
            "_model_module_version": "1.5.0",
            "_model_name": "FloatProgressModel",
            "_view_count": null,
            "_view_module": "@jupyter-widgets/controls",
            "_view_module_version": "1.5.0",
            "_view_name": "ProgressView",
            "bar_style": "success",
            "description": "",
            "description_tooltip": null,
            "layout": "IPY_MODEL_72cc0125ba744f36a49bc7318643478a",
            "max": 190,
            "min": 0,
            "orientation": "horizontal",
            "style": "IPY_MODEL_ab0382410ec7427786b4362a7254b9fd",
            "value": 190
          }
        },
        "287799caa555424ba5d8ab1ad6a99f8d": {
          "model_module": "@jupyter-widgets/controls",
          "model_name": "HTMLModel",
          "model_module_version": "1.5.0",
          "state": {
            "_dom_classes": [],
            "_model_module": "@jupyter-widgets/controls",
            "_model_module_version": "1.5.0",
            "_model_name": "HTMLModel",
            "_view_count": null,
            "_view_module": "@jupyter-widgets/controls",
            "_view_module_version": "1.5.0",
            "_view_name": "HTMLView",
            "description": "",
            "description_tooltip": null,
            "layout": "IPY_MODEL_3eec8fa99375422eb7954be072db0dab",
            "placeholder": "​",
            "style": "IPY_MODEL_1b92983c86b642a198f89b6bdef68e38",
            "value": " 190/190 [00:00&lt;00:00, 9.50kB/s]"
          }
        },
        "bf493d7b104a4223954e782314405859": {
          "model_module": "@jupyter-widgets/base",
          "model_name": "LayoutModel",
          "model_module_version": "1.2.0",
          "state": {
            "_model_module": "@jupyter-widgets/base",
            "_model_module_version": "1.2.0",
            "_model_name": "LayoutModel",
            "_view_count": null,
            "_view_module": "@jupyter-widgets/base",
            "_view_module_version": "1.2.0",
            "_view_name": "LayoutView",
            "align_content": null,
            "align_items": null,
            "align_self": null,
            "border": null,
            "bottom": null,
            "display": null,
            "flex": null,
            "flex_flow": null,
            "grid_area": null,
            "grid_auto_columns": null,
            "grid_auto_flow": null,
            "grid_auto_rows": null,
            "grid_column": null,
            "grid_gap": null,
            "grid_row": null,
            "grid_template_areas": null,
            "grid_template_columns": null,
            "grid_template_rows": null,
            "height": null,
            "justify_content": null,
            "justify_items": null,
            "left": null,
            "margin": null,
            "max_height": null,
            "max_width": null,
            "min_height": null,
            "min_width": null,
            "object_fit": null,
            "object_position": null,
            "order": null,
            "overflow": null,
            "overflow_x": null,
            "overflow_y": null,
            "padding": null,
            "right": null,
            "top": null,
            "visibility": null,
            "width": null
          }
        },
        "88e62837eea748919b7e33766a056fdf": {
          "model_module": "@jupyter-widgets/base",
          "model_name": "LayoutModel",
          "model_module_version": "1.2.0",
          "state": {
            "_model_module": "@jupyter-widgets/base",
            "_model_module_version": "1.2.0",
            "_model_name": "LayoutModel",
            "_view_count": null,
            "_view_module": "@jupyter-widgets/base",
            "_view_module_version": "1.2.0",
            "_view_name": "LayoutView",
            "align_content": null,
            "align_items": null,
            "align_self": null,
            "border": null,
            "bottom": null,
            "display": null,
            "flex": null,
            "flex_flow": null,
            "grid_area": null,
            "grid_auto_columns": null,
            "grid_auto_flow": null,
            "grid_auto_rows": null,
            "grid_column": null,
            "grid_gap": null,
            "grid_row": null,
            "grid_template_areas": null,
            "grid_template_columns": null,
            "grid_template_rows": null,
            "height": null,
            "justify_content": null,
            "justify_items": null,
            "left": null,
            "margin": null,
            "max_height": null,
            "max_width": null,
            "min_height": null,
            "min_width": null,
            "object_fit": null,
            "object_position": null,
            "order": null,
            "overflow": null,
            "overflow_x": null,
            "overflow_y": null,
            "padding": null,
            "right": null,
            "top": null,
            "visibility": null,
            "width": null
          }
        },
        "2707765c0d56419f902eb07303c85075": {
          "model_module": "@jupyter-widgets/controls",
          "model_name": "DescriptionStyleModel",
          "model_module_version": "1.5.0",
          "state": {
            "_model_module": "@jupyter-widgets/controls",
            "_model_module_version": "1.5.0",
            "_model_name": "DescriptionStyleModel",
            "_view_count": null,
            "_view_module": "@jupyter-widgets/base",
            "_view_module_version": "1.2.0",
            "_view_name": "StyleView",
            "description_width": ""
          }
        },
        "72cc0125ba744f36a49bc7318643478a": {
          "model_module": "@jupyter-widgets/base",
          "model_name": "LayoutModel",
          "model_module_version": "1.2.0",
          "state": {
            "_model_module": "@jupyter-widgets/base",
            "_model_module_version": "1.2.0",
            "_model_name": "LayoutModel",
            "_view_count": null,
            "_view_module": "@jupyter-widgets/base",
            "_view_module_version": "1.2.0",
            "_view_name": "LayoutView",
            "align_content": null,
            "align_items": null,
            "align_self": null,
            "border": null,
            "bottom": null,
            "display": null,
            "flex": null,
            "flex_flow": null,
            "grid_area": null,
            "grid_auto_columns": null,
            "grid_auto_flow": null,
            "grid_auto_rows": null,
            "grid_column": null,
            "grid_gap": null,
            "grid_row": null,
            "grid_template_areas": null,
            "grid_template_columns": null,
            "grid_template_rows": null,
            "height": null,
            "justify_content": null,
            "justify_items": null,
            "left": null,
            "margin": null,
            "max_height": null,
            "max_width": null,
            "min_height": null,
            "min_width": null,
            "object_fit": null,
            "object_position": null,
            "order": null,
            "overflow": null,
            "overflow_x": null,
            "overflow_y": null,
            "padding": null,
            "right": null,
            "top": null,
            "visibility": null,
            "width": null
          }
        },
        "ab0382410ec7427786b4362a7254b9fd": {
          "model_module": "@jupyter-widgets/controls",
          "model_name": "ProgressStyleModel",
          "model_module_version": "1.5.0",
          "state": {
            "_model_module": "@jupyter-widgets/controls",
            "_model_module_version": "1.5.0",
            "_model_name": "ProgressStyleModel",
            "_view_count": null,
            "_view_module": "@jupyter-widgets/base",
            "_view_module_version": "1.2.0",
            "_view_name": "StyleView",
            "bar_color": null,
            "description_width": ""
          }
        },
        "3eec8fa99375422eb7954be072db0dab": {
          "model_module": "@jupyter-widgets/base",
          "model_name": "LayoutModel",
          "model_module_version": "1.2.0",
          "state": {
            "_model_module": "@jupyter-widgets/base",
            "_model_module_version": "1.2.0",
            "_model_name": "LayoutModel",
            "_view_count": null,
            "_view_module": "@jupyter-widgets/base",
            "_view_module_version": "1.2.0",
            "_view_name": "LayoutView",
            "align_content": null,
            "align_items": null,
            "align_self": null,
            "border": null,
            "bottom": null,
            "display": null,
            "flex": null,
            "flex_flow": null,
            "grid_area": null,
            "grid_auto_columns": null,
            "grid_auto_flow": null,
            "grid_auto_rows": null,
            "grid_column": null,
            "grid_gap": null,
            "grid_row": null,
            "grid_template_areas": null,
            "grid_template_columns": null,
            "grid_template_rows": null,
            "height": null,
            "justify_content": null,
            "justify_items": null,
            "left": null,
            "margin": null,
            "max_height": null,
            "max_width": null,
            "min_height": null,
            "min_width": null,
            "object_fit": null,
            "object_position": null,
            "order": null,
            "overflow": null,
            "overflow_x": null,
            "overflow_y": null,
            "padding": null,
            "right": null,
            "top": null,
            "visibility": null,
            "width": null
          }
        },
        "1b92983c86b642a198f89b6bdef68e38": {
          "model_module": "@jupyter-widgets/controls",
          "model_name": "DescriptionStyleModel",
          "model_module_version": "1.5.0",
          "state": {
            "_model_module": "@jupyter-widgets/controls",
            "_model_module_version": "1.5.0",
            "_model_name": "DescriptionStyleModel",
            "_view_count": null,
            "_view_module": "@jupyter-widgets/base",
            "_view_module_version": "1.2.0",
            "_view_name": "StyleView",
            "description_width": ""
          }
        }
      }
    }
  },
  "cells": [
    {
      "cell_type": "markdown",
      "metadata": {
        "id": "view-in-github",
        "colab_type": "text"
      },
      "source": [
        "<a href=\"https://colab.research.google.com/github/harnalashok/LLMs/blob/main/chromadbExpts%20and%20exports.ipynb\" target=\"_parent\"><img src=\"https://colab.research.google.com/assets/colab-badge.svg\" alt=\"Open In Colab\"/></a>"
      ]
    },
    {
      "cell_type": "code",
      "source": [
        "# Last amended: 01st June, 2024\n",
        "# Objectives: a. Understand chromadb vector store\n",
        "#             b. Experiment with its functions\n",
        "#             c. Export chroma store into json format\n",
        "#                and store it in HuggingFace repo for use\n",
        "#                by others.\n",
        "#                (Exporting chromadb to csv is not possible\n",
        "#                 because of nature of data)"
      ],
      "metadata": {
        "id": "ZSaxza3Pw10l"
      },
      "execution_count": null,
      "outputs": []
    },
    {
      "cell_type": "markdown",
      "source": [
        "## References:\n",
        "> a. [Huggingface](https://huggingface.co/chromadb)    \n",
        "> b. [GitHub-1](https://github.com/chroma-core/chroma_datasets/tree/master)    \n",
        "> c. [GitHub-2](https://github.com/johnnycode8/chromadb_quickstart/tree/main)      \n",
        "> d. [Analytics Vidya](https://www.analyticsvidhya.com/blog/2023/07/guide-to-chroma-db-a-vector-store-for-your-generative-ai-llms/)    \n",
        "> e. [chromadb cookbook](https://cookbook.chromadb.dev/)"
      ],
      "metadata": {
        "id": "_LXYapstw5jx"
      }
    },
    {
      "cell_type": "markdown",
      "source": [
        ">In traditional databases, data is typically stored in rows and columns, suitable for structured data. However, as datasets become more complex and high-dimensional, the need for a more specialized solution & data structures arises. This is where vector databases shine. Instead of dealing with traditional data structures, vector databases are optimized to handle vectors - mathematical representations of data points in multi-dimensional spaces."
      ],
      "metadata": {
        "id": "g1PA1AaGjgo7"
      }
    },
    {
      "cell_type": "markdown",
      "source": [
        "![image4_7b6910cd7c.png](data:image/png;base64,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)"
      ],
      "metadata": {
        "id": "sPFA6QK0i6Pg"
      }
    },
    {
      "cell_type": "code",
      "execution_count": null,
      "metadata": {
        "id": "Q1jEJMnbX8xz",
        "collapsed": true
      },
      "outputs": [],
      "source": [
        "# 1.0 chroma db is installed as a python package\n",
        "#       not as an ubuntu software:\n",
        "\n",
        "! pip install chromadb"
      ]
    },
    {
      "cell_type": "markdown",
      "source": [
        "## Why chromadb?\n",
        "Here are the steps describing how Chroma DB works:\n",
        "\n",
        "- **Data Structure**: Chroma DB organizes chromatic data in a structured format optimized for efficient storage and retrieval.\n",
        "- **Storage**: It stores metadat also. For images, it stores color-related information such as RGB values, color names, and associated metadata in the database.\n",
        "- **Indexing**: Metadata is indexed. Chroma DB creates indexes to facilitate fast lookup of colors based on various criteria like RGB values, color names, or other attributes.\n",
        "- **Querying**: Query can include metadata. Users can query Chroma DB using specific criteria such as color codes, names, or properties to retrieve relevant color information.\n",
        "- **Analysis**: Chroma DB enables analysis of color data for various applications such as image processing, design, and color matching.\n",
        "- **Optimization**: The database is optimized for speed and efficiency, allowing for quick retrieval and processing of color-related information.\n",
        "- **Integration**: It can be integrated into different software applications and platforms to provide color-related functionalities seamlessly.\n",
        "- **Continued Improvement**: Chroma DB may undergo updates and improvements to enhance its capabilities and accommodate evolving requirements in color management and analysis.\n"
      ],
      "metadata": {
        "id": "pOvpEUKHXKQ_"
      }
    },
    {
      "cell_type": "markdown",
      "source": [
        "### Structure\n",
        "Refer Concepts [here](https://cookbook.chromadb.dev/core/concepts/#embedding-vector) <br>"
      ],
      "metadata": {
        "id": "gmav8cJGw3oj"
      }
    },
    {
      "cell_type": "markdown",
      "source": [
        "- Tenants: A tenant is a logical grouping of databases. Default is `DEFAULT_TENANT`\n",
        "- Databases: A database is a logical grouping of collections (tables). Default is `DEFAULT_DATABASE`\n",
        "- Collections are the grouping mechanism for embeddings, documents, and metadata."
      ],
      "metadata": {
        "id": "AQHbWvUdvm50"
      }
    },
    {
      "cell_type": "markdown",
      "source": [
        "![image.png](data:image/png;base64,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)"
      ],
      "metadata": {
        "id": "s8q8AmNJyAb8"
      }
    },
    {
      "cell_type": "markdown",
      "source": [
        "#### Metadata¶\n",
        "\n",
        "Metadata is a dictionary of key-value pairs that can be associated with an embedding. Metadata is stored in the database and can be queried for.\n",
        "\n",
        "Metadata values can be of the following types:\n",
        "\n",
        ">strings<br>\n",
        ">integers<br>\n",
        ">floats (float32)<br>\n",
        ">booleans<br>\n"
      ],
      "metadata": {
        "id": "WLG1QGhwyLzS"
      }
    },
    {
      "cell_type": "markdown",
      "source": [
        "#### File Storage\n",
        "Refer Concepts [here](https://cookbook.chromadb.dev/core/concepts/#embedding-vector) <br>\n",
        ">Document and Metadata Index¶\n",
        "\n",
        ">>The document and metadata index is stored in SQLite database.<br>\n",
        "\n",
        ">Vector Index (HNSW Index)¶<br>\n",
        "\n",
        ">>Under the hood Chroma uses its own library, HNSW lib, for indexing and searching vectors.\n",
        "\n",
        ">>In a single-node mode, Chroma will create a single HNSW index for each collection. The index is stored in a subdir of your persistent dir, named after the collection id (UUID-based).\n",
        "\n",
        ">>The HNSW lib uses fast ANN algo to search the vectors in the index."
      ],
      "metadata": {
        "id": "boE2xvs2yj6l"
      }
    },
    {
      "cell_type": "code",
      "source": [
        "# 1.0\n",
        "# chroma cookbook: https://cookbook.chromadb.dev/core/tenants-and-databases/\n",
        "# chroma db has Tenants: A tenant is a logical grouping of databases.\n",
        "# chromadb has Databases: A database is a logical grouping of collections (tables).\n",
        "\n",
        "import chromadb\n",
        "from chromadb.config import DEFAULT_TENANT, DEFAULT_DATABASE, Settings"
      ],
      "metadata": {
        "id": "ZkcRg6IarveD"
      },
      "execution_count": null,
      "outputs": []
    },
    {
      "cell_type": "markdown",
      "source": [
        "## Clients"
      ],
      "metadata": {
        "id": "rBdTrDUbvV3t"
      }
    },
    {
      "cell_type": "markdown",
      "source": [
        "chroma has tow types of clients unlike in databases. One client (PersistentClient) is suited only for local chroma server and the other client (HttpClient) for remote chroma server."
      ],
      "metadata": {
        "id": "bVAvz6PjvgMq"
      }
    },
    {
      "cell_type": "code",
      "source": [
        "# 1.1 Create a localclient:\n",
        "# https://cookbook.chromadb.dev/core/clients/#persistent-client\n",
        "\n",
        "# 1.1.1 No host is specified. Understood to be the same where this code runs:\n",
        "myclient = chromadb.PersistentClient(\n",
        "                                      path=\"/content/\",      # Where data will be stored\n",
        "                                      settings=Settings(),   # Default settungs\n",
        "                                      tenant=DEFAULT_TENANT, # Default\n",
        "                                      database=DEFAULT_DATABASE,\n",
        "                                     )\n"
      ],
      "metadata": {
        "id": "BT-TKzyVX_XZ"
      },
      "execution_count": null,
      "outputs": []
    },
    {
      "cell_type": "code",
      "source": [
        "# 1.1.2  YOu can try this also. But host has to be specified.\n",
        "#        But in colab, it will not work as in colab, there is no localhost:\n",
        "#        Ref: https://cookbook.chromadb.dev/core/clients/#http-client\n",
        "\n",
        "client = chromadb.HttpClient(\n",
        "                              host=\"localhost\",\n",
        "                              port=8000,\n",
        "                              ssl=False,\n",
        "                              headers=None,\n",
        "                              settings=Settings(),\n",
        "                              tenant=DEFAULT_TENANT,\n",
        "                              database=DEFAULT_DATABASE,\n",
        "                          )"
      ],
      "metadata": {
        "id": "DzFT-6RpEhSZ"
      },
      "execution_count": null,
      "outputs": []
    },
    {
      "cell_type": "markdown",
      "source": [
        "## Collections"
      ],
      "metadata": {
        "id": "OPH_jHZ6vZoL"
      }
    },
    {
      "cell_type": "markdown",
      "source": [
        "Collection in Vector Store is where we save the set of a) vector embeddings, b) documents, and c) any metadata, if present. Collection in a vector database can be thought of as a Table in Relational Database."
      ],
      "metadata": {
        "id": "62w0jpzWa0eV"
      }
    },
    {
      "cell_type": "markdown",
      "source": [
        "### [Collection Properties](https://cookbook.chromadb.dev/core/collections/#collection-properties)¶\n",
        "\n",
        "Each collection is characterized by the following properties:\n",
        "\n",
        "- name: The name of the collection. The name can be changed as long as it is unique within the database ( use collection.modify(new_name=\"new_name\") to change the name of the collection\n",
        "- metadata: A dictionary of metadata associated with the collection. The metadata is a dictionary of key-value pairs. Keys can be strings, values can be strings, integers, floats, or booleans. Metadata can be changed using collection.modify(new_metadata={\"key\": \"value\"}) (Note: Metadata is always overwritten when modified)\n",
        "- embedding_function: The embedding function used to embed documents in the collection.\n",
        "\n",
        "Defaults:\n",
        "\n",
        "- Embedding Function - by default if `embedding_function` parameter is not provided at `get()` or `create_collection()` or `get_or_create_collection()` time, Chroma uses `chromadb.utils.embedding_functions`.`DefaultEmbeddingFunction` which uses the chromadb.`utils.embedding_functions`.`DefaultEmbeddingFunction` to embed documents. The default embedding function uses `Onnx Runtime` with `all-MiniLM-L6-v2` model. **Sentence transformer** model will be downloaded when we add documents to collection. Refer [here](https://docs.trychroma.com/guides/embeddings#default:-all-minilm-l6-v2) for documentation on *Embeddings*.        \n",
        "\n",
        "-distance metric - by default Chroma use L2 (Euclidean Distance Squared) distance metric for newly created collection. You can change it at creation time using hnsw:space metadata key. Possible values are l2, cosine, and 'ip' (inner product)"
      ],
      "metadata": {
        "id": "oh9Py9Arl_rQ"
      }
    },
    {
      "cell_type": "markdown",
      "source": [
        "### Embedding functions\n",
        "Embedding functions can be linked to a collection and used whenever you call `add`, `update`, `upsert` or `query`. You can also use them directly which can be handy for debugging. Here is an example of using them directly:"
      ],
      "metadata": {
        "id": "TR6Ypu69pVvw"
      }
    },
    {
      "cell_type": "markdown",
      "source": [
        "By default, Chroma uses the **Sentence Transformers** `all-MiniLM-L6-v2` model to create embeddings. This embedding model can create sentence and document embeddings that can be used for a wide variety of tasks. This embedding function runs locally on your machine, and may require you download the model files (this will happen automatically)."
      ],
      "metadata": {
        "id": "nwyw22ZytC8s"
      }
    },
    {
      "cell_type": "code",
      "source": [
        "# 2.0\n",
        "from chromadb.utils import embedding_functions\n",
        "default_ef = embedding_functions.DefaultEmbeddingFunction()\n",
        "val = default_ef([\"foo\"])\n",
        "val[0][:3]"
      ],
      "metadata": {
        "id": "WCinWdLgpiNF",
        "colab": {
          "base_uri": "https://localhost:8080/"
        },
        "collapsed": true,
        "outputId": "ac6fabd8-4736-40ea-ed92-16dad40d32e7"
      },
      "execution_count": null,
      "outputs": [
        {
          "output_type": "stream",
          "name": "stderr",
          "text": [
            "/root/.cache/chroma/onnx_models/all-MiniLM-L6-v2/onnx.tar.gz: 100%|██████████| 79.3M/79.3M [00:03<00:00, 25.7MiB/s]\n"
          ]
        },
        {
          "output_type": "execute_result",
          "data": {
            "text/plain": [
              "[0.016233395785093307, -0.0076623898930847645, 0.018606433644890785]"
            ]
          },
          "metadata": {},
          "execution_count": 4
        }
      ]
    },
    {
      "cell_type": "markdown",
      "source": [
        "Chroma can also use any **Sentence Transformers** model to create embeddings.    \n",
        "List of all Sentence Transformer models is [here](https://www.sbert.net/docs/sentence_transformer/pretrained_models.html)"
      ],
      "metadata": {
        "id": "EPg_EchEtTsN"
      }
    },
    {
      "cell_type": "code",
      "source": [
        "# 2.1 You have to first install sentence_transformers package:\n",
        "! pip install sentence_transformers"
      ],
      "metadata": {
        "colab": {
          "base_uri": "https://localhost:8080/"
        },
        "id": "i3VZzAzdtghz",
        "outputId": "2ad5af78-912f-4836-d1a8-7299943101f4",
        "collapsed": true
      },
      "execution_count": null,
      "outputs": [
        {
          "output_type": "stream",
          "name": "stdout",
          "text": [
            "Collecting sentence_transformers\n",
            "  Downloading sentence_transformers-3.0.0-py3-none-any.whl (224 kB)\n",
            "\u001b[?25l     \u001b[90m━━━━━━━━━━━━━━━━━━━━━━━━━━━━━━━━━━━━━━━━\u001b[0m \u001b[32m0.0/224.7 kB\u001b[0m \u001b[31m?\u001b[0m eta \u001b[36m-:--:--\u001b[0m\r\u001b[2K     \u001b[91m━━━━━━━━━━━━\u001b[0m\u001b[91m╸\u001b[0m\u001b[90m━━━━━━━━━━━━━━━━━━━━━━━━━━━\u001b[0m \u001b[32m71.7/224.7 kB\u001b[0m \u001b[31m1.9 MB/s\u001b[0m eta \u001b[36m0:00:01\u001b[0m\r\u001b[2K     \u001b[90m━━━━━━━━━━━━━━━━━━━━━━━━━━━━━━━━━━━━━━━━\u001b[0m \u001b[32m224.7/224.7 kB\u001b[0m \u001b[31m3.5 MB/s\u001b[0m eta \u001b[36m0:00:00\u001b[0m\n",
            "\u001b[?25hRequirement already satisfied: transformers<5.0.0,>=4.34.0 in /usr/local/lib/python3.10/dist-packages (from sentence_transformers) (4.41.1)\n",
            "Requirement already satisfied: tqdm in /usr/local/lib/python3.10/dist-packages (from sentence_transformers) (4.66.4)\n",
            "Requirement already satisfied: torch>=1.11.0 in /usr/local/lib/python3.10/dist-packages (from sentence_transformers) (2.3.0+cu121)\n",
            "Requirement already satisfied: numpy in /usr/local/lib/python3.10/dist-packages (from sentence_transformers) (1.25.2)\n",
            "Requirement already satisfied: scikit-learn in /usr/local/lib/python3.10/dist-packages (from sentence_transformers) (1.2.2)\n",
            "Requirement already satisfied: scipy in /usr/local/lib/python3.10/dist-packages (from sentence_transformers) (1.11.4)\n",
            "Requirement already satisfied: huggingface-hub>=0.15.1 in /usr/local/lib/python3.10/dist-packages (from sentence_transformers) (0.23.1)\n",
            "Requirement already satisfied: Pillow in /usr/local/lib/python3.10/dist-packages (from sentence_transformers) (9.4.0)\n",
            "Requirement already satisfied: filelock in /usr/local/lib/python3.10/dist-packages (from huggingface-hub>=0.15.1->sentence_transformers) (3.14.0)\n",
            "Requirement already satisfied: fsspec>=2023.5.0 in /usr/local/lib/python3.10/dist-packages (from huggingface-hub>=0.15.1->sentence_transformers) (2023.6.0)\n",
            "Requirement already satisfied: packaging>=20.9 in /usr/local/lib/python3.10/dist-packages (from huggingface-hub>=0.15.1->sentence_transformers) (23.2)\n",
            "Requirement already satisfied: pyyaml>=5.1 in /usr/local/lib/python3.10/dist-packages (from huggingface-hub>=0.15.1->sentence_transformers) (6.0.1)\n",
            "Requirement already satisfied: requests in /usr/local/lib/python3.10/dist-packages (from huggingface-hub>=0.15.1->sentence_transformers) (2.31.0)\n",
            "Requirement already satisfied: typing-extensions>=3.7.4.3 in /usr/local/lib/python3.10/dist-packages (from huggingface-hub>=0.15.1->sentence_transformers) (4.11.0)\n",
            "Requirement already satisfied: sympy in /usr/local/lib/python3.10/dist-packages (from torch>=1.11.0->sentence_transformers) (1.12)\n",
            "Requirement already satisfied: networkx in /usr/local/lib/python3.10/dist-packages (from torch>=1.11.0->sentence_transformers) (3.3)\n",
            "Requirement already satisfied: jinja2 in /usr/local/lib/python3.10/dist-packages (from torch>=1.11.0->sentence_transformers) (3.1.4)\n",
            "Collecting nvidia-cuda-nvrtc-cu12==12.1.105 (from torch>=1.11.0->sentence_transformers)\n",
            "  Using cached nvidia_cuda_nvrtc_cu12-12.1.105-py3-none-manylinux1_x86_64.whl (23.7 MB)\n",
            "Collecting nvidia-cuda-runtime-cu12==12.1.105 (from torch>=1.11.0->sentence_transformers)\n",
            "  Using cached nvidia_cuda_runtime_cu12-12.1.105-py3-none-manylinux1_x86_64.whl (823 kB)\n",
            "Collecting nvidia-cuda-cupti-cu12==12.1.105 (from torch>=1.11.0->sentence_transformers)\n",
            "  Using cached nvidia_cuda_cupti_cu12-12.1.105-py3-none-manylinux1_x86_64.whl (14.1 MB)\n",
            "Collecting nvidia-cudnn-cu12==8.9.2.26 (from torch>=1.11.0->sentence_transformers)\n",
            "  Using cached nvidia_cudnn_cu12-8.9.2.26-py3-none-manylinux1_x86_64.whl (731.7 MB)\n",
            "Collecting nvidia-cublas-cu12==12.1.3.1 (from torch>=1.11.0->sentence_transformers)\n",
            "  Using cached nvidia_cublas_cu12-12.1.3.1-py3-none-manylinux1_x86_64.whl (410.6 MB)\n",
            "Collecting nvidia-cufft-cu12==11.0.2.54 (from torch>=1.11.0->sentence_transformers)\n",
            "  Using cached nvidia_cufft_cu12-11.0.2.54-py3-none-manylinux1_x86_64.whl (121.6 MB)\n",
            "Collecting nvidia-curand-cu12==10.3.2.106 (from torch>=1.11.0->sentence_transformers)\n",
            "  Using cached nvidia_curand_cu12-10.3.2.106-py3-none-manylinux1_x86_64.whl (56.5 MB)\n",
            "Collecting nvidia-cusolver-cu12==11.4.5.107 (from torch>=1.11.0->sentence_transformers)\n",
            "  Using cached nvidia_cusolver_cu12-11.4.5.107-py3-none-manylinux1_x86_64.whl (124.2 MB)\n",
            "Collecting nvidia-cusparse-cu12==12.1.0.106 (from torch>=1.11.0->sentence_transformers)\n",
            "  Using cached nvidia_cusparse_cu12-12.1.0.106-py3-none-manylinux1_x86_64.whl (196.0 MB)\n",
            "Collecting nvidia-nccl-cu12==2.20.5 (from torch>=1.11.0->sentence_transformers)\n",
            "  Using cached nvidia_nccl_cu12-2.20.5-py3-none-manylinux2014_x86_64.whl (176.2 MB)\n",
            "Collecting nvidia-nvtx-cu12==12.1.105 (from torch>=1.11.0->sentence_transformers)\n",
            "  Using cached nvidia_nvtx_cu12-12.1.105-py3-none-manylinux1_x86_64.whl (99 kB)\n",
            "Requirement already satisfied: triton==2.3.0 in /usr/local/lib/python3.10/dist-packages (from torch>=1.11.0->sentence_transformers) (2.3.0)\n",
            "Collecting nvidia-nvjitlink-cu12 (from nvidia-cusolver-cu12==11.4.5.107->torch>=1.11.0->sentence_transformers)\n",
            "  Downloading nvidia_nvjitlink_cu12-12.5.40-py3-none-manylinux2014_x86_64.whl (21.3 MB)\n",
            "\u001b[2K     \u001b[90m━━━━━━━━━━━━━━━━━━━━━━━━━━━━━━━━━━━━━━━━\u001b[0m \u001b[32m21.3/21.3 MB\u001b[0m \u001b[31m58.8 MB/s\u001b[0m eta \u001b[36m0:00:00\u001b[0m\n",
            "\u001b[?25hRequirement already satisfied: regex!=2019.12.17 in /usr/local/lib/python3.10/dist-packages (from transformers<5.0.0,>=4.34.0->sentence_transformers) (2024.5.15)\n",
            "Requirement already satisfied: tokenizers<0.20,>=0.19 in /usr/local/lib/python3.10/dist-packages (from transformers<5.0.0,>=4.34.0->sentence_transformers) (0.19.1)\n",
            "Requirement already satisfied: safetensors>=0.4.1 in /usr/local/lib/python3.10/dist-packages (from transformers<5.0.0,>=4.34.0->sentence_transformers) (0.4.3)\n",
            "Requirement already satisfied: joblib>=1.1.1 in /usr/local/lib/python3.10/dist-packages (from scikit-learn->sentence_transformers) (1.4.2)\n",
            "Requirement already satisfied: threadpoolctl>=2.0.0 in /usr/local/lib/python3.10/dist-packages (from scikit-learn->sentence_transformers) (3.5.0)\n",
            "Requirement already satisfied: MarkupSafe>=2.0 in /usr/local/lib/python3.10/dist-packages (from jinja2->torch>=1.11.0->sentence_transformers) (2.1.5)\n",
            "Requirement already satisfied: charset-normalizer<4,>=2 in /usr/local/lib/python3.10/dist-packages (from requests->huggingface-hub>=0.15.1->sentence_transformers) (3.3.2)\n",
            "Requirement already satisfied: idna<4,>=2.5 in /usr/local/lib/python3.10/dist-packages (from requests->huggingface-hub>=0.15.1->sentence_transformers) (3.7)\n",
            "Requirement already satisfied: urllib3<3,>=1.21.1 in /usr/local/lib/python3.10/dist-packages (from requests->huggingface-hub>=0.15.1->sentence_transformers) (2.0.7)\n",
            "Requirement already satisfied: certifi>=2017.4.17 in /usr/local/lib/python3.10/dist-packages (from requests->huggingface-hub>=0.15.1->sentence_transformers) (2024.2.2)\n",
            "Requirement already satisfied: mpmath>=0.19 in /usr/local/lib/python3.10/dist-packages (from sympy->torch>=1.11.0->sentence_transformers) (1.3.0)\n",
            "Installing collected packages: nvidia-nvtx-cu12, nvidia-nvjitlink-cu12, nvidia-nccl-cu12, nvidia-curand-cu12, nvidia-cufft-cu12, nvidia-cuda-runtime-cu12, nvidia-cuda-nvrtc-cu12, nvidia-cuda-cupti-cu12, nvidia-cublas-cu12, nvidia-cusparse-cu12, nvidia-cudnn-cu12, nvidia-cusolver-cu12, sentence_transformers\n",
            "Successfully installed nvidia-cublas-cu12-12.1.3.1 nvidia-cuda-cupti-cu12-12.1.105 nvidia-cuda-nvrtc-cu12-12.1.105 nvidia-cuda-runtime-cu12-12.1.105 nvidia-cudnn-cu12-8.9.2.26 nvidia-cufft-cu12-11.0.2.54 nvidia-curand-cu12-10.3.2.106 nvidia-cusolver-cu12-11.4.5.107 nvidia-cusparse-cu12-12.1.0.106 nvidia-nccl-cu12-2.20.5 nvidia-nvjitlink-cu12-12.5.40 nvidia-nvtx-cu12-12.1.105 sentence_transformers-3.0.0\n"
          ]
        }
      ]
    },
    {
      "cell_type": "code",
      "source": [
        "# 2.2 The model will first be downloaded and then used:\n",
        "\n",
        "sentence_transformer_ef = embedding_functions.SentenceTransformerEmbeddingFunction(model_name=\"all-MiniLM-L6-v2\")\n"
      ],
      "metadata": {
        "colab": {
          "base_uri": "https://localhost:8080/",
          "height": 424,
          "referenced_widgets": [
            "888d7a1c5a6543449374fdd31a5e1719",
            "5c334c5aeca24457946f410b59d10727",
            "629a54668a214cab81deb3c6e3622329",
            "b52e23b502914eae9a113b379da3b23a",
            "2bb678fac4bf435abe5dc414f5a21c98",
            "edab98dd6a004afe8b8955001525c676",
            "fbfea634973746c085082dbf0327a538",
            "3e2e143df46541eea9b3ed768d728e9b",
            "69a747d1f7ea4037b1384a16d8e0c399",
            "a9b2d8d17bba4ffcace70cb5d13d5017",
            "b60c8d5f488448c98e6b1727bf46ff5d",
            "8bb2e01ea3d54faca07298291bac4abe",
            "fbcc054c56d2454f9ac84fb78a8113a3",
            "3399744ecca54f7987b1b5bbd6d9cab2",
            "70c05b6bba934bf9a4e1a384747f077c",
            "d4f0cc44e262408eaf0dc1893e34550d",
            "faf666caefae4ae4ac5e8d29b172f5b7",
            "657f6ce68f3f42ba8edb3199fe3d63d6",
            "7093c59d121b4c1eb7b17df2e59ee9aa",
            "4f8afe62b7ad4b98a699bcda859c14d1",
            "599479994d964851978e4757e95871ba",
            "ca90b434080e4e78a058a67cdb829b10",
            "52ab698cdece49ed9a958cea2151daf9",
            "394a03abf802438b820c640bb58af86a",
            "6225a8c99f5448d6a99e444240b2151e",
            "f445ff98da6c4cf089fe25dd326b6b25",
            "0f4c2de40ce64e04b23d876f2829fa52",
            "9b939a90d32843d3b8719f208b332a43",
            "f804d48972ce47d09387181f1aeb43ab",
            "505880adf7b847b58c528a46bc8eb6e7",
            "dc059ed732eb4453a30c3c9903888ada",
            "956527c46dfc41cc805b04310ca35b5c",
            "57c40f0078dd47a69652a6480a0d3c7e",
            "364458b3433c43b2b5f94dbcc8c339c5",
            "f3d6c086376d4d36a51e311e86b6812c",
            "f310b79ce52a4de3ad0bc7a905429fc8",
            "c5b7d7364cc44767aa819aa3130fc61e",
            "e10168af7163468a992377ff88f39b5b",
            "e040bea182894b7a91511455be979383",
            "622c71ff77e44cc59e66f24492e2a6a6",
            "8e38eb629c27444fb3f7b6ea90aaf653",
            "3cd5c318059749e394524c13b9a50051",
            "7aba1a5c4a0a45e29c09ea30a8f7c86c",
            "60fc03d40b564dfabeb90aae9b130d99",
            "d602483c52ec479c81de26bbb8f2dedb",
            "57e9695ae708483da10952fb2b0fb039",
            "830e66756f4241878b2cf8311b85b7a6",
            "02a469c40b1a4feeafe8d6f67907f663",
            "fd342c9414554360bd16694ee241d254",
            "f4373a423c954fdb903bf190cbf25be7",
            "cb4ec00e91bc4ad1ab0bd5387ced758a",
            "ca24c239c0cb46f4a49dcfabce2f6280",
            "1b64821bea724c039b9beb7c229119c2",
            "9922eeec411e40f1b736a68f9d85b1f3",
            "132de9eb516f422d8e64a6068573935b",
            "4ab27e3e3d244361b05b2a7b8ba3d324",
            "72e90340895d42909117f47646c4edff",
            "8d1ee9a94d614d39b6c62634c381bfab",
            "6f353c877de24eb5acff4f4574c3a5b9",
            "8f80614794a74993bd7c33091a3c68b5",
            "5d755258308c41b2b408dde6b50e1721",
            "37a914d0e7034b499cb31614bd40e9a0",
            "fc4aedcd942a4e6799ab59cf4ac6fedf",
            "3af1b74f4ee740ca93da5763bea6d571",
            "799a484e86e24f38b2ff3af9f67d2aee",
            "31f2c98ecd6c4938a175d65f68a4e5ac",
            "15e75428c6794030bbd56ab8f4e37887",
            "a9877349694f4ad4b4244b0716103f7f",
            "2a25b40385ab44378f22c2cbad41c67c",
            "472f7fa701044ec1a276ce218e47f2ba",
            "78725f8d83034ea4bc3b6eee2de7853c",
            "d022a640972d4be48dd57d6845d23012",
            "f863e5f274bd403e98bb68216490c11b",
            "5bf30dd3fb1d4c4387fffbe6aa0df192",
            "c7d66408e90242529221fcb85803906b",
            "4293a0e3f89b4ed8b0c8a0f46bf21ff6",
            "e55a3dd58bd4484daa7af93048a1dbb6",
            "b1a04d60eed345dfa22081d1fe9a2ff1",
            "64b03e891f6d4b43874e0e0a0c2cfaee",
            "05326dfff4474005b5a77438b8182c49",
            "edea466fe0b441b99d2c2212505941c0",
            "23ba0090c5cd459a8e7404118214d719",
            "93b69dfc00234847b05398ecbbac29b0",
            "a8c61577110145daa8cb373e07fc89e7",
            "f055e4b2f93d48d5be78d799fe8bea62",
            "14934444aa714059889171550ea3df23",
            "953a25b1c1a8431e80b1ca39c79625de",
            "c8cced577ae94dfead5cbe4418d2d92d",
            "90da01f8a314451a84449368c8c7e1da",
            "16d6f02980234b648c0d55f226bf41d4",
            "b970905aaaed437d873323e67ebf0b7a",
            "fe4adabfa3e84c0db8f50168fd02d8cc",
            "6cf1e11f312b4caebe9067a344575091",
            "4389922b57b245a3a393c34b6a780e84",
            "4f41f0204f314c48b230c3df3f741b9b",
            "e9639714dd06464ea6a8ac1030e5be04",
            "a675838769f448adb6a8e715f4d549b5",
            "ba76439ae79141f68dfdbb80e566cdf1",
            "5f5997327bb84ffb98a391e7aa0ba951",
            "89eb41c6132240e48b3aa8f4bae5e646",
            "6bb02bb7111f4686a5a8b2824a8a14c7",
            "8c7f378d15e24ba7aea0c7f476b0b2cb",
            "c905114fca5849ceae88e474a3ffeff5",
            "0ceed267e9aa4380a507f34e116f232c",
            "1474021734174d50afb2cbd5fbc647da",
            "e928313bd883462dbe701bbdbcf34aa1",
            "8ebc12955d40469fb8d2130e45984966",
            "853d999af35e4ab18b57f35844e1d95a",
            "4dc4656e0e5a4750b6e97f1c104c6fbf",
            "a67b161bf9234cf3883c8b9fd652988f",
            "15a6e58785704f7f8008fa11cc846372",
            "0bd0774568c549cb9c2058284418ffd8",
            "8c00a4aeb73245599f6d3a605a1d253d",
            "287799caa555424ba5d8ab1ad6a99f8d",
            "bf493d7b104a4223954e782314405859",
            "88e62837eea748919b7e33766a056fdf",
            "2707765c0d56419f902eb07303c85075",
            "72cc0125ba744f36a49bc7318643478a",
            "ab0382410ec7427786b4362a7254b9fd",
            "3eec8fa99375422eb7954be072db0dab",
            "1b92983c86b642a198f89b6bdef68e38"
          ]
        },
        "id": "2XcIlwGqtbEk",
        "outputId": "9d7e1595-2049-4040-bbb3-089448f30e37"
      },
      "execution_count": null,
      "outputs": [
        {
          "output_type": "display_data",
          "data": {
            "text/plain": [
              "modules.json:   0%|          | 0.00/349 [00:00<?, ?B/s]"
            ],
            "application/vnd.jupyter.widget-view+json": {
              "version_major": 2,
              "version_minor": 0,
              "model_id": "888d7a1c5a6543449374fdd31a5e1719"
            }
          },
          "metadata": {}
        },
        {
          "output_type": "display_data",
          "data": {
            "text/plain": [
              "config_sentence_transformers.json:   0%|          | 0.00/116 [00:00<?, ?B/s]"
            ],
            "application/vnd.jupyter.widget-view+json": {
              "version_major": 2,
              "version_minor": 0,
              "model_id": "8bb2e01ea3d54faca07298291bac4abe"
            }
          },
          "metadata": {}
        },
        {
          "output_type": "display_data",
          "data": {
            "text/plain": [
              "README.md:   0%|          | 0.00/10.7k [00:00<?, ?B/s]"
            ],
            "application/vnd.jupyter.widget-view+json": {
              "version_major": 2,
              "version_minor": 0,
              "model_id": "52ab698cdece49ed9a958cea2151daf9"
            }
          },
          "metadata": {}
        },
        {
          "output_type": "display_data",
          "data": {
            "text/plain": [
              "sentence_bert_config.json:   0%|          | 0.00/53.0 [00:00<?, ?B/s]"
            ],
            "application/vnd.jupyter.widget-view+json": {
              "version_major": 2,
              "version_minor": 0,
              "model_id": "364458b3433c43b2b5f94dbcc8c339c5"
            }
          },
          "metadata": {}
        },
        {
          "output_type": "stream",
          "name": "stderr",
          "text": [
            "/usr/local/lib/python3.10/dist-packages/huggingface_hub/file_download.py:1132: FutureWarning: `resume_download` is deprecated and will be removed in version 1.0.0. Downloads always resume when possible. If you want to force a new download, use `force_download=True`.\n",
            "  warnings.warn(\n"
          ]
        },
        {
          "output_type": "display_data",
          "data": {
            "text/plain": [
              "config.json:   0%|          | 0.00/612 [00:00<?, ?B/s]"
            ],
            "application/vnd.jupyter.widget-view+json": {
              "version_major": 2,
              "version_minor": 0,
              "model_id": "d602483c52ec479c81de26bbb8f2dedb"
            }
          },
          "metadata": {}
        },
        {
          "output_type": "display_data",
          "data": {
            "text/plain": [
              "model.safetensors:   0%|          | 0.00/90.9M [00:00<?, ?B/s]"
            ],
            "application/vnd.jupyter.widget-view+json": {
              "version_major": 2,
              "version_minor": 0,
              "model_id": "4ab27e3e3d244361b05b2a7b8ba3d324"
            }
          },
          "metadata": {}
        },
        {
          "output_type": "display_data",
          "data": {
            "text/plain": [
              "tokenizer_config.json:   0%|          | 0.00/350 [00:00<?, ?B/s]"
            ],
            "application/vnd.jupyter.widget-view+json": {
              "version_major": 2,
              "version_minor": 0,
              "model_id": "15e75428c6794030bbd56ab8f4e37887"
            }
          },
          "metadata": {}
        },
        {
          "output_type": "display_data",
          "data": {
            "text/plain": [
              "vocab.txt:   0%|          | 0.00/232k [00:00<?, ?B/s]"
            ],
            "application/vnd.jupyter.widget-view+json": {
              "version_major": 2,
              "version_minor": 0,
              "model_id": "b1a04d60eed345dfa22081d1fe9a2ff1"
            }
          },
          "metadata": {}
        },
        {
          "output_type": "display_data",
          "data": {
            "text/plain": [
              "tokenizer.json:   0%|          | 0.00/466k [00:00<?, ?B/s]"
            ],
            "application/vnd.jupyter.widget-view+json": {
              "version_major": 2,
              "version_minor": 0,
              "model_id": "90da01f8a314451a84449368c8c7e1da"
            }
          },
          "metadata": {}
        },
        {
          "output_type": "display_data",
          "data": {
            "text/plain": [
              "special_tokens_map.json:   0%|          | 0.00/112 [00:00<?, ?B/s]"
            ],
            "application/vnd.jupyter.widget-view+json": {
              "version_major": 2,
              "version_minor": 0,
              "model_id": "89eb41c6132240e48b3aa8f4bae5e646"
            }
          },
          "metadata": {}
        },
        {
          "output_type": "display_data",
          "data": {
            "text/plain": [
              "1_Pooling/config.json:   0%|          | 0.00/190 [00:00<?, ?B/s]"
            ],
            "application/vnd.jupyter.widget-view+json": {
              "version_major": 2,
              "version_minor": 0,
              "model_id": "15a6e58785704f7f8008fa11cc846372"
            }
          },
          "metadata": {}
        }
      ]
    },
    {
      "cell_type": "markdown",
      "source": [
        "### Create collections\n",
        "And add to them"
      ],
      "metadata": {
        "id": "SoL14CbXwQJE"
      }
    },
    {
      "cell_type": "code",
      "source": [
        "# 3.0 Define Embedding function to use\n",
        "from chromadb.utils.embedding_functions import  DefaultEmbeddingFunction\n",
        "default_ef = DefaultEmbeddingFunction()"
      ],
      "metadata": {
        "id": "n4Pv8w3MTAzA"
      },
      "execution_count": null,
      "outputs": []
    },
    {
      "cell_type": "code",
      "source": [
        "# 3.1 We will now create an empty collection and add documents to it.\n",
        "#     Sentence transformer model as defined in the default_ef\n",
        "#     will be downloaded when we add documents.\n",
        "\n",
        "mycollection = myclient.create_collection(\"my_information\",\n",
        "                                          embedding_function=default_ef\n",
        "                                          )"
      ],
      "metadata": {
        "id": "EbyfhFJVYLji"
      },
      "execution_count": null,
      "outputs": []
    },
    {
      "cell_type": "markdown",
      "source": [
        "To this collection, we will be adding documents. Here we are adding three documents. In our case, we are just adding three sentences as three documents. The first document is about cars, the second one is about dogs and the final one is about four-wheelers.    \n",
        "We are even adding the metadata. Metadata for all three documents is provided.     \n",
        "Every document needs to have a unique ID to it, hence we are giving id1, id2, and id3 to them.     \n",
        "All these are like the variables to the add() function from the collection"
      ],
      "metadata": {
        "id": "HL9co8RYbQ1v"
      }
    },
    {
      "cell_type": "code",
      "source": [
        "# 3.2 Our documents\n",
        "docs=[\"This is a document containing car information\",\n",
        "      \"This is a document containing information about dogs\",\n",
        "      \"This document contains four wheeler catalogue\"\n",
        "      ]"
      ],
      "metadata": {
        "id": "qftknPSdlq8w"
      },
      "execution_count": null,
      "outputs": []
    },
    {
      "cell_type": "code",
      "source": [
        "# 3.3 Note the model that is downloaded (all-MiniLM-L6-v2/onnx.tar.gz)\n",
        "#        and also note the place where it is downloaded:\n",
        "\n",
        "mycollection.add(\n",
        "                documents=docs,\n",
        "                metadatas=[{\"source\": \"Car Book\"},{\"source\": \"Dog Book\"},{'source':'Vechile Info'}],\n",
        "                ids=[\"id1\", \"id2\", \"id3\"],\n",
        "                )"
      ],
      "metadata": {
        "id": "GpzPWyBSu4es"
      },
      "execution_count": null,
      "outputs": []
    },
    {
      "cell_type": "code",
      "source": [
        "# 3.3.1 You can also get embeddings directly\n",
        "#     as  here:\n",
        "\n",
        "embeddings = default_ef(docs)\n",
        "embeddings[0][:5]"
      ],
      "metadata": {
        "collapsed": true,
        "colab": {
          "base_uri": "https://localhost:8080/"
        },
        "id": "VQmzVk_Dm7Ze",
        "outputId": "53a45bce-6cac-44e4-ac03-8433724819b4"
      },
      "execution_count": null,
      "outputs": [
        {
          "output_type": "execute_result",
          "data": {
            "text/plain": [
              "[-0.03601692616939545,\n",
              " 0.16348546743392944,\n",
              " -0.011282119899988174,\n",
              " 0.0003502750478219241,\n",
              " 0.031290244311094284]"
            ]
          },
          "metadata": {},
          "execution_count": 9
        }
      ]
    },
    {
      "cell_type": "code",
      "source": [
        "# 3.3.2\n",
        "len(default_ef(docs))  # 3 (number of documents)"
      ],
      "metadata": {
        "colab": {
          "base_uri": "https://localhost:8080/"
        },
        "id": "5HhVc6Bwl-b1",
        "outputId": "3cf00247-6f70-4b03-c4e4-d25889365f80"
      },
      "execution_count": null,
      "outputs": [
        {
          "output_type": "execute_result",
          "data": {
            "text/plain": [
              "3"
            ]
          },
          "metadata": {},
          "execution_count": 10
        }
      ]
    },
    {
      "cell_type": "code",
      "source": [
        "# 3.3.3 Is chroma alive?\n",
        "print(myclient.heartbeat())"
      ],
      "metadata": {
        "id": "V65yKUwAPqUb",
        "outputId": "1b5bcc1b-13b2-4320-dbc2-a82dac01ec15",
        "colab": {
          "base_uri": "https://localhost:8080/"
        }
      },
      "execution_count": null,
      "outputs": [
        {
          "output_type": "stream",
          "name": "stdout",
          "text": [
            "1717160872552813318\n"
          ]
        }
      ]
    },
    {
      "cell_type": "code",
      "source": [
        "# 3.3.4 What all collections are available?\n",
        "\n",
        "myclient.list_collections()"
      ],
      "metadata": {
        "id": "57wLCKUDN1St",
        "outputId": "f223e5c9-cf50-40db-89f4-b2977121110a",
        "colab": {
          "base_uri": "https://localhost:8080/"
        }
      },
      "execution_count": null,
      "outputs": [
        {
          "output_type": "execute_result",
          "data": {
            "text/plain": [
              "[Collection(name=my_information)]"
            ]
          },
          "metadata": {},
          "execution_count": 11
        }
      ]
    },
    {
      "cell_type": "markdown",
      "source": [
        "### Export chromadb as json file\n",
        "You can upload this json file to HuggingFace.   \n",
        "See [this link](https://huggingface.co/docs/datasets/upload_dataset) for uploading.\n"
      ],
      "metadata": {
        "id": "WSDbrb79xmnA"
      }
    },
    {
      "cell_type": "code",
      "source": [
        "# 3.4 By default get() will get all data but embeddings\n",
        "# See StackOverflow()\n",
        "# https://stackoverflow.com/a/76490422/3282777\n",
        "\n",
        "coll = myclient.get_collection(name = \"my_information\" )\n",
        "coll.get()"
      ],
      "metadata": {
        "id": "JrtQ8V0jM5Jx",
        "outputId": "01ebbe7b-dea2-4025-ba26-b9e4d701bcec",
        "colab": {
          "base_uri": "https://localhost:8080/"
        }
      },
      "execution_count": null,
      "outputs": [
        {
          "output_type": "execute_result",
          "data": {
            "text/plain": [
              "{'ids': ['id1', 'id2', 'id3'],\n",
              " 'embeddings': None,\n",
              " 'metadatas': [{'source': 'Car Book'},\n",
              "  {'source': 'Dog Book'},\n",
              "  {'source': 'Vechile Info'}],\n",
              " 'documents': ['This is a document containing car information',\n",
              "  'This is a document containing information about dogs',\n",
              "  'This document contains four wheeler catalogue'],\n",
              " 'uris': None,\n",
              " 'data': None}"
            ]
          },
          "metadata": {},
          "execution_count": 12
        }
      ]
    },
    {
      "cell_type": "code",
      "source": [
        "# 3.5 To get embeddings, write get() function, as:\n",
        "\n",
        "myout = coll.get(include=['embeddings', 'documents', 'metadatas'])\n",
        "myout['embeddings'][0][:5]"
      ],
      "metadata": {
        "colab": {
          "base_uri": "https://localhost:8080/"
        },
        "id": "XWfi3VHDn0yH",
        "outputId": "a7bbdb5a-d40a-4d36-c326-f02f4549e586"
      },
      "execution_count": null,
      "outputs": [
        {
          "output_type": "execute_result",
          "data": {
            "text/plain": [
              "[-0.03601692616939545,\n",
              " 0.16348546743392944,\n",
              " -0.011282119899988174,\n",
              " 0.0003502750478219241,\n",
              " 0.031290244311094284]"
            ]
          },
          "metadata": {},
          "execution_count": 17
        }
      ]
    },
    {
      "cell_type": "code",
      "source": [
        "# 3.5.1\n",
        "myout['documents']"
      ],
      "metadata": {
        "colab": {
          "base_uri": "https://localhost:8080/"
        },
        "id": "rVJAhSkvxYJO",
        "outputId": "beeb453b-26f2-491b-a5ff-8873679bc929"
      },
      "execution_count": null,
      "outputs": [
        {
          "output_type": "execute_result",
          "data": {
            "text/plain": [
              "['This is a document containing car information',\n",
              " 'This is a document containing information about dogs',\n",
              " 'This document contains four wheeler catalogue']"
            ]
          },
          "metadata": {},
          "execution_count": 18
        }
      ]
    },
    {
      "cell_type": "code",
      "source": [
        "# 3.5.2\n",
        "myout['metadatas']"
      ],
      "metadata": {
        "colab": {
          "base_uri": "https://localhost:8080/"
        },
        "id": "IVARypf2xeFh",
        "outputId": "db5a4bf6-d550-4501-cfcf-05e2cc151789"
      },
      "execution_count": null,
      "outputs": [
        {
          "output_type": "execute_result",
          "data": {
            "text/plain": [
              "[{'source': 'Car Book'}, {'source': 'Dog Book'}, {'source': 'Vechile Info'}]"
            ]
          },
          "metadata": {},
          "execution_count": 20
        }
      ]
    },
    {
      "cell_type": "markdown",
      "source": [
        "## Query a Vector Store\n",
        "\n",
        "We will pass a query and will fetch the documents that are relevant to it. The corresponding code for this will be     \n",
        "\n",
        "- To query a vector store, we have a query() function provided by the collections which lets us query the vector database for relevant documents. In this function, we provide two parameters\n",
        "- query_texts – To this parameter, we give a list of queries for which we need to extract the relevant documents.\n",
        "- n_results - This parameter specifies how many top results should the database return. In our case we want our collection to return 2 top most relevant documents related to the query"
      ],
      "metadata": {
        "id": "qjK29OoPcBiu"
      }
    },
    {
      "cell_type": "markdown",
      "source": [
        "When we gave a query, the Chrom DB converts the query into a vector embedding with the embedding model we provided at the start. Then this vector embedding performs a semantic search(similar nearest neighbors) on all the available documents. The query here “car” is most relevant to the id1 and id3 documents, hence we get the following result for the query."
      ],
      "metadata": {
        "id": "ZfMbbRLJcjQn"
      }
    },
    {
      "cell_type": "code",
      "source": [
        "# 4.0\n",
        "results = mycollection.query(\n",
        "                            query_texts=[\"Car\"],\n",
        "                            n_results=2\n",
        "                            )\n",
        "\n",
        "\n",
        "# 4.1\n",
        "print(results)"
      ],
      "metadata": {
        "colab": {
          "base_uri": "https://localhost:8080/"
        },
        "id": "Exw56izPYMDg",
        "outputId": "96caff6a-8616-4349-e63c-8e210f1483d3"
      },
      "execution_count": null,
      "outputs": [
        {
          "output_type": "stream",
          "name": "stdout",
          "text": [
            "{'ids': [['id1', 'id3']], 'distances': [[1.0784918423508782, 1.5855050680528366]], 'metadatas': [[{'source': 'Car Book'}, {'source': 'Vechile Info'}]], 'embeddings': None, 'documents': [['This is a document containing car information', 'This document contains four wheeler catalogue']], 'uris': None, 'data': None}\n"
          ]
        }
      ]
    },
    {
      "cell_type": "markdown",
      "source": [
        "## Update"
      ],
      "metadata": {
        "id": "tgQQ88x3wiLK"
      }
    },
    {
      "cell_type": "markdown",
      "source": [
        "Later in point of time, as and when we get more data then it becomes necessary to update the existing data/vector embeddings present in the Vector Store. To update data in Chroma DB, we do the following"
      ],
      "metadata": {
        "id": "eFK10f1Xde7-"
      }
    },
    {
      "cell_type": "markdown",
      "source": [
        "Previously, the information in the document associated with id2 was about Dogs. Now we are changing it to Cats. For this information to be updated within the Vector Store, we pass the id of the document, the updated document, and the updated metadata of the document to the update() function of the collections. This will now update the id2 to Cats which was previously about Dogs."
      ],
      "metadata": {
        "id": "q7zV9suddzG_"
      }
    },
    {
      "cell_type": "code",
      "source": [
        "# 5.0\n",
        "mycollection.update(\n",
        "                    ids=[\"id2\"],\n",
        "                    documents=[\"This is a document containing information about Cats\"],\n",
        "                    metadatas=[{\"source\": \"Cat Book\"}],\n",
        "                  )"
      ],
      "metadata": {
        "id": "vnOb2Cq4vCEy"
      },
      "execution_count": null,
      "outputs": []
    },
    {
      "cell_type": "code",
      "source": [
        "# 5.1 Query the database again:\n",
        "\n",
        "results = mycollection.query(\n",
        "                              query_texts=[\"Felines\"],\n",
        "                              n_results=1\n",
        "                            )\n",
        "\n",
        "# 5.2\n",
        "print(results)"
      ],
      "metadata": {
        "colab": {
          "base_uri": "https://localhost:8080/"
        },
        "id": "kIv8NK1GvMW3",
        "outputId": "bf0687ee-cb98-47d8-9734-f2d7c9afbd3a"
      },
      "execution_count": null,
      "outputs": [
        {
          "output_type": "stream",
          "name": "stdout",
          "text": [
            "{'ids': [['id2']], 'distances': [[0.9560528333913512]], 'metadatas': [[{'source': 'Cat Book'}]], 'embeddings': None, 'documents': [['This is a document containing information about Cats']], 'uris': None, 'data': None}\n"
          ]
        }
      ]
    },
    {
      "cell_type": "markdown",
      "source": [
        "Sometimes, to reduce the space or remove unnecessary/ unwanted information, we might want to delete some documents from the collection in the Vector Store."
      ],
      "metadata": {
        "id": "Hhx0vCileN7e"
      }
    },
    {
      "cell_type": "markdown",
      "source": [
        "## Delete"
      ],
      "metadata": {
        "id": "ft14LthPwmxz"
      }
    },
    {
      "cell_type": "code",
      "source": [
        "# 6.0\n",
        "mycollection.delete(ids = ['id1'])\n",
        "\n",
        "# 6.1\n",
        "results = mycollection.query(\n",
        "                            query_texts=[\"Car\"],\n",
        "                            n_results=2\n",
        "                            )\n",
        "\n",
        "# 6.2\n",
        "print(results)"
      ],
      "metadata": {
        "colab": {
          "base_uri": "https://localhost:8080/"
        },
        "id": "F9vQqp7rvkKQ",
        "outputId": "04a226ba-71bb-4019-807a-9020fa089352"
      },
      "execution_count": null,
      "outputs": [
        {
          "output_type": "stream",
          "name": "stdout",
          "text": [
            "{'ids': [['id3', 'id2']], 'distances': [[1.5855050680528366, 1.7295208916874063]], 'metadatas': [[{'source': 'Vechile Info'}, {'source': 'Cat Book'}]], 'embeddings': None, 'documents': [['This document contains four wheeler catalogue', 'This is a document containing information about Cats']], 'uris': None, 'data': None}\n"
          ]
        }
      ]
    },
    {
      "cell_type": "markdown",
      "source": [
        "`count()` an `get()` functions"
      ],
      "metadata": {
        "id": "3CGJPUkPjxtA"
      }
    },
    {
      "cell_type": "markdown",
      "source": [
        "## Misc"
      ],
      "metadata": {
        "id": "JVkTYKV-wq9q"
      }
    },
    {
      "cell_type": "code",
      "source": [
        "# 7.0\n",
        "new_collections = myclient.create_collection(\"new_collection\")\n",
        "\n",
        "# 7.1\n",
        "new_collections.add(\n",
        "                    documents=[\"This is Python Documentation\",\n",
        "                              \"This is a Javascript Documentation\",\n",
        "                              \"This document contains Flast API Cheatsheet\"],\n",
        "                    metadatas=[{\"source\": \"Python For Everyone\"},\n",
        "                    {\"source\": \"JS Docs\"},\n",
        "                    {'source':'Everything Flask'}],\n",
        "                    ids=[\"id1\", \"id2\", \"id3\"]\n",
        "                  )\n",
        "\n",
        "\n",
        "# 7.2\n",
        "print(new_collections.count())\n",
        "print(new_collections.get())"
      ],
      "metadata": {
        "colab": {
          "base_uri": "https://localhost:8080/"
        },
        "id": "jbeOxm_RvmgO",
        "outputId": "cd315b3b-46af-4d15-e286-a30962365696"
      },
      "execution_count": null,
      "outputs": [
        {
          "output_type": "stream",
          "name": "stdout",
          "text": [
            "3\n",
            "{'ids': ['id1', 'id2', 'id3'], 'embeddings': None, 'metadatas': [{'source': 'Python For Everyone'}, {'source': 'JS Docs'}, {'source': 'Everything Flask'}], 'documents': ['This is Python Documentation', 'This is a Javascript Documentation', 'This document contains Flast API Cheatsheet'], 'uris': None, 'data': None}\n"
          ]
        }
      ]
    },
    {
      "cell_type": "code",
      "source": [
        "########## DONE #######"
      ],
      "metadata": {
        "id": "UUF5Bj6swCf6"
      },
      "execution_count": null,
      "outputs": []
    }
  ]
}