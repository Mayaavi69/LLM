{
 "cells": [
  {
   "cell_type": "code",
   "execution_count": 73,
   "id": "48a06cdf-7740-442e-8639-c22887629451",
   "metadata": {},
   "outputs": [],
   "source": [
    "# Last amended: 25th May, 2024\n",
    "# Run on jupyter notebook not colab. \n",
    "# laptop has ollama installed in WSL"
   ]
  },
  {
   "cell_type": "markdown",
   "id": "93fcda08-3386-4ecc-a10f-60ef6608e7ac",
   "metadata": {},
   "source": [
    "Reference this [article](https://medium.com/data-science-in-your-pocket/recommendation-systems-using-langchain-and-llms-with-codes-d3c4c4e66732)"
   ]
  },
  {
   "cell_type": "code",
   "execution_count": 3,
   "id": "fa4f3c76-0b9b-4640-ae57-1987df416150",
   "metadata": {},
   "outputs": [],
   "source": [
    "from IPython.core.interactiveshell import InteractiveShell\n",
    "InteractiveShell.ast_node_interactivity = \"all\""
   ]
  },
  {
   "cell_type": "markdown",
   "id": "6877f594-4fa1-461b-b175-5836de6ec9a7",
   "metadata": {},
   "source": [
    "## Generate user_id and item_id data"
   ]
  },
  {
   "cell_type": "code",
   "execution_count": 41,
   "id": "ba948f82-988f-498f-a920-e33de1ba2855",
   "metadata": {},
   "outputs": [],
   "source": [
    "# 1.0 Call libraries\n",
    "import numpy as np\n",
    "import pandas as pd"
   ]
  },
  {
   "cell_type": "code",
   "execution_count": null,
   "id": "c819401e-0644-4606-81c8-c7cf3582acb2",
   "metadata": {},
   "outputs": [],
   "source": [
    "# 1.1 Define constants\n",
    "#     Define the number of users and unique items\n",
    "num_users = 1000\n",
    "num_items = 20"
   ]
  },
  {
   "cell_type": "code",
   "execution_count": 42,
   "id": "b486dd3f-5d3b-419f-93f4-9d54e411abeb",
   "metadata": {},
   "outputs": [
    {
     "data": {
      "text/plain": [
       "array([ 1,  2,  3,  4,  5,  6,  7,  8,  9, 10])"
      ]
     },
     "execution_count": 42,
     "metadata": {},
     "output_type": "execute_result"
    },
    {
     "data": {
      "text/plain": [
       "array([ 1,  2,  3,  4,  5,  6,  7,  8,  9, 10])"
      ]
     },
     "execution_count": 42,
     "metadata": {},
     "output_type": "execute_result"
    }
   ],
   "source": [
    "# 1.2 Generate random user IDs and item IDs\n",
    "user_ids = np.arange(1, num_users + 1)\n",
    "item_ids = np.arange(1, num_items + 1)\n",
    "user_ids[:10]\n",
    "item_ids[:10]"
   ]
  },
  {
   "cell_type": "code",
   "execution_count": 44,
   "id": "8fee4e56-33a5-4508-b42c-36233c975a76",
   "metadata": {},
   "outputs": [
    {
     "data": {
      "text/plain": [
       "{'user_id': array([713, 623, 554, ..., 772, 568, 732]),\n",
       " 'item_id': array([ 6,  2,  7, ..., 10,  4, 19])}"
      ]
     },
     "execution_count": 44,
     "metadata": {},
     "output_type": "execute_result"
    }
   ],
   "source": [
    "# 1.3 Create random interaction data\n",
    "data = {\n",
    "    # Select randomly from user_ids, num_users * 10 values\n",
    "    'user_id': np.random.choice(user_ids, size=num_users * 10),\n",
    "    # Select randomly from item_ids, num_users * 10 values\n",
    "    'item_id': np.random.choice(item_ids, size=num_users * 10),\n",
    "}\n",
    "data"
   ]
  },
  {
   "cell_type": "code",
   "execution_count": 49,
   "id": "1e8411cb-4be1-4ada-93a3-23183fdb4c6f",
   "metadata": {},
   "outputs": [
    {
     "data": {
      "text/html": [
       "<div>\n",
       "<style scoped>\n",
       "    .dataframe tbody tr th:only-of-type {\n",
       "        vertical-align: middle;\n",
       "    }\n",
       "\n",
       "    .dataframe tbody tr th {\n",
       "        vertical-align: top;\n",
       "    }\n",
       "\n",
       "    .dataframe thead th {\n",
       "        text-align: right;\n",
       "    }\n",
       "</style>\n",
       "<table border=\"1\" class=\"dataframe\">\n",
       "  <thead>\n",
       "    <tr style=\"text-align: right;\">\n",
       "      <th></th>\n",
       "      <th>user_id</th>\n",
       "      <th>item_id</th>\n",
       "    </tr>\n",
       "  </thead>\n",
       "  <tbody>\n",
       "    <tr>\n",
       "      <th>0</th>\n",
       "      <td>713</td>\n",
       "      <td>6</td>\n",
       "    </tr>\n",
       "    <tr>\n",
       "      <th>1</th>\n",
       "      <td>623</td>\n",
       "      <td>2</td>\n",
       "    </tr>\n",
       "    <tr>\n",
       "      <th>2</th>\n",
       "      <td>554</td>\n",
       "      <td>7</td>\n",
       "    </tr>\n",
       "    <tr>\n",
       "      <th>3</th>\n",
       "      <td>996</td>\n",
       "      <td>10</td>\n",
       "    </tr>\n",
       "    <tr>\n",
       "      <th>4</th>\n",
       "      <td>620</td>\n",
       "      <td>8</td>\n",
       "    </tr>\n",
       "  </tbody>\n",
       "</table>\n",
       "</div>"
      ],
      "text/plain": [
       "   user_id  item_id\n",
       "0      713        6\n",
       "1      623        2\n",
       "2      554        7\n",
       "3      996       10\n",
       "4      620        8"
      ]
     },
     "execution_count": 49,
     "metadata": {},
     "output_type": "execute_result"
    }
   ],
   "source": [
    "# 1.4 Transform to pandas DataFrame:\n",
    "df = pd.DataFrame(data).drop_duplicates()\n",
    "\n",
    "# 1.5 Display the first few rows of the generated data\n",
    "df.head()"
   ]
  },
  {
   "cell_type": "code",
   "execution_count": 50,
   "id": "15ed3d5e-16d3-4833-b543-44fb4c9a3152",
   "metadata": {},
   "outputs": [
    {
     "data": {
      "text/html": [
       "<div>\n",
       "<style scoped>\n",
       "    .dataframe tbody tr th:only-of-type {\n",
       "        vertical-align: middle;\n",
       "    }\n",
       "\n",
       "    .dataframe tbody tr th {\n",
       "        vertical-align: top;\n",
       "    }\n",
       "\n",
       "    .dataframe thead th {\n",
       "        text-align: right;\n",
       "    }\n",
       "</style>\n",
       "<table border=\"1\" class=\"dataframe\">\n",
       "  <thead>\n",
       "    <tr style=\"text-align: right;\">\n",
       "      <th></th>\n",
       "      <th>user_id</th>\n",
       "      <th>item_id</th>\n",
       "    </tr>\n",
       "  </thead>\n",
       "  <tbody>\n",
       "    <tr>\n",
       "      <th>0</th>\n",
       "      <td>1</td>\n",
       "      <td>[2, 10, 7, 14, 18]</td>\n",
       "    </tr>\n",
       "    <tr>\n",
       "      <th>1</th>\n",
       "      <td>2</td>\n",
       "      <td>[20, 8, 10, 6]</td>\n",
       "    </tr>\n",
       "    <tr>\n",
       "      <th>2</th>\n",
       "      <td>3</td>\n",
       "      <td>[11, 10, 3, 4, 18]</td>\n",
       "    </tr>\n",
       "    <tr>\n",
       "      <th>3</th>\n",
       "      <td>4</td>\n",
       "      <td>[13, 12, 20, 17]</td>\n",
       "    </tr>\n",
       "    <tr>\n",
       "      <th>4</th>\n",
       "      <td>5</td>\n",
       "      <td>[13, 8, 2, 18, 4, 3, 11, 10]</td>\n",
       "    </tr>\n",
       "  </tbody>\n",
       "</table>\n",
       "</div>"
      ],
      "text/plain": [
       "   user_id                       item_id\n",
       "0        1            [2, 10, 7, 14, 18]\n",
       "1        2                [20, 8, 10, 6]\n",
       "2        3            [11, 10, 3, 4, 18]\n",
       "3        4              [13, 12, 20, 17]\n",
       "4        5  [13, 8, 2, 18, 4, 3, 11, 10]"
      ]
     },
     "execution_count": 50,
     "metadata": {},
     "output_type": "execute_result"
    }
   ],
   "source": [
    "# 1.6 Grouping all interactions by a user as list\n",
    "df = df.groupby(['user_id'])['item_id'].agg(list).reset_index()\n",
    "df.head()"
   ]
  },
  {
   "cell_type": "code",
   "execution_count": 51,
   "id": "74de4e30-b51e-4876-9ac1-a11896dab8d7",
   "metadata": {},
   "outputs": [
    {
     "data": {
      "text/html": [
       "<div>\n",
       "<style scoped>\n",
       "    .dataframe tbody tr th:only-of-type {\n",
       "        vertical-align: middle;\n",
       "    }\n",
       "\n",
       "    .dataframe tbody tr th {\n",
       "        vertical-align: top;\n",
       "    }\n",
       "\n",
       "    .dataframe thead th {\n",
       "        text-align: right;\n",
       "    }\n",
       "</style>\n",
       "<table border=\"1\" class=\"dataframe\">\n",
       "  <thead>\n",
       "    <tr style=\"text-align: right;\">\n",
       "      <th></th>\n",
       "      <th>user_id</th>\n",
       "      <th>item_id</th>\n",
       "    </tr>\n",
       "  </thead>\n",
       "  <tbody>\n",
       "    <tr>\n",
       "      <th>0</th>\n",
       "      <td>1</td>\n",
       "      <td>[0, 2, 0, 0, 0, 0, 7, 0, 0, 10, 0, 0, 0, 14, 0...</td>\n",
       "    </tr>\n",
       "    <tr>\n",
       "      <th>1</th>\n",
       "      <td>2</td>\n",
       "      <td>[0, 0, 0, 0, 0, 6, 0, 8, 0, 10, 0, 0, 0, 0, 0,...</td>\n",
       "    </tr>\n",
       "    <tr>\n",
       "      <th>2</th>\n",
       "      <td>3</td>\n",
       "      <td>[0, 0, 3, 4, 0, 0, 0, 0, 0, 10, 11, 0, 0, 0, 0...</td>\n",
       "    </tr>\n",
       "    <tr>\n",
       "      <th>3</th>\n",
       "      <td>4</td>\n",
       "      <td>[0, 0, 0, 0, 0, 0, 0, 0, 0, 0, 0, 12, 13, 0, 0...</td>\n",
       "    </tr>\n",
       "    <tr>\n",
       "      <th>4</th>\n",
       "      <td>5</td>\n",
       "      <td>[0, 2, 3, 4, 0, 0, 0, 8, 0, 10, 11, 0, 13, 0, ...</td>\n",
       "    </tr>\n",
       "  </tbody>\n",
       "</table>\n",
       "</div>"
      ],
      "text/plain": [
       "   user_id                                            item_id\n",
       "0        1  [0, 2, 0, 0, 0, 0, 7, 0, 0, 10, 0, 0, 0, 14, 0...\n",
       "1        2  [0, 0, 0, 0, 0, 6, 0, 8, 0, 10, 0, 0, 0, 0, 0,...\n",
       "2        3  [0, 0, 3, 4, 0, 0, 0, 0, 0, 10, 11, 0, 0, 0, 0...\n",
       "3        4  [0, 0, 0, 0, 0, 0, 0, 0, 0, 0, 0, 12, 13, 0, 0...\n",
       "4        5  [0, 2, 3, 4, 0, 0, 0, 8, 0, 10, 11, 0, 13, 0, ..."
      ]
     },
     "execution_count": 51,
     "metadata": {},
     "output_type": "execute_result"
    }
   ],
   "source": [
    "# 1.7 Creating OHE \n",
    "df['item_id'] = df['item_id'].transform(lambda x: [0 if y+1 not in x else y+1 for y in range(20)])\n",
    "df.head()"
   ]
  },
  {
   "cell_type": "code",
   "execution_count": 52,
   "id": "f9a93e8a-3c67-456c-a2c8-383fd0e903cd",
   "metadata": {},
   "outputs": [],
   "source": [
    "# 1.8 save csv\n",
    "df.to_csv('dummy_data.csv',index=False)"
   ]
  },
  {
   "cell_type": "code",
   "execution_count": 53,
   "id": "a8b9119d-df25-4f63-8418-abafb627fbed",
   "metadata": {},
   "outputs": [],
   "source": [
    "# 2.0\n",
    "from langchain_community.llms import Ollama\n",
    "from langchain.document_loaders.csv_loader import CSVLoader\n",
    "from langchain.text_splitter import CharacterTextSplitter\n",
    "from langchain_community.embeddings import OllamaEmbeddings\n",
    "from langchain.chains import RetrievalQA\n",
    "from langchain.vectorstores import FAISS\n"
   ]
  },
  {
   "cell_type": "code",
   "execution_count": 54,
   "id": "1b1d7722-d0cb-4dce-b110-d945fb0535f0",
   "metadata": {},
   "outputs": [
    {
     "data": {
      "text/plain": [
       "Ollama(model='llama3')"
      ]
     },
     "execution_count": 54,
     "metadata": {},
     "output_type": "execute_result"
    }
   ],
   "source": [
    "# 2.1\n",
    "llm = Ollama(model=\"llama3\")\n",
    "llm"
   ]
  },
  {
   "cell_type": "code",
   "execution_count": 9,
   "id": "aca4a45c-889d-426a-b6a6-105e6e32a924",
   "metadata": {},
   "outputs": [],
   "source": [
    "# 2.2 For pritning markdown text\n",
    "#     StackOverflow: https://stackoverflow.com/a/32035217\n",
    "from IPython.display import Markdown, display\n",
    "def printmd(string):\n",
    "    display(Markdown(string))"
   ]
  },
  {
   "cell_type": "code",
   "execution_count": 8,
   "id": "591b5beb-3d84-498a-90e0-56daf89c6736",
   "metadata": {},
   "outputs": [
    {
     "data": {
      "text/markdown": [
       "Langsmith, as a language model, can be used in various ways to assist with testing:\n",
       "\n",
       "1. **Automated Testing**: Langsmith can generate test data and scenarios for automated testing frameworks like Selenium or Cypress. This saves developers time and reduces the need for manual testing.\n",
       "2. **Test Data Generation**: Langsmith can create realistic test data (e.g., user input, product descriptions) to help populate test cases. This ensures that tests cover a wide range of scenarios and edge cases.\n",
       "3. **Natural Language Processing (NLP) Testing**: Langsmith's NLP capabilities can be used to test the accuracy of natural language processing models, such as text classification, sentiment analysis, or named entity recognition.\n",
       "4. **Error Message Generation**: Langsmith can generate error messages that mimic real-world scenarios, helping developers test error handling and recovery mechanisms in their code.\n",
       "5. **Test Case Development**: Langsmith's ability to generate text based on prompts can be used to develop test cases for software applications. For example, generating test cases for a chatbot or virtual assistant.\n",
       "6. **Code Review**: Langsmith can help with code review by analyzing code snippets and providing feedback on syntax, semantics, and best practices, helping developers catch errors and improve their code quality.\n",
       "\n",
       "To get started with using Langsmith for testing, you can:\n",
       "\n",
       "* Use the Langsmith API to integrate it with your testing framework or script.\n",
       "* Generate test data or scenarios using the Langsmith web interface or command-line tool.\n",
       "* Train a custom Langsmith model for specific testing purposes (e.g., generating error messages or test cases).\n",
       "\n",
       "By leveraging Langsmith's language processing capabilities, you can streamline your testing process, reduce errors, and improve code quality."
      ],
      "text/plain": [
       "<IPython.core.display.Markdown object>"
      ]
     },
     "metadata": {},
     "output_type": "display_data"
    }
   ],
   "source": [
    "# 2.3\n",
    "output = llm.invoke(\"how can langsmith help with testing?\")\n",
    "printmd(output)"
   ]
  },
  {
   "cell_type": "code",
   "execution_count": 56,
   "id": "3515a497-23c7-4ddb-a8b3-d5308e5987a8",
   "metadata": {},
   "outputs": [
    {
     "data": {
      "text/plain": [
       "[Document(page_content='user_id: 1\\nitem_id: [0, 2, 0, 0, 0, 0, 7, 0, 0, 10, 0, 0, 0, 14, 0, 0, 0, 18, 0, 0]', metadata={'source': 'dummy_data.csv', 'row': 0}),\n",
       " Document(page_content='user_id: 2\\nitem_id: [0, 0, 0, 0, 0, 6, 0, 8, 0, 10, 0, 0, 0, 0, 0, 0, 0, 0, 0, 20]', metadata={'source': 'dummy_data.csv', 'row': 1}),\n",
       " Document(page_content='user_id: 3\\nitem_id: [0, 0, 3, 4, 0, 0, 0, 0, 0, 10, 11, 0, 0, 0, 0, 0, 0, 18, 0, 0]', metadata={'source': 'dummy_data.csv', 'row': 2}),\n",
       " Document(page_content='user_id: 4\\nitem_id: [0, 0, 0, 0, 0, 0, 0, 0, 0, 0, 0, 12, 13, 0, 0, 0, 17, 0, 0, 20]', metadata={'source': 'dummy_data.csv', 'row': 3}),\n",
       " Document(page_content='user_id: 5\\nitem_id: [0, 2, 3, 4, 0, 0, 0, 8, 0, 10, 11, 0, 13, 0, 0, 0, 0, 18, 0, 0]', metadata={'source': 'dummy_data.csv', 'row': 4})]"
      ]
     },
     "execution_count": 56,
     "metadata": {},
     "output_type": "execute_result"
    }
   ],
   "source": [
    "# 2.4 Data loader\n",
    "loader = CSVLoader(file_path=\"dummy_data.csv\")\n",
    "data = loader.load()\n",
    "data[:5]"
   ]
  },
  {
   "cell_type": "code",
   "execution_count": 63,
   "id": "387b4653-16ed-4e1a-8039-4fdd15beebe1",
   "metadata": {},
   "outputs": [
    {
     "data": {
      "text/plain": [
       "[Document(page_content='user_id: 1\\nitem_id: [0, 2, 0, 0, 0, 0, 7, 0, 0, 10, 0, 0, 0, 14, 0, 0, 0, 18, 0, 0]', metadata={'source': 'dummy_data.csv', 'row': 0}),\n",
       " Document(page_content='user_id: 2\\nitem_id: [0, 0, 0, 0, 0, 6, 0, 8, 0, 10, 0, 0, 0, 0, 0, 0, 0, 0, 0, 20]', metadata={'source': 'dummy_data.csv', 'row': 1}),\n",
       " Document(page_content='user_id: 3\\nitem_id: [0, 0, 3, 4, 0, 0, 0, 0, 0, 10, 11, 0, 0, 0, 0, 0, 0, 18, 0, 0]', metadata={'source': 'dummy_data.csv', 'row': 2}),\n",
       " Document(page_content='user_id: 4\\nitem_id: [0, 0, 0, 0, 0, 0, 0, 0, 0, 0, 0, 12, 13, 0, 0, 0, 17, 0, 0, 20]', metadata={'source': 'dummy_data.csv', 'row': 3}),\n",
       " Document(page_content='user_id: 5\\nitem_id: [0, 2, 3, 4, 0, 0, 0, 8, 0, 10, 11, 0, 13, 0, 0, 0, 0, 18, 0, 0]', metadata={'source': 'dummy_data.csv', 'row': 4}),\n",
       " Document(page_content='user_id: 6\\nitem_id: [1, 0, 3, 0, 5, 0, 0, 8, 9, 0, 0, 0, 13, 0, 0, 0, 17, 18, 0, 20]', metadata={'source': 'dummy_data.csv', 'row': 5}),\n",
       " Document(page_content='user_id: 7\\nitem_id: [0, 2, 3, 0, 5, 0, 0, 8, 9, 0, 0, 0, 0, 14, 0, 16, 0, 0, 0, 20]', metadata={'source': 'dummy_data.csv', 'row': 6}),\n",
       " Document(page_content='user_id: 8\\nitem_id: [0, 2, 3, 4, 5, 0, 0, 0, 0, 0, 0, 12, 0, 14, 15, 16, 0, 18, 0, 20]', metadata={'source': 'dummy_data.csv', 'row': 7}),\n",
       " Document(page_content='user_id: 9\\nitem_id: [1, 2, 0, 0, 5, 6, 0, 8, 9, 0, 0, 12, 13, 14, 0, 0, 0, 18, 19, 20]', metadata={'source': 'dummy_data.csv', 'row': 8}),\n",
       " Document(page_content='user_id: 10\\nitem_id: [0, 0, 0, 4, 0, 6, 0, 0, 9, 0, 11, 12, 0, 0, 15, 0, 17, 18, 19, 20]', metadata={'source': 'dummy_data.csv', 'row': 9})]"
      ]
     },
     "execution_count": 63,
     "metadata": {},
     "output_type": "execute_result"
    }
   ],
   "source": [
    "# 2.5 Data transformers\n",
    "text_splitter = CharacterTextSplitter(chunk_size=100, chunk_overlap=0)\n",
    "texts = text_splitter.split_documents(data)\n",
    "texts[:10]"
   ]
  },
  {
   "cell_type": "code",
   "execution_count": 64,
   "id": "492d5a78-9cc4-4b32-930c-a0a8c07e97fb",
   "metadata": {},
   "outputs": [],
   "source": [
    "# 2.6 Embeddings model, this can be a local LLM as well\n",
    "embeddings = OllamaEmbeddings(model = 'llama3')\n",
    "# 2.7 Vector DB\n",
    "docsearch = FAISS.from_documents(texts, embeddings)"
   ]
  },
  {
   "cell_type": "markdown",
   "id": "ff7e617c-5658-411d-9345-4dcb98f3b723",
   "metadata": {},
   "source": [
    "### Summarization\n",
    "> Summarization is a critical aspect of natural language processing (NLP), enabling the condensation of large volumes of text into concise summaries. LangChain, a powerful tool in the NLP domain, offers three distinct summarization techniques: `stuff`, `map_reduce`, and `refine`. Each method has its unique advantages and limitations, making them suitable for different scenarios. "
   ]
  },
  {
   "cell_type": "markdown",
   "id": "83d590ca-45bd-4287-b0b8-fa1142d492c0",
   "metadata": {},
   "source": [
    "### chain types   \n",
    "See Summarization with LangChain [here](https://medium.com/@abonia/summarization-with-langchain-b3d83c030889)\n",
    "\n",
    "\n",
    "1. Stuff Chain\n",
    "\n",
    "> The stuff chain is particularly effective for handling large documents. It works by converting the document into smaller chunks, processing each chunk individually, and then combining the summaries to generate a final summary. This method is ideal for managing huge files and can be facilitated with the help of a recursive character text splitter.    \n",
    "\n",
    "2. Map-Reduce Method\n",
    "\n",
    ">The Map-Reduce method involves summarizing each document individually (map step) and then combining these summaries into a final summary (reduce step). This approach is more scalable and can handle larger volumes of text.The map_reduce technique is designed for summarizing large documents that exceed the token limit of the language model. It involves dividing the document into chunks, generating summaries for each chunk, and then combining these summaries to create a final summary. This method is efficient for handling large files and significantly reduces processing time."
   ]
  },
  {
   "cell_type": "code",
   "execution_count": 66,
   "id": "354f7a08-608f-4904-a5cd-c2a32d200907",
   "metadata": {},
   "outputs": [
    {
     "data": {
      "text/plain": [
       "RetrievalQA(combine_documents_chain=StuffDocumentsChain(llm_chain=LLMChain(prompt=PromptTemplate(input_variables=['context', 'question'], template=\"Use the following pieces of context to answer the question at the end. If you don't know the answer, just say that you don't know, don't try to make up an answer.\\n\\n{context}\\n\\nQuestion: {question}\\nHelpful Answer:\"), llm=Ollama(model='llama3')), document_variable_name='context'), retriever=VectorStoreRetriever(tags=['FAISS', 'OllamaEmbeddings'], vectorstore=<langchain_community.vectorstores.faiss.FAISS object at 0x7f4e867741d0>))"
      ]
     },
     "execution_count": 66,
     "metadata": {},
     "output_type": "execute_result"
    }
   ],
   "source": [
    "# 3.0 Retriever\n",
    "qa = RetrievalQA.from_chain_type(llm=llm,\n",
    "                                 chain_type=\"stuff\",\n",
    "                                 retriever=docsearch.as_retriever()\n",
    "                                )\n",
    "\n",
    "qa"
   ]
  },
  {
   "cell_type": "code",
   "execution_count": 67,
   "id": "32e3de6d-e49a-410f-8333-a21a07b9df90",
   "metadata": {},
   "outputs": [],
   "source": [
    "# 3.1 Supply prompt and invoke chain\n",
    "#     Takes time\n",
    "\n",
    "ans = qa.run('Suggest two articles to user-id 78 using given data which it has not seen.\\\n",
    "Follow this approach: First, find similar user-ids that is those users having items similar to user-id 78. \\\n",
    "Then match all their items. Sugest those articles for user-id 78.\\\n",
    "which are present with others but not with user-id 78. \\\n",
    "Also give a reason for suggestion').split('.')"
   ]
  },
  {
   "cell_type": "code",
   "execution_count": 69,
   "id": "bc37654a-1690-4ea5-bb96-f1d8a4573e67",
   "metadata": {},
   "outputs": [
    {
     "name": "stdout",
     "output_type": "stream",
     "text": [
      "['I don\\'t know how to determine what \"similar user-ids\" are, as there is no obvious similarity metric or criteria given in the context', ' However, I can try to provide an answer based on some intuitive reasoning', \"\\n\\nTo find similar user-ids, I'll look for patterns and common items across different user-ids\", ' One approach is to identify the most frequently occurring items across multiple user-ids', '\\n\\nAfter analyzing the data, I found that items 1, 2, 3, 4, 18, and 19 are present in at least two user-ids (20, 175, 352, and 210)', ' These items could be considered similar or shared interests among users', \"\\n\\nNow, let's find articles that are present with these similar user-ids but not with user-id 78\", ' After analyzing the data again, I found that:\\n\\n* User-id 20 has item 13, which is not present in user-id 78', '\\n* User-id 175 has item 17, which is not present in user-id 78', '\\n\\nBased on this analysis, I suggest the following articles to user-id 78:\\n\\n1', \" Article related to item 13 (assuming it's a topic of interest for similar users like user-id 20)\", \" Reason: Since user-id 78 doesn't have item 13, recommending an article about that topic might be of interest\", '\\n2', \" Article related to item 17 (assuming it's a topic of interest for similar users like user-id 175)\", \" Reason: As with the previous suggestion, since user-id 78 doesn't have item 17, recommending an article about that topic might be of interest\", '\\n\\nPlease note that this answer is based on intuitive reasoning and may not be accurate or comprehensive', '']\n"
     ]
    }
   ],
   "source": [
    "# 3.2 print ans\n",
    "print(ans)"
   ]
  },
  {
   "cell_type": "code",
   "execution_count": 70,
   "id": "5dc8105f-46b4-457e-b9b7-9e8bd46b2975",
   "metadata": {},
   "outputs": [
    {
     "data": {
      "text/markdown": [
       "I don't know how to determine what \"similar user-ids\" are, as there is no obvious similarity metric or criteria given in the context"
      ],
      "text/plain": [
       "<IPython.core.display.Markdown object>"
      ]
     },
     "metadata": {},
     "output_type": "display_data"
    },
    {
     "data": {
      "text/markdown": [
       " However, I can try to provide an answer based on some intuitive reasoning"
      ],
      "text/plain": [
       "<IPython.core.display.Markdown object>"
      ]
     },
     "metadata": {},
     "output_type": "display_data"
    },
    {
     "data": {
      "text/markdown": [
       "\n",
       "\n",
       "To find similar user-ids, I'll look for patterns and common items across different user-ids"
      ],
      "text/plain": [
       "<IPython.core.display.Markdown object>"
      ]
     },
     "metadata": {},
     "output_type": "display_data"
    },
    {
     "data": {
      "text/markdown": [
       " One approach is to identify the most frequently occurring items across multiple user-ids"
      ],
      "text/plain": [
       "<IPython.core.display.Markdown object>"
      ]
     },
     "metadata": {},
     "output_type": "display_data"
    },
    {
     "data": {
      "text/markdown": [
       "\n",
       "\n",
       "After analyzing the data, I found that items 1, 2, 3, 4, 18, and 19 are present in at least two user-ids (20, 175, 352, and 210)"
      ],
      "text/plain": [
       "<IPython.core.display.Markdown object>"
      ]
     },
     "metadata": {},
     "output_type": "display_data"
    },
    {
     "data": {
      "text/markdown": [
       " These items could be considered similar or shared interests among users"
      ],
      "text/plain": [
       "<IPython.core.display.Markdown object>"
      ]
     },
     "metadata": {},
     "output_type": "display_data"
    },
    {
     "data": {
      "text/markdown": [
       "\n",
       "\n",
       "Now, let's find articles that are present with these similar user-ids but not with user-id 78"
      ],
      "text/plain": [
       "<IPython.core.display.Markdown object>"
      ]
     },
     "metadata": {},
     "output_type": "display_data"
    },
    {
     "data": {
      "text/markdown": [
       " After analyzing the data again, I found that:\n",
       "\n",
       "* User-id 20 has item 13, which is not present in user-id 78"
      ],
      "text/plain": [
       "<IPython.core.display.Markdown object>"
      ]
     },
     "metadata": {},
     "output_type": "display_data"
    },
    {
     "data": {
      "text/markdown": [
       "\n",
       "* User-id 175 has item 17, which is not present in user-id 78"
      ],
      "text/plain": [
       "<IPython.core.display.Markdown object>"
      ]
     },
     "metadata": {},
     "output_type": "display_data"
    },
    {
     "data": {
      "text/markdown": [
       "\n",
       "\n",
       "Based on this analysis, I suggest the following articles to user-id 78:\n",
       "\n",
       "1"
      ],
      "text/plain": [
       "<IPython.core.display.Markdown object>"
      ]
     },
     "metadata": {},
     "output_type": "display_data"
    },
    {
     "data": {
      "text/markdown": [
       " Article related to item 13 (assuming it's a topic of interest for similar users like user-id 20)"
      ],
      "text/plain": [
       "<IPython.core.display.Markdown object>"
      ]
     },
     "metadata": {},
     "output_type": "display_data"
    },
    {
     "data": {
      "text/markdown": [
       " Reason: Since user-id 78 doesn't have item 13, recommending an article about that topic might be of interest"
      ],
      "text/plain": [
       "<IPython.core.display.Markdown object>"
      ]
     },
     "metadata": {},
     "output_type": "display_data"
    },
    {
     "data": {
      "text/markdown": [
       "\n",
       "2"
      ],
      "text/plain": [
       "<IPython.core.display.Markdown object>"
      ]
     },
     "metadata": {},
     "output_type": "display_data"
    },
    {
     "data": {
      "text/markdown": [
       " Article related to item 17 (assuming it's a topic of interest for similar users like user-id 175)"
      ],
      "text/plain": [
       "<IPython.core.display.Markdown object>"
      ]
     },
     "metadata": {},
     "output_type": "display_data"
    },
    {
     "data": {
      "text/markdown": [
       " Reason: As with the previous suggestion, since user-id 78 doesn't have item 17, recommending an article about that topic might be of interest"
      ],
      "text/plain": [
       "<IPython.core.display.Markdown object>"
      ]
     },
     "metadata": {},
     "output_type": "display_data"
    },
    {
     "data": {
      "text/markdown": [
       "\n",
       "\n",
       "Please note that this answer is based on intuitive reasoning and may not be accurate or comprehensive"
      ],
      "text/plain": [
       "<IPython.core.display.Markdown object>"
      ]
     },
     "metadata": {},
     "output_type": "display_data"
    },
    {
     "data": {
      "text/markdown": [],
      "text/plain": [
       "<IPython.core.display.Markdown object>"
      ]
     },
     "metadata": {},
     "output_type": "display_data"
    },
    {
     "data": {
      "text/plain": [
       "[None,\n",
       " None,\n",
       " None,\n",
       " None,\n",
       " None,\n",
       " None,\n",
       " None,\n",
       " None,\n",
       " None,\n",
       " None,\n",
       " None,\n",
       " None,\n",
       " None,\n",
       " None,\n",
       " None,\n",
       " None,\n",
       " None]"
      ]
     },
     "execution_count": 70,
     "metadata": {},
     "output_type": "execute_result"
    }
   ],
   "source": [
    "# 3.3 For properly prining markdown text:\n",
    "[printmd(ans[i]) for i in range(len(ans))]"
   ]
  },
  {
   "cell_type": "code",
   "execution_count": 40,
   "id": "d8380dad-07b6-4e2e-8e0c-2bb33a536d3f",
   "metadata": {},
   "outputs": [
    {
     "data": {
      "text/html": [
       "<div>\n",
       "<style scoped>\n",
       "    .dataframe tbody tr th:only-of-type {\n",
       "        vertical-align: middle;\n",
       "    }\n",
       "\n",
       "    .dataframe tbody tr th {\n",
       "        vertical-align: top;\n",
       "    }\n",
       "\n",
       "    .dataframe thead th {\n",
       "        text-align: right;\n",
       "    }\n",
       "</style>\n",
       "<table border=\"1\" class=\"dataframe\">\n",
       "  <thead>\n",
       "    <tr style=\"text-align: right;\">\n",
       "      <th></th>\n",
       "      <th>user_id</th>\n",
       "      <th>item_id</th>\n",
       "    </tr>\n",
       "  </thead>\n",
       "  <tbody>\n",
       "    <tr>\n",
       "      <th>77</th>\n",
       "      <td>78</td>\n",
       "      <td>[1, 0, 0, 4, 0, 6, 0, 8, 0, 10, 0, 12, 0, 0, 0...</td>\n",
       "    </tr>\n",
       "  </tbody>\n",
       "</table>\n",
       "</div>"
      ],
      "text/plain": [
       "    user_id                                            item_id\n",
       "77       78  [1, 0, 0, 4, 0, 6, 0, 8, 0, 10, 0, 12, 0, 0, 0..."
      ]
     },
     "execution_count": 40,
     "metadata": {},
     "output_type": "execute_result"
    },
    {
     "data": {
      "text/html": [
       "<div>\n",
       "<style scoped>\n",
       "    .dataframe tbody tr th:only-of-type {\n",
       "        vertical-align: middle;\n",
       "    }\n",
       "\n",
       "    .dataframe tbody tr th {\n",
       "        vertical-align: top;\n",
       "    }\n",
       "\n",
       "    .dataframe thead th {\n",
       "        text-align: right;\n",
       "    }\n",
       "</style>\n",
       "<table border=\"1\" class=\"dataframe\">\n",
       "  <thead>\n",
       "    <tr style=\"text-align: right;\">\n",
       "      <th></th>\n",
       "      <th>user_id</th>\n",
       "      <th>item_id</th>\n",
       "    </tr>\n",
       "  </thead>\n",
       "  <tbody>\n",
       "    <tr>\n",
       "      <th>9</th>\n",
       "      <td>10</td>\n",
       "      <td>[1, 2, 3, 4, 0, 6, 7, 8, 9, 0, 0, 0, 13, 0, 0,...</td>\n",
       "    </tr>\n",
       "  </tbody>\n",
       "</table>\n",
       "</div>"
      ],
      "text/plain": [
       "   user_id                                            item_id\n",
       "9       10  [1, 2, 3, 4, 0, 6, 7, 8, 9, 0, 0, 0, 13, 0, 0,..."
      ]
     },
     "execution_count": 40,
     "metadata": {},
     "output_type": "execute_result"
    },
    {
     "data": {
      "text/html": [
       "<div>\n",
       "<style scoped>\n",
       "    .dataframe tbody tr th:only-of-type {\n",
       "        vertical-align: middle;\n",
       "    }\n",
       "\n",
       "    .dataframe tbody tr th {\n",
       "        vertical-align: top;\n",
       "    }\n",
       "\n",
       "    .dataframe thead th {\n",
       "        text-align: right;\n",
       "    }\n",
       "</style>\n",
       "<table border=\"1\" class=\"dataframe\">\n",
       "  <thead>\n",
       "    <tr style=\"text-align: right;\">\n",
       "      <th></th>\n",
       "      <th>user_id</th>\n",
       "      <th>item_id</th>\n",
       "    </tr>\n",
       "  </thead>\n",
       "  <tbody>\n",
       "    <tr>\n",
       "      <th>97</th>\n",
       "      <td>98</td>\n",
       "      <td>[1, 2, 0, 4, 5, 6, 7, 8, 0, 0, 0, 12, 13, 0, 1...</td>\n",
       "    </tr>\n",
       "  </tbody>\n",
       "</table>\n",
       "</div>"
      ],
      "text/plain": [
       "    user_id                                            item_id\n",
       "97       98  [1, 2, 0, 4, 5, 6, 7, 8, 0, 0, 0, 12, 13, 0, 1..."
      ]
     },
     "execution_count": 40,
     "metadata": {},
     "output_type": "execute_result"
    }
   ],
   "source": [
    "# 4.0 Data extracts\n",
    "df.loc[df['user_id'] == 78, :]\n",
    "df.loc[df['user_id'] == 10, :]\n",
    "df.loc[df['user_id'] == 98, :]\n"
   ]
  },
  {
   "cell_type": "code",
   "execution_count": 18,
   "id": "07ae1c31-7f60-4c06-978d-56ad925dcde3",
   "metadata": {},
   "outputs": [],
   "source": [
    "########### DONE ####################"
   ]
  }
 ],
 "metadata": {
  "kernelspec": {
   "display_name": "Python 3 (ipykernel)",
   "language": "python",
   "name": "python3"
  },
  "language_info": {
   "codemirror_mode": {
    "name": "ipython",
    "version": 3
   },
   "file_extension": ".py",
   "mimetype": "text/x-python",
   "name": "python",
   "nbconvert_exporter": "python",
   "pygments_lexer": "ipython3",
   "version": "3.11.9"
  }
 },
 "nbformat": 4,
 "nbformat_minor": 5
}
